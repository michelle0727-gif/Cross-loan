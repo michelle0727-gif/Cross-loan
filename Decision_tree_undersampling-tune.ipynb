{
 "cells": [
  {
   "cell_type": "code",
   "execution_count": 1,
   "id": "b5d36d2e",
   "metadata": {},
   "outputs": [],
   "source": [
    "import pandas as pd\n",
    "import numpy as np\n",
    "import matplotlib.pyplot as plt\n"
   ]
  },
  {
   "cell_type": "code",
   "execution_count": 2,
   "id": "da800089",
   "metadata": {},
   "outputs": [],
   "source": [
    "pd.set_option(\"display.max_columns\", None)\n",
    "pd.set_option(\"display.max_rows\", None)"
   ]
  },
  {
   "cell_type": "code",
   "execution_count": 3,
   "id": "144a12d9",
   "metadata": {},
   "outputs": [],
   "source": [
    "encodings_to_try = ['utf-8-sig', 'latin-1', 'ISO-8859-1']\n",
    "\n",
    "for encoding in encodings_to_try:\n",
    "    try:\n",
    "        df = pd.read_csv(\"C:/Users/15694/Desktop/Cross selling/code/Michelle/variable_without_pca2.csv\", encoding=encoding)\n",
    "        break\n",
    "    except UnicodeDecodeError:\n",
    "        continue"
   ]
  },
  {
   "cell_type": "code",
   "execution_count": 4,
   "id": "e6ff191a",
   "metadata": {},
   "outputs": [
    {
     "data": {
      "text/html": [
       "<div>\n",
       "<style scoped>\n",
       "    .dataframe tbody tr th:only-of-type {\n",
       "        vertical-align: middle;\n",
       "    }\n",
       "\n",
       "    .dataframe tbody tr th {\n",
       "        vertical-align: top;\n",
       "    }\n",
       "\n",
       "    .dataframe thead th {\n",
       "        text-align: right;\n",
       "    }\n",
       "</style>\n",
       "<table border=\"1\" class=\"dataframe\">\n",
       "  <thead>\n",
       "    <tr style=\"text-align: right;\">\n",
       "      <th></th>\n",
       "      <th>SIX_MONTH_BAL_OS_SAVINGS</th>\n",
       "      <th>SIX_MONTH_BAL_OS_CURRENT</th>\n",
       "      <th>SIX_MONTH_BAL_OS_FD</th>\n",
       "      <th>SIX_MONTH_BAL_OS_LEASING</th>\n",
       "      <th>SIX_MONTH_BAL_OS_CARD</th>\n",
       "      <th>SIX_MONTH_BAL_OS_OD</th>\n",
       "      <th>TOTAL_AVG_BAL</th>\n",
       "      <th>FD_AMOUNT_UNDER_LIEN</th>\n",
       "      <th>CURRENT_AMOUNT_UNDER_LIEN</th>\n",
       "      <th>SAVINGS_AMOUNT_UNDER_LIEN</th>\n",
       "      <th>CUSTOMER_PROFITABILITY</th>\n",
       "      <th>NO_OF_ASSERT_ACCOUNTS</th>\n",
       "      <th>NO_OF_LIABILITY_ACCOUNTS</th>\n",
       "      <th>CR_DR_Usage</th>\n",
       "      <th>NPA_FLAG</th>\n",
       "      <th>LOAN_CAT1</th>\n",
       "    </tr>\n",
       "  </thead>\n",
       "  <tbody>\n",
       "    <tr>\n",
       "      <th>0</th>\n",
       "      <td>0.042612</td>\n",
       "      <td>-0.048785</td>\n",
       "      <td>-0.053259</td>\n",
       "      <td>-0.134894</td>\n",
       "      <td>-0.155864</td>\n",
       "      <td>-0.075719</td>\n",
       "      <td>-0.062581</td>\n",
       "      <td>-0.023629</td>\n",
       "      <td>-0.044929</td>\n",
       "      <td>-0.056843</td>\n",
       "      <td>-0.003142</td>\n",
       "      <td>0.397017</td>\n",
       "      <td>1.805905</td>\n",
       "      <td>0.051895</td>\n",
       "      <td>0</td>\n",
       "      <td>3</td>\n",
       "    </tr>\n",
       "    <tr>\n",
       "      <th>1</th>\n",
       "      <td>-0.091396</td>\n",
       "      <td>-0.048785</td>\n",
       "      <td>0.066148</td>\n",
       "      <td>-0.134894</td>\n",
       "      <td>-0.297359</td>\n",
       "      <td>-0.075719</td>\n",
       "      <td>-0.050164</td>\n",
       "      <td>-0.023629</td>\n",
       "      <td>-0.044929</td>\n",
       "      <td>-0.056843</td>\n",
       "      <td>-0.010305</td>\n",
       "      <td>-0.623858</td>\n",
       "      <td>0.600067</td>\n",
       "      <td>-0.067204</td>\n",
       "      <td>0</td>\n",
       "      <td>3</td>\n",
       "    </tr>\n",
       "    <tr>\n",
       "      <th>2</th>\n",
       "      <td>-0.076329</td>\n",
       "      <td>-0.048785</td>\n",
       "      <td>0.031772</td>\n",
       "      <td>-0.134894</td>\n",
       "      <td>1.262271</td>\n",
       "      <td>-0.059430</td>\n",
       "      <td>-0.065534</td>\n",
       "      <td>-0.023629</td>\n",
       "      <td>-0.044929</td>\n",
       "      <td>-0.056843</td>\n",
       "      <td>-0.006337</td>\n",
       "      <td>1.417891</td>\n",
       "      <td>1.805905</td>\n",
       "      <td>-0.023470</td>\n",
       "      <td>0</td>\n",
       "      <td>0</td>\n",
       "    </tr>\n",
       "    <tr>\n",
       "      <th>3</th>\n",
       "      <td>-0.101346</td>\n",
       "      <td>-0.048785</td>\n",
       "      <td>0.308069</td>\n",
       "      <td>-0.134894</td>\n",
       "      <td>-0.297359</td>\n",
       "      <td>-0.075719</td>\n",
       "      <td>-0.010893</td>\n",
       "      <td>-0.023629</td>\n",
       "      <td>-0.044929</td>\n",
       "      <td>-0.056843</td>\n",
       "      <td>0.017446</td>\n",
       "      <td>-0.623858</td>\n",
       "      <td>0.198120</td>\n",
       "      <td>-0.067204</td>\n",
       "      <td>0</td>\n",
       "      <td>3</td>\n",
       "    </tr>\n",
       "    <tr>\n",
       "      <th>4</th>\n",
       "      <td>-0.013879</td>\n",
       "      <td>-0.048785</td>\n",
       "      <td>-0.071656</td>\n",
       "      <td>-0.134894</td>\n",
       "      <td>-0.297359</td>\n",
       "      <td>-0.075719</td>\n",
       "      <td>-0.053618</td>\n",
       "      <td>-0.023629</td>\n",
       "      <td>-0.044929</td>\n",
       "      <td>-0.056843</td>\n",
       "      <td>-0.004448</td>\n",
       "      <td>-0.623858</td>\n",
       "      <td>-0.203826</td>\n",
       "      <td>-0.067204</td>\n",
       "      <td>1</td>\n",
       "      <td>4</td>\n",
       "    </tr>\n",
       "  </tbody>\n",
       "</table>\n",
       "</div>"
      ],
      "text/plain": [
       "   SIX_MONTH_BAL_OS_SAVINGS  SIX_MONTH_BAL_OS_CURRENT  SIX_MONTH_BAL_OS_FD  \\\n",
       "0                  0.042612                 -0.048785            -0.053259   \n",
       "1                 -0.091396                 -0.048785             0.066148   \n",
       "2                 -0.076329                 -0.048785             0.031772   \n",
       "3                 -0.101346                 -0.048785             0.308069   \n",
       "4                 -0.013879                 -0.048785            -0.071656   \n",
       "\n",
       "   SIX_MONTH_BAL_OS_LEASING  SIX_MONTH_BAL_OS_CARD  SIX_MONTH_BAL_OS_OD  \\\n",
       "0                 -0.134894              -0.155864            -0.075719   \n",
       "1                 -0.134894              -0.297359            -0.075719   \n",
       "2                 -0.134894               1.262271            -0.059430   \n",
       "3                 -0.134894              -0.297359            -0.075719   \n",
       "4                 -0.134894              -0.297359            -0.075719   \n",
       "\n",
       "   TOTAL_AVG_BAL  FD_AMOUNT_UNDER_LIEN  CURRENT_AMOUNT_UNDER_LIEN  \\\n",
       "0      -0.062581             -0.023629                  -0.044929   \n",
       "1      -0.050164             -0.023629                  -0.044929   \n",
       "2      -0.065534             -0.023629                  -0.044929   \n",
       "3      -0.010893             -0.023629                  -0.044929   \n",
       "4      -0.053618             -0.023629                  -0.044929   \n",
       "\n",
       "   SAVINGS_AMOUNT_UNDER_LIEN  CUSTOMER_PROFITABILITY  NO_OF_ASSERT_ACCOUNTS  \\\n",
       "0                  -0.056843               -0.003142               0.397017   \n",
       "1                  -0.056843               -0.010305              -0.623858   \n",
       "2                  -0.056843               -0.006337               1.417891   \n",
       "3                  -0.056843                0.017446              -0.623858   \n",
       "4                  -0.056843               -0.004448              -0.623858   \n",
       "\n",
       "   NO_OF_LIABILITY_ACCOUNTS  CR_DR_Usage  NPA_FLAG  LOAN_CAT1  \n",
       "0                  1.805905     0.051895         0          3  \n",
       "1                  0.600067    -0.067204         0          3  \n",
       "2                  1.805905    -0.023470         0          0  \n",
       "3                  0.198120    -0.067204         0          3  \n",
       "4                 -0.203826    -0.067204         1          4  "
      ]
     },
     "execution_count": 4,
     "metadata": {},
     "output_type": "execute_result"
    }
   ],
   "source": [
    "df.head()"
   ]
  },
  {
   "cell_type": "code",
   "execution_count": 5,
   "id": "7a049c3a",
   "metadata": {},
   "outputs": [
    {
     "data": {
      "text/plain": [
       "Index(['SIX_MONTH_BAL_OS_SAVINGS', 'SIX_MONTH_BAL_OS_CURRENT',\n",
       "       'SIX_MONTH_BAL_OS_FD', 'SIX_MONTH_BAL_OS_LEASING',\n",
       "       'SIX_MONTH_BAL_OS_CARD', 'SIX_MONTH_BAL_OS_OD', 'TOTAL_AVG_BAL',\n",
       "       'FD_AMOUNT_UNDER_LIEN', 'CURRENT_AMOUNT_UNDER_LIEN',\n",
       "       'SAVINGS_AMOUNT_UNDER_LIEN', 'CUSTOMER_PROFITABILITY',\n",
       "       'NO_OF_ASSERT_ACCOUNTS', 'NO_OF_LIABILITY_ACCOUNTS', 'CR_DR_Usage',\n",
       "       'NPA_FLAG', 'LOAN_CAT1'],\n",
       "      dtype='object')"
      ]
     },
     "execution_count": 5,
     "metadata": {},
     "output_type": "execute_result"
    }
   ],
   "source": [
    "df.columns"
   ]
  },
  {
   "cell_type": "code",
   "execution_count": 6,
   "id": "c602b689",
   "metadata": {},
   "outputs": [
    {
     "data": {
      "text/plain": [
       "(11836, 16)"
      ]
     },
     "execution_count": 6,
     "metadata": {},
     "output_type": "execute_result"
    }
   ],
   "source": [
    "df.shape"
   ]
  },
  {
   "cell_type": "code",
   "execution_count": 7,
   "id": "a566fe31",
   "metadata": {},
   "outputs": [
    {
     "data": {
      "text/plain": [
       "SIX_MONTH_BAL_OS_SAVINGS     0\n",
       "SIX_MONTH_BAL_OS_CURRENT     0\n",
       "SIX_MONTH_BAL_OS_FD          0\n",
       "SIX_MONTH_BAL_OS_LEASING     0\n",
       "SIX_MONTH_BAL_OS_CARD        0\n",
       "SIX_MONTH_BAL_OS_OD          0\n",
       "TOTAL_AVG_BAL                0\n",
       "FD_AMOUNT_UNDER_LIEN         0\n",
       "CURRENT_AMOUNT_UNDER_LIEN    0\n",
       "SAVINGS_AMOUNT_UNDER_LIEN    0\n",
       "CUSTOMER_PROFITABILITY       0\n",
       "NO_OF_ASSERT_ACCOUNTS        0\n",
       "NO_OF_LIABILITY_ACCOUNTS     0\n",
       "CR_DR_Usage                  0\n",
       "NPA_FLAG                     0\n",
       "LOAN_CAT1                    0\n",
       "dtype: int64"
      ]
     },
     "execution_count": 7,
     "metadata": {},
     "output_type": "execute_result"
    }
   ],
   "source": [
    "df.isna().sum()"
   ]
  },
  {
   "cell_type": "code",
   "execution_count": 8,
   "id": "5ca20be3",
   "metadata": {},
   "outputs": [],
   "source": [
    "df1=df[[\"TOTAL_AVG_BAL\",\"SIX_MONTH_BAL_OS_FD\",\"CUSTOMER_PROFITABILITY\",\"SIX_MONTH_BAL_OS_SAVINGS\"\n",
    "        ,\"LOAN_CAT1\"]]"
   ]
  },
  {
   "cell_type": "code",
   "execution_count": 9,
   "id": "2598ada7",
   "metadata": {},
   "outputs": [],
   "source": [
    "X = df1.drop(columns=[\"LOAN_CAT1\"])\n",
    "Y = df1[\"LOAN_CAT1\"]"
   ]
  },
  {
   "cell_type": "code",
   "execution_count": 10,
   "id": "82628549",
   "metadata": {},
   "outputs": [],
   "source": [
    "from sklearn.model_selection import train_test_split\n",
    "from sklearn.metrics import accuracy_score,precision_score,recall_score, f1_score,  classification_report, confusion_matrix\n"
   ]
  },
  {
   "cell_type": "code",
   "execution_count": 11,
   "id": "f1dbdc09",
   "metadata": {},
   "outputs": [],
   "source": [
    "train_set, test_set = train_test_split(df1, test_size=0.3, random_state=0)\n",
    "train_df = pd.DataFrame(train_set)\n",
    "test_df = pd.DataFrame(test_set)"
   ]
  },
  {
   "cell_type": "code",
   "execution_count": 12,
   "id": "3c1d6fbd",
   "metadata": {},
   "outputs": [
    {
     "data": {
      "text/plain": [
       "((185, 5), (2006, 5), (1246, 5), (3221, 5), (796, 5), (831, 5))"
      ]
     },
     "execution_count": 12,
     "metadata": {},
     "output_type": "execute_result"
    }
   ],
   "source": [
    "df_cat_0 = train_df[train_df.LOAN_CAT1==0]\n",
    "df_cat_1 = train_df[train_df.LOAN_CAT1==1]\n",
    "df_cat_2 = train_df[train_df.LOAN_CAT1==2]\n",
    "df_cat_3 = train_df[train_df.LOAN_CAT1==3]\n",
    "df_cat_4 = train_df[train_df.LOAN_CAT1==4]\n",
    "df_cat_5 = train_df[train_df.LOAN_CAT1==5]\n",
    "df_cat_0.shape,df_cat_1.shape,df_cat_2.shape,df_cat_3.shape,df_cat_4.shape,df_cat_5.shape"
   ]
  },
  {
   "cell_type": "code",
   "execution_count": 13,
   "id": "5016025d",
   "metadata": {},
   "outputs": [],
   "source": [
    "##### The data set is imbalanced"
   ]
  },
  {
   "cell_type": "code",
   "execution_count": 14,
   "id": "2d93d801",
   "metadata": {},
   "outputs": [
    {
     "data": {
      "text/plain": [
       "((8285, 4), (8285,))"
      ]
     },
     "execution_count": 14,
     "metadata": {},
     "output_type": "execute_result"
    }
   ],
   "source": [
    "\n",
    "X_train = train_df.drop(columns=[\"LOAN_CAT1\"])\n",
    "y_train = train_df[\"LOAN_CAT1\"]\n",
    "X_train.shape, y_train.shape"
   ]
  },
  {
   "cell_type": "code",
   "execution_count": 15,
   "id": "1b95384c",
   "metadata": {},
   "outputs": [
    {
     "data": {
      "text/plain": [
       "((3551, 4), (3551,))"
      ]
     },
     "execution_count": 15,
     "metadata": {},
     "output_type": "execute_result"
    }
   ],
   "source": [
    "X_test = test_df.drop(columns=[\"LOAN_CAT1\"])\n",
    "y_test = test_df[\"LOAN_CAT1\"]\n",
    "X_test.shape, y_test.shape"
   ]
  },
  {
   "cell_type": "markdown",
   "id": "5b885346",
   "metadata": {},
   "source": []
  },
  {
   "cell_type": "code",
   "execution_count": 16,
   "id": "a92e872c",
   "metadata": {},
   "outputs": [],
   "source": [
    "from sklearn.utils import resample"
   ]
  },
  {
   "cell_type": "code",
   "execution_count": 17,
   "id": "2500bcc0",
   "metadata": {},
   "outputs": [],
   "source": [
    "df_minority = train_df[train_df[\"LOAN_CAT1\"] == 0]\n",
    "df_majority_1 = train_df[train_df[\"LOAN_CAT1\"] == 1]\n",
    "df_majority_2 = train_df[train_df[\"LOAN_CAT1\"] == 2]\n",
    "df_majority_3 = train_df[train_df[\"LOAN_CAT1\"] == 3]\n",
    "df_majority_4 = train_df[train_df[\"LOAN_CAT1\"] == 4]\n",
    "df_majority_5 = train_df[train_df[\"LOAN_CAT1\"] == 5]"
   ]
  },
  {
   "cell_type": "markdown",
   "id": "fa44f6bc",
   "metadata": {},
   "source": [
    "## Undersampling"
   ]
  },
  {
   "cell_type": "code",
   "execution_count": 18,
   "id": "0d887295",
   "metadata": {},
   "outputs": [],
   "source": [
    "from sklearn.utils import resample\n",
    "df_majority_1_downsampled = resample(df_majority_1, replace=True, n_samples=len(df_minority), random_state=42)\n",
    "df_majority_2_downsampled = resample(df_majority_2, replace=True, n_samples=len(df_minority), random_state=42)\n",
    "df_majority_3_downsampled = resample(df_majority_3, replace=True, n_samples=len(df_minority), random_state=42)\n",
    "df_majority_4_downsampled = resample(df_majority_4, replace=True, n_samples=len(df_minority), random_state=42)\n",
    "df_majority_5_downsampled = resample(df_majority_5, replace=True, n_samples=len(df_minority), random_state=42)"
   ]
  },
  {
   "cell_type": "code",
   "execution_count": 19,
   "id": "7cfa626f",
   "metadata": {},
   "outputs": [],
   "source": [
    "train_downsampled = pd.concat([df_minority,\n",
    "                             df_majority_1_downsampled,\n",
    "                             df_majority_2_downsampled,\n",
    "                             df_majority_3_downsampled,\n",
    "                             df_majority_4_downsampled,\n",
    "                             df_majority_5_downsampled,\n",
    "                             ])"
   ]
  },
  {
   "cell_type": "code",
   "execution_count": 20,
   "id": "12851e21",
   "metadata": {},
   "outputs": [
    {
     "data": {
      "text/plain": [
       "0    185\n",
       "1    185\n",
       "2    185\n",
       "3    185\n",
       "4    185\n",
       "5    185\n",
       "Name: LOAN_CAT1, dtype: int64"
      ]
     },
     "execution_count": 20,
     "metadata": {},
     "output_type": "execute_result"
    }
   ],
   "source": [
    "train_downsampled[\"LOAN_CAT1\"].value_counts()"
   ]
  },
  {
   "cell_type": "code",
   "execution_count": 21,
   "id": "f3e0de1e",
   "metadata": {},
   "outputs": [
    {
     "data": {
      "text/plain": [
       "((1110, 4), (3551, 4), (1110, 4), (3551,))"
      ]
     },
     "execution_count": 21,
     "metadata": {},
     "output_type": "execute_result"
    }
   ],
   "source": [
    "X_under = train_downsampled.drop(\"LOAN_CAT1\", axis=1)\n",
    "Y_under = train_downsampled[\"LOAN_CAT1\"]\n",
    "\n",
    "X_under.shape, X_test.shape,X_under.shape, y_test.shape"
   ]
  },
  {
   "cell_type": "markdown",
   "id": "f29e470f",
   "metadata": {},
   "source": [
    "### Tree based models"
   ]
  },
  {
   "cell_type": "markdown",
   "id": "09cc8809",
   "metadata": {},
   "source": [
    "###### Decision Tree"
   ]
  },
  {
   "cell_type": "code",
   "execution_count": 22,
   "id": "e46dd508",
   "metadata": {},
   "outputs": [],
   "source": [
    "from sklearn import tree\n",
    "from sklearn.tree import DecisionTreeClassifier"
   ]
  },
  {
   "cell_type": "code",
   "execution_count": 23,
   "id": "f895c613",
   "metadata": {},
   "outputs": [],
   "source": [
    "decision_tree = DecisionTreeClassifier(random_state=0)\n",
    "decision_tree.fit(X_under, Y_under)\n",
    "y_pred_DT = decision_tree.predict(X_test)"
   ]
  },
  {
   "cell_type": "code",
   "execution_count": 24,
   "id": "717a1b0a",
   "metadata": {},
   "outputs": [
    {
     "name": "stdout",
     "output_type": "stream",
     "text": [
      "Accuracy Score: 0.5074626865671642\n",
      "Precision (Macro): 0.4659335239415328\n",
      "Recall (Macro): 0.5372012894602417\n",
      "F1 Score (Macro): 0.4687363190235128\n",
      "Confusion Matrix:\n",
      "[[ 44  16   6   4   0   3]\n",
      " [172 337 261  64   9   4]\n",
      " [ 37 113 265 131  18  11]\n",
      " [ 35  93 217 703 207  72]\n",
      " [  5  10   5  72 183  63]\n",
      " [  5   0   8  18  90 270]]\n",
      "\n",
      " Test Classification Report:\n",
      "               precision    recall  f1-score   support\n",
      "\n",
      "           0       0.15      0.60      0.24        73\n",
      "           1       0.59      0.40      0.48       847\n",
      "           2       0.35      0.46      0.40       575\n",
      "           3       0.71      0.53      0.61      1327\n",
      "           4       0.36      0.54      0.43       338\n",
      "           5       0.64      0.69      0.66       391\n",
      "\n",
      "    accuracy                           0.51      3551\n",
      "   macro avg       0.47      0.54      0.47      3551\n",
      "weighted avg       0.57      0.51      0.52      3551\n",
      "\n"
     ]
    }
   ],
   "source": [
    "acc = accuracy_score(y_test, y_pred_DT)\n",
    "prec_macro = precision_score(y_test, y_pred_DT, average='macro')\n",
    "recall_macro = recall_score(y_test, y_pred_DT, average='macro')\n",
    "f1_macro = f1_score(y_test, y_pred_DT, average='macro')\n",
    "classification_rep = classification_report(y_test, y_pred_DT)\n",
    "print(\"Accuracy Score:\", acc)\n",
    "print(\"Precision (Macro):\", prec_macro)\n",
    "print(\"Recall (Macro):\", recall_macro)\n",
    "print(\"F1 Score (Macro):\", f1_macro)\n",
    "\n",
    "# Confusion Matrix\n",
    "cf_matrix = confusion_matrix(y_test, y_pred_DT)\n",
    "print(\"Confusion Matrix:\")\n",
    "print(cf_matrix)\n",
    "print(\"\\n Test Classification Report:\\n\", classification_rep)"
   ]
  },
  {
   "cell_type": "code",
   "execution_count": 25,
   "id": "f5a89775",
   "metadata": {},
   "outputs": [],
   "source": [
    "\n",
    "y_pred_train_DT = decision_tree.predict(X_under)"
   ]
  },
  {
   "cell_type": "code",
   "execution_count": 26,
   "id": "94685302",
   "metadata": {},
   "outputs": [
    {
     "name": "stdout",
     "output_type": "stream",
     "text": [
      "Accuracy Score: 1.0\n",
      "Precision (Macro): 1.0\n",
      "Recall (Macro): 1.0\n",
      "F1 Score (Macro): 1.0\n",
      "Confusion Matrix:\n",
      "[[185   0   0   0   0   0]\n",
      " [  0 185   0   0   0   0]\n",
      " [  0   0 185   0   0   0]\n",
      " [  0   0   0 185   0   0]\n",
      " [  0   0   0   0 185   0]\n",
      " [  0   0   0   0   0 185]]\n",
      "\n",
      " Train Classification Report:\n",
      "               precision    recall  f1-score   support\n",
      "\n",
      "           0       1.00      1.00      1.00       185\n",
      "           1       1.00      1.00      1.00       185\n",
      "           2       1.00      1.00      1.00       185\n",
      "           3       1.00      1.00      1.00       185\n",
      "           4       1.00      1.00      1.00       185\n",
      "           5       1.00      1.00      1.00       185\n",
      "\n",
      "    accuracy                           1.00      1110\n",
      "   macro avg       1.00      1.00      1.00      1110\n",
      "weighted avg       1.00      1.00      1.00      1110\n",
      "\n"
     ]
    }
   ],
   "source": [
    "acc = accuracy_score(Y_under, y_pred_train_DT)\n",
    "prec_macro = precision_score(Y_under, y_pred_train_DT, average='macro')\n",
    "recall_macro = recall_score(Y_under, y_pred_train_DT, average='macro')\n",
    "f1_macro = f1_score(Y_under, y_pred_train_DT, average='macro')\n",
    "classification_rep_DT = classification_report(Y_under,y_pred_train_DT)\n",
    "print(\"Accuracy Score:\", acc)\n",
    "print(\"Precision (Macro):\", prec_macro)\n",
    "print(\"Recall (Macro):\", recall_macro)\n",
    "print(\"F1 Score (Macro):\", f1_macro)\n",
    "\n",
    "# Confusion Matrix\n",
    "cf_matrix_DT = confusion_matrix(Y_under, y_pred_train_DT)\n",
    "print(\"Confusion Matrix:\")\n",
    "print(cf_matrix_DT)\n",
    "print(\"\\n Train Classification Report:\\n\", classification_rep_DT)"
   ]
  },
  {
   "cell_type": "code",
   "execution_count": 27,
   "id": "bdf8e8da",
   "metadata": {},
   "outputs": [],
   "source": [
    "#plt.figure(figsize=(16,8))\n",
    "#tree.plot_tree(decision_tree)\n",
    "#plt.show()"
   ]
  },
  {
   "cell_type": "code",
   "execution_count": null,
   "id": "809feb1e",
   "metadata": {},
   "outputs": [],
   "source": []
  },
  {
   "cell_type": "markdown",
   "id": "f9bacd60",
   "metadata": {},
   "source": [
    "###### pre pruning"
   ]
  },
  {
   "cell_type": "code",
   "execution_count": 28,
   "id": "a1f3396c",
   "metadata": {},
   "outputs": [],
   "source": [
    "from sklearn.model_selection import GridSearchCV"
   ]
  },
  {
   "cell_type": "code",
   "execution_count": 29,
   "id": "71174282",
   "metadata": {},
   "outputs": [],
   "source": [
    "param_grid = {\n",
    "        'max_depth': range(2,50,1),\n",
    "        'min_samples_split': range(1,5,1),\n",
    "        'min_samples_leaf': range(2,5,1)}"
   ]
  },
  {
   "cell_type": "code",
   "execution_count": 30,
   "id": "9b1b5306",
   "metadata": {},
   "outputs": [
    {
     "name": "stderr",
     "output_type": "stream",
     "text": [
      "C:\\ProgramData\\anaconda3\\Lib\\site-packages\\sklearn\\model_selection\\_validation.py:378: FitFailedWarning: \n",
      "720 fits failed out of a total of 2880.\n",
      "The score on these train-test partitions for these parameters will be set to nan.\n",
      "If these failures are not expected, you can try to debug them by setting error_score='raise'.\n",
      "\n",
      "Below are more details about the failures:\n",
      "--------------------------------------------------------------------------------\n",
      "720 fits failed with the following error:\n",
      "Traceback (most recent call last):\n",
      "  File \"C:\\ProgramData\\anaconda3\\Lib\\site-packages\\sklearn\\model_selection\\_validation.py\", line 686, in _fit_and_score\n",
      "    estimator.fit(X_train, y_train, **fit_params)\n",
      "  File \"C:\\ProgramData\\anaconda3\\Lib\\site-packages\\sklearn\\tree\\_classes.py\", line 889, in fit\n",
      "    super().fit(\n",
      "  File \"C:\\ProgramData\\anaconda3\\Lib\\site-packages\\sklearn\\tree\\_classes.py\", line 177, in fit\n",
      "    self._validate_params()\n",
      "  File \"C:\\ProgramData\\anaconda3\\Lib\\site-packages\\sklearn\\base.py\", line 600, in _validate_params\n",
      "    validate_parameter_constraints(\n",
      "  File \"C:\\ProgramData\\anaconda3\\Lib\\site-packages\\sklearn\\utils\\_param_validation.py\", line 97, in validate_parameter_constraints\n",
      "    raise InvalidParameterError(\n",
      "sklearn.utils._param_validation.InvalidParameterError: The 'min_samples_split' parameter of DecisionTreeClassifier must be an int in the range [2, inf) or a float in the range (0.0, 1.0]. Got 1 instead.\n",
      "\n",
      "  warnings.warn(some_fits_failed_message, FitFailedWarning)\n",
      "C:\\ProgramData\\anaconda3\\Lib\\site-packages\\sklearn\\model_selection\\_search.py:952: UserWarning: One or more of the test scores are non-finite: [       nan 0.50900901 0.50900901 0.50900901        nan 0.50900901\n",
      " 0.50900901 0.50900901        nan 0.50900901 0.50900901 0.50900901\n",
      "        nan 0.55765766 0.55765766 0.55765766        nan 0.55765766\n",
      " 0.55765766 0.55765766        nan 0.55765766 0.55765766 0.55765766\n",
      "        nan 0.57747748 0.57747748 0.57747748        nan 0.57747748\n",
      " 0.57747748 0.57747748        nan 0.57837838 0.57837838 0.57837838\n",
      "        nan 0.5954955  0.5954955  0.5954955         nan 0.59099099\n",
      " 0.59099099 0.59099099        nan 0.58558559 0.58558559 0.58558559\n",
      "        nan 0.62972973 0.62972973 0.62972973        nan 0.62432432\n",
      " 0.62432432 0.62432432        nan 0.62702703 0.62702703 0.62702703\n",
      "        nan 0.63873874 0.63873874 0.63873874        nan 0.62792793\n",
      " 0.62792793 0.62792793        nan 0.62792793 0.62792793 0.62792793\n",
      "        nan 0.62612613 0.62612613 0.62612613        nan 0.61351351\n",
      " 0.61351351 0.61351351        nan 0.60810811 0.60810811 0.60810811\n",
      "        nan 0.61981982 0.61981982 0.61981982        nan 0.60540541\n",
      " 0.60540541 0.60540541        nan 0.6009009  0.6009009  0.6009009\n",
      "        nan 0.60990991 0.60990991 0.60990991        nan 0.6045045\n",
      " 0.6045045  0.6045045         nan 0.6036036  0.6036036  0.6036036\n",
      "        nan 0.61171171 0.61171171 0.61171171        nan 0.60540541\n",
      " 0.60540541 0.60540541        nan 0.6        0.6        0.6\n",
      "        nan 0.6009009  0.6009009  0.6009009         nan 0.6027027\n",
      " 0.6027027  0.6027027         nan 0.5990991  0.5990991  0.5990991\n",
      "        nan 0.60900901 0.60900901 0.60900901        nan 0.5990991\n",
      " 0.5990991  0.5990991         nan 0.6        0.6        0.6\n",
      "        nan 0.61081081 0.61081081 0.61081081        nan 0.6027027\n",
      " 0.6027027  0.6027027         nan 0.5990991  0.5990991  0.5990991\n",
      "        nan 0.60630631 0.60630631 0.60630631        nan 0.6027027\n",
      " 0.6027027  0.6027027         nan 0.5990991  0.5990991  0.5990991\n",
      "        nan 0.60990991 0.60990991 0.60990991        nan 0.6027027\n",
      " 0.6027027  0.6027027         nan 0.5990991  0.5990991  0.5990991\n",
      "        nan 0.60990991 0.60990991 0.60990991        nan 0.6027027\n",
      " 0.6027027  0.6027027         nan 0.5990991  0.5990991  0.5990991\n",
      "        nan 0.60990991 0.60990991 0.60990991        nan 0.6027027\n",
      " 0.6027027  0.6027027         nan 0.5990991  0.5990991  0.5990991\n",
      "        nan 0.60990991 0.60990991 0.60990991        nan 0.6027027\n",
      " 0.6027027  0.6027027         nan 0.5990991  0.5990991  0.5990991\n",
      "        nan 0.60990991 0.60990991 0.60990991        nan 0.6027027\n",
      " 0.6027027  0.6027027         nan 0.5990991  0.5990991  0.5990991\n",
      "        nan 0.60990991 0.60990991 0.60990991        nan 0.6027027\n",
      " 0.6027027  0.6027027         nan 0.5990991  0.5990991  0.5990991\n",
      "        nan 0.60990991 0.60990991 0.60990991        nan 0.6027027\n",
      " 0.6027027  0.6027027         nan 0.5990991  0.5990991  0.5990991\n",
      "        nan 0.60990991 0.60990991 0.60990991        nan 0.6027027\n",
      " 0.6027027  0.6027027         nan 0.5990991  0.5990991  0.5990991\n",
      "        nan 0.60990991 0.60990991 0.60990991        nan 0.6027027\n",
      " 0.6027027  0.6027027         nan 0.5990991  0.5990991  0.5990991\n",
      "        nan 0.60990991 0.60990991 0.60990991        nan 0.6027027\n",
      " 0.6027027  0.6027027         nan 0.5990991  0.5990991  0.5990991\n",
      "        nan 0.60990991 0.60990991 0.60990991        nan 0.6027027\n",
      " 0.6027027  0.6027027         nan 0.5990991  0.5990991  0.5990991\n",
      "        nan 0.60990991 0.60990991 0.60990991        nan 0.6027027\n",
      " 0.6027027  0.6027027         nan 0.5990991  0.5990991  0.5990991\n",
      "        nan 0.60990991 0.60990991 0.60990991        nan 0.6027027\n",
      " 0.6027027  0.6027027         nan 0.5990991  0.5990991  0.5990991\n",
      "        nan 0.60990991 0.60990991 0.60990991        nan 0.6027027\n",
      " 0.6027027  0.6027027         nan 0.5990991  0.5990991  0.5990991\n",
      "        nan 0.60990991 0.60990991 0.60990991        nan 0.6027027\n",
      " 0.6027027  0.6027027         nan 0.5990991  0.5990991  0.5990991\n",
      "        nan 0.60990991 0.60990991 0.60990991        nan 0.6027027\n",
      " 0.6027027  0.6027027         nan 0.5990991  0.5990991  0.5990991\n",
      "        nan 0.60990991 0.60990991 0.60990991        nan 0.6027027\n",
      " 0.6027027  0.6027027         nan 0.5990991  0.5990991  0.5990991\n",
      "        nan 0.60990991 0.60990991 0.60990991        nan 0.6027027\n",
      " 0.6027027  0.6027027         nan 0.5990991  0.5990991  0.5990991\n",
      "        nan 0.60990991 0.60990991 0.60990991        nan 0.6027027\n",
      " 0.6027027  0.6027027         nan 0.5990991  0.5990991  0.5990991\n",
      "        nan 0.60990991 0.60990991 0.60990991        nan 0.6027027\n",
      " 0.6027027  0.6027027         nan 0.5990991  0.5990991  0.5990991\n",
      "        nan 0.60990991 0.60990991 0.60990991        nan 0.6027027\n",
      " 0.6027027  0.6027027         nan 0.5990991  0.5990991  0.5990991\n",
      "        nan 0.60990991 0.60990991 0.60990991        nan 0.6027027\n",
      " 0.6027027  0.6027027         nan 0.5990991  0.5990991  0.5990991\n",
      "        nan 0.60990991 0.60990991 0.60990991        nan 0.6027027\n",
      " 0.6027027  0.6027027         nan 0.5990991  0.5990991  0.5990991\n",
      "        nan 0.60990991 0.60990991 0.60990991        nan 0.6027027\n",
      " 0.6027027  0.6027027         nan 0.5990991  0.5990991  0.5990991\n",
      "        nan 0.60990991 0.60990991 0.60990991        nan 0.6027027\n",
      " 0.6027027  0.6027027         nan 0.5990991  0.5990991  0.5990991\n",
      "        nan 0.60990991 0.60990991 0.60990991        nan 0.6027027\n",
      " 0.6027027  0.6027027         nan 0.5990991  0.5990991  0.5990991\n",
      "        nan 0.60990991 0.60990991 0.60990991        nan 0.6027027\n",
      " 0.6027027  0.6027027         nan 0.5990991  0.5990991  0.5990991\n",
      "        nan 0.60990991 0.60990991 0.60990991        nan 0.6027027\n",
      " 0.6027027  0.6027027         nan 0.5990991  0.5990991  0.5990991\n",
      "        nan 0.60990991 0.60990991 0.60990991        nan 0.6027027\n",
      " 0.6027027  0.6027027         nan 0.5990991  0.5990991  0.5990991\n",
      "        nan 0.60990991 0.60990991 0.60990991        nan 0.6027027\n",
      " 0.6027027  0.6027027         nan 0.5990991  0.5990991  0.5990991\n",
      "        nan 0.60990991 0.60990991 0.60990991        nan 0.6027027\n",
      " 0.6027027  0.6027027         nan 0.5990991  0.5990991  0.5990991\n",
      "        nan 0.60990991 0.60990991 0.60990991        nan 0.6027027\n",
      " 0.6027027  0.6027027         nan 0.5990991  0.5990991  0.5990991\n",
      "        nan 0.60990991 0.60990991 0.60990991        nan 0.6027027\n",
      " 0.6027027  0.6027027         nan 0.5990991  0.5990991  0.5990991\n",
      "        nan 0.60990991 0.60990991 0.60990991        nan 0.6027027\n",
      " 0.6027027  0.6027027         nan 0.5990991  0.5990991  0.5990991 ]\n",
      "  warnings.warn(\n"
     ]
    },
    {
     "data": {
      "text/html": [
       "<style>#sk-container-id-1 {color: black;background-color: white;}#sk-container-id-1 pre{padding: 0;}#sk-container-id-1 div.sk-toggleable {background-color: white;}#sk-container-id-1 label.sk-toggleable__label {cursor: pointer;display: block;width: 100%;margin-bottom: 0;padding: 0.3em;box-sizing: border-box;text-align: center;}#sk-container-id-1 label.sk-toggleable__label-arrow:before {content: \"▸\";float: left;margin-right: 0.25em;color: #696969;}#sk-container-id-1 label.sk-toggleable__label-arrow:hover:before {color: black;}#sk-container-id-1 div.sk-estimator:hover label.sk-toggleable__label-arrow:before {color: black;}#sk-container-id-1 div.sk-toggleable__content {max-height: 0;max-width: 0;overflow: hidden;text-align: left;background-color: #f0f8ff;}#sk-container-id-1 div.sk-toggleable__content pre {margin: 0.2em;color: black;border-radius: 0.25em;background-color: #f0f8ff;}#sk-container-id-1 input.sk-toggleable__control:checked~div.sk-toggleable__content {max-height: 200px;max-width: 100%;overflow: auto;}#sk-container-id-1 input.sk-toggleable__control:checked~label.sk-toggleable__label-arrow:before {content: \"▾\";}#sk-container-id-1 div.sk-estimator input.sk-toggleable__control:checked~label.sk-toggleable__label {background-color: #d4ebff;}#sk-container-id-1 div.sk-label input.sk-toggleable__control:checked~label.sk-toggleable__label {background-color: #d4ebff;}#sk-container-id-1 input.sk-hidden--visually {border: 0;clip: rect(1px 1px 1px 1px);clip: rect(1px, 1px, 1px, 1px);height: 1px;margin: -1px;overflow: hidden;padding: 0;position: absolute;width: 1px;}#sk-container-id-1 div.sk-estimator {font-family: monospace;background-color: #f0f8ff;border: 1px dotted black;border-radius: 0.25em;box-sizing: border-box;margin-bottom: 0.5em;}#sk-container-id-1 div.sk-estimator:hover {background-color: #d4ebff;}#sk-container-id-1 div.sk-parallel-item::after {content: \"\";width: 100%;border-bottom: 1px solid gray;flex-grow: 1;}#sk-container-id-1 div.sk-label:hover label.sk-toggleable__label {background-color: #d4ebff;}#sk-container-id-1 div.sk-serial::before {content: \"\";position: absolute;border-left: 1px solid gray;box-sizing: border-box;top: 0;bottom: 0;left: 50%;z-index: 0;}#sk-container-id-1 div.sk-serial {display: flex;flex-direction: column;align-items: center;background-color: white;padding-right: 0.2em;padding-left: 0.2em;position: relative;}#sk-container-id-1 div.sk-item {position: relative;z-index: 1;}#sk-container-id-1 div.sk-parallel {display: flex;align-items: stretch;justify-content: center;background-color: white;position: relative;}#sk-container-id-1 div.sk-item::before, #sk-container-id-1 div.sk-parallel-item::before {content: \"\";position: absolute;border-left: 1px solid gray;box-sizing: border-box;top: 0;bottom: 0;left: 50%;z-index: -1;}#sk-container-id-1 div.sk-parallel-item {display: flex;flex-direction: column;z-index: 1;position: relative;background-color: white;}#sk-container-id-1 div.sk-parallel-item:first-child::after {align-self: flex-end;width: 50%;}#sk-container-id-1 div.sk-parallel-item:last-child::after {align-self: flex-start;width: 50%;}#sk-container-id-1 div.sk-parallel-item:only-child::after {width: 0;}#sk-container-id-1 div.sk-dashed-wrapped {border: 1px dashed gray;margin: 0 0.4em 0.5em 0.4em;box-sizing: border-box;padding-bottom: 0.4em;background-color: white;}#sk-container-id-1 div.sk-label label {font-family: monospace;font-weight: bold;display: inline-block;line-height: 1.2em;}#sk-container-id-1 div.sk-label-container {text-align: center;}#sk-container-id-1 div.sk-container {/* jupyter's `normalize.less` sets `[hidden] { display: none; }` but bootstrap.min.css set `[hidden] { display: none !important; }` so we also need the `!important` here to be able to override the default hidden behavior on the sphinx rendered scikit-learn.org. See: https://github.com/scikit-learn/scikit-learn/issues/21755 */display: inline-block !important;position: relative;}#sk-container-id-1 div.sk-text-repr-fallback {display: none;}</style><div id=\"sk-container-id-1\" class=\"sk-top-container\"><div class=\"sk-text-repr-fallback\"><pre>GridSearchCV(cv=5, estimator=DecisionTreeClassifier(random_state=0),\n",
       "             param_grid={&#x27;max_depth&#x27;: range(2, 50),\n",
       "                         &#x27;min_samples_leaf&#x27;: range(2, 5),\n",
       "                         &#x27;min_samples_split&#x27;: range(1, 5)})</pre><b>In a Jupyter environment, please rerun this cell to show the HTML representation or trust the notebook. <br />On GitHub, the HTML representation is unable to render, please try loading this page with nbviewer.org.</b></div><div class=\"sk-container\" hidden><div class=\"sk-item sk-dashed-wrapped\"><div class=\"sk-label-container\"><div class=\"sk-label sk-toggleable\"><input class=\"sk-toggleable__control sk-hidden--visually\" id=\"sk-estimator-id-1\" type=\"checkbox\" ><label for=\"sk-estimator-id-1\" class=\"sk-toggleable__label sk-toggleable__label-arrow\">GridSearchCV</label><div class=\"sk-toggleable__content\"><pre>GridSearchCV(cv=5, estimator=DecisionTreeClassifier(random_state=0),\n",
       "             param_grid={&#x27;max_depth&#x27;: range(2, 50),\n",
       "                         &#x27;min_samples_leaf&#x27;: range(2, 5),\n",
       "                         &#x27;min_samples_split&#x27;: range(1, 5)})</pre></div></div></div><div class=\"sk-parallel\"><div class=\"sk-parallel-item\"><div class=\"sk-item\"><div class=\"sk-label-container\"><div class=\"sk-label sk-toggleable\"><input class=\"sk-toggleable__control sk-hidden--visually\" id=\"sk-estimator-id-2\" type=\"checkbox\" ><label for=\"sk-estimator-id-2\" class=\"sk-toggleable__label sk-toggleable__label-arrow\">estimator: DecisionTreeClassifier</label><div class=\"sk-toggleable__content\"><pre>DecisionTreeClassifier(random_state=0)</pre></div></div></div><div class=\"sk-serial\"><div class=\"sk-item\"><div class=\"sk-estimator sk-toggleable\"><input class=\"sk-toggleable__control sk-hidden--visually\" id=\"sk-estimator-id-3\" type=\"checkbox\" ><label for=\"sk-estimator-id-3\" class=\"sk-toggleable__label sk-toggleable__label-arrow\">DecisionTreeClassifier</label><div class=\"sk-toggleable__content\"><pre>DecisionTreeClassifier(random_state=0)</pre></div></div></div></div></div></div></div></div></div></div>"
      ],
      "text/plain": [
       "GridSearchCV(cv=5, estimator=DecisionTreeClassifier(random_state=0),\n",
       "             param_grid={'max_depth': range(2, 50),\n",
       "                         'min_samples_leaf': range(2, 5),\n",
       "                         'min_samples_split': range(1, 5)})"
      ]
     },
     "execution_count": 30,
     "metadata": {},
     "output_type": "execute_result"
    }
   ],
   "source": [
    "dtree = tree.DecisionTreeClassifier(random_state=0)\n",
    "grid_search = GridSearchCV(dtree, param_grid, cv=5)\n",
    "grid_search.fit(X_under, Y_under)"
   ]
  },
  {
   "cell_type": "code",
   "execution_count": 31,
   "id": "c22f08d9",
   "metadata": {},
   "outputs": [
    {
     "name": "stdout",
     "output_type": "stream",
     "text": [
      "Best hyperparameters: {'max_depth': 7, 'min_samples_leaf': 2, 'min_samples_split': 2}\n"
     ]
    }
   ],
   "source": [
    "best_params = grid_search.best_params_\n",
    "print(\"Best hyperparameters:\", best_params)"
   ]
  },
  {
   "cell_type": "code",
   "execution_count": 32,
   "id": "06882e85",
   "metadata": {},
   "outputs": [],
   "source": [
    "best_dtree_pp = DecisionTreeClassifier(max_depth=9, min_samples_leaf=2, min_samples_split=2)\n",
    "best_dtree_pp.fit(X_under, Y_under)\n",
    "y_pred_pre = best_dtree_pp.predict(X_test)"
   ]
  },
  {
   "cell_type": "code",
   "execution_count": 33,
   "id": "a3c0240d",
   "metadata": {},
   "outputs": [
    {
     "name": "stdout",
     "output_type": "stream",
     "text": [
      "Accuracy Score: 0.5164742326105323\n",
      "Precision (Macro): 0.49245954658422947\n",
      "Recall (Macro): 0.5602082335390374\n",
      "F1 Score (Macro): 0.4834879638839357\n",
      "Confusion Matrix:\n",
      "[[ 46  15   9   1   0   2]\n",
      " [192 311 281  50  13   0]\n",
      " [ 32  94 306 117  22   4]\n",
      " [ 54  85 198 691 262  37]\n",
      " [  5   8   5  61 208  51]\n",
      " [  3   0   9  12  95 272]]\n",
      "\n",
      " Test Classification Report:\n",
      "               precision    recall  f1-score   support\n",
      "\n",
      "           0       0.14      0.63      0.23        73\n",
      "           1       0.61      0.37      0.46       847\n",
      "           2       0.38      0.53      0.44       575\n",
      "           3       0.74      0.52      0.61      1327\n",
      "           4       0.35      0.62      0.44       338\n",
      "           5       0.74      0.70      0.72       391\n",
      "\n",
      "    accuracy                           0.52      3551\n",
      "   macro avg       0.49      0.56      0.48      3551\n",
      "weighted avg       0.60      0.52      0.54      3551\n",
      "\n"
     ]
    }
   ],
   "source": [
    "acc = accuracy_score(y_test, y_pred_pre)\n",
    "prec_macro = precision_score(y_test, y_pred_pre, average='macro')\n",
    "recall_macro = recall_score(y_test, y_pred_pre, average='macro')\n",
    "f1_macro = f1_score(y_test, y_pred_pre, average='macro')\n",
    "classification_rep_pre = classification_report(y_test, y_pred_pre)\n",
    "print(\"Accuracy Score:\", acc)\n",
    "print(\"Precision (Macro):\", prec_macro)\n",
    "print(\"Recall (Macro):\", recall_macro)\n",
    "print(\"F1 Score (Macro):\", f1_macro)\n",
    "\n",
    "# Confusion Matrix\n",
    "cf_matrix_pre = confusion_matrix(y_test, y_pred_pre)\n",
    "print(\"Confusion Matrix:\")\n",
    "print(cf_matrix_pre)\n",
    "print(\"\\n Test Classification Report:\\n\", classification_rep_pre)"
   ]
  },
  {
   "cell_type": "code",
   "execution_count": 34,
   "id": "b39266ca",
   "metadata": {},
   "outputs": [],
   "source": [
    "y_pred_pre_train = best_dtree_pp.predict(X_under)"
   ]
  },
  {
   "cell_type": "code",
   "execution_count": 35,
   "id": "5e0d10df",
   "metadata": {},
   "outputs": [
    {
     "name": "stdout",
     "output_type": "stream",
     "text": [
      "Accuracy Score: 0.845945945945946\n",
      "Precision (Macro): 0.8486113737390687\n",
      "Recall (Macro): 0.845945945945946\n",
      "F1 Score (Macro): 0.8457384697226645\n",
      "Confusion Matrix:\n",
      "[[161  11   8   3   2   0]\n",
      " [ 21 134  25   3   2   0]\n",
      " [  2  14 161   6   2   0]\n",
      " [  2   2  14 148  19   0]\n",
      " [  0   1   1  10 166   7]\n",
      " [  1   1   3   4   7 169]]\n",
      "\n",
      " Train Classification Report:\n",
      "               precision    recall  f1-score   support\n",
      "\n",
      "           0       0.86      0.87      0.87       185\n",
      "           1       0.82      0.72      0.77       185\n",
      "           2       0.76      0.87      0.81       185\n",
      "           3       0.85      0.80      0.82       185\n",
      "           4       0.84      0.90      0.87       185\n",
      "           5       0.96      0.91      0.94       185\n",
      "\n",
      "    accuracy                           0.85      1110\n",
      "   macro avg       0.85      0.85      0.85      1110\n",
      "weighted avg       0.85      0.85      0.85      1110\n",
      "\n"
     ]
    }
   ],
   "source": [
    "acc = accuracy_score(Y_under, y_pred_pre_train )\n",
    "prec_macro = precision_score(Y_under, y_pred_pre_train , average='macro')\n",
    "recall_macro = recall_score(Y_under, y_pred_pre_train, average='macro')\n",
    "f1_macro = f1_score(Y_under, y_pred_pre_train , average='macro')\n",
    "classification_rep_pre_train = classification_report(Y_under,y_pred_pre_train)\n",
    "print(\"Accuracy Score:\", acc)\n",
    "print(\"Precision (Macro):\", prec_macro)\n",
    "print(\"Recall (Macro):\", recall_macro)\n",
    "print(\"F1 Score (Macro):\", f1_macro)\n",
    "\n",
    "# Confusion Matrix\n",
    "cf_matrix_DT_pre = confusion_matrix(Y_under, y_pred_pre_train)\n",
    "print(\"Confusion Matrix:\")\n",
    "print(cf_matrix_DT_pre)\n",
    "print(\"\\n Train Classification Report:\\n\", classification_rep_pre_train )"
   ]
  },
  {
   "cell_type": "code",
   "execution_count": 36,
   "id": "c58da5c7",
   "metadata": {},
   "outputs": [],
   "source": [
    "from sklearn.metrics import roc_curve,auc\n",
    "y_prob_dt1=best_dtree_pp.predict_proba(X_test)"
   ]
  },
  {
   "cell_type": "code",
   "execution_count": 37,
   "id": "9758fc16",
   "metadata": {},
   "outputs": [
    {
     "data": {
      "image/png": "[encoded data removed]",
      "text/plain": [
       "<Figure size 640x480 with 1 Axes>"
      ]
     },
     "metadata": {},
     "output_type": "display_data"
    }
   ],
   "source": [
    "for i in range(len(np.unique(Y))):\n",
    "    fpt,tpr,_=roc_curve(y_test==i,y_prob_dt1[:,i])\n",
    "    roc_auc=auc(fpt,tpr)\n",
    "    plt.plot(fpt,tpr,label=f'Class {i} Vs Rest (AUC ={roc_auc:.2f})')\n",
    "    \n",
    "plt.plot([0,1],[0,1],linestyle='--',color='r',label='Random Guess')\n",
    "plt.xlabel('False Positive Rate')\n",
    "plt.ylabel('True Positive Rate')\n",
    "plt.title('ROC Curve for Multi-class Classification')\n",
    "plt.legend()\n",
    "plt.show()"
   ]
  },
  {
   "cell_type": "code",
   "execution_count": 38,
   "id": "c9ec705c",
   "metadata": {},
   "outputs": [
    {
     "data": {
      "text/plain": [
       "0.7794421422920766"
      ]
     },
     "execution_count": 38,
     "metadata": {},
     "output_type": "execute_result"
    }
   ],
   "source": [
    "from sklearn.metrics import roc_auc_score\n",
    "roc_auc_score(y_test,y_prob_dt1,multi_class='ovr')"
   ]
  },
  {
   "cell_type": "markdown",
   "id": "364aafa0",
   "metadata": {},
   "source": [
    "#### post pruning"
   ]
  },
  {
   "cell_type": "code",
   "execution_count": 39,
   "id": "6f78b70d",
   "metadata": {},
   "outputs": [],
   "source": [
    "decision_tree = DecisionTreeClassifier(random_state=0)"
   ]
  },
  {
   "cell_type": "code",
   "execution_count": 40,
   "id": "a074df92",
   "metadata": {},
   "outputs": [
    {
     "name": "stdout",
     "output_type": "stream",
     "text": [
      "[0.         0.0006006  0.0006006  0.00067568 0.00067568 0.00069246\n",
      " 0.00072072 0.00072072 0.00072072 0.00072072 0.00072072 0.00072072\n",
      " 0.00072072 0.00075075 0.0007722  0.0007722  0.0007722  0.0007722\n",
      " 0.00078829 0.00078829 0.00081081 0.00082583 0.0008316  0.0008316\n",
      " 0.00083655 0.00085586 0.00087087 0.00087588 0.00087945 0.0009009\n",
      " 0.0009009  0.0009009  0.0009009  0.0009009  0.0009009  0.0009009\n",
      " 0.0009009  0.0009009  0.0009009  0.0009009  0.0009009  0.0009009\n",
      " 0.0009009  0.0009009  0.0009009  0.0009009  0.0009009  0.0009009\n",
      " 0.00092664 0.00094943 0.00096096 0.00096096 0.00096096 0.00099099\n",
      " 0.00099099 0.00100862 0.00101759 0.00107184 0.00108108 0.00108108\n",
      " 0.00108543 0.00110565 0.00110565 0.00111862 0.00115527 0.0011583\n",
      " 0.00117117 0.00117117 0.0011777  0.0012012  0.0012012  0.0012012\n",
      " 0.0012012  0.0012012  0.0012012  0.0012012  0.0012012  0.0012012\n",
      " 0.0012012  0.0012012  0.00121506 0.00122623 0.00124215 0.00124597\n",
      " 0.00125343 0.00126126 0.00129695 0.0013104  0.00131381 0.0013299\n",
      " 0.00134134 0.00135135 0.00135135 0.00135135 0.00135135 0.00135135\n",
      " 0.00138138 0.00139755 0.00143715 0.00144008 0.00144144 0.00144144\n",
      " 0.00144928 0.00146396 0.0014742  0.00147898 0.00148248 0.00148926\n",
      " 0.0014925  0.0015015  0.0015015  0.0015015  0.00153968 0.0015444\n",
      " 0.0015444  0.00154595 0.00157248 0.001575   0.00157658 0.00157658\n",
      " 0.00158466 0.00159432 0.00160728 0.00160776 0.00162162 0.00162675\n",
      " 0.0016302  0.0016731  0.0016992  0.0017589  0.00176426 0.00177177\n",
      " 0.00185185 0.00187722 0.00191373 0.00195195 0.00198949 0.00200497\n",
      " 0.00200655 0.00201201 0.00203665 0.00207589 0.00211596 0.00213812\n",
      " 0.00216546 0.00218205 0.00218743 0.0022113  0.00233327 0.00234985\n",
      " 0.00238833 0.00239382 0.00243115 0.00269724 0.00279246 0.00284894\n",
      " 0.00290505 0.00314028 0.00397016 0.00397848 0.0040658  0.00407566\n",
      " 0.00434107 0.00467228 0.00473674 0.00503445 0.00505842 0.00564142\n",
      " 0.00581192 0.00764241 0.0087104  0.0102621  0.01092624 0.01120859\n",
      " 0.01329434 0.03057148 0.05698289 0.06197141 0.11925727]\n"
     ]
    }
   ],
   "source": [
    "path = decision_tree.cost_complexity_pruning_path(X_under, Y_under)\n",
    "ccp_alphas, impurities = path.ccp_alphas, path.impurities\n",
    "print(ccp_alphas)"
   ]
  },
  {
   "cell_type": "code",
   "execution_count": 41,
   "id": "e0853228",
   "metadata": {},
   "outputs": [
    {
     "name": "stdout",
     "output_type": "stream",
     "text": [
      "Number of nodes in the last tree is :1 with ccp_alpha:0.11925727009607756\n"
     ]
    }
   ],
   "source": [
    "# For each alpha we will append our model to a list\n",
    "decision_trees = []\n",
    "for ccp_alpha in ccp_alphas:\n",
    "    decision_tree = tree.DecisionTreeClassifier(random_state=0, ccp_alpha=ccp_alpha)\n",
    "    decision_tree.fit(X_under, Y_under)\n",
    "    decision_trees.append(decision_tree)\n",
    "print(\"Number of nodes in the last tree is :{} with ccp_alpha:{}\".format(\n",
    "decision_trees[-1].tree_.node_count,ccp_alphas[-1]))"
   ]
  },
  {
   "cell_type": "code",
   "execution_count": 42,
   "id": "be5fa8c4",
   "metadata": {},
   "outputs": [
    {
     "data": {
      "image/png": "[encoded data removed]",
      "text/plain": [
       "<Figure size 640x480 with 1 Axes>"
      ]
     },
     "metadata": {},
     "output_type": "display_data"
    }
   ],
   "source": [
    "train_scores=[decision_tree.score(X_under, Y_under) for decision_tree in decision_trees]\n",
    "test_scores=[decision_tree.score(X_test, y_test) for decision_tree in decision_trees]\n",
    "\n",
    "fig,ax =plt.subplots()\n",
    "ax.set_xlabel(\"alpha\")\n",
    "ax.set_ylabel(\"accuracy\")\n",
    "ax.set_title(\"Accuracy vs alpha for training and testing data sets\")\n",
    "ax.plot(ccp_alphas,train_scores,marker='o',label=\"train\",drawstyle=\"steps-post\")\n",
    "ax.plot(ccp_alphas,test_scores,marker='o',label=\"test\",drawstyle=\"steps-post\")\n",
    "\n",
    "ax.legend()\n",
    "plt.show()"
   ]
  },
  {
   "cell_type": "code",
   "execution_count": null,
   "id": "57d52ded",
   "metadata": {},
   "outputs": [],
   "source": []
  },
  {
   "cell_type": "code",
   "execution_count": 43,
   "id": "cf650195",
   "metadata": {},
   "outputs": [],
   "source": [
    "decision_tree = tree.DecisionTreeClassifier(random_state=0,ccp_alpha=0.005)\n",
    "decision_tree.fit(X_under, Y_under)\n",
    "y_train_pred_po = decision_tree.predict(X_under)\n",
    "y_test_pred_po = decision_tree.predict(X_test)\n",
    "\n"
   ]
  },
  {
   "cell_type": "code",
   "execution_count": 44,
   "id": "515f5e3b",
   "metadata": {},
   "outputs": [
    {
     "name": "stdout",
     "output_type": "stream",
     "text": [
      "Accuracy Score: 0.587721768515911\n",
      "Precision (Macro): 0.5539356554185888\n",
      "Recall (Macro): 0.6177751096145194\n",
      "F1 Score (Macro): 0.5580636897988093\n",
      "Confusion Matrix:\n",
      "[[ 38  23   8   2   0   2]\n",
      " [119 450 213  50  15   0]\n",
      " [  8 139 336  68  20   4]\n",
      " [  6  40 281 698 270  32]\n",
      " [  1   0  11  43 248  35]\n",
      " [  0   1   1   7  65 317]]\n",
      "\n",
      " Test Classification Report:\n",
      "               precision    recall  f1-score   support\n",
      "\n",
      "           0       0.22      0.52      0.31        73\n",
      "           1       0.69      0.53      0.60       847\n",
      "           2       0.40      0.58      0.47       575\n",
      "           3       0.80      0.53      0.64      1327\n",
      "           4       0.40      0.73      0.52       338\n",
      "           5       0.81      0.81      0.81       391\n",
      "\n",
      "    accuracy                           0.59      3551\n",
      "   macro avg       0.55      0.62      0.56      3551\n",
      "weighted avg       0.66      0.59      0.60      3551\n",
      "\n"
     ]
    }
   ],
   "source": [
    "acc = accuracy_score(y_test, y_test_pred_po)\n",
    "prec_macro = precision_score(y_test, y_test_pred_po, average='macro')\n",
    "recall_macro = recall_score(y_test, y_test_pred_po, average='macro')\n",
    "f1_macro = f1_score(y_test, y_test_pred_po, average='macro')\n",
    "classification_rep_po = classification_report(y_test, y_test_pred_po)\n",
    "print(\"Accuracy Score:\", acc)\n",
    "print(\"Precision (Macro):\", prec_macro)\n",
    "print(\"Recall (Macro):\", recall_macro)\n",
    "print(\"F1 Score (Macro):\", f1_macro)\n",
    "\n",
    "# Confusion Matrix\n",
    "cf_matrix_po= confusion_matrix(y_test, y_test_pred_po)\n",
    "print(\"Confusion Matrix:\")\n",
    "print(cf_matrix_po)\n",
    "print(\"\\n Test Classification Report:\\n\", classification_rep_po)"
   ]
  },
  {
   "cell_type": "code",
   "execution_count": 45,
   "id": "9f1cec52",
   "metadata": {},
   "outputs": [
    {
     "name": "stdout",
     "output_type": "stream",
     "text": [
      "Accuracy Score: 0.681981981981982\n",
      "Precision (Macro): 0.6922551339712696\n",
      "Recall (Macro): 0.6819819819819819\n",
      "F1 Score (Macro): 0.6825271376297278\n",
      "Confusion Matrix:\n",
      "[[118  44  15   4   3   1]\n",
      " [ 22 123  30   7   3   0]\n",
      " [  1  44 118  19   2   1]\n",
      " [  0   4  43  98  39   1]\n",
      " [  0   0   0  19 141  25]\n",
      " [  0   1   1   4  20 159]]\n",
      "\n",
      " Test Classification Report:\n",
      "               precision    recall  f1-score   support\n",
      "\n",
      "           0       0.84      0.64      0.72       185\n",
      "           1       0.57      0.66      0.61       185\n",
      "           2       0.57      0.64      0.60       185\n",
      "           3       0.65      0.53      0.58       185\n",
      "           4       0.68      0.76      0.72       185\n",
      "           5       0.85      0.86      0.85       185\n",
      "\n",
      "    accuracy                           0.68      1110\n",
      "   macro avg       0.69      0.68      0.68      1110\n",
      "weighted avg       0.69      0.68      0.68      1110\n",
      "\n"
     ]
    }
   ],
   "source": [
    "acc = accuracy_score(Y_under, y_train_pred_po )\n",
    "prec_macro = precision_score(Y_under, y_train_pred_po , average='macro')\n",
    "recall_macro = recall_score(Y_under, y_train_pred_po, average='macro')\n",
    "f1_macro = f1_score(Y_under, y_train_pred_po , average='macro')\n",
    "classification_rep_DT_po = classification_report(Y_under,y_train_pred_po )\n",
    "print(\"Accuracy Score:\", acc)\n",
    "print(\"Precision (Macro):\", prec_macro)\n",
    "print(\"Recall (Macro):\", recall_macro)\n",
    "print(\"F1 Score (Macro):\", f1_macro)\n",
    "\n",
    "# Confusion Matrix\n",
    "cf_matrix_po = confusion_matrix(Y_under, y_train_pred_po)\n",
    "print(\"Confusion Matrix:\")\n",
    "print(cf_matrix_po)\n",
    "print(\"\\n Test Classification Report:\\n\", classification_rep_DT_po)"
   ]
  },
  {
   "cell_type": "code",
   "execution_count": 46,
   "id": "708459c8",
   "metadata": {},
   "outputs": [],
   "source": [
    "y_prob_dt2=decision_tree.predict_proba(X_test)"
   ]
  },
  {
   "cell_type": "code",
   "execution_count": 47,
   "id": "a7f54eff",
   "metadata": {},
   "outputs": [
    {
     "data": {
      "image/png": "[encoded data removed]",
      "text/plain": [
       "<Figure size 640x480 with 1 Axes>"
      ]
     },
     "metadata": {},
     "output_type": "display_data"
    }
   ],
   "source": [
    "for i in range(len(np.unique(Y))):\n",
    "    fpt,tpr,_=roc_curve(y_test==i,y_prob_dt2[:,i])\n",
    "    roc_auc=auc(fpt,tpr)\n",
    "    plt.plot(fpt,tpr,label=f'Class {i} Vs Rest (AUC ={roc_auc:.2f})')\n",
    "    \n",
    "plt.plot([0,1],[0,1],linestyle='--',color='r',label='Random Guess')\n",
    "plt.xlabel('False Positive Rate')\n",
    "plt.ylabel('True Positive Rate')\n",
    "plt.title('ROC Curve for Multi-class Classification')\n",
    "plt.legend()\n",
    "plt.show()"
   ]
  },
  {
   "cell_type": "code",
   "execution_count": 48,
   "id": "4e4ec463",
   "metadata": {},
   "outputs": [
    {
     "data": {
      "text/plain": [
       "0.8726573756969156"
      ]
     },
     "execution_count": 48,
     "metadata": {},
     "output_type": "execute_result"
    }
   ],
   "source": [
    "from sklearn.metrics import roc_auc_score\n",
    "roc_auc_score(y_test,y_prob_dt2,multi_class='ovr')"
   ]
  },
  {
   "cell_type": "code",
   "execution_count": null,
   "id": "ffa8bac9",
   "metadata": {},
   "outputs": [],
   "source": []
  },
  {
   "cell_type": "code",
   "execution_count": null,
   "id": "4b8f7656",
   "metadata": {},
   "outputs": [],
   "source": []
  }
 ],
 "metadata": {
  "kernelspec": {
   "display_name": "Python 3 (ipykernel)",
   "language": "python",
   "name": "python3"
  },
  "language_info": {
   "codemirror_mode": {
    "name": "ipython",
    "version": 3
   },
   "file_extension": ".py",
   "mimetype": "text/x-python",
   "name": "python",
   "nbconvert_exporter": "python",
   "pygments_lexer": "ipython3",
   "version": "3.11.3"
  }
 },
 "nbformat": 4,
 "nbformat_minor": 5
}
