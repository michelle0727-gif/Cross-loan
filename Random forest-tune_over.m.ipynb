{
 "cells": [
  {
   "cell_type": "code",
   "execution_count": 1,
   "id": "b5d36d2e",
   "metadata": {},
   "outputs": [],
   "source": [
    "import pandas as pd\n",
    "import numpy as np\n",
    "import matplotlib.pyplot as plt\n"
   ]
  },
  {
   "cell_type": "code",
   "execution_count": 2,
   "id": "da800089",
   "metadata": {},
   "outputs": [],
   "source": [
    "pd.set_option(\"display.max_columns\", None)\n",
    "pd.set_option(\"display.max_rows\", None)"
   ]
  },
  {
   "cell_type": "code",
   "execution_count": 3,
   "id": "144a12d9",
   "metadata": {},
   "outputs": [],
   "source": [
    "encodings_to_try = ['utf-8-sig', 'latin-1', 'ISO-8859-1']\n",
    "\n",
    "for encoding in encodings_to_try:\n",
    "    try:\n",
    "        df = pd.read_csv(\"C:/Users/15694/Desktop/Cross selling/code/Michelle/variable_without_pca2.csv\", encoding=encoding)\n",
    "        break\n",
    "    except UnicodeDecodeError:\n",
    "        continue"
   ]
  },
  {
   "cell_type": "code",
   "execution_count": 4,
   "id": "e6ff191a",
   "metadata": {},
   "outputs": [
    {
     "data": {
      "text/html": [
       "<div>\n",
       "<style scoped>\n",
       "    .dataframe tbody tr th:only-of-type {\n",
       "        vertical-align: middle;\n",
       "    }\n",
       "\n",
       "    .dataframe tbody tr th {\n",
       "        vertical-align: top;\n",
       "    }\n",
       "\n",
       "    .dataframe thead th {\n",
       "        text-align: right;\n",
       "    }\n",
       "</style>\n",
       "<table border=\"1\" class=\"dataframe\">\n",
       "  <thead>\n",
       "    <tr style=\"text-align: right;\">\n",
       "      <th></th>\n",
       "      <th>SIX_MONTH_BAL_OS_SAVINGS</th>\n",
       "      <th>SIX_MONTH_BAL_OS_CURRENT</th>\n",
       "      <th>SIX_MONTH_BAL_OS_FD</th>\n",
       "      <th>SIX_MONTH_BAL_OS_LEASING</th>\n",
       "      <th>SIX_MONTH_BAL_OS_CARD</th>\n",
       "      <th>SIX_MONTH_BAL_OS_OD</th>\n",
       "      <th>TOTAL_AVG_BAL</th>\n",
       "      <th>FD_AMOUNT_UNDER_LIEN</th>\n",
       "      <th>CURRENT_AMOUNT_UNDER_LIEN</th>\n",
       "      <th>SAVINGS_AMOUNT_UNDER_LIEN</th>\n",
       "      <th>CUSTOMER_PROFITABILITY</th>\n",
       "      <th>NO_OF_ASSERT_ACCOUNTS</th>\n",
       "      <th>NO_OF_LIABILITY_ACCOUNTS</th>\n",
       "      <th>CR_DR_Usage</th>\n",
       "      <th>NPA_FLAG</th>\n",
       "      <th>LOAN_CAT1</th>\n",
       "    </tr>\n",
       "  </thead>\n",
       "  <tbody>\n",
       "    <tr>\n",
       "      <th>0</th>\n",
       "      <td>0.042612</td>\n",
       "      <td>-0.048785</td>\n",
       "      <td>-0.053259</td>\n",
       "      <td>-0.134894</td>\n",
       "      <td>-0.155864</td>\n",
       "      <td>-0.075719</td>\n",
       "      <td>-0.062581</td>\n",
       "      <td>-0.023629</td>\n",
       "      <td>-0.044929</td>\n",
       "      <td>-0.056843</td>\n",
       "      <td>-0.003142</td>\n",
       "      <td>0.397017</td>\n",
       "      <td>1.805905</td>\n",
       "      <td>0.051895</td>\n",
       "      <td>0</td>\n",
       "      <td>3</td>\n",
       "    </tr>\n",
       "    <tr>\n",
       "      <th>1</th>\n",
       "      <td>-0.091396</td>\n",
       "      <td>-0.048785</td>\n",
       "      <td>0.066148</td>\n",
       "      <td>-0.134894</td>\n",
       "      <td>-0.297359</td>\n",
       "      <td>-0.075719</td>\n",
       "      <td>-0.050164</td>\n",
       "      <td>-0.023629</td>\n",
       "      <td>-0.044929</td>\n",
       "      <td>-0.056843</td>\n",
       "      <td>-0.010305</td>\n",
       "      <td>-0.623858</td>\n",
       "      <td>0.600067</td>\n",
       "      <td>-0.067204</td>\n",
       "      <td>0</td>\n",
       "      <td>3</td>\n",
       "    </tr>\n",
       "    <tr>\n",
       "      <th>2</th>\n",
       "      <td>-0.076329</td>\n",
       "      <td>-0.048785</td>\n",
       "      <td>0.031772</td>\n",
       "      <td>-0.134894</td>\n",
       "      <td>1.262271</td>\n",
       "      <td>-0.059430</td>\n",
       "      <td>-0.065534</td>\n",
       "      <td>-0.023629</td>\n",
       "      <td>-0.044929</td>\n",
       "      <td>-0.056843</td>\n",
       "      <td>-0.006337</td>\n",
       "      <td>1.417891</td>\n",
       "      <td>1.805905</td>\n",
       "      <td>-0.023470</td>\n",
       "      <td>0</td>\n",
       "      <td>0</td>\n",
       "    </tr>\n",
       "    <tr>\n",
       "      <th>3</th>\n",
       "      <td>-0.101346</td>\n",
       "      <td>-0.048785</td>\n",
       "      <td>0.308069</td>\n",
       "      <td>-0.134894</td>\n",
       "      <td>-0.297359</td>\n",
       "      <td>-0.075719</td>\n",
       "      <td>-0.010893</td>\n",
       "      <td>-0.023629</td>\n",
       "      <td>-0.044929</td>\n",
       "      <td>-0.056843</td>\n",
       "      <td>0.017446</td>\n",
       "      <td>-0.623858</td>\n",
       "      <td>0.198120</td>\n",
       "      <td>-0.067204</td>\n",
       "      <td>0</td>\n",
       "      <td>3</td>\n",
       "    </tr>\n",
       "    <tr>\n",
       "      <th>4</th>\n",
       "      <td>-0.013879</td>\n",
       "      <td>-0.048785</td>\n",
       "      <td>-0.071656</td>\n",
       "      <td>-0.134894</td>\n",
       "      <td>-0.297359</td>\n",
       "      <td>-0.075719</td>\n",
       "      <td>-0.053618</td>\n",
       "      <td>-0.023629</td>\n",
       "      <td>-0.044929</td>\n",
       "      <td>-0.056843</td>\n",
       "      <td>-0.004448</td>\n",
       "      <td>-0.623858</td>\n",
       "      <td>-0.203826</td>\n",
       "      <td>-0.067204</td>\n",
       "      <td>1</td>\n",
       "      <td>4</td>\n",
       "    </tr>\n",
       "  </tbody>\n",
       "</table>\n",
       "</div>"
      ],
      "text/plain": [
       "   SIX_MONTH_BAL_OS_SAVINGS  SIX_MONTH_BAL_OS_CURRENT  SIX_MONTH_BAL_OS_FD  \\\n",
       "0                  0.042612                 -0.048785            -0.053259   \n",
       "1                 -0.091396                 -0.048785             0.066148   \n",
       "2                 -0.076329                 -0.048785             0.031772   \n",
       "3                 -0.101346                 -0.048785             0.308069   \n",
       "4                 -0.013879                 -0.048785            -0.071656   \n",
       "\n",
       "   SIX_MONTH_BAL_OS_LEASING  SIX_MONTH_BAL_OS_CARD  SIX_MONTH_BAL_OS_OD  \\\n",
       "0                 -0.134894              -0.155864            -0.075719   \n",
       "1                 -0.134894              -0.297359            -0.075719   \n",
       "2                 -0.134894               1.262271            -0.059430   \n",
       "3                 -0.134894              -0.297359            -0.075719   \n",
       "4                 -0.134894              -0.297359            -0.075719   \n",
       "\n",
       "   TOTAL_AVG_BAL  FD_AMOUNT_UNDER_LIEN  CURRENT_AMOUNT_UNDER_LIEN  \\\n",
       "0      -0.062581             -0.023629                  -0.044929   \n",
       "1      -0.050164             -0.023629                  -0.044929   \n",
       "2      -0.065534             -0.023629                  -0.044929   \n",
       "3      -0.010893             -0.023629                  -0.044929   \n",
       "4      -0.053618             -0.023629                  -0.044929   \n",
       "\n",
       "   SAVINGS_AMOUNT_UNDER_LIEN  CUSTOMER_PROFITABILITY  NO_OF_ASSERT_ACCOUNTS  \\\n",
       "0                  -0.056843               -0.003142               0.397017   \n",
       "1                  -0.056843               -0.010305              -0.623858   \n",
       "2                  -0.056843               -0.006337               1.417891   \n",
       "3                  -0.056843                0.017446              -0.623858   \n",
       "4                  -0.056843               -0.004448              -0.623858   \n",
       "\n",
       "   NO_OF_LIABILITY_ACCOUNTS  CR_DR_Usage  NPA_FLAG  LOAN_CAT1  \n",
       "0                  1.805905     0.051895         0          3  \n",
       "1                  0.600067    -0.067204         0          3  \n",
       "2                  1.805905    -0.023470         0          0  \n",
       "3                  0.198120    -0.067204         0          3  \n",
       "4                 -0.203826    -0.067204         1          4  "
      ]
     },
     "execution_count": 4,
     "metadata": {},
     "output_type": "execute_result"
    }
   ],
   "source": [
    "df.head()"
   ]
  },
  {
   "cell_type": "code",
   "execution_count": 5,
   "id": "7a049c3a",
   "metadata": {},
   "outputs": [
    {
     "data": {
      "text/plain": [
       "Index(['SIX_MONTH_BAL_OS_SAVINGS', 'SIX_MONTH_BAL_OS_CURRENT',\n",
       "       'SIX_MONTH_BAL_OS_FD', 'SIX_MONTH_BAL_OS_LEASING',\n",
       "       'SIX_MONTH_BAL_OS_CARD', 'SIX_MONTH_BAL_OS_OD', 'TOTAL_AVG_BAL',\n",
       "       'FD_AMOUNT_UNDER_LIEN', 'CURRENT_AMOUNT_UNDER_LIEN',\n",
       "       'SAVINGS_AMOUNT_UNDER_LIEN', 'CUSTOMER_PROFITABILITY',\n",
       "       'NO_OF_ASSERT_ACCOUNTS', 'NO_OF_LIABILITY_ACCOUNTS', 'CR_DR_Usage',\n",
       "       'NPA_FLAG', 'LOAN_CAT1'],\n",
       "      dtype='object')"
      ]
     },
     "execution_count": 5,
     "metadata": {},
     "output_type": "execute_result"
    }
   ],
   "source": [
    "df.columns"
   ]
  },
  {
   "cell_type": "code",
   "execution_count": 6,
   "id": "c602b689",
   "metadata": {},
   "outputs": [
    {
     "data": {
      "text/plain": [
       "(11836, 16)"
      ]
     },
     "execution_count": 6,
     "metadata": {},
     "output_type": "execute_result"
    }
   ],
   "source": [
    "df.shape"
   ]
  },
  {
   "cell_type": "code",
   "execution_count": 7,
   "id": "a566fe31",
   "metadata": {},
   "outputs": [
    {
     "data": {
      "text/plain": [
       "SIX_MONTH_BAL_OS_SAVINGS     0\n",
       "SIX_MONTH_BAL_OS_CURRENT     0\n",
       "SIX_MONTH_BAL_OS_FD          0\n",
       "SIX_MONTH_BAL_OS_LEASING     0\n",
       "SIX_MONTH_BAL_OS_CARD        0\n",
       "SIX_MONTH_BAL_OS_OD          0\n",
       "TOTAL_AVG_BAL                0\n",
       "FD_AMOUNT_UNDER_LIEN         0\n",
       "CURRENT_AMOUNT_UNDER_LIEN    0\n",
       "SAVINGS_AMOUNT_UNDER_LIEN    0\n",
       "CUSTOMER_PROFITABILITY       0\n",
       "NO_OF_ASSERT_ACCOUNTS        0\n",
       "NO_OF_LIABILITY_ACCOUNTS     0\n",
       "CR_DR_Usage                  0\n",
       "NPA_FLAG                     0\n",
       "LOAN_CAT1                    0\n",
       "dtype: int64"
      ]
     },
     "execution_count": 7,
     "metadata": {},
     "output_type": "execute_result"
    }
   ],
   "source": [
    "df.isna().sum()"
   ]
  },
  {
   "cell_type": "code",
   "execution_count": 8,
   "id": "4e676f1f",
   "metadata": {},
   "outputs": [
    {
     "data": {
      "text/html": [
       "<div>\n",
       "<style scoped>\n",
       "    .dataframe tbody tr th:only-of-type {\n",
       "        vertical-align: middle;\n",
       "    }\n",
       "\n",
       "    .dataframe tbody tr th {\n",
       "        vertical-align: top;\n",
       "    }\n",
       "\n",
       "    .dataframe thead th {\n",
       "        text-align: right;\n",
       "    }\n",
       "</style>\n",
       "<table border=\"1\" class=\"dataframe\">\n",
       "  <thead>\n",
       "    <tr style=\"text-align: right;\">\n",
       "      <th></th>\n",
       "      <th>SIX_MONTH_BAL_OS_SAVINGS</th>\n",
       "      <th>SIX_MONTH_BAL_OS_CURRENT</th>\n",
       "      <th>SIX_MONTH_BAL_OS_FD</th>\n",
       "      <th>SIX_MONTH_BAL_OS_LEASING</th>\n",
       "      <th>SIX_MONTH_BAL_OS_CARD</th>\n",
       "      <th>SIX_MONTH_BAL_OS_OD</th>\n",
       "      <th>TOTAL_AVG_BAL</th>\n",
       "      <th>FD_AMOUNT_UNDER_LIEN</th>\n",
       "      <th>CURRENT_AMOUNT_UNDER_LIEN</th>\n",
       "      <th>SAVINGS_AMOUNT_UNDER_LIEN</th>\n",
       "      <th>CUSTOMER_PROFITABILITY</th>\n",
       "      <th>NO_OF_ASSERT_ACCOUNTS</th>\n",
       "      <th>NO_OF_LIABILITY_ACCOUNTS</th>\n",
       "      <th>CR_DR_Usage</th>\n",
       "      <th>NPA_FLAG</th>\n",
       "      <th>LOAN_CAT1</th>\n",
       "    </tr>\n",
       "  </thead>\n",
       "  <tbody>\n",
       "    <tr>\n",
       "      <th>0</th>\n",
       "      <td>0.042612</td>\n",
       "      <td>-0.048785</td>\n",
       "      <td>-0.053259</td>\n",
       "      <td>-0.134894</td>\n",
       "      <td>-0.155864</td>\n",
       "      <td>-0.075719</td>\n",
       "      <td>-0.062581</td>\n",
       "      <td>-0.023629</td>\n",
       "      <td>-0.044929</td>\n",
       "      <td>-0.056843</td>\n",
       "      <td>-0.003142</td>\n",
       "      <td>0.397017</td>\n",
       "      <td>1.805905</td>\n",
       "      <td>0.051895</td>\n",
       "      <td>0</td>\n",
       "      <td>3</td>\n",
       "    </tr>\n",
       "    <tr>\n",
       "      <th>1</th>\n",
       "      <td>-0.091396</td>\n",
       "      <td>-0.048785</td>\n",
       "      <td>0.066148</td>\n",
       "      <td>-0.134894</td>\n",
       "      <td>-0.297359</td>\n",
       "      <td>-0.075719</td>\n",
       "      <td>-0.050164</td>\n",
       "      <td>-0.023629</td>\n",
       "      <td>-0.044929</td>\n",
       "      <td>-0.056843</td>\n",
       "      <td>-0.010305</td>\n",
       "      <td>-0.623858</td>\n",
       "      <td>0.600067</td>\n",
       "      <td>-0.067204</td>\n",
       "      <td>0</td>\n",
       "      <td>3</td>\n",
       "    </tr>\n",
       "    <tr>\n",
       "      <th>2</th>\n",
       "      <td>-0.076329</td>\n",
       "      <td>-0.048785</td>\n",
       "      <td>0.031772</td>\n",
       "      <td>-0.134894</td>\n",
       "      <td>1.262271</td>\n",
       "      <td>-0.059430</td>\n",
       "      <td>-0.065534</td>\n",
       "      <td>-0.023629</td>\n",
       "      <td>-0.044929</td>\n",
       "      <td>-0.056843</td>\n",
       "      <td>-0.006337</td>\n",
       "      <td>1.417891</td>\n",
       "      <td>1.805905</td>\n",
       "      <td>-0.023470</td>\n",
       "      <td>0</td>\n",
       "      <td>0</td>\n",
       "    </tr>\n",
       "    <tr>\n",
       "      <th>3</th>\n",
       "      <td>-0.101346</td>\n",
       "      <td>-0.048785</td>\n",
       "      <td>0.308069</td>\n",
       "      <td>-0.134894</td>\n",
       "      <td>-0.297359</td>\n",
       "      <td>-0.075719</td>\n",
       "      <td>-0.010893</td>\n",
       "      <td>-0.023629</td>\n",
       "      <td>-0.044929</td>\n",
       "      <td>-0.056843</td>\n",
       "      <td>0.017446</td>\n",
       "      <td>-0.623858</td>\n",
       "      <td>0.198120</td>\n",
       "      <td>-0.067204</td>\n",
       "      <td>0</td>\n",
       "      <td>3</td>\n",
       "    </tr>\n",
       "    <tr>\n",
       "      <th>4</th>\n",
       "      <td>-0.013879</td>\n",
       "      <td>-0.048785</td>\n",
       "      <td>-0.071656</td>\n",
       "      <td>-0.134894</td>\n",
       "      <td>-0.297359</td>\n",
       "      <td>-0.075719</td>\n",
       "      <td>-0.053618</td>\n",
       "      <td>-0.023629</td>\n",
       "      <td>-0.044929</td>\n",
       "      <td>-0.056843</td>\n",
       "      <td>-0.004448</td>\n",
       "      <td>-0.623858</td>\n",
       "      <td>-0.203826</td>\n",
       "      <td>-0.067204</td>\n",
       "      <td>1</td>\n",
       "      <td>4</td>\n",
       "    </tr>\n",
       "  </tbody>\n",
       "</table>\n",
       "</div>"
      ],
      "text/plain": [
       "   SIX_MONTH_BAL_OS_SAVINGS  SIX_MONTH_BAL_OS_CURRENT  SIX_MONTH_BAL_OS_FD  \\\n",
       "0                  0.042612                 -0.048785            -0.053259   \n",
       "1                 -0.091396                 -0.048785             0.066148   \n",
       "2                 -0.076329                 -0.048785             0.031772   \n",
       "3                 -0.101346                 -0.048785             0.308069   \n",
       "4                 -0.013879                 -0.048785            -0.071656   \n",
       "\n",
       "   SIX_MONTH_BAL_OS_LEASING  SIX_MONTH_BAL_OS_CARD  SIX_MONTH_BAL_OS_OD  \\\n",
       "0                 -0.134894              -0.155864            -0.075719   \n",
       "1                 -0.134894              -0.297359            -0.075719   \n",
       "2                 -0.134894               1.262271            -0.059430   \n",
       "3                 -0.134894              -0.297359            -0.075719   \n",
       "4                 -0.134894              -0.297359            -0.075719   \n",
       "\n",
       "   TOTAL_AVG_BAL  FD_AMOUNT_UNDER_LIEN  CURRENT_AMOUNT_UNDER_LIEN  \\\n",
       "0      -0.062581             -0.023629                  -0.044929   \n",
       "1      -0.050164             -0.023629                  -0.044929   \n",
       "2      -0.065534             -0.023629                  -0.044929   \n",
       "3      -0.010893             -0.023629                  -0.044929   \n",
       "4      -0.053618             -0.023629                  -0.044929   \n",
       "\n",
       "   SAVINGS_AMOUNT_UNDER_LIEN  CUSTOMER_PROFITABILITY  NO_OF_ASSERT_ACCOUNTS  \\\n",
       "0                  -0.056843               -0.003142               0.397017   \n",
       "1                  -0.056843               -0.010305              -0.623858   \n",
       "2                  -0.056843               -0.006337               1.417891   \n",
       "3                  -0.056843                0.017446              -0.623858   \n",
       "4                  -0.056843               -0.004448              -0.623858   \n",
       "\n",
       "   NO_OF_LIABILITY_ACCOUNTS  CR_DR_Usage  NPA_FLAG  LOAN_CAT1  \n",
       "0                  1.805905     0.051895         0          3  \n",
       "1                  0.600067    -0.067204         0          3  \n",
       "2                  1.805905    -0.023470         0          0  \n",
       "3                  0.198120    -0.067204         0          3  \n",
       "4                 -0.203826    -0.067204         1          4  "
      ]
     },
     "execution_count": 8,
     "metadata": {},
     "output_type": "execute_result"
    }
   ],
   "source": [
    "df.head()"
   ]
  },
  {
   "cell_type": "code",
   "execution_count": 9,
   "id": "da49d534",
   "metadata": {},
   "outputs": [],
   "source": [
    "df1=df[[\"TOTAL_AVG_BAL\",\"CUSTOMER_PROFITABILITY\",\"SIX_MONTH_BAL_OS_SAVINGS\",\"SIX_MONTH_BAL_OS_FD\",\"CR_DR_Usage\",\n",
    "        \"SAVINGS_AMOUNT_UNDER_LIEN\",\"LOAN_CAT1\"]]"
   ]
  },
  {
   "cell_type": "code",
   "execution_count": 10,
   "id": "3fdafb34",
   "metadata": {},
   "outputs": [
    {
     "data": {
      "text/html": [
       "<div>\n",
       "<style scoped>\n",
       "    .dataframe tbody tr th:only-of-type {\n",
       "        vertical-align: middle;\n",
       "    }\n",
       "\n",
       "    .dataframe tbody tr th {\n",
       "        vertical-align: top;\n",
       "    }\n",
       "\n",
       "    .dataframe thead th {\n",
       "        text-align: right;\n",
       "    }\n",
       "</style>\n",
       "<table border=\"1\" class=\"dataframe\">\n",
       "  <thead>\n",
       "    <tr style=\"text-align: right;\">\n",
       "      <th></th>\n",
       "      <th>TOTAL_AVG_BAL</th>\n",
       "      <th>CUSTOMER_PROFITABILITY</th>\n",
       "      <th>SIX_MONTH_BAL_OS_SAVINGS</th>\n",
       "      <th>SIX_MONTH_BAL_OS_FD</th>\n",
       "      <th>CR_DR_Usage</th>\n",
       "      <th>SAVINGS_AMOUNT_UNDER_LIEN</th>\n",
       "      <th>LOAN_CAT1</th>\n",
       "    </tr>\n",
       "  </thead>\n",
       "  <tbody>\n",
       "    <tr>\n",
       "      <th>0</th>\n",
       "      <td>-0.062581</td>\n",
       "      <td>-0.003142</td>\n",
       "      <td>0.042612</td>\n",
       "      <td>-0.053259</td>\n",
       "      <td>0.051895</td>\n",
       "      <td>-0.056843</td>\n",
       "      <td>3</td>\n",
       "    </tr>\n",
       "    <tr>\n",
       "      <th>1</th>\n",
       "      <td>-0.050164</td>\n",
       "      <td>-0.010305</td>\n",
       "      <td>-0.091396</td>\n",
       "      <td>0.066148</td>\n",
       "      <td>-0.067204</td>\n",
       "      <td>-0.056843</td>\n",
       "      <td>3</td>\n",
       "    </tr>\n",
       "    <tr>\n",
       "      <th>2</th>\n",
       "      <td>-0.065534</td>\n",
       "      <td>-0.006337</td>\n",
       "      <td>-0.076329</td>\n",
       "      <td>0.031772</td>\n",
       "      <td>-0.023470</td>\n",
       "      <td>-0.056843</td>\n",
       "      <td>0</td>\n",
       "    </tr>\n",
       "    <tr>\n",
       "      <th>3</th>\n",
       "      <td>-0.010893</td>\n",
       "      <td>0.017446</td>\n",
       "      <td>-0.101346</td>\n",
       "      <td>0.308069</td>\n",
       "      <td>-0.067204</td>\n",
       "      <td>-0.056843</td>\n",
       "      <td>3</td>\n",
       "    </tr>\n",
       "    <tr>\n",
       "      <th>4</th>\n",
       "      <td>-0.053618</td>\n",
       "      <td>-0.004448</td>\n",
       "      <td>-0.013879</td>\n",
       "      <td>-0.071656</td>\n",
       "      <td>-0.067204</td>\n",
       "      <td>-0.056843</td>\n",
       "      <td>4</td>\n",
       "    </tr>\n",
       "  </tbody>\n",
       "</table>\n",
       "</div>"
      ],
      "text/plain": [
       "   TOTAL_AVG_BAL  CUSTOMER_PROFITABILITY  SIX_MONTH_BAL_OS_SAVINGS  \\\n",
       "0      -0.062581               -0.003142                  0.042612   \n",
       "1      -0.050164               -0.010305                 -0.091396   \n",
       "2      -0.065534               -0.006337                 -0.076329   \n",
       "3      -0.010893                0.017446                 -0.101346   \n",
       "4      -0.053618               -0.004448                 -0.013879   \n",
       "\n",
       "   SIX_MONTH_BAL_OS_FD  CR_DR_Usage  SAVINGS_AMOUNT_UNDER_LIEN  LOAN_CAT1  \n",
       "0            -0.053259     0.051895                  -0.056843          3  \n",
       "1             0.066148    -0.067204                  -0.056843          3  \n",
       "2             0.031772    -0.023470                  -0.056843          0  \n",
       "3             0.308069    -0.067204                  -0.056843          3  \n",
       "4            -0.071656    -0.067204                  -0.056843          4  "
      ]
     },
     "execution_count": 10,
     "metadata": {},
     "output_type": "execute_result"
    }
   ],
   "source": [
    "df1.head()"
   ]
  },
  {
   "cell_type": "code",
   "execution_count": null,
   "id": "0037e2f7",
   "metadata": {},
   "outputs": [],
   "source": []
  },
  {
   "cell_type": "code",
   "execution_count": 11,
   "id": "82a2d1d5",
   "metadata": {},
   "outputs": [
    {
     "data": {
      "text/plain": [
       "(11836, 7)"
      ]
     },
     "execution_count": 11,
     "metadata": {},
     "output_type": "execute_result"
    }
   ],
   "source": [
    "df1.shape"
   ]
  },
  {
   "cell_type": "code",
   "execution_count": 12,
   "id": "a81465a9",
   "metadata": {},
   "outputs": [],
   "source": [
    "X = df1.drop(columns=[\"LOAN_CAT1\"])\n",
    "Y = df1[\"LOAN_CAT1\"]"
   ]
  },
  {
   "cell_type": "code",
   "execution_count": 13,
   "id": "82628549",
   "metadata": {},
   "outputs": [],
   "source": [
    "from sklearn.model_selection import train_test_split\n",
    "from sklearn.metrics import accuracy_score,precision_score,recall_score, f1_score,  classification_report, confusion_matrix\n",
    "from sklearn.model_selection import GridSearchCV"
   ]
  },
  {
   "cell_type": "code",
   "execution_count": 14,
   "id": "f1dbdc09",
   "metadata": {},
   "outputs": [],
   "source": [
    "train_set, test_set = train_test_split(df1, test_size=0.3, random_state=0)\n",
    "\n",
    "# Converting train_set and test_set to dataframes\n",
    "train_df = pd.DataFrame(train_set)\n",
    "test_df = pd.DataFrame(test_set)"
   ]
  },
  {
   "cell_type": "code",
   "execution_count": 15,
   "id": "3c1d6fbd",
   "metadata": {},
   "outputs": [
    {
     "data": {
      "text/plain": [
       "((185, 7), (2006, 7), (1246, 7), (3221, 7), (796, 7), (831, 7))"
      ]
     },
     "execution_count": 15,
     "metadata": {},
     "output_type": "execute_result"
    }
   ],
   "source": [
    "df_cat_0 = train_df[train_df.LOAN_CAT1==0]\n",
    "df_cat_1 = train_df[train_df.LOAN_CAT1==1]\n",
    "df_cat_2 = train_df[train_df.LOAN_CAT1==2]\n",
    "df_cat_3 = train_df[train_df.LOAN_CAT1==3]\n",
    "df_cat_4 = train_df[train_df.LOAN_CAT1==4]\n",
    "df_cat_5 = train_df[train_df.LOAN_CAT1==5]\n",
    "df_cat_0.shape,df_cat_1.shape,df_cat_2.shape,df_cat_3.shape,df_cat_4.shape,df_cat_5.shape"
   ]
  },
  {
   "cell_type": "code",
   "execution_count": 16,
   "id": "5016025d",
   "metadata": {},
   "outputs": [],
   "source": [
    "##### The data set is imbalanced"
   ]
  },
  {
   "cell_type": "code",
   "execution_count": 17,
   "id": "2d93d801",
   "metadata": {},
   "outputs": [
    {
     "data": {
      "text/plain": [
       "((8285, 6), (8285,))"
      ]
     },
     "execution_count": 17,
     "metadata": {},
     "output_type": "execute_result"
    }
   ],
   "source": [
    "\n",
    "X_train = train_df.drop(columns=[\"LOAN_CAT1\"])\n",
    "y_train = train_df[\"LOAN_CAT1\"]\n",
    "X_train.shape, y_train.shape"
   ]
  },
  {
   "cell_type": "code",
   "execution_count": 18,
   "id": "1b95384c",
   "metadata": {},
   "outputs": [
    {
     "data": {
      "text/plain": [
       "((3551, 6), (3551,))"
      ]
     },
     "execution_count": 18,
     "metadata": {},
     "output_type": "execute_result"
    }
   ],
   "source": [
    "X_test = test_df.drop(columns=[\"LOAN_CAT1\"])\n",
    "y_test = test_df[\"LOAN_CAT1\"]\n",
    "X_test.shape, y_test.shape"
   ]
  },
  {
   "cell_type": "markdown",
   "id": "5b885346",
   "metadata": {},
   "source": []
  },
  {
   "cell_type": "code",
   "execution_count": 19,
   "id": "a92e872c",
   "metadata": {},
   "outputs": [],
   "source": [
    "from sklearn.utils import resample"
   ]
  },
  {
   "cell_type": "code",
   "execution_count": 20,
   "id": "2500bcc0",
   "metadata": {},
   "outputs": [],
   "source": [
    "df_majority = train_df[train_df[\"LOAN_CAT1\"] == 3]\n",
    "df_minority_1 = train_df[train_df[\"LOAN_CAT1\"] == 0]\n",
    "df_minority_2 = train_df[train_df[\"LOAN_CAT1\"] == 1]\n",
    "df_minority_3 = train_df[train_df[\"LOAN_CAT1\"] == 2]\n",
    "df_minority_4 = train_df[train_df[\"LOAN_CAT1\"] == 4]\n",
    "df_minority_5 = train_df[train_df[\"LOAN_CAT1\"] == 5]\n",
    "\n"
   ]
  },
  {
   "cell_type": "markdown",
   "id": "fa44f6bc",
   "metadata": {},
   "source": [
    "## oversampling"
   ]
  },
  {
   "cell_type": "code",
   "execution_count": 21,
   "id": "0d887295",
   "metadata": {},
   "outputs": [],
   "source": [
    "from sklearn.utils import resample\n",
    "df_minority_1_upsampled = resample(df_minority_1, replace=True, n_samples=len(df_majority), random_state=42)\n",
    "df_minority_2_upsampled = resample(df_minority_2, replace=True, n_samples=len(df_majority), random_state=42)\n",
    "df_minority_3_upsampled = resample(df_minority_3, replace=True, n_samples=len(df_majority), random_state=42)\n",
    "df_minority_4_upsampled = resample(df_minority_4, replace=True, n_samples=len(df_majority), random_state=42)\n",
    "df_minority_5_upsampled = resample(df_minority_5, replace=True, n_samples=len(df_majority), random_state=42)"
   ]
  },
  {
   "cell_type": "code",
   "execution_count": 22,
   "id": "7cfa626f",
   "metadata": {},
   "outputs": [],
   "source": [
    "train_upsampled = pd.concat([df_majority,\n",
    "                             df_minority_1_upsampled,\n",
    "                             df_minority_2_upsampled,\n",
    "                             df_minority_3_upsampled,\n",
    "                             df_minority_4_upsampled,\n",
    "                             df_minority_5_upsampled,\n",
    "                             ])"
   ]
  },
  {
   "cell_type": "code",
   "execution_count": 23,
   "id": "12851e21",
   "metadata": {},
   "outputs": [
    {
     "data": {
      "text/plain": [
       "3    3221\n",
       "0    3221\n",
       "1    3221\n",
       "2    3221\n",
       "4    3221\n",
       "5    3221\n",
       "Name: LOAN_CAT1, dtype: int64"
      ]
     },
     "execution_count": 23,
     "metadata": {},
     "output_type": "execute_result"
    }
   ],
   "source": [
    "train_upsampled[\"LOAN_CAT1\"].value_counts()"
   ]
  },
  {
   "cell_type": "code",
   "execution_count": 24,
   "id": "f3e0de1e",
   "metadata": {},
   "outputs": [
    {
     "data": {
      "text/plain": [
       "((19326, 6), (3551, 6), (19326,), (3551,))"
      ]
     },
     "execution_count": 24,
     "metadata": {},
     "output_type": "execute_result"
    }
   ],
   "source": [
    "X_up = train_upsampled.drop(\"LOAN_CAT1\", axis=1)\n",
    "Y_up = train_upsampled[\"LOAN_CAT1\"]\n",
    "\n",
    "X_up.shape, X_test.shape,Y_up.shape, y_test.shape"
   ]
  },
  {
   "cell_type": "code",
   "execution_count": 25,
   "id": "708459c8",
   "metadata": {},
   "outputs": [],
   "source": [
    "\n",
    "from sklearn.ensemble import RandomForestClassifier"
   ]
  },
  {
   "cell_type": "code",
   "execution_count": 26,
   "id": "a7f54eff",
   "metadata": {},
   "outputs": [],
   "source": [
    "from sklearn.model_selection import train_test_split\n",
    "from sklearn.metrics import accuracy_score,precision_score,recall_score, f1_score,  classification_report, confusion_matrix\n",
    "from sklearn.model_selection import GridSearchCV\n",
    "from sklearn.model_selection import RandomizedSearchCV"
   ]
  },
  {
   "cell_type": "code",
   "execution_count": 27,
   "id": "2a3b1ac2",
   "metadata": {},
   "outputs": [],
   "source": [
    "random_forest = RandomForestClassifier(criterion='gini',random_state=42)\n",
    "random_forest.fit(X_up, Y_up)\n",
    "y_pred_random_forest = random_forest.predict(X_test)"
   ]
  },
  {
   "cell_type": "code",
   "execution_count": 28,
   "id": "eaee02e0",
   "metadata": {},
   "outputs": [
    {
     "name": "stdout",
     "output_type": "stream",
     "text": [
      "Accuracy Score: 0.6744578991833287\n",
      "Precision (Macro): 0.6044083835433571\n",
      "Recall (Macro): 0.5850724747679407\n",
      "F1 Score (Macro): 0.5928931925132206\n",
      "Confusion Matrix:\n",
      "[[  21   40    7    3    0    2]\n",
      " [  28  595  132   87    5    0]\n",
      " [   2  157  250  156    7    3]\n",
      " [   3   55  105 1051   78   35]\n",
      " [   0    2    2  106  177   51]\n",
      " [   0    0    0   21   69  301]]\n",
      "\n",
      "Classification Report:\n",
      "               precision    recall  f1-score   support\n",
      "\n",
      "           0       0.39      0.29      0.33        73\n",
      "           1       0.70      0.70      0.70       847\n",
      "           2       0.50      0.43      0.47       575\n",
      "           3       0.74      0.79      0.76      1327\n",
      "           4       0.53      0.52      0.53       338\n",
      "           5       0.77      0.77      0.77       391\n",
      "\n",
      "    accuracy                           0.67      3551\n",
      "   macro avg       0.60      0.59      0.59      3551\n",
      "weighted avg       0.67      0.67      0.67      3551\n",
      "\n"
     ]
    }
   ],
   "source": [
    "acc = accuracy_score(y_test, y_pred_random_forest)\n",
    "prec_macro = precision_score(y_test,y_pred_random_forest, average='macro')\n",
    "recall_macro = recall_score(y_test, y_pred_random_forest, average='macro')\n",
    "f1_macro = f1_score(y_test,y_pred_random_forest, average='macro')\n",
    "classification_rep_RF = classification_report(y_test,y_pred_random_forest)\n",
    "print(\"Accuracy Score:\", acc)\n",
    "print(\"Precision (Macro):\", prec_macro)\n",
    "print(\"Recall (Macro):\", recall_macro)\n",
    "print(\"F1 Score (Macro):\", f1_macro)\n",
    "\n",
    "# Confusion Matrix\n",
    "cf_matrix_RF = confusion_matrix(y_test, y_pred_random_forest)\n",
    "print(\"Confusion Matrix:\")\n",
    "print(cf_matrix_RF)\n",
    "print(\"\\nClassification Report:\\n\", classification_rep_RF)"
   ]
  },
  {
   "cell_type": "code",
   "execution_count": 29,
   "id": "5da24b33",
   "metadata": {},
   "outputs": [
    {
     "name": "stdout",
     "output_type": "stream",
     "text": [
      "Accuracy Score: 1.0\n",
      "Precision (Macro): 1.0\n",
      "Recall (Macro): 1.0\n",
      "F1 Score (Macro): 1.0\n",
      "Confusion Matrix:\n",
      "[[3221    0    0    0    0    0]\n",
      " [   0 3221    0    0    0    0]\n",
      " [   0    0 3221    0    0    0]\n",
      " [   0    0    0 3221    0    0]\n",
      " [   0    0    0    0 3221    0]\n",
      " [   0    0    0    0    0 3221]]\n",
      "\n",
      "Classification Report:\n",
      "               precision    recall  f1-score   support\n",
      "\n",
      "           0       1.00      1.00      1.00      3221\n",
      "           1       1.00      1.00      1.00      3221\n",
      "           2       1.00      1.00      1.00      3221\n",
      "           3       1.00      1.00      1.00      3221\n",
      "           4       1.00      1.00      1.00      3221\n",
      "           5       1.00      1.00      1.00      3221\n",
      "\n",
      "    accuracy                           1.00     19326\n",
      "   macro avg       1.00      1.00      1.00     19326\n",
      "weighted avg       1.00      1.00      1.00     19326\n",
      "\n"
     ]
    }
   ],
   "source": [
    "y_pred_train_RF = random_forest.predict(X_up)\n",
    "acc = accuracy_score(Y_up, y_pred_train_RF )\n",
    "prec_macro = precision_score(Y_up,y_pred_train_RF , average='macro')\n",
    "recall_macro = recall_score(Y_up, y_pred_train_RF, average='macro')\n",
    "f1_macro = f1_score(Y_up, y_pred_train_RF , average='macro')\n",
    "classification_rep_RF_train = classification_report(Y_up,y_pred_train_RF )\n",
    "print(\"Accuracy Score:\", acc)\n",
    "print(\"Precision (Macro):\", prec_macro)\n",
    "print(\"Recall (Macro):\", recall_macro)\n",
    "print(\"F1 Score (Macro):\", f1_macro)\n",
    "\n",
    "# Confusion Matrix\n",
    "cf_matrix_RF_train = confusion_matrix(Y_up, y_pred_train_RF)\n",
    "print(\"Confusion Matrix:\")\n",
    "print(cf_matrix_RF_train)\n",
    "print(\"\\nClassification Report:\\n\", classification_rep_RF_train)"
   ]
  },
  {
   "cell_type": "code",
   "execution_count": null,
   "id": "7a677f36",
   "metadata": {},
   "outputs": [],
   "source": []
  },
  {
   "cell_type": "code",
   "execution_count": null,
   "id": "bae3654d",
   "metadata": {},
   "outputs": [],
   "source": []
  },
  {
   "cell_type": "code",
   "execution_count": 30,
   "id": "2b819fe5",
   "metadata": {},
   "outputs": [],
   "source": [
    "### After tuning "
   ]
  },
  {
   "cell_type": "code",
   "execution_count": 31,
   "id": "f1788d02",
   "metadata": {},
   "outputs": [],
   "source": [
    "##### Tuning -Random search CV"
   ]
  },
  {
   "cell_type": "code",
   "execution_count": 32,
   "id": "fe274faf",
   "metadata": {},
   "outputs": [],
   "source": [
    "\n",
    "# Number of trees in random forest\n",
    "n_estimators = [int(x) for x in np.linspace(start = 200, stop = 2000, num = 10)]\n",
    "# Number of features to consider at every split\n",
    "max_features = ['auto', 'sqrt']\n",
    "# Maximum number of levels in tree\n",
    "max_depth = [int(x) for x in np.linspace(10, 110, num = 11)]\n",
    "max_depth.append(None)\n",
    "# Minimum number of samples required to split a node\n",
    "min_samples_split = [2, 5, 10]\n",
    "# Minimum number of samples required at each leaf node\n",
    "min_samples_leaf = [1, 2, 4]\n",
    "\n",
    "# Create the random grid\n",
    "random_grid = {'n_estimators': n_estimators,\n",
    "               'max_features': max_features,\n",
    "               'max_depth': max_depth,\n",
    "               'min_samples_split': min_samples_split,\n",
    "               'min_samples_leaf': min_samples_leaf,\n",
    "              }"
   ]
  },
  {
   "cell_type": "code",
   "execution_count": null,
   "id": "6fa6d907",
   "metadata": {},
   "outputs": [],
   "source": []
  },
  {
   "cell_type": "code",
   "execution_count": 33,
   "id": "64cd1586",
   "metadata": {},
   "outputs": [
    {
     "name": "stdout",
     "output_type": "stream",
     "text": [
      "Fitting 3 folds for each of 100 candidates, totalling 300 fits\n"
     ]
    },
    {
     "name": "stderr",
     "output_type": "stream",
     "text": [
      "C:\\ProgramData\\anaconda3\\Lib\\site-packages\\sklearn\\ensemble\\_forest.py:424: FutureWarning: `max_features='auto'` has been deprecated in 1.1 and will be removed in 1.3. To keep the past behaviour, explicitly set `max_features='sqrt'` or remove this parameter as it is also the default value for RandomForestClassifiers and ExtraTreesClassifiers.\n",
      "  warn(\n"
     ]
    },
    {
     "data": {
      "text/html": [
       "<style>#sk-container-id-1 {color: black;background-color: white;}#sk-container-id-1 pre{padding: 0;}#sk-container-id-1 div.sk-toggleable {background-color: white;}#sk-container-id-1 label.sk-toggleable__label {cursor: pointer;display: block;width: 100%;margin-bottom: 0;padding: 0.3em;box-sizing: border-box;text-align: center;}#sk-container-id-1 label.sk-toggleable__label-arrow:before {content: \"▸\";float: left;margin-right: 0.25em;color: #696969;}#sk-container-id-1 label.sk-toggleable__label-arrow:hover:before {color: black;}#sk-container-id-1 div.sk-estimator:hover label.sk-toggleable__label-arrow:before {color: black;}#sk-container-id-1 div.sk-toggleable__content {max-height: 0;max-width: 0;overflow: hidden;text-align: left;background-color: #f0f8ff;}#sk-container-id-1 div.sk-toggleable__content pre {margin: 0.2em;color: black;border-radius: 0.25em;background-color: #f0f8ff;}#sk-container-id-1 input.sk-toggleable__control:checked~div.sk-toggleable__content {max-height: 200px;max-width: 100%;overflow: auto;}#sk-container-id-1 input.sk-toggleable__control:checked~label.sk-toggleable__label-arrow:before {content: \"▾\";}#sk-container-id-1 div.sk-estimator input.sk-toggleable__control:checked~label.sk-toggleable__label {background-color: #d4ebff;}#sk-container-id-1 div.sk-label input.sk-toggleable__control:checked~label.sk-toggleable__label {background-color: #d4ebff;}#sk-container-id-1 input.sk-hidden--visually {border: 0;clip: rect(1px 1px 1px 1px);clip: rect(1px, 1px, 1px, 1px);height: 1px;margin: -1px;overflow: hidden;padding: 0;position: absolute;width: 1px;}#sk-container-id-1 div.sk-estimator {font-family: monospace;background-color: #f0f8ff;border: 1px dotted black;border-radius: 0.25em;box-sizing: border-box;margin-bottom: 0.5em;}#sk-container-id-1 div.sk-estimator:hover {background-color: #d4ebff;}#sk-container-id-1 div.sk-parallel-item::after {content: \"\";width: 100%;border-bottom: 1px solid gray;flex-grow: 1;}#sk-container-id-1 div.sk-label:hover label.sk-toggleable__label {background-color: #d4ebff;}#sk-container-id-1 div.sk-serial::before {content: \"\";position: absolute;border-left: 1px solid gray;box-sizing: border-box;top: 0;bottom: 0;left: 50%;z-index: 0;}#sk-container-id-1 div.sk-serial {display: flex;flex-direction: column;align-items: center;background-color: white;padding-right: 0.2em;padding-left: 0.2em;position: relative;}#sk-container-id-1 div.sk-item {position: relative;z-index: 1;}#sk-container-id-1 div.sk-parallel {display: flex;align-items: stretch;justify-content: center;background-color: white;position: relative;}#sk-container-id-1 div.sk-item::before, #sk-container-id-1 div.sk-parallel-item::before {content: \"\";position: absolute;border-left: 1px solid gray;box-sizing: border-box;top: 0;bottom: 0;left: 50%;z-index: -1;}#sk-container-id-1 div.sk-parallel-item {display: flex;flex-direction: column;z-index: 1;position: relative;background-color: white;}#sk-container-id-1 div.sk-parallel-item:first-child::after {align-self: flex-end;width: 50%;}#sk-container-id-1 div.sk-parallel-item:last-child::after {align-self: flex-start;width: 50%;}#sk-container-id-1 div.sk-parallel-item:only-child::after {width: 0;}#sk-container-id-1 div.sk-dashed-wrapped {border: 1px dashed gray;margin: 0 0.4em 0.5em 0.4em;box-sizing: border-box;padding-bottom: 0.4em;background-color: white;}#sk-container-id-1 div.sk-label label {font-family: monospace;font-weight: bold;display: inline-block;line-height: 1.2em;}#sk-container-id-1 div.sk-label-container {text-align: center;}#sk-container-id-1 div.sk-container {/* jupyter's `normalize.less` sets `[hidden] { display: none; }` but bootstrap.min.css set `[hidden] { display: none !important; }` so we also need the `!important` here to be able to override the default hidden behavior on the sphinx rendered scikit-learn.org. See: https://github.com/scikit-learn/scikit-learn/issues/21755 */display: inline-block !important;position: relative;}#sk-container-id-1 div.sk-text-repr-fallback {display: none;}</style><div id=\"sk-container-id-1\" class=\"sk-top-container\"><div class=\"sk-text-repr-fallback\"><pre>RandomizedSearchCV(cv=3, estimator=RandomForestClassifier(), n_iter=100,\n",
       "                   n_jobs=-1,\n",
       "                   param_distributions={&#x27;max_depth&#x27;: [10, 20, 30, 40, 50, 60,\n",
       "                                                      70, 80, 90, 100, 110,\n",
       "                                                      None],\n",
       "                                        &#x27;max_features&#x27;: [&#x27;auto&#x27;, &#x27;sqrt&#x27;],\n",
       "                                        &#x27;min_samples_leaf&#x27;: [1, 2, 4],\n",
       "                                        &#x27;min_samples_split&#x27;: [2, 5, 10],\n",
       "                                        &#x27;n_estimators&#x27;: [200, 400, 600, 800,\n",
       "                                                         1000, 1200, 1400, 1600,\n",
       "                                                         1800, 2000]},\n",
       "                   random_state=0, verbose=2)</pre><b>In a Jupyter environment, please rerun this cell to show the HTML representation or trust the notebook. <br />On GitHub, the HTML representation is unable to render, please try loading this page with nbviewer.org.</b></div><div class=\"sk-container\" hidden><div class=\"sk-item sk-dashed-wrapped\"><div class=\"sk-label-container\"><div class=\"sk-label sk-toggleable\"><input class=\"sk-toggleable__control sk-hidden--visually\" id=\"sk-estimator-id-1\" type=\"checkbox\" ><label for=\"sk-estimator-id-1\" class=\"sk-toggleable__label sk-toggleable__label-arrow\">RandomizedSearchCV</label><div class=\"sk-toggleable__content\"><pre>RandomizedSearchCV(cv=3, estimator=RandomForestClassifier(), n_iter=100,\n",
       "                   n_jobs=-1,\n",
       "                   param_distributions={&#x27;max_depth&#x27;: [10, 20, 30, 40, 50, 60,\n",
       "                                                      70, 80, 90, 100, 110,\n",
       "                                                      None],\n",
       "                                        &#x27;max_features&#x27;: [&#x27;auto&#x27;, &#x27;sqrt&#x27;],\n",
       "                                        &#x27;min_samples_leaf&#x27;: [1, 2, 4],\n",
       "                                        &#x27;min_samples_split&#x27;: [2, 5, 10],\n",
       "                                        &#x27;n_estimators&#x27;: [200, 400, 600, 800,\n",
       "                                                         1000, 1200, 1400, 1600,\n",
       "                                                         1800, 2000]},\n",
       "                   random_state=0, verbose=2)</pre></div></div></div><div class=\"sk-parallel\"><div class=\"sk-parallel-item\"><div class=\"sk-item\"><div class=\"sk-label-container\"><div class=\"sk-label sk-toggleable\"><input class=\"sk-toggleable__control sk-hidden--visually\" id=\"sk-estimator-id-2\" type=\"checkbox\" ><label for=\"sk-estimator-id-2\" class=\"sk-toggleable__label sk-toggleable__label-arrow\">estimator: RandomForestClassifier</label><div class=\"sk-toggleable__content\"><pre>RandomForestClassifier()</pre></div></div></div><div class=\"sk-serial\"><div class=\"sk-item\"><div class=\"sk-estimator sk-toggleable\"><input class=\"sk-toggleable__control sk-hidden--visually\" id=\"sk-estimator-id-3\" type=\"checkbox\" ><label for=\"sk-estimator-id-3\" class=\"sk-toggleable__label sk-toggleable__label-arrow\">RandomForestClassifier</label><div class=\"sk-toggleable__content\"><pre>RandomForestClassifier()</pre></div></div></div></div></div></div></div></div></div></div>"
      ],
      "text/plain": [
       "RandomizedSearchCV(cv=3, estimator=RandomForestClassifier(), n_iter=100,\n",
       "                   n_jobs=-1,\n",
       "                   param_distributions={'max_depth': [10, 20, 30, 40, 50, 60,\n",
       "                                                      70, 80, 90, 100, 110,\n",
       "                                                      None],\n",
       "                                        'max_features': ['auto', 'sqrt'],\n",
       "                                        'min_samples_leaf': [1, 2, 4],\n",
       "                                        'min_samples_split': [2, 5, 10],\n",
       "                                        'n_estimators': [200, 400, 600, 800,\n",
       "                                                         1000, 1200, 1400, 1600,\n",
       "                                                         1800, 2000]},\n",
       "                   random_state=0, verbose=2)"
      ]
     },
     "execution_count": 33,
     "metadata": {},
     "output_type": "execute_result"
    }
   ],
   "source": [
    "# Use the random grid to search for best hyperparameters\n",
    "# First create the base model to tune\n",
    "rf = RandomForestClassifier()\n",
    "# Random search of parameters, using 3 fold cross validation, \n",
    "# search across 100 different combinations, and use all available cores\n",
    "rf_random = RandomizedSearchCV(estimator = rf, param_distributions = random_grid, n_iter = 100, cv = 3, verbose=2, random_state=0, n_jobs = -1)\n",
    "# Fit the random search model\n",
    "rf_random.fit(X_up, Y_up)"
   ]
  },
  {
   "cell_type": "code",
   "execution_count": 34,
   "id": "0d141202",
   "metadata": {},
   "outputs": [
    {
     "data": {
      "text/plain": [
       "{'n_estimators': 400,\n",
       " 'min_samples_split': 2,\n",
       " 'min_samples_leaf': 1,\n",
       " 'max_features': 'auto',\n",
       " 'max_depth': 80}"
      ]
     },
     "execution_count": 34,
     "metadata": {},
     "output_type": "execute_result"
    }
   ],
   "source": [
    "rf_random.best_params_"
   ]
  },
  {
   "cell_type": "code",
   "execution_count": 35,
   "id": "d8e0c28c",
   "metadata": {},
   "outputs": [],
   "source": [
    "best_RF_RCV = RandomForestClassifier(n_estimators= 1200,\n",
    " min_samples_split= 2,\n",
    " min_samples_leaf=1,\n",
    " max_features= 'sqrt',\n",
    " max_depth= 80,\n",
    " )\n",
    "best_RF_RCV.fit(X_up, Y_up)\n",
    "y_pred_RF_RCV = best_RF_RCV.predict(X_test)"
   ]
  },
  {
   "cell_type": "code",
   "execution_count": 36,
   "id": "3e561e30",
   "metadata": {},
   "outputs": [
    {
     "name": "stdout",
     "output_type": "stream",
     "text": [
      "Accuracy Score: 0.6755843424387497\n",
      "Precision (Macro): 0.6063627480351474\n",
      "Recall (Macro): 0.5841168564280592\n",
      "F1 Score (Macro): 0.5928710126673836\n",
      "Confusion Matrix:\n",
      "[[  20   43    5    3    0    2]\n",
      " [  27  592  132   91    5    0]\n",
      " [   2  150  258  155    6    4]\n",
      " [   2   56  107 1051   77   34]\n",
      " [   0    2    1  109  171   55]\n",
      " [   0    0    0   22   62  307]]\n",
      "\n",
      "Classification Report:\n",
      "               precision    recall  f1-score   support\n",
      "\n",
      "           0       0.39      0.27      0.32        73\n",
      "           1       0.70      0.70      0.70       847\n",
      "           2       0.51      0.45      0.48       575\n",
      "           3       0.73      0.79      0.76      1327\n",
      "           4       0.53      0.51      0.52       338\n",
      "           5       0.76      0.79      0.77       391\n",
      "\n",
      "    accuracy                           0.68      3551\n",
      "   macro avg       0.61      0.58      0.59      3551\n",
      "weighted avg       0.67      0.68      0.67      3551\n",
      "\n"
     ]
    }
   ],
   "source": [
    "acc = accuracy_score(y_test, y_pred_RF_RCV)\n",
    "prec_macro = precision_score(y_test,y_pred_RF_RCV, average='macro')\n",
    "recall_macro = recall_score(y_test, y_pred_RF_RCV, average='macro')\n",
    "f1_macro = f1_score(y_test,y_pred_RF_RCV, average='macro')\n",
    "classification_rep_RF_RCV = classification_report(y_test,y_pred_RF_RCV)\n",
    "print(\"Accuracy Score:\", acc)\n",
    "print(\"Precision (Macro):\", prec_macro)\n",
    "print(\"Recall (Macro):\", recall_macro)\n",
    "print(\"F1 Score (Macro):\", f1_macro)\n",
    "\n",
    "# Confusion Matrix\n",
    "cf_matrix_RF_rcv = confusion_matrix(y_test, y_pred_RF_RCV)\n",
    "print(\"Confusion Matrix:\")\n",
    "print(cf_matrix_RF_rcv)\n",
    "print(\"\\nClassification Report:\\n\", classification_rep_RF_RCV)"
   ]
  },
  {
   "cell_type": "code",
   "execution_count": 37,
   "id": "f277f0d5",
   "metadata": {},
   "outputs": [],
   "source": [
    "y_pred_RF_RCV_train = best_RF_RCV.predict(X_up)"
   ]
  },
  {
   "cell_type": "code",
   "execution_count": 38,
   "id": "e14ab785",
   "metadata": {},
   "outputs": [
    {
     "name": "stdout",
     "output_type": "stream",
     "text": [
      "Accuracy Score: 1.0\n",
      "Precision (Macro): 1.0\n",
      "Recall (Macro): 1.0\n",
      "F1 Score (Macro): 1.0\n",
      "Confusion Matrix:\n",
      "[[3221    0    0    0    0    0]\n",
      " [   0 3221    0    0    0    0]\n",
      " [   0    0 3221    0    0    0]\n",
      " [   0    0    0 3221    0    0]\n",
      " [   0    0    0    0 3221    0]\n",
      " [   0    0    0    0    0 3221]]\n",
      "\n",
      "Classification Report:\n",
      "               precision    recall  f1-score   support\n",
      "\n",
      "           0       1.00      1.00      1.00      3221\n",
      "           1       1.00      1.00      1.00      3221\n",
      "           2       1.00      1.00      1.00      3221\n",
      "           3       1.00      1.00      1.00      3221\n",
      "           4       1.00      1.00      1.00      3221\n",
      "           5       1.00      1.00      1.00      3221\n",
      "\n",
      "    accuracy                           1.00     19326\n",
      "   macro avg       1.00      1.00      1.00     19326\n",
      "weighted avg       1.00      1.00      1.00     19326\n",
      "\n"
     ]
    }
   ],
   "source": [
    "acc = accuracy_score(Y_up, y_pred_RF_RCV_train)\n",
    "prec_macro = precision_score(Y_up,y_pred_RF_RCV_train, average='macro')\n",
    "recall_macro = recall_score(Y_up, y_pred_RF_RCV_train, average='macro')\n",
    "f1_macro = f1_score(Y_up,y_pred_RF_RCV_train, average='macro')\n",
    "classification_rep_RF_RCV_Train = classification_report(Y_up,y_pred_RF_RCV_train)\n",
    "print(\"Accuracy Score:\", acc)\n",
    "print(\"Precision (Macro):\", prec_macro)\n",
    "print(\"Recall (Macro):\", recall_macro)\n",
    "print(\"F1 Score (Macro):\", f1_macro)\n",
    "\n",
    "# Confusion Matrix\n",
    "cf_matrix_RF_rcv_train = confusion_matrix(Y_up, y_pred_RF_RCV_train)\n",
    "print(\"Confusion Matrix:\")\n",
    "print(cf_matrix_RF_rcv_train)\n",
    "print(\"\\nClassification Report:\\n\", classification_rep_RF_RCV_Train)"
   ]
  },
  {
   "cell_type": "code",
   "execution_count": 39,
   "id": "25059f74",
   "metadata": {},
   "outputs": [],
   "source": [
    "### Gridsearch CV"
   ]
  },
  {
   "cell_type": "code",
   "execution_count": null,
   "id": "8f6a1788",
   "metadata": {},
   "outputs": [],
   "source": []
  },
  {
   "cell_type": "code",
   "execution_count": 40,
   "id": "a00f5f7d",
   "metadata": {},
   "outputs": [
    {
     "name": "stdout",
     "output_type": "stream",
     "text": [
      "{'max_depth': [80], 'max_features': ['auto'], 'min_samples_leaf': [1, 3, 5], 'min_samples_split': [0, 1, 2, 3, 4], 'n_estimators': [200, 300, 400, 500, 600]}\n"
     ]
    }
   ],
   "source": [
    "from sklearn.model_selection import GridSearchCV\n",
    "\n",
    "param_grid = {\n",
    "    'max_depth': [rf_random.best_params_['max_depth']],\n",
    "    'max_features': [rf_random.best_params_['max_features']],\n",
    "    'min_samples_leaf': [rf_random.best_params_['min_samples_leaf'], \n",
    "                         rf_random.best_params_['min_samples_leaf']+2, \n",
    "                         rf_random.best_params_['min_samples_leaf'] + 4],\n",
    "    'min_samples_split': [rf_random.best_params_['min_samples_split'] - 2,\n",
    "                          rf_random.best_params_['min_samples_split'] - 1,\n",
    "                          rf_random.best_params_['min_samples_split'], \n",
    "                          rf_random.best_params_['min_samples_split'] +1,\n",
    "                          rf_random.best_params_['min_samples_split'] + 2],\n",
    "    'n_estimators': [rf_random.best_params_['n_estimators'] - 200, rf_random.best_params_['n_estimators'] - 100, \n",
    "                     rf_random.best_params_['n_estimators'], \n",
    "                     rf_random.best_params_['n_estimators'] + 100, rf_random.best_params_['n_estimators'] + 200]\n",
    "}\n",
    "\n",
    "print(param_grid)\n",
    "# Create a based model\n"
   ]
  },
  {
   "cell_type": "code",
   "execution_count": 41,
   "id": "9968d10e",
   "metadata": {},
   "outputs": [
    {
     "name": "stdout",
     "output_type": "stream",
     "text": [
      "Fitting 3 folds for each of 75 candidates, totalling 225 fits\n"
     ]
    },
    {
     "name": "stderr",
     "output_type": "stream",
     "text": [
      "C:\\ProgramData\\anaconda3\\Lib\\site-packages\\sklearn\\model_selection\\_validation.py:378: FitFailedWarning: \n",
      "90 fits failed out of a total of 225.\n",
      "The score on these train-test partitions for these parameters will be set to nan.\n",
      "If these failures are not expected, you can try to debug them by setting error_score='raise'.\n",
      "\n",
      "Below are more details about the failures:\n",
      "--------------------------------------------------------------------------------\n",
      "45 fits failed with the following error:\n",
      "Traceback (most recent call last):\n",
      "  File \"C:\\ProgramData\\anaconda3\\Lib\\site-packages\\sklearn\\model_selection\\_validation.py\", line 686, in _fit_and_score\n",
      "    estimator.fit(X_train, y_train, **fit_params)\n",
      "  File \"C:\\ProgramData\\anaconda3\\Lib\\site-packages\\sklearn\\ensemble\\_forest.py\", line 340, in fit\n",
      "    self._validate_params()\n",
      "  File \"C:\\ProgramData\\anaconda3\\Lib\\site-packages\\sklearn\\base.py\", line 600, in _validate_params\n",
      "    validate_parameter_constraints(\n",
      "  File \"C:\\ProgramData\\anaconda3\\Lib\\site-packages\\sklearn\\utils\\_param_validation.py\", line 97, in validate_parameter_constraints\n",
      "    raise InvalidParameterError(\n",
      "sklearn.utils._param_validation.InvalidParameterError: The 'min_samples_split' parameter of RandomForestClassifier must be an int in the range [2, inf) or a float in the range (0.0, 1.0]. Got 0 instead.\n",
      "\n",
      "--------------------------------------------------------------------------------\n",
      "45 fits failed with the following error:\n",
      "Traceback (most recent call last):\n",
      "  File \"C:\\ProgramData\\anaconda3\\Lib\\site-packages\\sklearn\\model_selection\\_validation.py\", line 686, in _fit_and_score\n",
      "    estimator.fit(X_train, y_train, **fit_params)\n",
      "  File \"C:\\ProgramData\\anaconda3\\Lib\\site-packages\\sklearn\\ensemble\\_forest.py\", line 340, in fit\n",
      "    self._validate_params()\n",
      "  File \"C:\\ProgramData\\anaconda3\\Lib\\site-packages\\sklearn\\base.py\", line 600, in _validate_params\n",
      "    validate_parameter_constraints(\n",
      "  File \"C:\\ProgramData\\anaconda3\\Lib\\site-packages\\sklearn\\utils\\_param_validation.py\", line 97, in validate_parameter_constraints\n",
      "    raise InvalidParameterError(\n",
      "sklearn.utils._param_validation.InvalidParameterError: The 'min_samples_split' parameter of RandomForestClassifier must be an int in the range [2, inf) or a float in the range (0.0, 1.0]. Got 1 instead.\n",
      "\n",
      "  warnings.warn(some_fits_failed_message, FitFailedWarning)\n",
      "C:\\ProgramData\\anaconda3\\Lib\\site-packages\\sklearn\\model_selection\\_search.py:952: UserWarning: One or more of the test scores are non-finite: [       nan        nan        nan        nan        nan        nan\n",
      "        nan        nan        nan        nan 0.91710649 0.91638208\n",
      " 0.91658905 0.91726172 0.91638208 0.91472628 0.91581289 0.91638208\n",
      " 0.91705474 0.91653731 0.91426058 0.91488151 0.91508848 0.91539894\n",
      " 0.91638208        nan        nan        nan        nan        nan\n",
      "        nan        nan        nan        nan        nan 0.8804719\n",
      " 0.88067888 0.88140329 0.88067888 0.88036842 0.88124806 0.88135155\n",
      " 0.88078237 0.88119632 0.88119632 0.87959226 0.88042016 0.88161027\n",
      " 0.88036842 0.88036842        nan        nan        nan        nan\n",
      "        nan        nan        nan        nan        nan        nan\n",
      " 0.85056401 0.85206458 0.85046052 0.85221981 0.85040878 0.84983959\n",
      " 0.8502018  0.85092621 0.85128842 0.85056401 0.85025354 0.85097796\n",
      " 0.85092621 0.85092621 0.84968436]\n",
      "  warnings.warn(\n",
      "C:\\ProgramData\\anaconda3\\Lib\\site-packages\\sklearn\\ensemble\\_forest.py:424: FutureWarning: `max_features='auto'` has been deprecated in 1.1 and will be removed in 1.3. To keep the past behaviour, explicitly set `max_features='sqrt'` or remove this parameter as it is also the default value for RandomForestClassifiers and ExtraTreesClassifiers.\n",
      "  warn(\n"
     ]
    },
    {
     "data": {
      "text/html": [
       "<style>#sk-container-id-2 {color: black;background-color: white;}#sk-container-id-2 pre{padding: 0;}#sk-container-id-2 div.sk-toggleable {background-color: white;}#sk-container-id-2 label.sk-toggleable__label {cursor: pointer;display: block;width: 100%;margin-bottom: 0;padding: 0.3em;box-sizing: border-box;text-align: center;}#sk-container-id-2 label.sk-toggleable__label-arrow:before {content: \"▸\";float: left;margin-right: 0.25em;color: #696969;}#sk-container-id-2 label.sk-toggleable__label-arrow:hover:before {color: black;}#sk-container-id-2 div.sk-estimator:hover label.sk-toggleable__label-arrow:before {color: black;}#sk-container-id-2 div.sk-toggleable__content {max-height: 0;max-width: 0;overflow: hidden;text-align: left;background-color: #f0f8ff;}#sk-container-id-2 div.sk-toggleable__content pre {margin: 0.2em;color: black;border-radius: 0.25em;background-color: #f0f8ff;}#sk-container-id-2 input.sk-toggleable__control:checked~div.sk-toggleable__content {max-height: 200px;max-width: 100%;overflow: auto;}#sk-container-id-2 input.sk-toggleable__control:checked~label.sk-toggleable__label-arrow:before {content: \"▾\";}#sk-container-id-2 div.sk-estimator input.sk-toggleable__control:checked~label.sk-toggleable__label {background-color: #d4ebff;}#sk-container-id-2 div.sk-label input.sk-toggleable__control:checked~label.sk-toggleable__label {background-color: #d4ebff;}#sk-container-id-2 input.sk-hidden--visually {border: 0;clip: rect(1px 1px 1px 1px);clip: rect(1px, 1px, 1px, 1px);height: 1px;margin: -1px;overflow: hidden;padding: 0;position: absolute;width: 1px;}#sk-container-id-2 div.sk-estimator {font-family: monospace;background-color: #f0f8ff;border: 1px dotted black;border-radius: 0.25em;box-sizing: border-box;margin-bottom: 0.5em;}#sk-container-id-2 div.sk-estimator:hover {background-color: #d4ebff;}#sk-container-id-2 div.sk-parallel-item::after {content: \"\";width: 100%;border-bottom: 1px solid gray;flex-grow: 1;}#sk-container-id-2 div.sk-label:hover label.sk-toggleable__label {background-color: #d4ebff;}#sk-container-id-2 div.sk-serial::before {content: \"\";position: absolute;border-left: 1px solid gray;box-sizing: border-box;top: 0;bottom: 0;left: 50%;z-index: 0;}#sk-container-id-2 div.sk-serial {display: flex;flex-direction: column;align-items: center;background-color: white;padding-right: 0.2em;padding-left: 0.2em;position: relative;}#sk-container-id-2 div.sk-item {position: relative;z-index: 1;}#sk-container-id-2 div.sk-parallel {display: flex;align-items: stretch;justify-content: center;background-color: white;position: relative;}#sk-container-id-2 div.sk-item::before, #sk-container-id-2 div.sk-parallel-item::before {content: \"\";position: absolute;border-left: 1px solid gray;box-sizing: border-box;top: 0;bottom: 0;left: 50%;z-index: -1;}#sk-container-id-2 div.sk-parallel-item {display: flex;flex-direction: column;z-index: 1;position: relative;background-color: white;}#sk-container-id-2 div.sk-parallel-item:first-child::after {align-self: flex-end;width: 50%;}#sk-container-id-2 div.sk-parallel-item:last-child::after {align-self: flex-start;width: 50%;}#sk-container-id-2 div.sk-parallel-item:only-child::after {width: 0;}#sk-container-id-2 div.sk-dashed-wrapped {border: 1px dashed gray;margin: 0 0.4em 0.5em 0.4em;box-sizing: border-box;padding-bottom: 0.4em;background-color: white;}#sk-container-id-2 div.sk-label label {font-family: monospace;font-weight: bold;display: inline-block;line-height: 1.2em;}#sk-container-id-2 div.sk-label-container {text-align: center;}#sk-container-id-2 div.sk-container {/* jupyter's `normalize.less` sets `[hidden] { display: none; }` but bootstrap.min.css set `[hidden] { display: none !important; }` so we also need the `!important` here to be able to override the default hidden behavior on the sphinx rendered scikit-learn.org. See: https://github.com/scikit-learn/scikit-learn/issues/21755 */display: inline-block !important;position: relative;}#sk-container-id-2 div.sk-text-repr-fallback {display: none;}</style><div id=\"sk-container-id-2\" class=\"sk-top-container\"><div class=\"sk-text-repr-fallback\"><pre>GridSearchCV(cv=3, estimator=RandomForestClassifier(), n_jobs=-1,\n",
       "             param_grid={&#x27;max_depth&#x27;: [80], &#x27;max_features&#x27;: [&#x27;auto&#x27;],\n",
       "                         &#x27;min_samples_leaf&#x27;: [1, 3, 5],\n",
       "                         &#x27;min_samples_split&#x27;: [0, 1, 2, 3, 4],\n",
       "                         &#x27;n_estimators&#x27;: [200, 300, 400, 500, 600]},\n",
       "             verbose=2)</pre><b>In a Jupyter environment, please rerun this cell to show the HTML representation or trust the notebook. <br />On GitHub, the HTML representation is unable to render, please try loading this page with nbviewer.org.</b></div><div class=\"sk-container\" hidden><div class=\"sk-item sk-dashed-wrapped\"><div class=\"sk-label-container\"><div class=\"sk-label sk-toggleable\"><input class=\"sk-toggleable__control sk-hidden--visually\" id=\"sk-estimator-id-4\" type=\"checkbox\" ><label for=\"sk-estimator-id-4\" class=\"sk-toggleable__label sk-toggleable__label-arrow\">GridSearchCV</label><div class=\"sk-toggleable__content\"><pre>GridSearchCV(cv=3, estimator=RandomForestClassifier(), n_jobs=-1,\n",
       "             param_grid={&#x27;max_depth&#x27;: [80], &#x27;max_features&#x27;: [&#x27;auto&#x27;],\n",
       "                         &#x27;min_samples_leaf&#x27;: [1, 3, 5],\n",
       "                         &#x27;min_samples_split&#x27;: [0, 1, 2, 3, 4],\n",
       "                         &#x27;n_estimators&#x27;: [200, 300, 400, 500, 600]},\n",
       "             verbose=2)</pre></div></div></div><div class=\"sk-parallel\"><div class=\"sk-parallel-item\"><div class=\"sk-item\"><div class=\"sk-label-container\"><div class=\"sk-label sk-toggleable\"><input class=\"sk-toggleable__control sk-hidden--visually\" id=\"sk-estimator-id-5\" type=\"checkbox\" ><label for=\"sk-estimator-id-5\" class=\"sk-toggleable__label sk-toggleable__label-arrow\">estimator: RandomForestClassifier</label><div class=\"sk-toggleable__content\"><pre>RandomForestClassifier()</pre></div></div></div><div class=\"sk-serial\"><div class=\"sk-item\"><div class=\"sk-estimator sk-toggleable\"><input class=\"sk-toggleable__control sk-hidden--visually\" id=\"sk-estimator-id-6\" type=\"checkbox\" ><label for=\"sk-estimator-id-6\" class=\"sk-toggleable__label sk-toggleable__label-arrow\">RandomForestClassifier</label><div class=\"sk-toggleable__content\"><pre>RandomForestClassifier()</pre></div></div></div></div></div></div></div></div></div></div>"
      ],
      "text/plain": [
       "GridSearchCV(cv=3, estimator=RandomForestClassifier(), n_jobs=-1,\n",
       "             param_grid={'max_depth': [80], 'max_features': ['auto'],\n",
       "                         'min_samples_leaf': [1, 3, 5],\n",
       "                         'min_samples_split': [0, 1, 2, 3, 4],\n",
       "                         'n_estimators': [200, 300, 400, 500, 600]},\n",
       "             verbose=2)"
      ]
     },
     "execution_count": 41,
     "metadata": {},
     "output_type": "execute_result"
    }
   ],
   "source": [
    "RF = RandomForestClassifier()\n",
    "# Instantiate the grid search model\n",
    "grid_search = GridSearchCV(estimator = RF, param_grid = param_grid, \n",
    "                          cv = 3, n_jobs = -1, verbose = 2)\n",
    "grid_search.fit(X_up,Y_up)"
   ]
  },
  {
   "cell_type": "code",
   "execution_count": 42,
   "id": "776b0012",
   "metadata": {},
   "outputs": [
    {
     "data": {
      "text/html": [
       "<style>#sk-container-id-3 {color: black;background-color: white;}#sk-container-id-3 pre{padding: 0;}#sk-container-id-3 div.sk-toggleable {background-color: white;}#sk-container-id-3 label.sk-toggleable__label {cursor: pointer;display: block;width: 100%;margin-bottom: 0;padding: 0.3em;box-sizing: border-box;text-align: center;}#sk-container-id-3 label.sk-toggleable__label-arrow:before {content: \"▸\";float: left;margin-right: 0.25em;color: #696969;}#sk-container-id-3 label.sk-toggleable__label-arrow:hover:before {color: black;}#sk-container-id-3 div.sk-estimator:hover label.sk-toggleable__label-arrow:before {color: black;}#sk-container-id-3 div.sk-toggleable__content {max-height: 0;max-width: 0;overflow: hidden;text-align: left;background-color: #f0f8ff;}#sk-container-id-3 div.sk-toggleable__content pre {margin: 0.2em;color: black;border-radius: 0.25em;background-color: #f0f8ff;}#sk-container-id-3 input.sk-toggleable__control:checked~div.sk-toggleable__content {max-height: 200px;max-width: 100%;overflow: auto;}#sk-container-id-3 input.sk-toggleable__control:checked~label.sk-toggleable__label-arrow:before {content: \"▾\";}#sk-container-id-3 div.sk-estimator input.sk-toggleable__control:checked~label.sk-toggleable__label {background-color: #d4ebff;}#sk-container-id-3 div.sk-label input.sk-toggleable__control:checked~label.sk-toggleable__label {background-color: #d4ebff;}#sk-container-id-3 input.sk-hidden--visually {border: 0;clip: rect(1px 1px 1px 1px);clip: rect(1px, 1px, 1px, 1px);height: 1px;margin: -1px;overflow: hidden;padding: 0;position: absolute;width: 1px;}#sk-container-id-3 div.sk-estimator {font-family: monospace;background-color: #f0f8ff;border: 1px dotted black;border-radius: 0.25em;box-sizing: border-box;margin-bottom: 0.5em;}#sk-container-id-3 div.sk-estimator:hover {background-color: #d4ebff;}#sk-container-id-3 div.sk-parallel-item::after {content: \"\";width: 100%;border-bottom: 1px solid gray;flex-grow: 1;}#sk-container-id-3 div.sk-label:hover label.sk-toggleable__label {background-color: #d4ebff;}#sk-container-id-3 div.sk-serial::before {content: \"\";position: absolute;border-left: 1px solid gray;box-sizing: border-box;top: 0;bottom: 0;left: 50%;z-index: 0;}#sk-container-id-3 div.sk-serial {display: flex;flex-direction: column;align-items: center;background-color: white;padding-right: 0.2em;padding-left: 0.2em;position: relative;}#sk-container-id-3 div.sk-item {position: relative;z-index: 1;}#sk-container-id-3 div.sk-parallel {display: flex;align-items: stretch;justify-content: center;background-color: white;position: relative;}#sk-container-id-3 div.sk-item::before, #sk-container-id-3 div.sk-parallel-item::before {content: \"\";position: absolute;border-left: 1px solid gray;box-sizing: border-box;top: 0;bottom: 0;left: 50%;z-index: -1;}#sk-container-id-3 div.sk-parallel-item {display: flex;flex-direction: column;z-index: 1;position: relative;background-color: white;}#sk-container-id-3 div.sk-parallel-item:first-child::after {align-self: flex-end;width: 50%;}#sk-container-id-3 div.sk-parallel-item:last-child::after {align-self: flex-start;width: 50%;}#sk-container-id-3 div.sk-parallel-item:only-child::after {width: 0;}#sk-container-id-3 div.sk-dashed-wrapped {border: 1px dashed gray;margin: 0 0.4em 0.5em 0.4em;box-sizing: border-box;padding-bottom: 0.4em;background-color: white;}#sk-container-id-3 div.sk-label label {font-family: monospace;font-weight: bold;display: inline-block;line-height: 1.2em;}#sk-container-id-3 div.sk-label-container {text-align: center;}#sk-container-id-3 div.sk-container {/* jupyter's `normalize.less` sets `[hidden] { display: none; }` but bootstrap.min.css set `[hidden] { display: none !important; }` so we also need the `!important` here to be able to override the default hidden behavior on the sphinx rendered scikit-learn.org. See: https://github.com/scikit-learn/scikit-learn/issues/21755 */display: inline-block !important;position: relative;}#sk-container-id-3 div.sk-text-repr-fallback {display: none;}</style><div id=\"sk-container-id-3\" class=\"sk-top-container\"><div class=\"sk-text-repr-fallback\"><pre>RandomForestClassifier(max_depth=80, max_features=&#x27;auto&#x27;, n_estimators=500)</pre><b>In a Jupyter environment, please rerun this cell to show the HTML representation or trust the notebook. <br />On GitHub, the HTML representation is unable to render, please try loading this page with nbviewer.org.</b></div><div class=\"sk-container\" hidden><div class=\"sk-item\"><div class=\"sk-estimator sk-toggleable\"><input class=\"sk-toggleable__control sk-hidden--visually\" id=\"sk-estimator-id-7\" type=\"checkbox\" checked><label for=\"sk-estimator-id-7\" class=\"sk-toggleable__label sk-toggleable__label-arrow\">RandomForestClassifier</label><div class=\"sk-toggleable__content\"><pre>RandomForestClassifier(max_depth=80, max_features=&#x27;auto&#x27;, n_estimators=500)</pre></div></div></div></div></div>"
      ],
      "text/plain": [
       "RandomForestClassifier(max_depth=80, max_features='auto', n_estimators=500)"
      ]
     },
     "execution_count": 42,
     "metadata": {},
     "output_type": "execute_result"
    }
   ],
   "source": [
    "grid_search.best_estimator_"
   ]
  },
  {
   "cell_type": "code",
   "execution_count": 53,
   "id": "8195be2f",
   "metadata": {},
   "outputs": [
    {
     "name": "stderr",
     "output_type": "stream",
     "text": [
      "C:\\ProgramData\\anaconda3\\Lib\\site-packages\\sklearn\\ensemble\\_forest.py:424: FutureWarning: `max_features='auto'` has been deprecated in 1.1 and will be removed in 1.3. To keep the past behaviour, explicitly set `max_features='sqrt'` or remove this parameter as it is also the default value for RandomForestClassifiers and ExtraTreesClassifiers.\n",
      "  warn(\n"
     ]
    },
    {
     "data": {
      "text/html": [
       "<style>#sk-container-id-6 {color: black;background-color: white;}#sk-container-id-6 pre{padding: 0;}#sk-container-id-6 div.sk-toggleable {background-color: white;}#sk-container-id-6 label.sk-toggleable__label {cursor: pointer;display: block;width: 100%;margin-bottom: 0;padding: 0.3em;box-sizing: border-box;text-align: center;}#sk-container-id-6 label.sk-toggleable__label-arrow:before {content: \"▸\";float: left;margin-right: 0.25em;color: #696969;}#sk-container-id-6 label.sk-toggleable__label-arrow:hover:before {color: black;}#sk-container-id-6 div.sk-estimator:hover label.sk-toggleable__label-arrow:before {color: black;}#sk-container-id-6 div.sk-toggleable__content {max-height: 0;max-width: 0;overflow: hidden;text-align: left;background-color: #f0f8ff;}#sk-container-id-6 div.sk-toggleable__content pre {margin: 0.2em;color: black;border-radius: 0.25em;background-color: #f0f8ff;}#sk-container-id-6 input.sk-toggleable__control:checked~div.sk-toggleable__content {max-height: 200px;max-width: 100%;overflow: auto;}#sk-container-id-6 input.sk-toggleable__control:checked~label.sk-toggleable__label-arrow:before {content: \"▾\";}#sk-container-id-6 div.sk-estimator input.sk-toggleable__control:checked~label.sk-toggleable__label {background-color: #d4ebff;}#sk-container-id-6 div.sk-label input.sk-toggleable__control:checked~label.sk-toggleable__label {background-color: #d4ebff;}#sk-container-id-6 input.sk-hidden--visually {border: 0;clip: rect(1px 1px 1px 1px);clip: rect(1px, 1px, 1px, 1px);height: 1px;margin: -1px;overflow: hidden;padding: 0;position: absolute;width: 1px;}#sk-container-id-6 div.sk-estimator {font-family: monospace;background-color: #f0f8ff;border: 1px dotted black;border-radius: 0.25em;box-sizing: border-box;margin-bottom: 0.5em;}#sk-container-id-6 div.sk-estimator:hover {background-color: #d4ebff;}#sk-container-id-6 div.sk-parallel-item::after {content: \"\";width: 100%;border-bottom: 1px solid gray;flex-grow: 1;}#sk-container-id-6 div.sk-label:hover label.sk-toggleable__label {background-color: #d4ebff;}#sk-container-id-6 div.sk-serial::before {content: \"\";position: absolute;border-left: 1px solid gray;box-sizing: border-box;top: 0;bottom: 0;left: 50%;z-index: 0;}#sk-container-id-6 div.sk-serial {display: flex;flex-direction: column;align-items: center;background-color: white;padding-right: 0.2em;padding-left: 0.2em;position: relative;}#sk-container-id-6 div.sk-item {position: relative;z-index: 1;}#sk-container-id-6 div.sk-parallel {display: flex;align-items: stretch;justify-content: center;background-color: white;position: relative;}#sk-container-id-6 div.sk-item::before, #sk-container-id-6 div.sk-parallel-item::before {content: \"\";position: absolute;border-left: 1px solid gray;box-sizing: border-box;top: 0;bottom: 0;left: 50%;z-index: -1;}#sk-container-id-6 div.sk-parallel-item {display: flex;flex-direction: column;z-index: 1;position: relative;background-color: white;}#sk-container-id-6 div.sk-parallel-item:first-child::after {align-self: flex-end;width: 50%;}#sk-container-id-6 div.sk-parallel-item:last-child::after {align-self: flex-start;width: 50%;}#sk-container-id-6 div.sk-parallel-item:only-child::after {width: 0;}#sk-container-id-6 div.sk-dashed-wrapped {border: 1px dashed gray;margin: 0 0.4em 0.5em 0.4em;box-sizing: border-box;padding-bottom: 0.4em;background-color: white;}#sk-container-id-6 div.sk-label label {font-family: monospace;font-weight: bold;display: inline-block;line-height: 1.2em;}#sk-container-id-6 div.sk-label-container {text-align: center;}#sk-container-id-6 div.sk-container {/* jupyter's `normalize.less` sets `[hidden] { display: none; }` but bootstrap.min.css set `[hidden] { display: none !important; }` so we also need the `!important` here to be able to override the default hidden behavior on the sphinx rendered scikit-learn.org. See: https://github.com/scikit-learn/scikit-learn/issues/21755 */display: inline-block !important;position: relative;}#sk-container-id-6 div.sk-text-repr-fallback {display: none;}</style><div id=\"sk-container-id-6\" class=\"sk-top-container\"><div class=\"sk-text-repr-fallback\"><pre>RandomForestClassifier(max_depth=80, max_features=&#x27;auto&#x27;, n_estimators=500)</pre><b>In a Jupyter environment, please rerun this cell to show the HTML representation or trust the notebook. <br />On GitHub, the HTML representation is unable to render, please try loading this page with nbviewer.org.</b></div><div class=\"sk-container\" hidden><div class=\"sk-item\"><div class=\"sk-estimator sk-toggleable\"><input class=\"sk-toggleable__control sk-hidden--visually\" id=\"sk-estimator-id-10\" type=\"checkbox\" checked><label for=\"sk-estimator-id-10\" class=\"sk-toggleable__label sk-toggleable__label-arrow\">RandomForestClassifier</label><div class=\"sk-toggleable__content\"><pre>RandomForestClassifier(max_depth=80, max_features=&#x27;auto&#x27;, n_estimators=500)</pre></div></div></div></div></div>"
      ],
      "text/plain": [
       "RandomForestClassifier(max_depth=80, max_features='auto', n_estimators=500)"
      ]
     },
     "execution_count": 53,
     "metadata": {},
     "output_type": "execute_result"
    }
   ],
   "source": [
    "best_RF_GCV=RandomForestClassifier(max_depth=80, n_estimators=500,max_features='auto')\n",
    "best_RF_GCV.fit(X_up, Y_up)"
   ]
  },
  {
   "cell_type": "code",
   "execution_count": 58,
   "id": "d0a5e071",
   "metadata": {},
   "outputs": [],
   "source": [
    "y_pred_RF_GCV = best_RF_GCV.predict(X_test)"
   ]
  },
  {
   "cell_type": "code",
   "execution_count": 59,
   "id": "57d73daf",
   "metadata": {},
   "outputs": [
    {
     "name": "stdout",
     "output_type": "stream",
     "text": [
      "Accuracy Score: 0.6733314559279077\n",
      "Precision (Macro): 0.6071173514733581\n",
      "Recall (Macro): 0.5841909591163709\n",
      "F1 Score (Macro): 0.593332772731113\n",
      "Confusion Matrix:\n",
      "[[  21   41    4    5    0    2]\n",
      " [  28  593  129   93    4    0]\n",
      " [   1  157  251  156    5    5]\n",
      " [   2   55  113 1048   77   32]\n",
      " [   0    2    1  110  171   54]\n",
      " [   0    0    0   23   61  307]]\n",
      "\n",
      "Classification Report:\n",
      "               precision    recall  f1-score   support\n",
      "\n",
      "           0       0.40      0.29      0.34        73\n",
      "           1       0.70      0.70      0.70       847\n",
      "           2       0.50      0.44      0.47       575\n",
      "           3       0.73      0.79      0.76      1327\n",
      "           4       0.54      0.51      0.52       338\n",
      "           5       0.77      0.79      0.78       391\n",
      "\n",
      "    accuracy                           0.67      3551\n",
      "   macro avg       0.61      0.58      0.59      3551\n",
      "weighted avg       0.67      0.67      0.67      3551\n",
      "\n"
     ]
    }
   ],
   "source": [
    "\n",
    "\n",
    "acc = accuracy_score(y_test, y_pred_RF_GCV)\n",
    "prec_macro = precision_score(y_test,y_pred_RF_GCV, average='macro')\n",
    "recall_macro = recall_score(y_test, y_pred_RF_GCV, average='macro')\n",
    "f1_macro = f1_score(y_test,y_pred_RF_GCV, average='macro')\n",
    "classification_rep_RF_GCV = classification_report(y_test,y_pred_RF_GCV)\n",
    "print(\"Accuracy Score:\", acc)\n",
    "print(\"Precision (Macro):\", prec_macro)\n",
    "print(\"Recall (Macro):\", recall_macro)\n",
    "print(\"F1 Score (Macro):\", f1_macro)\n",
    "\n",
    "# Confusion Matrix\n",
    "cf_matrix_RF_gcv = confusion_matrix(y_test, y_pred_RF_GCV)\n",
    "print(\"Confusion Matrix:\")\n",
    "print(cf_matrix_RF_gcv)\n",
    "print(\"\\nClassification Report:\\n\", classification_rep_RF_GCV)"
   ]
  },
  {
   "cell_type": "code",
   "execution_count": 60,
   "id": "daa1dee6",
   "metadata": {},
   "outputs": [],
   "source": [
    "y_pred_RF_GCV_train = best_RF_GCV.predict(X_up)"
   ]
  },
  {
   "cell_type": "code",
   "execution_count": 61,
   "id": "2fe69f53",
   "metadata": {},
   "outputs": [
    {
     "name": "stdout",
     "output_type": "stream",
     "text": [
      "Accuracy Score: 1.0\n",
      "Precision (Macro): 1.0\n",
      "Recall (Macro): 1.0\n",
      "F1 Score (Macro): 1.0\n",
      "Confusion Matrix:\n",
      "[[3221    0    0    0    0    0]\n",
      " [   0 3221    0    0    0    0]\n",
      " [   0    0 3221    0    0    0]\n",
      " [   0    0    0 3221    0    0]\n",
      " [   0    0    0    0 3221    0]\n",
      " [   0    0    0    0    0 3221]]\n",
      "\n",
      "Classification Report:\n",
      "               precision    recall  f1-score   support\n",
      "\n",
      "           0       1.00      1.00      1.00      3221\n",
      "           1       1.00      1.00      1.00      3221\n",
      "           2       1.00      1.00      1.00      3221\n",
      "           3       1.00      1.00      1.00      3221\n",
      "           4       1.00      1.00      1.00      3221\n",
      "           5       1.00      1.00      1.00      3221\n",
      "\n",
      "    accuracy                           1.00     19326\n",
      "   macro avg       1.00      1.00      1.00     19326\n",
      "weighted avg       1.00      1.00      1.00     19326\n",
      "\n"
     ]
    }
   ],
   "source": [
    "acc1 = accuracy_score(Y_up, y_pred_RF_GCV_train)\n",
    "prec_macro1 = precision_score(Y_up,y_pred_RF_GCV_train, average='macro')\n",
    "recall_macro1 = recall_score(Y_up, y_pred_RF_GCV_train, average='macro')\n",
    "f1_macro1 = f1_score(Y_up,y_pred_RF_GCV_train, average='macro')\n",
    "classification_rep_RF_GCV_Train = classification_report(Y_up,y_pred_RF_GCV_train)\n",
    "print(\"Accuracy Score:\", acc1)\n",
    "print(\"Precision (Macro):\", prec_macro1)\n",
    "print(\"Recall (Macro):\", recall_macro1)\n",
    "print(\"F1 Score (Macro):\", f1_macro1)\n",
    "\n",
    "# Confusion Matrix\n",
    "cf_matrix_RF_gcv_train = confusion_matrix(Y_up, y_pred_RF_GCV_train)\n",
    "print(\"Confusion Matrix:\")\n",
    "print(cf_matrix_RF_gcv_train)\n",
    "print(\"\\nClassification Report:\\n\", classification_rep_RF_GCV_Train)"
   ]
  },
  {
   "cell_type": "code",
   "execution_count": null,
   "id": "94397681",
   "metadata": {},
   "outputs": [],
   "source": []
  },
  {
   "cell_type": "code",
   "execution_count": null,
   "id": "32f683ad",
   "metadata": {},
   "outputs": [],
   "source": []
  },
  {
   "cell_type": "code",
   "execution_count": null,
   "id": "62581429",
   "metadata": {},
   "outputs": [],
   "source": []
  }
 ],
 "metadata": {
  "kernelspec": {
   "display_name": "Python 3 (ipykernel)",
   "language": "python",
   "name": "python3"
  },
  "language_info": {
   "codemirror_mode": {
    "name": "ipython",
    "version": 3
   },
   "file_extension": ".py",
   "mimetype": "text/x-python",
   "name": "python",
   "nbconvert_exporter": "python",
   "pygments_lexer": "ipython3",
   "version": "3.11.3"
  }
 },
 "nbformat": 4,
 "nbformat_minor": 5
}
