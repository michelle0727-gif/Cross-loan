{
 "cells": [
  {
   "cell_type": "code",
   "execution_count": 1,
   "id": "b5d36d2e",
   "metadata": {},
   "outputs": [],
   "source": [
    "import pandas as pd\n",
    "import numpy as np\n",
    "import matplotlib.pyplot as plt\n"
   ]
  },
  {
   "cell_type": "code",
   "execution_count": 2,
   "id": "da800089",
   "metadata": {},
   "outputs": [],
   "source": [
    "pd.set_option(\"display.max_columns\", None)\n",
    "pd.set_option(\"display.max_rows\", None)"
   ]
  },
  {
   "cell_type": "code",
   "execution_count": 3,
   "id": "144a12d9",
   "metadata": {},
   "outputs": [],
   "source": [
    "encodings_to_try = ['utf-8-sig', 'latin-1', 'ISO-8859-1']\n",
    "\n",
    "for encoding in encodings_to_try:\n",
    "    try:\n",
    "        df = pd.read_csv(\"C:/Users/15694/Desktop/Cross selling/code/Michelle/variable_without_pca2.csv\", encoding=encoding)\n",
    "        break\n",
    "    except UnicodeDecodeError:\n",
    "        continue"
   ]
  },
  {
   "cell_type": "code",
   "execution_count": 4,
   "id": "e6ff191a",
   "metadata": {},
   "outputs": [
    {
     "data": {
      "text/html": [
       "<div>\n",
       "<style scoped>\n",
       "    .dataframe tbody tr th:only-of-type {\n",
       "        vertical-align: middle;\n",
       "    }\n",
       "\n",
       "    .dataframe tbody tr th {\n",
       "        vertical-align: top;\n",
       "    }\n",
       "\n",
       "    .dataframe thead th {\n",
       "        text-align: right;\n",
       "    }\n",
       "</style>\n",
       "<table border=\"1\" class=\"dataframe\">\n",
       "  <thead>\n",
       "    <tr style=\"text-align: right;\">\n",
       "      <th></th>\n",
       "      <th>SIX_MONTH_BAL_OS_SAVINGS</th>\n",
       "      <th>SIX_MONTH_BAL_OS_CURRENT</th>\n",
       "      <th>SIX_MONTH_BAL_OS_FD</th>\n",
       "      <th>SIX_MONTH_BAL_OS_LEASING</th>\n",
       "      <th>SIX_MONTH_BAL_OS_CARD</th>\n",
       "      <th>SIX_MONTH_BAL_OS_OD</th>\n",
       "      <th>TOTAL_AVG_BAL</th>\n",
       "      <th>FD_AMOUNT_UNDER_LIEN</th>\n",
       "      <th>CURRENT_AMOUNT_UNDER_LIEN</th>\n",
       "      <th>SAVINGS_AMOUNT_UNDER_LIEN</th>\n",
       "      <th>CUSTOMER_PROFITABILITY</th>\n",
       "      <th>NO_OF_ASSERT_ACCOUNTS</th>\n",
       "      <th>NO_OF_LIABILITY_ACCOUNTS</th>\n",
       "      <th>CR_DR_Usage</th>\n",
       "      <th>NPA_FLAG</th>\n",
       "      <th>LOAN_CAT1</th>\n",
       "    </tr>\n",
       "  </thead>\n",
       "  <tbody>\n",
       "    <tr>\n",
       "      <th>0</th>\n",
       "      <td>0.042612</td>\n",
       "      <td>-0.048785</td>\n",
       "      <td>-0.053259</td>\n",
       "      <td>-0.134894</td>\n",
       "      <td>-0.155864</td>\n",
       "      <td>-0.075719</td>\n",
       "      <td>-0.062581</td>\n",
       "      <td>-0.023629</td>\n",
       "      <td>-0.044929</td>\n",
       "      <td>-0.056843</td>\n",
       "      <td>-0.003142</td>\n",
       "      <td>0.397017</td>\n",
       "      <td>1.805905</td>\n",
       "      <td>0.051895</td>\n",
       "      <td>0</td>\n",
       "      <td>3</td>\n",
       "    </tr>\n",
       "    <tr>\n",
       "      <th>1</th>\n",
       "      <td>-0.091396</td>\n",
       "      <td>-0.048785</td>\n",
       "      <td>0.066148</td>\n",
       "      <td>-0.134894</td>\n",
       "      <td>-0.297359</td>\n",
       "      <td>-0.075719</td>\n",
       "      <td>-0.050164</td>\n",
       "      <td>-0.023629</td>\n",
       "      <td>-0.044929</td>\n",
       "      <td>-0.056843</td>\n",
       "      <td>-0.010305</td>\n",
       "      <td>-0.623858</td>\n",
       "      <td>0.600067</td>\n",
       "      <td>-0.067204</td>\n",
       "      <td>0</td>\n",
       "      <td>3</td>\n",
       "    </tr>\n",
       "    <tr>\n",
       "      <th>2</th>\n",
       "      <td>-0.076329</td>\n",
       "      <td>-0.048785</td>\n",
       "      <td>0.031772</td>\n",
       "      <td>-0.134894</td>\n",
       "      <td>1.262271</td>\n",
       "      <td>-0.059430</td>\n",
       "      <td>-0.065534</td>\n",
       "      <td>-0.023629</td>\n",
       "      <td>-0.044929</td>\n",
       "      <td>-0.056843</td>\n",
       "      <td>-0.006337</td>\n",
       "      <td>1.417891</td>\n",
       "      <td>1.805905</td>\n",
       "      <td>-0.023470</td>\n",
       "      <td>0</td>\n",
       "      <td>0</td>\n",
       "    </tr>\n",
       "    <tr>\n",
       "      <th>3</th>\n",
       "      <td>-0.101346</td>\n",
       "      <td>-0.048785</td>\n",
       "      <td>0.308069</td>\n",
       "      <td>-0.134894</td>\n",
       "      <td>-0.297359</td>\n",
       "      <td>-0.075719</td>\n",
       "      <td>-0.010893</td>\n",
       "      <td>-0.023629</td>\n",
       "      <td>-0.044929</td>\n",
       "      <td>-0.056843</td>\n",
       "      <td>0.017446</td>\n",
       "      <td>-0.623858</td>\n",
       "      <td>0.198120</td>\n",
       "      <td>-0.067204</td>\n",
       "      <td>0</td>\n",
       "      <td>3</td>\n",
       "    </tr>\n",
       "    <tr>\n",
       "      <th>4</th>\n",
       "      <td>-0.013879</td>\n",
       "      <td>-0.048785</td>\n",
       "      <td>-0.071656</td>\n",
       "      <td>-0.134894</td>\n",
       "      <td>-0.297359</td>\n",
       "      <td>-0.075719</td>\n",
       "      <td>-0.053618</td>\n",
       "      <td>-0.023629</td>\n",
       "      <td>-0.044929</td>\n",
       "      <td>-0.056843</td>\n",
       "      <td>-0.004448</td>\n",
       "      <td>-0.623858</td>\n",
       "      <td>-0.203826</td>\n",
       "      <td>-0.067204</td>\n",
       "      <td>1</td>\n",
       "      <td>4</td>\n",
       "    </tr>\n",
       "  </tbody>\n",
       "</table>\n",
       "</div>"
      ],
      "text/plain": [
       "   SIX_MONTH_BAL_OS_SAVINGS  SIX_MONTH_BAL_OS_CURRENT  SIX_MONTH_BAL_OS_FD  \\\n",
       "0                  0.042612                 -0.048785            -0.053259   \n",
       "1                 -0.091396                 -0.048785             0.066148   \n",
       "2                 -0.076329                 -0.048785             0.031772   \n",
       "3                 -0.101346                 -0.048785             0.308069   \n",
       "4                 -0.013879                 -0.048785            -0.071656   \n",
       "\n",
       "   SIX_MONTH_BAL_OS_LEASING  SIX_MONTH_BAL_OS_CARD  SIX_MONTH_BAL_OS_OD  \\\n",
       "0                 -0.134894              -0.155864            -0.075719   \n",
       "1                 -0.134894              -0.297359            -0.075719   \n",
       "2                 -0.134894               1.262271            -0.059430   \n",
       "3                 -0.134894              -0.297359            -0.075719   \n",
       "4                 -0.134894              -0.297359            -0.075719   \n",
       "\n",
       "   TOTAL_AVG_BAL  FD_AMOUNT_UNDER_LIEN  CURRENT_AMOUNT_UNDER_LIEN  \\\n",
       "0      -0.062581             -0.023629                  -0.044929   \n",
       "1      -0.050164             -0.023629                  -0.044929   \n",
       "2      -0.065534             -0.023629                  -0.044929   \n",
       "3      -0.010893             -0.023629                  -0.044929   \n",
       "4      -0.053618             -0.023629                  -0.044929   \n",
       "\n",
       "   SAVINGS_AMOUNT_UNDER_LIEN  CUSTOMER_PROFITABILITY  NO_OF_ASSERT_ACCOUNTS  \\\n",
       "0                  -0.056843               -0.003142               0.397017   \n",
       "1                  -0.056843               -0.010305              -0.623858   \n",
       "2                  -0.056843               -0.006337               1.417891   \n",
       "3                  -0.056843                0.017446              -0.623858   \n",
       "4                  -0.056843               -0.004448              -0.623858   \n",
       "\n",
       "   NO_OF_LIABILITY_ACCOUNTS  CR_DR_Usage  NPA_FLAG  LOAN_CAT1  \n",
       "0                  1.805905     0.051895         0          3  \n",
       "1                  0.600067    -0.067204         0          3  \n",
       "2                  1.805905    -0.023470         0          0  \n",
       "3                  0.198120    -0.067204         0          3  \n",
       "4                 -0.203826    -0.067204         1          4  "
      ]
     },
     "execution_count": 4,
     "metadata": {},
     "output_type": "execute_result"
    }
   ],
   "source": [
    "df.head()"
   ]
  },
  {
   "cell_type": "code",
   "execution_count": 5,
   "id": "7a049c3a",
   "metadata": {},
   "outputs": [
    {
     "data": {
      "text/plain": [
       "Index(['SIX_MONTH_BAL_OS_SAVINGS', 'SIX_MONTH_BAL_OS_CURRENT',\n",
       "       'SIX_MONTH_BAL_OS_FD', 'SIX_MONTH_BAL_OS_LEASING',\n",
       "       'SIX_MONTH_BAL_OS_CARD', 'SIX_MONTH_BAL_OS_OD', 'TOTAL_AVG_BAL',\n",
       "       'FD_AMOUNT_UNDER_LIEN', 'CURRENT_AMOUNT_UNDER_LIEN',\n",
       "       'SAVINGS_AMOUNT_UNDER_LIEN', 'CUSTOMER_PROFITABILITY',\n",
       "       'NO_OF_ASSERT_ACCOUNTS', 'NO_OF_LIABILITY_ACCOUNTS', 'CR_DR_Usage',\n",
       "       'NPA_FLAG', 'LOAN_CAT1'],\n",
       "      dtype='object')"
      ]
     },
     "execution_count": 5,
     "metadata": {},
     "output_type": "execute_result"
    }
   ],
   "source": [
    "df.columns"
   ]
  },
  {
   "cell_type": "code",
   "execution_count": 6,
   "id": "c602b689",
   "metadata": {},
   "outputs": [
    {
     "data": {
      "text/plain": [
       "(11836, 16)"
      ]
     },
     "execution_count": 6,
     "metadata": {},
     "output_type": "execute_result"
    }
   ],
   "source": [
    "df.shape"
   ]
  },
  {
   "cell_type": "code",
   "execution_count": 7,
   "id": "a566fe31",
   "metadata": {},
   "outputs": [
    {
     "data": {
      "text/plain": [
       "SIX_MONTH_BAL_OS_SAVINGS     0\n",
       "SIX_MONTH_BAL_OS_CURRENT     0\n",
       "SIX_MONTH_BAL_OS_FD          0\n",
       "SIX_MONTH_BAL_OS_LEASING     0\n",
       "SIX_MONTH_BAL_OS_CARD        0\n",
       "SIX_MONTH_BAL_OS_OD          0\n",
       "TOTAL_AVG_BAL                0\n",
       "FD_AMOUNT_UNDER_LIEN         0\n",
       "CURRENT_AMOUNT_UNDER_LIEN    0\n",
       "SAVINGS_AMOUNT_UNDER_LIEN    0\n",
       "CUSTOMER_PROFITABILITY       0\n",
       "NO_OF_ASSERT_ACCOUNTS        0\n",
       "NO_OF_LIABILITY_ACCOUNTS     0\n",
       "CR_DR_Usage                  0\n",
       "NPA_FLAG                     0\n",
       "LOAN_CAT1                    0\n",
       "dtype: int64"
      ]
     },
     "execution_count": 7,
     "metadata": {},
     "output_type": "execute_result"
    }
   ],
   "source": [
    "df.isna().sum()"
   ]
  },
  {
   "cell_type": "code",
   "execution_count": 8,
   "id": "b6fce958",
   "metadata": {},
   "outputs": [],
   "source": [
    "df1=df[[\"TOTAL_AVG_BAL\",\"CUSTOMER_PROFITABILITY\",\"SIX_MONTH_BAL_OS_FD\",\"SIX_MONTH_BAL_OS_SAVINGS\"\n",
    "        ,\"LOAN_CAT1\"]]"
   ]
  },
  {
   "cell_type": "code",
   "execution_count": 9,
   "id": "230a2e40",
   "metadata": {},
   "outputs": [],
   "source": [
    "X = df1.drop(columns=[\"LOAN_CAT1\"])\n",
    "Y = df1[\"LOAN_CAT1\"]"
   ]
  },
  {
   "cell_type": "code",
   "execution_count": 10,
   "id": "82628549",
   "metadata": {},
   "outputs": [],
   "source": [
    "from sklearn.model_selection import train_test_split\n",
    "from sklearn.metrics import accuracy_score,precision_score,recall_score, f1_score,  classification_report, confusion_matrix\n"
   ]
  },
  {
   "cell_type": "code",
   "execution_count": 11,
   "id": "f1dbdc09",
   "metadata": {},
   "outputs": [],
   "source": [
    "train_set, test_set = train_test_split(df1, test_size=0.3, random_state=0)\n",
    "train_df = pd.DataFrame(train_set)\n",
    "test_df = pd.DataFrame(test_set)"
   ]
  },
  {
   "cell_type": "code",
   "execution_count": 12,
   "id": "3c1d6fbd",
   "metadata": {},
   "outputs": [
    {
     "data": {
      "text/plain": [
       "((185, 5), (2006, 5), (1246, 5), (3221, 5), (796, 5), (831, 5))"
      ]
     },
     "execution_count": 12,
     "metadata": {},
     "output_type": "execute_result"
    }
   ],
   "source": [
    "df_cat_0 = train_df[train_df.LOAN_CAT1==0]\n",
    "df_cat_1 = train_df[train_df.LOAN_CAT1==1]\n",
    "df_cat_2 = train_df[train_df.LOAN_CAT1==2]\n",
    "df_cat_3 = train_df[train_df.LOAN_CAT1==3]\n",
    "df_cat_4 = train_df[train_df.LOAN_CAT1==4]\n",
    "df_cat_5 = train_df[train_df.LOAN_CAT1==5]\n",
    "df_cat_0.shape,df_cat_1.shape,df_cat_2.shape,df_cat_3.shape,df_cat_4.shape,df_cat_5.shape"
   ]
  },
  {
   "cell_type": "code",
   "execution_count": 13,
   "id": "5016025d",
   "metadata": {},
   "outputs": [],
   "source": [
    "##### The data set is imbalanced"
   ]
  },
  {
   "cell_type": "code",
   "execution_count": 14,
   "id": "2d93d801",
   "metadata": {},
   "outputs": [
    {
     "data": {
      "text/plain": [
       "((8285, 4), (8285,))"
      ]
     },
     "execution_count": 14,
     "metadata": {},
     "output_type": "execute_result"
    }
   ],
   "source": [
    "\n",
    "X_train = train_df.drop(columns=[\"LOAN_CAT1\"])\n",
    "y_train = train_df[\"LOAN_CAT1\"]\n",
    "X_train.shape, y_train.shape"
   ]
  },
  {
   "cell_type": "code",
   "execution_count": 15,
   "id": "1b95384c",
   "metadata": {},
   "outputs": [
    {
     "data": {
      "text/plain": [
       "((3551, 4), (3551,))"
      ]
     },
     "execution_count": 15,
     "metadata": {},
     "output_type": "execute_result"
    }
   ],
   "source": [
    "X_test = test_df.drop(columns=[\"LOAN_CAT1\"])\n",
    "y_test = test_df[\"LOAN_CAT1\"]\n",
    "X_test.shape, y_test.shape"
   ]
  },
  {
   "cell_type": "markdown",
   "id": "5b885346",
   "metadata": {},
   "source": []
  },
  {
   "cell_type": "code",
   "execution_count": 16,
   "id": "a92e872c",
   "metadata": {},
   "outputs": [],
   "source": [
    "from sklearn.utils import resample"
   ]
  },
  {
   "cell_type": "code",
   "execution_count": 17,
   "id": "2500bcc0",
   "metadata": {},
   "outputs": [],
   "source": [
    "df_majority = train_df[train_df[\"LOAN_CAT1\"] == 3]\n",
    "df_minority_1 = train_df[train_df[\"LOAN_CAT1\"] == 0]\n",
    "df_minority_2 = train_df[train_df[\"LOAN_CAT1\"] == 1]\n",
    "df_minority_3 = train_df[train_df[\"LOAN_CAT1\"] == 2]\n",
    "df_minority_4 = train_df[train_df[\"LOAN_CAT1\"] == 4]\n",
    "df_minority_5 = train_df[train_df[\"LOAN_CAT1\"] == 5]\n",
    "df_minority_6 = train_df[train_df[\"LOAN_CAT1\"] == 6]"
   ]
  },
  {
   "cell_type": "markdown",
   "id": "fa44f6bc",
   "metadata": {},
   "source": [
    "## oversampling"
   ]
  },
  {
   "cell_type": "code",
   "execution_count": 18,
   "id": "0d887295",
   "metadata": {},
   "outputs": [],
   "source": [
    "from sklearn.utils import resample\n",
    "df_minority_1_upsampled = resample(df_minority_1, replace=True, n_samples=len(df_majority), random_state=42)\n",
    "df_minority_2_upsampled = resample(df_minority_2, replace=True, n_samples=len(df_majority), random_state=42)\n",
    "df_minority_3_upsampled = resample(df_minority_3, replace=True, n_samples=len(df_majority), random_state=42)\n",
    "df_minority_4_upsampled = resample(df_minority_4, replace=True, n_samples=len(df_majority), random_state=42)\n",
    "df_minority_5_upsampled = resample(df_minority_5, replace=True, n_samples=len(df_majority), random_state=42)"
   ]
  },
  {
   "cell_type": "code",
   "execution_count": 19,
   "id": "7cfa626f",
   "metadata": {},
   "outputs": [],
   "source": [
    "train_upsampled = pd.concat([df_majority,\n",
    "                             df_minority_1_upsampled,\n",
    "                             df_minority_2_upsampled,\n",
    "                             df_minority_3_upsampled,\n",
    "                             df_minority_4_upsampled,\n",
    "                             df_minority_5_upsampled,\n",
    "                             ])"
   ]
  },
  {
   "cell_type": "code",
   "execution_count": 20,
   "id": "12851e21",
   "metadata": {},
   "outputs": [
    {
     "data": {
      "text/plain": [
       "3    3221\n",
       "0    3221\n",
       "1    3221\n",
       "2    3221\n",
       "4    3221\n",
       "5    3221\n",
       "Name: LOAN_CAT1, dtype: int64"
      ]
     },
     "execution_count": 20,
     "metadata": {},
     "output_type": "execute_result"
    }
   ],
   "source": [
    "train_upsampled[\"LOAN_CAT1\"].value_counts()"
   ]
  },
  {
   "cell_type": "code",
   "execution_count": 21,
   "id": "f3e0de1e",
   "metadata": {},
   "outputs": [
    {
     "data": {
      "text/plain": [
       "((19326, 4), (3551, 4), (19326,), (3551,))"
      ]
     },
     "execution_count": 21,
     "metadata": {},
     "output_type": "execute_result"
    }
   ],
   "source": [
    "X_up = train_upsampled.drop(\"LOAN_CAT1\", axis=1)\n",
    "Y_up = train_upsampled[\"LOAN_CAT1\"]\n",
    "\n",
    "X_up.shape, X_test.shape,Y_up.shape, y_test.shape"
   ]
  },
  {
   "cell_type": "markdown",
   "id": "f29e470f",
   "metadata": {},
   "source": [
    "### Tree based models"
   ]
  },
  {
   "cell_type": "code",
   "execution_count": null,
   "id": "381c8686",
   "metadata": {},
   "outputs": [],
   "source": []
  },
  {
   "cell_type": "markdown",
   "id": "09cc8809",
   "metadata": {},
   "source": [
    "###### Decision Tree"
   ]
  },
  {
   "cell_type": "code",
   "execution_count": 22,
   "id": "e46dd508",
   "metadata": {},
   "outputs": [],
   "source": [
    "from sklearn import tree\n",
    "from sklearn.tree import DecisionTreeClassifier"
   ]
  },
  {
   "cell_type": "code",
   "execution_count": 23,
   "id": "f895c613",
   "metadata": {},
   "outputs": [],
   "source": [
    "decision_tree = DecisionTreeClassifier(random_state=0)\n",
    "decision_tree.fit(X_up, Y_up)\n",
    "y_pred_DT = decision_tree.predict(X_test)"
   ]
  },
  {
   "cell_type": "code",
   "execution_count": 24,
   "id": "717a1b0a",
   "metadata": {},
   "outputs": [
    {
     "name": "stdout",
     "output_type": "stream",
     "text": [
      "Accuracy Score: 0.6054632497887918\n",
      "Precision (Macro): 0.5290720492246609\n",
      "Recall (Macro): 0.5217965309400422\n",
      "F1 Score (Macro): 0.5247026099838267\n",
      "Confusion Matrix:\n",
      "[[ 20  33   9   8   2   1]\n",
      " [ 45 511 168 116   5   2]\n",
      " [  7 143 243 168   8   6]\n",
      " [  7  70 142 967  94  47]\n",
      " [  2   7  11 133 140  45]\n",
      " [  0   2   4  47  69 269]]\n",
      "\n",
      "Classification Report:\n",
      "               precision    recall  f1-score   support\n",
      "\n",
      "           0       0.25      0.27      0.26        73\n",
      "           1       0.67      0.60      0.63       847\n",
      "           2       0.42      0.42      0.42       575\n",
      "           3       0.67      0.73      0.70      1327\n",
      "           4       0.44      0.41      0.43       338\n",
      "           5       0.73      0.69      0.71       391\n",
      "\n",
      "    accuracy                           0.61      3551\n",
      "   macro avg       0.53      0.52      0.52      3551\n",
      "weighted avg       0.61      0.61      0.60      3551\n",
      "\n"
     ]
    }
   ],
   "source": [
    "acc = accuracy_score(y_test, y_pred_DT)\n",
    "prec_macro = precision_score(y_test, y_pred_DT, average='macro')\n",
    "recall_macro = recall_score(y_test, y_pred_DT, average='macro')\n",
    "f1_macro = f1_score(y_test, y_pred_DT, average='macro')\n",
    "classification_rep = classification_report(y_test, y_pred_DT)\n",
    "print(\"Accuracy Score:\", acc)\n",
    "print(\"Precision (Macro):\", prec_macro)\n",
    "print(\"Recall (Macro):\", recall_macro)\n",
    "print(\"F1 Score (Macro):\", f1_macro)\n",
    "\n",
    "# Confusion Matrix\n",
    "cf_matrix = confusion_matrix(y_test, y_pred_DT)\n",
    "print(\"Confusion Matrix:\")\n",
    "print(cf_matrix)\n",
    "print(\"\\nClassification Report:\\n\", classification_rep)"
   ]
  },
  {
   "cell_type": "code",
   "execution_count": 25,
   "id": "f5a89775",
   "metadata": {},
   "outputs": [],
   "source": [
    "\n",
    "y_pred_train_DT = decision_tree.predict(X_up)"
   ]
  },
  {
   "cell_type": "code",
   "execution_count": 26,
   "id": "94685302",
   "metadata": {},
   "outputs": [
    {
     "name": "stdout",
     "output_type": "stream",
     "text": [
      "Accuracy Score: 1.0\n",
      "Precision (Macro): 1.0\n",
      "Recall (Macro): 1.0\n",
      "F1 Score (Macro): 1.0\n",
      "Confusion Matrix:\n",
      "[[3221    0    0    0    0    0]\n",
      " [   0 3221    0    0    0    0]\n",
      " [   0    0 3221    0    0    0]\n",
      " [   0    0    0 3221    0    0]\n",
      " [   0    0    0    0 3221    0]\n",
      " [   0    0    0    0    0 3221]]\n",
      "\n",
      "Classification Report:\n",
      "               precision    recall  f1-score   support\n",
      "\n",
      "           0       1.00      1.00      1.00      3221\n",
      "           1       1.00      1.00      1.00      3221\n",
      "           2       1.00      1.00      1.00      3221\n",
      "           3       1.00      1.00      1.00      3221\n",
      "           4       1.00      1.00      1.00      3221\n",
      "           5       1.00      1.00      1.00      3221\n",
      "\n",
      "    accuracy                           1.00     19326\n",
      "   macro avg       1.00      1.00      1.00     19326\n",
      "weighted avg       1.00      1.00      1.00     19326\n",
      "\n"
     ]
    }
   ],
   "source": [
    "acc = accuracy_score(Y_up, y_pred_train_DT)\n",
    "prec_macro = precision_score(Y_up, y_pred_train_DT, average='macro')\n",
    "recall_macro = recall_score(Y_up, y_pred_train_DT, average='macro')\n",
    "f1_macro = f1_score(Y_up, y_pred_train_DT, average='macro')\n",
    "classification_rep_DT = classification_report(Y_up,y_pred_train_DT)\n",
    "print(\"Accuracy Score:\", acc)\n",
    "print(\"Precision (Macro):\", prec_macro)\n",
    "print(\"Recall (Macro):\", recall_macro)\n",
    "print(\"F1 Score (Macro):\", f1_macro)\n",
    "\n",
    "# Confusion Matrix\n",
    "cf_matrix_DT = confusion_matrix(Y_up, y_pred_train_DT)\n",
    "print(\"Confusion Matrix:\")\n",
    "print(cf_matrix_DT)\n",
    "print(\"\\nClassification Report:\\n\", classification_rep_DT)"
   ]
  },
  {
   "cell_type": "markdown",
   "id": "cb5144e5",
   "metadata": {},
   "source": [
    "##### pre pruning"
   ]
  },
  {
   "cell_type": "code",
   "execution_count": 27,
   "id": "ccd4bc89",
   "metadata": {},
   "outputs": [],
   "source": [
    "from sklearn.model_selection import GridSearchCV"
   ]
  },
  {
   "cell_type": "code",
   "execution_count": 28,
   "id": "e9c41ced",
   "metadata": {},
   "outputs": [],
   "source": [
    "param_grid = {\n",
    "        'max_depth': range(2,50,1),\n",
    "         'min_samples_split': range(1,5,1),\n",
    "         'min_samples_leaf': range(2,5,1)}"
   ]
  },
  {
   "cell_type": "code",
   "execution_count": 29,
   "id": "dfe17ebd",
   "metadata": {},
   "outputs": [
    {
     "name": "stderr",
     "output_type": "stream",
     "text": [
      "C:\\ProgramData\\anaconda3\\Lib\\site-packages\\sklearn\\model_selection\\_validation.py:378: FitFailedWarning: \n",
      "720 fits failed out of a total of 2880.\n",
      "The score on these train-test partitions for these parameters will be set to nan.\n",
      "If these failures are not expected, you can try to debug them by setting error_score='raise'.\n",
      "\n",
      "Below are more details about the failures:\n",
      "--------------------------------------------------------------------------------\n",
      "720 fits failed with the following error:\n",
      "Traceback (most recent call last):\n",
      "  File \"C:\\ProgramData\\anaconda3\\Lib\\site-packages\\sklearn\\model_selection\\_validation.py\", line 686, in _fit_and_score\n",
      "    estimator.fit(X_train, y_train, **fit_params)\n",
      "  File \"C:\\ProgramData\\anaconda3\\Lib\\site-packages\\sklearn\\tree\\_classes.py\", line 889, in fit\n",
      "    super().fit(\n",
      "  File \"C:\\ProgramData\\anaconda3\\Lib\\site-packages\\sklearn\\tree\\_classes.py\", line 177, in fit\n",
      "    self._validate_params()\n",
      "  File \"C:\\ProgramData\\anaconda3\\Lib\\site-packages\\sklearn\\base.py\", line 600, in _validate_params\n",
      "    validate_parameter_constraints(\n",
      "  File \"C:\\ProgramData\\anaconda3\\Lib\\site-packages\\sklearn\\utils\\_param_validation.py\", line 97, in validate_parameter_constraints\n",
      "    raise InvalidParameterError(\n",
      "sklearn.utils._param_validation.InvalidParameterError: The 'min_samples_split' parameter of DecisionTreeClassifier must be an int in the range [2, inf) or a float in the range (0.0, 1.0]. Got 1 instead.\n",
      "\n",
      "  warnings.warn(some_fits_failed_message, FitFailedWarning)\n",
      "C:\\ProgramData\\anaconda3\\Lib\\site-packages\\sklearn\\model_selection\\_search.py:952: UserWarning: One or more of the test scores are non-finite: [       nan 0.50191456 0.50191456 0.50191456        nan 0.50191456\n",
      " 0.50191456 0.50191456        nan 0.50191456 0.50191456 0.50191456\n",
      "        nan 0.56949205 0.56949205 0.56949205        nan 0.56949205\n",
      " 0.56949205 0.56949205        nan 0.56949205 0.56949205 0.56949205\n",
      "        nan 0.61875205 0.61875205 0.61875205        nan 0.61875205\n",
      " 0.61875205 0.61875205        nan 0.61875205 0.61875205 0.61875205\n",
      "        nan 0.65073013 0.65073013 0.65073013        nan 0.65073013\n",
      " 0.65073013 0.65073013        nan 0.65062664 0.65062664 0.65062664\n",
      "        nan 0.67132459 0.67132459 0.67132459        nan 0.67122109\n",
      " 0.67122109 0.67122109        nan 0.67070363 0.67070363 0.67070363\n",
      "        nan 0.69776462 0.69776462 0.69776462        nan 0.69740241\n",
      " 0.69740241 0.69740241        nan 0.69704021 0.69704021 0.69704021\n",
      "        nan 0.72751738 0.72751738 0.72751738        nan 0.72679301\n",
      " 0.72679301 0.72679301        nan 0.72560283 0.72560283 0.72560283\n",
      "        nan 0.75509675 0.75509675 0.75509675        nan 0.75338928\n",
      " 0.75338928 0.75338928        nan 0.75100901 0.75100901 0.75100901\n",
      "        nan 0.78200347 0.78200347 0.78200347        nan 0.77807103\n",
      " 0.77807103 0.77807103        nan 0.77450074 0.77450074 0.77450074\n",
      "        nan 0.80404635 0.80404635 0.80404635        nan 0.79819933\n",
      " 0.79819933 0.79819933        nan 0.79302509 0.79302509 0.79302509\n",
      "        nan 0.82313983 0.82313983 0.82313983        nan 0.8154302\n",
      " 0.8154302  0.8154302         nan 0.8081342  0.8081342  0.8081342\n",
      "        nan 0.83892164 0.83892164 0.83892164        nan 0.82676199\n",
      " 0.82676199 0.82676199        nan 0.81760324 0.81760324 0.81760324\n",
      "        nan 0.84782132 0.84782132 0.84782132        nan 0.83441974\n",
      " 0.83441974 0.83441974        nan 0.82515777 0.82515777 0.82515777\n",
      "        nan 0.85873927 0.85873927 0.85873927        nan 0.84383712\n",
      " 0.84383712 0.84383712        nan 0.8326088  0.8326088  0.8326088\n",
      "        nan 0.86696655 0.86696655 0.86696655        nan 0.85071893\n",
      " 0.85071893 0.85071893        nan 0.83566162 0.83566162 0.83566162\n",
      "        nan 0.87276192 0.87276192 0.87276192        nan 0.8546517\n",
      " 0.8546517  0.8546517         nan 0.83985298 0.83985298 0.83985298\n",
      "        nan 0.87633229 0.87633229 0.87633229        nan 0.85754941\n",
      " 0.85754941 0.85754941        nan 0.84047415 0.84047415 0.84047415\n",
      "        nan 0.87829827 0.87829827 0.87829827        nan 0.85775623\n",
      " 0.85775623 0.85775623        nan 0.84145717 0.84145717 0.84145717\n",
      "        nan 0.88171355 0.88171355 0.88171355        nan 0.85961908\n",
      " 0.85961908 0.85961908        nan 0.8416641  0.8416641  0.8416641\n",
      "        nan 0.8817135  0.8817135  0.8817135         nan 0.86070566\n",
      " 0.86070566 0.86070566        nan 0.84249195 0.84249195 0.84249195\n",
      "        nan 0.8829554  0.8829554  0.8829554         nan 0.86148184\n",
      " 0.86148184 0.86148184        nan 0.84218154 0.84218154 0.84218154\n",
      "        nan 0.88342105 0.88342105 0.88342105        nan 0.86179231\n",
      " 0.86179231 0.86179231        nan 0.84331991 0.84331991 0.84331991\n",
      "        nan 0.88321403 0.88321403 0.88321403        nan 0.86215448\n",
      " 0.86215448 0.86215448        nan 0.8425955  0.8425955  0.8425955\n",
      "        nan 0.88373159 0.88373159 0.88373159        nan 0.86241326\n",
      " 0.86241326 0.86241326        nan 0.84233681 0.84233681 0.84233681\n",
      "        nan 0.88435246 0.88435246 0.88435246        nan 0.8621028\n",
      " 0.8621028  0.8621028         nan 0.84316463 0.84316463 0.84316463\n",
      "        nan 0.88440424 0.88440424 0.88440424        nan 0.86236144\n",
      " 0.86236144 0.86236144        nan 0.8429059  0.8429059  0.8429059\n",
      "        nan 0.88476644 0.88476644 0.88476644        nan 0.86236144\n",
      " 0.86236144 0.86236144        nan 0.84295765 0.84295765 0.84295765\n",
      "        nan 0.884042   0.884042   0.884042          nan 0.86236144\n",
      " 0.86236144 0.86236144        nan 0.84295765 0.84295765 0.84295765\n",
      "        nan 0.88502508 0.88502508 0.88502508        nan 0.86236144\n",
      " 0.86236144 0.86236144        nan 0.84295765 0.84295765 0.84295765\n",
      "        nan 0.88481815 0.88481815 0.88481815        nan 0.86236144\n",
      " 0.86236144 0.86236144        nan 0.84295765 0.84295765 0.84295765\n",
      "        nan 0.88481815 0.88481815 0.88481815        nan 0.86236144\n",
      " 0.86236144 0.86236144        nan 0.84295765 0.84295765 0.84295765\n",
      "        nan 0.88481815 0.88481815 0.88481815        nan 0.86236144\n",
      " 0.86236144 0.86236144        nan 0.84295765 0.84295765 0.84295765\n",
      "        nan 0.88481815 0.88481815 0.88481815        nan 0.86236144\n",
      " 0.86236144 0.86236144        nan 0.84295765 0.84295765 0.84295765\n",
      "        nan 0.88481815 0.88481815 0.88481815        nan 0.86236144\n",
      " 0.86236144 0.86236144        nan 0.84295765 0.84295765 0.84295765\n",
      "        nan 0.88481815 0.88481815 0.88481815        nan 0.86236144\n",
      " 0.86236144 0.86236144        nan 0.84295765 0.84295765 0.84295765\n",
      "        nan 0.88481815 0.88481815 0.88481815        nan 0.86236144\n",
      " 0.86236144 0.86236144        nan 0.84295765 0.84295765 0.84295765\n",
      "        nan 0.88481815 0.88481815 0.88481815        nan 0.86236144\n",
      " 0.86236144 0.86236144        nan 0.84295765 0.84295765 0.84295765\n",
      "        nan 0.88481815 0.88481815 0.88481815        nan 0.86236144\n",
      " 0.86236144 0.86236144        nan 0.84295765 0.84295765 0.84295765\n",
      "        nan 0.88481815 0.88481815 0.88481815        nan 0.86236144\n",
      " 0.86236144 0.86236144        nan 0.84295765 0.84295765 0.84295765\n",
      "        nan 0.88481815 0.88481815 0.88481815        nan 0.86236144\n",
      " 0.86236144 0.86236144        nan 0.84295765 0.84295765 0.84295765\n",
      "        nan 0.88481815 0.88481815 0.88481815        nan 0.86236144\n",
      " 0.86236144 0.86236144        nan 0.84295765 0.84295765 0.84295765\n",
      "        nan 0.88481815 0.88481815 0.88481815        nan 0.86236144\n",
      " 0.86236144 0.86236144        nan 0.84295765 0.84295765 0.84295765\n",
      "        nan 0.88481815 0.88481815 0.88481815        nan 0.86236144\n",
      " 0.86236144 0.86236144        nan 0.84295765 0.84295765 0.84295765\n",
      "        nan 0.88481815 0.88481815 0.88481815        nan 0.86236144\n",
      " 0.86236144 0.86236144        nan 0.84295765 0.84295765 0.84295765\n",
      "        nan 0.88481815 0.88481815 0.88481815        nan 0.86236144\n",
      " 0.86236144 0.86236144        nan 0.84295765 0.84295765 0.84295765\n",
      "        nan 0.88481815 0.88481815 0.88481815        nan 0.86236144\n",
      " 0.86236144 0.86236144        nan 0.84295765 0.84295765 0.84295765\n",
      "        nan 0.88481815 0.88481815 0.88481815        nan 0.86236144\n",
      " 0.86236144 0.86236144        nan 0.84295765 0.84295765 0.84295765\n",
      "        nan 0.88481815 0.88481815 0.88481815        nan 0.86236144\n",
      " 0.86236144 0.86236144        nan 0.84295765 0.84295765 0.84295765]\n",
      "  warnings.warn(\n"
     ]
    },
    {
     "data": {
      "text/html": [
       "<style>#sk-container-id-1 {color: black;background-color: white;}#sk-container-id-1 pre{padding: 0;}#sk-container-id-1 div.sk-toggleable {background-color: white;}#sk-container-id-1 label.sk-toggleable__label {cursor: pointer;display: block;width: 100%;margin-bottom: 0;padding: 0.3em;box-sizing: border-box;text-align: center;}#sk-container-id-1 label.sk-toggleable__label-arrow:before {content: \"▸\";float: left;margin-right: 0.25em;color: #696969;}#sk-container-id-1 label.sk-toggleable__label-arrow:hover:before {color: black;}#sk-container-id-1 div.sk-estimator:hover label.sk-toggleable__label-arrow:before {color: black;}#sk-container-id-1 div.sk-toggleable__content {max-height: 0;max-width: 0;overflow: hidden;text-align: left;background-color: #f0f8ff;}#sk-container-id-1 div.sk-toggleable__content pre {margin: 0.2em;color: black;border-radius: 0.25em;background-color: #f0f8ff;}#sk-container-id-1 input.sk-toggleable__control:checked~div.sk-toggleable__content {max-height: 200px;max-width: 100%;overflow: auto;}#sk-container-id-1 input.sk-toggleable__control:checked~label.sk-toggleable__label-arrow:before {content: \"▾\";}#sk-container-id-1 div.sk-estimator input.sk-toggleable__control:checked~label.sk-toggleable__label {background-color: #d4ebff;}#sk-container-id-1 div.sk-label input.sk-toggleable__control:checked~label.sk-toggleable__label {background-color: #d4ebff;}#sk-container-id-1 input.sk-hidden--visually {border: 0;clip: rect(1px 1px 1px 1px);clip: rect(1px, 1px, 1px, 1px);height: 1px;margin: -1px;overflow: hidden;padding: 0;position: absolute;width: 1px;}#sk-container-id-1 div.sk-estimator {font-family: monospace;background-color: #f0f8ff;border: 1px dotted black;border-radius: 0.25em;box-sizing: border-box;margin-bottom: 0.5em;}#sk-container-id-1 div.sk-estimator:hover {background-color: #d4ebff;}#sk-container-id-1 div.sk-parallel-item::after {content: \"\";width: 100%;border-bottom: 1px solid gray;flex-grow: 1;}#sk-container-id-1 div.sk-label:hover label.sk-toggleable__label {background-color: #d4ebff;}#sk-container-id-1 div.sk-serial::before {content: \"\";position: absolute;border-left: 1px solid gray;box-sizing: border-box;top: 0;bottom: 0;left: 50%;z-index: 0;}#sk-container-id-1 div.sk-serial {display: flex;flex-direction: column;align-items: center;background-color: white;padding-right: 0.2em;padding-left: 0.2em;position: relative;}#sk-container-id-1 div.sk-item {position: relative;z-index: 1;}#sk-container-id-1 div.sk-parallel {display: flex;align-items: stretch;justify-content: center;background-color: white;position: relative;}#sk-container-id-1 div.sk-item::before, #sk-container-id-1 div.sk-parallel-item::before {content: \"\";position: absolute;border-left: 1px solid gray;box-sizing: border-box;top: 0;bottom: 0;left: 50%;z-index: -1;}#sk-container-id-1 div.sk-parallel-item {display: flex;flex-direction: column;z-index: 1;position: relative;background-color: white;}#sk-container-id-1 div.sk-parallel-item:first-child::after {align-self: flex-end;width: 50%;}#sk-container-id-1 div.sk-parallel-item:last-child::after {align-self: flex-start;width: 50%;}#sk-container-id-1 div.sk-parallel-item:only-child::after {width: 0;}#sk-container-id-1 div.sk-dashed-wrapped {border: 1px dashed gray;margin: 0 0.4em 0.5em 0.4em;box-sizing: border-box;padding-bottom: 0.4em;background-color: white;}#sk-container-id-1 div.sk-label label {font-family: monospace;font-weight: bold;display: inline-block;line-height: 1.2em;}#sk-container-id-1 div.sk-label-container {text-align: center;}#sk-container-id-1 div.sk-container {/* jupyter's `normalize.less` sets `[hidden] { display: none; }` but bootstrap.min.css set `[hidden] { display: none !important; }` so we also need the `!important` here to be able to override the default hidden behavior on the sphinx rendered scikit-learn.org. See: https://github.com/scikit-learn/scikit-learn/issues/21755 */display: inline-block !important;position: relative;}#sk-container-id-1 div.sk-text-repr-fallback {display: none;}</style><div id=\"sk-container-id-1\" class=\"sk-top-container\"><div class=\"sk-text-repr-fallback\"><pre>GridSearchCV(cv=5, estimator=DecisionTreeClassifier(random_state=0),\n",
       "             param_grid={&#x27;max_depth&#x27;: range(2, 50),\n",
       "                         &#x27;min_samples_leaf&#x27;: range(2, 5),\n",
       "                         &#x27;min_samples_split&#x27;: range(1, 5)})</pre><b>In a Jupyter environment, please rerun this cell to show the HTML representation or trust the notebook. <br />On GitHub, the HTML representation is unable to render, please try loading this page with nbviewer.org.</b></div><div class=\"sk-container\" hidden><div class=\"sk-item sk-dashed-wrapped\"><div class=\"sk-label-container\"><div class=\"sk-label sk-toggleable\"><input class=\"sk-toggleable__control sk-hidden--visually\" id=\"sk-estimator-id-1\" type=\"checkbox\" ><label for=\"sk-estimator-id-1\" class=\"sk-toggleable__label sk-toggleable__label-arrow\">GridSearchCV</label><div class=\"sk-toggleable__content\"><pre>GridSearchCV(cv=5, estimator=DecisionTreeClassifier(random_state=0),\n",
       "             param_grid={&#x27;max_depth&#x27;: range(2, 50),\n",
       "                         &#x27;min_samples_leaf&#x27;: range(2, 5),\n",
       "                         &#x27;min_samples_split&#x27;: range(1, 5)})</pre></div></div></div><div class=\"sk-parallel\"><div class=\"sk-parallel-item\"><div class=\"sk-item\"><div class=\"sk-label-container\"><div class=\"sk-label sk-toggleable\"><input class=\"sk-toggleable__control sk-hidden--visually\" id=\"sk-estimator-id-2\" type=\"checkbox\" ><label for=\"sk-estimator-id-2\" class=\"sk-toggleable__label sk-toggleable__label-arrow\">estimator: DecisionTreeClassifier</label><div class=\"sk-toggleable__content\"><pre>DecisionTreeClassifier(random_state=0)</pre></div></div></div><div class=\"sk-serial\"><div class=\"sk-item\"><div class=\"sk-estimator sk-toggleable\"><input class=\"sk-toggleable__control sk-hidden--visually\" id=\"sk-estimator-id-3\" type=\"checkbox\" ><label for=\"sk-estimator-id-3\" class=\"sk-toggleable__label sk-toggleable__label-arrow\">DecisionTreeClassifier</label><div class=\"sk-toggleable__content\"><pre>DecisionTreeClassifier(random_state=0)</pre></div></div></div></div></div></div></div></div></div></div>"
      ],
      "text/plain": [
       "GridSearchCV(cv=5, estimator=DecisionTreeClassifier(random_state=0),\n",
       "             param_grid={'max_depth': range(2, 50),\n",
       "                         'min_samples_leaf': range(2, 5),\n",
       "                         'min_samples_split': range(1, 5)})"
      ]
     },
     "execution_count": 29,
     "metadata": {},
     "output_type": "execute_result"
    }
   ],
   "source": [
    "dtree = tree.DecisionTreeClassifier(random_state=0)\n",
    "grid_search = GridSearchCV(dtree, param_grid, cv=5)\n",
    "grid_search.fit(X_up, Y_up)"
   ]
  },
  {
   "cell_type": "code",
   "execution_count": 30,
   "id": "73ee652c",
   "metadata": {},
   "outputs": [
    {
     "name": "stdout",
     "output_type": "stream",
     "text": [
      "Best hyperparameters: {'max_depth': 30, 'min_samples_leaf': 2, 'min_samples_split': 2}\n"
     ]
    }
   ],
   "source": [
    "best_params = grid_search.best_params_\n",
    "print(\"Best hyperparameters:\", best_params)"
   ]
  },
  {
   "cell_type": "code",
   "execution_count": 31,
   "id": "c16cf418",
   "metadata": {},
   "outputs": [],
   "source": [
    "best_dtree_pp = DecisionTreeClassifier(max_depth=36, min_samples_leaf=2, min_samples_split=2)\n",
    "best_dtree_pp.fit(X_up, Y_up)\n",
    "y_pred_pre = best_dtree_pp.predict(X_test)"
   ]
  },
  {
   "cell_type": "code",
   "execution_count": 32,
   "id": "be4621c1",
   "metadata": {},
   "outputs": [
    {
     "name": "stdout",
     "output_type": "stream",
     "text": [
      "Accuracy Score: 0.6060264714165023\n",
      "Precision (Macro): 0.5322879597474576\n",
      "Recall (Macro): 0.5408627622519511\n",
      "F1 Score (Macro): 0.5357866475076508\n",
      "Confusion Matrix:\n",
      "[[ 24  34   9   3   3   0]\n",
      " [ 52 524 174  89   6   2]\n",
      " [  6 158 253 142   9   7]\n",
      " [  7  91 159 920 105  45]\n",
      " [  2   7  13 112 155  49]\n",
      " [  0   1   5  33  76 276]]\n",
      "\n",
      "Classification Report:\n",
      "               precision    recall  f1-score   support\n",
      "\n",
      "           0       0.26      0.33      0.29        73\n",
      "           1       0.64      0.62      0.63       847\n",
      "           2       0.41      0.44      0.43       575\n",
      "           3       0.71      0.69      0.70      1327\n",
      "           4       0.44      0.46      0.45       338\n",
      "           5       0.73      0.71      0.72       391\n",
      "\n",
      "    accuracy                           0.61      3551\n",
      "   macro avg       0.53      0.54      0.54      3551\n",
      "weighted avg       0.61      0.61      0.61      3551\n",
      "\n"
     ]
    }
   ],
   "source": [
    "acc = accuracy_score(y_test, y_pred_pre)\n",
    "prec_macro = precision_score(y_test, y_pred_pre, average='macro')\n",
    "recall_macro = recall_score(y_test, y_pred_pre, average='macro')\n",
    "f1_macro = f1_score(y_test, y_pred_pre, average='macro')\n",
    "classification_rep_pre = classification_report(y_test, y_pred_pre)\n",
    "print(\"Accuracy Score:\", acc)\n",
    "print(\"Precision (Macro):\", prec_macro)\n",
    "print(\"Recall (Macro):\", recall_macro)\n",
    "print(\"F1 Score (Macro):\", f1_macro)\n",
    "\n",
    "# Confusion Matrix\n",
    "cf_matrix_pre = confusion_matrix(y_test, y_pred_pre)\n",
    "print(\"Confusion Matrix:\")\n",
    "print(cf_matrix_pre)\n",
    "print(\"\\nClassification Report:\\n\", classification_rep_pre)"
   ]
  },
  {
   "cell_type": "code",
   "execution_count": 33,
   "id": "a39f34e0",
   "metadata": {},
   "outputs": [],
   "source": [
    "y_pred_pre_train = best_dtree_pp.predict(X_up)"
   ]
  },
  {
   "cell_type": "code",
   "execution_count": 34,
   "id": "c2eecab7",
   "metadata": {},
   "outputs": [
    {
     "name": "stdout",
     "output_type": "stream",
     "text": [
      "Accuracy Score: 0.977905412397806\n",
      "Precision (Macro): 0.9781514277419578\n",
      "Recall (Macro): 0.977905412397806\n",
      "F1 Score (Macro): 0.9776877176357188\n",
      "Confusion Matrix:\n",
      "[[3221    0    0    0    0    0]\n",
      " [  11 3170   27   11    1    1]\n",
      " [   0   31 3180    7    3    0]\n",
      " [   3  104   98 2924   59   33]\n",
      " [   0    1    2   12 3200    6]\n",
      " [   0    1    0   10    6 3204]]\n",
      "\n",
      "Classification Report:\n",
      "               precision    recall  f1-score   support\n",
      "\n",
      "           0       1.00      1.00      1.00      3221\n",
      "           1       0.96      0.98      0.97      3221\n",
      "           2       0.96      0.99      0.97      3221\n",
      "           3       0.99      0.91      0.95      3221\n",
      "           4       0.98      0.99      0.99      3221\n",
      "           5       0.99      0.99      0.99      3221\n",
      "\n",
      "    accuracy                           0.98     19326\n",
      "   macro avg       0.98      0.98      0.98     19326\n",
      "weighted avg       0.98      0.98      0.98     19326\n",
      "\n"
     ]
    }
   ],
   "source": [
    "acc = accuracy_score(Y_up, y_pred_pre_train )\n",
    "prec_macro = precision_score(Y_up, y_pred_pre_train , average='macro')\n",
    "recall_macro = recall_score(Y_up, y_pred_pre_train, average='macro')\n",
    "f1_macro = f1_score(Y_up, y_pred_pre_train , average='macro')\n",
    "classification_rep_pre_train = classification_report(Y_up,y_pred_pre_train)\n",
    "print(\"Accuracy Score:\", acc)\n",
    "print(\"Precision (Macro):\", prec_macro)\n",
    "print(\"Recall (Macro):\", recall_macro)\n",
    "print(\"F1 Score (Macro):\", f1_macro)\n",
    "\n",
    "# Confusion Matrix\n",
    "cf_matrix_DT_pre = confusion_matrix(Y_up, y_pred_pre_train)\n",
    "print(\"Confusion Matrix:\")\n",
    "print(cf_matrix_DT_pre)\n",
    "print(\"\\nClassification Report:\\n\", classification_rep_pre_train )"
   ]
  },
  {
   "cell_type": "markdown",
   "id": "6461caa2",
   "metadata": {},
   "source": [
    "#### post pruning"
   ]
  },
  {
   "cell_type": "code",
   "execution_count": 35,
   "id": "88013409",
   "metadata": {},
   "outputs": [],
   "source": [
    "decision_tree = DecisionTreeClassifier(random_state=0)"
   ]
  },
  {
   "cell_type": "code",
   "execution_count": 36,
   "id": "effbd601",
   "metadata": {},
   "outputs": [
    {
     "name": "stdout",
     "output_type": "stream",
     "text": [
      "[0.00000000e+00 3.43594960e-05 3.44958433e-05 ... 4.95957424e-02\n",
      " 5.49778628e-02 1.13643910e-01]\n"
     ]
    }
   ],
   "source": [
    "path = decision_tree.cost_complexity_pruning_path(X_up, Y_up)\n",
    "ccp_alphas, impurities = path.ccp_alphas, path.impurities\n",
    "print(ccp_alphas)"
   ]
  },
  {
   "cell_type": "code",
   "execution_count": 37,
   "id": "f6688669",
   "metadata": {},
   "outputs": [
    {
     "name": "stdout",
     "output_type": "stream",
     "text": [
      "Number of nodes in the last tree is :1 with ccp_alpha:0.11364390973475991\n"
     ]
    }
   ],
   "source": [
    "# For each alpha we will append our model to a list\n",
    "decision_trees = []\n",
    "for ccp_alpha in ccp_alphas:\n",
    "    decision_tree = tree.DecisionTreeClassifier(random_state=0, ccp_alpha=ccp_alpha)\n",
    "    decision_tree.fit(X_up, Y_up)\n",
    "    decision_trees.append(decision_tree)\n",
    "print(\"Number of nodes in the last tree is :{} with ccp_alpha:{}\".format(\n",
    "decision_trees[-1].tree_.node_count,ccp_alphas[-1]))"
   ]
  },
  {
   "cell_type": "code",
   "execution_count": 38,
   "id": "61aabd75",
   "metadata": {},
   "outputs": [
    {
     "data": {
      "image/png": "[encoded data removed]",
      "text/plain": [
       "<Figure size 640x480 with 1 Axes>"
      ]
     },
     "metadata": {},
     "output_type": "display_data"
    }
   ],
   "source": [
    "train_scores=[decision_tree.score(X_up, Y_up) for decision_tree in decision_trees]\n",
    "test_scores=[decision_tree.score(X_test, y_test) for decision_tree in decision_trees]\n",
    "\n",
    "fig,ax =plt.subplots()\n",
    "ax.set_xlabel(\"alpha\")\n",
    "ax.set_ylabel(\"accuracy\")\n",
    "ax.set_title(\"Accuracy vs alpha for training and testing data sets\")\n",
    "ax.plot(ccp_alphas,train_scores,marker='o',label=\"train\",drawstyle=\"steps-post\")\n",
    "ax.plot(ccp_alphas,test_scores,marker='o',label=\"test\",drawstyle=\"steps-post\")\n",
    "\n",
    "ax.legend()\n",
    "plt.show()"
   ]
  },
  {
   "cell_type": "code",
   "execution_count": 39,
   "id": "cdbce255",
   "metadata": {},
   "outputs": [],
   "source": [
    "decision_tree = tree.DecisionTreeClassifier(random_state=0,ccp_alpha=0.001)\n",
    "decision_tree.fit(X_up, Y_up)\n",
    "y_train_pred_po = decision_tree.predict(X_up)\n",
    "y_test_pred_po = decision_tree.predict(X_test)"
   ]
  },
  {
   "cell_type": "code",
   "execution_count": 40,
   "id": "b9666f84",
   "metadata": {},
   "outputs": [
    {
     "name": "stdout",
     "output_type": "stream",
     "text": [
      "Accuracy Score: 0.6130667417628837\n",
      "Precision (Macro): 0.5665964874850865\n",
      "Recall (Macro): 0.6321398620897906\n",
      "F1 Score (Macro): 0.5613777158961568\n",
      "Confusion Matrix:\n",
      "[[ 52   9   8   2   0   2]\n",
      " [176 367 208  89   7   0]\n",
      " [ 37  96 308 116  15   3]\n",
      " [ 17  20 159 935 175  21]\n",
      " [  4   0   3  68 224  39]\n",
      " [  0   0   1  12  87 291]]\n",
      "\n",
      " Classification Report:\n",
      "               precision    recall  f1-score   support\n",
      "\n",
      "           0       0.18      0.71      0.29        73\n",
      "           1       0.75      0.43      0.55       847\n",
      "           2       0.45      0.54      0.49       575\n",
      "           3       0.77      0.70      0.73      1327\n",
      "           4       0.44      0.66      0.53       338\n",
      "           5       0.82      0.74      0.78       391\n",
      "\n",
      "    accuracy                           0.61      3551\n",
      "   macro avg       0.57      0.63      0.56      3551\n",
      "weighted avg       0.67      0.61      0.63      3551\n",
      "\n"
     ]
    }
   ],
   "source": [
    "acc = accuracy_score(y_test, y_test_pred_po)\n",
    "prec_macro = precision_score(y_test, y_test_pred_po, average='macro')\n",
    "recall_macro = recall_score(y_test, y_test_pred_po, average='macro')\n",
    "f1_macro = f1_score(y_test, y_test_pred_po, average='macro')\n",
    "classification_rep_po = classification_report(y_test, y_test_pred_po)\n",
    "print(\"Accuracy Score:\", acc)\n",
    "print(\"Precision (Macro):\", prec_macro)\n",
    "print(\"Recall (Macro):\", recall_macro)\n",
    "print(\"F1 Score (Macro):\", f1_macro)\n",
    "\n",
    "# Confusion Matrix\n",
    "cf_matrix_po= confusion_matrix(y_test, y_test_pred_po)\n",
    "print(\"Confusion Matrix:\")\n",
    "print(cf_matrix_po)\n",
    "print(\"\\n Classification Report:\\n\", classification_rep_po)"
   ]
  },
  {
   "cell_type": "code",
   "execution_count": 41,
   "id": "2089328c",
   "metadata": {},
   "outputs": [
    {
     "name": "stdout",
     "output_type": "stream",
     "text": [
      "Accuracy Score: 0.7036634585532443\n",
      "Precision (Macro): 0.7055298030093358\n",
      "Recall (Macro): 0.7036634585532443\n",
      "F1 Score (Macro): 0.7003019302815243\n",
      "Confusion Matrix:\n",
      "[[2928   75  110   73   35    0]\n",
      " [ 587 1628  706  267   24    9]\n",
      " [ 120  543 1905  543   81   29]\n",
      " [  35   56  402 2269  412   47]\n",
      " [  16    4    9  491 2319  382]\n",
      " [   0    0    4   83  584 2550]]\n",
      "\n",
      "Classification Report:\n",
      "               precision    recall  f1-score   support\n",
      "\n",
      "           0       0.79      0.91      0.85      3221\n",
      "           1       0.71      0.51      0.59      3221\n",
      "           2       0.61      0.59      0.60      3221\n",
      "           3       0.61      0.70      0.65      3221\n",
      "           4       0.67      0.72      0.69      3221\n",
      "           5       0.85      0.79      0.82      3221\n",
      "\n",
      "    accuracy                           0.70     19326\n",
      "   macro avg       0.71      0.70      0.70     19326\n",
      "weighted avg       0.71      0.70      0.70     19326\n",
      "\n"
     ]
    }
   ],
   "source": [
    "acc = accuracy_score(Y_up, y_train_pred_po )\n",
    "prec_macro = precision_score(Y_up, y_train_pred_po , average='macro')\n",
    "recall_macro = recall_score(Y_up, y_train_pred_po, average='macro')\n",
    "f1_macro = f1_score(Y_up, y_train_pred_po , average='macro')\n",
    "classification_rep_DT_po = classification_report(Y_up,y_train_pred_po )\n",
    "print(\"Accuracy Score:\", acc)\n",
    "print(\"Precision (Macro):\", prec_macro)\n",
    "print(\"Recall (Macro):\", recall_macro)\n",
    "print(\"F1 Score (Macro):\", f1_macro)\n",
    "\n",
    "# Confusion Matrix\n",
    "cf_matrix_po = confusion_matrix(Y_up, y_train_pred_po)\n",
    "print(\"Confusion Matrix:\")\n",
    "print(cf_matrix_po)\n",
    "print(\"\\nClassification Report:\\n\", classification_rep_DT_po)"
   ]
  },
  {
   "cell_type": "code",
   "execution_count": 42,
   "id": "86a0485c",
   "metadata": {},
   "outputs": [
    {
     "ename": "NameError",
     "evalue": "name 'y_prob' is not defined",
     "output_type": "error",
     "traceback": [
      "\u001b[1;31m---------------------------------------------------------------------------\u001b[0m",
      "\u001b[1;31mNameError\u001b[0m                                 Traceback (most recent call last)",
      "Cell \u001b[1;32mIn[42], line 2\u001b[0m\n\u001b[0;32m      1\u001b[0m \u001b[38;5;28;01mfrom\u001b[39;00m \u001b[38;5;21;01msklearn\u001b[39;00m\u001b[38;5;21;01m.\u001b[39;00m\u001b[38;5;21;01mmetrics\u001b[39;00m \u001b[38;5;28;01mimport\u001b[39;00m roc_auc_score\n\u001b[1;32m----> 2\u001b[0m roc_auc_score(y_test,y_prob,multi_class\u001b[38;5;241m=\u001b[39m\u001b[38;5;124m'\u001b[39m\u001b[38;5;124movr\u001b[39m\u001b[38;5;124m'\u001b[39m)\n",
      "\u001b[1;31mNameError\u001b[0m: name 'y_prob' is not defined"
     ]
    }
   ],
   "source": [
    "from sklearn.metrics import roc_auc_score\n",
    "roc_auc_score(y_test,y_prob,multi_class='ovr')"
   ]
  },
  {
   "cell_type": "code",
   "execution_count": null,
   "id": "20233683",
   "metadata": {},
   "outputs": [],
   "source": []
  }
 ],
 "metadata": {
  "kernelspec": {
   "display_name": "Python 3 (ipykernel)",
   "language": "python",
   "name": "python3"
  },
  "language_info": {
   "codemirror_mode": {
    "name": "ipython",
    "version": 3
   },
   "file_extension": ".py",
   "mimetype": "text/x-python",
   "name": "python",
   "nbconvert_exporter": "python",
   "pygments_lexer": "ipython3",
   "version": "3.11.3"
  }
 },
 "nbformat": 4,
 "nbformat_minor": 5
}
