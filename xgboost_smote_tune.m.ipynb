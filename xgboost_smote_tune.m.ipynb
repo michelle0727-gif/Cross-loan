{
 "cells": [
  {
   "cell_type": "code",
   "execution_count": 1,
   "id": "b5d36d2e",
   "metadata": {},
   "outputs": [],
   "source": [
    "import pandas as pd\n",
    "import numpy as np\n",
    "import matplotlib.pyplot as plt"
   ]
  },
  {
   "cell_type": "code",
   "execution_count": 2,
   "id": "da800089",
   "metadata": {},
   "outputs": [],
   "source": [
    "pd.set_option(\"display.max_columns\", None)\n",
    "pd.set_option(\"display.max_rows\", None)"
   ]
  },
  {
   "cell_type": "code",
   "execution_count": 3,
   "id": "144a12d9",
   "metadata": {},
   "outputs": [],
   "source": [
    "encodings_to_try = ['utf-8-sig', 'latin-1', 'ISO-8859-1']\n",
    "\n",
    "for encoding in encodings_to_try:\n",
    "    try:\n",
    "        df = pd.read_csv(\"C:/Users/15694/Desktop/Cross selling/code/Michelle/Without_standerdize.csv\", encoding=encoding)\n",
    "        break\n",
    "    except UnicodeDecodeError:\n",
    "        continue"
   ]
  },
  {
   "cell_type": "code",
   "execution_count": 4,
   "id": "e6ff191a",
   "metadata": {},
   "outputs": [
    {
     "data": {
      "text/html": [
       "<div>\n",
       "<style scoped>\n",
       "    .dataframe tbody tr th:only-of-type {\n",
       "        vertical-align: middle;\n",
       "    }\n",
       "\n",
       "    .dataframe tbody tr th {\n",
       "        vertical-align: top;\n",
       "    }\n",
       "\n",
       "    .dataframe thead th {\n",
       "        text-align: right;\n",
       "    }\n",
       "</style>\n",
       "<table border=\"1\" class=\"dataframe\">\n",
       "  <thead>\n",
       "    <tr style=\"text-align: right;\">\n",
       "      <th></th>\n",
       "      <th>NPA_FLAG</th>\n",
       "      <th>SIX_MONTH_BAL_OS_SAVINGS</th>\n",
       "      <th>SIX_MONTH_BAL_OS_CURRENT</th>\n",
       "      <th>SIX_MONTH_BAL_OS_FD</th>\n",
       "      <th>SIX_MONTH_BAL_OS_LEASING</th>\n",
       "      <th>SIX_MONTH_BAL_OS_CARD</th>\n",
       "      <th>SIX_MONTH_BAL_OS_OD</th>\n",
       "      <th>TOTAL_AVG_BAL</th>\n",
       "      <th>FD_AMOUNT_UNDER_LIEN</th>\n",
       "      <th>CURRENT_AMOUNT_UNDER_LIEN</th>\n",
       "      <th>SAVINGS_AMOUNT_UNDER_LIEN</th>\n",
       "      <th>CUSTOMER_PROFITABILITY</th>\n",
       "      <th>DEBIT_CARD_USAGE</th>\n",
       "      <th>CREDIT_CARD_USAGE</th>\n",
       "      <th>LOAN_CAT</th>\n",
       "      <th>NO_OF_ASSERT_ACCOUNTS</th>\n",
       "      <th>NO_OF_LIABILITY_ACCOUNTS</th>\n",
       "      <th>LOAN_CAT1</th>\n",
       "    </tr>\n",
       "  </thead>\n",
       "  <tbody>\n",
       "    <tr>\n",
       "      <th>0</th>\n",
       "      <td>0</td>\n",
       "      <td>699504.75</td>\n",
       "      <td>0.0</td>\n",
       "      <td>378962.46</td>\n",
       "      <td>0.0</td>\n",
       "      <td>20623.80</td>\n",
       "      <td>0.00</td>\n",
       "      <td>3146530.15</td>\n",
       "      <td>0.0</td>\n",
       "      <td>0.0</td>\n",
       "      <td>0.0</td>\n",
       "      <td>13770.79</td>\n",
       "      <td>200131.0</td>\n",
       "      <td>61300.72</td>\n",
       "      <td>0</td>\n",
       "      <td>1.0</td>\n",
       "      <td>7.0</td>\n",
       "      <td>3</td>\n",
       "    </tr>\n",
       "    <tr>\n",
       "      <th>1</th>\n",
       "      <td>0</td>\n",
       "      <td>53083.62</td>\n",
       "      <td>0.0</td>\n",
       "      <td>2838709.68</td>\n",
       "      <td>0.0</td>\n",
       "      <td>0.00</td>\n",
       "      <td>0.00</td>\n",
       "      <td>4643556.31</td>\n",
       "      <td>0.0</td>\n",
       "      <td>0.0</td>\n",
       "      <td>0.0</td>\n",
       "      <td>1560.99</td>\n",
       "      <td>0.0</td>\n",
       "      <td>0.00</td>\n",
       "      <td>0</td>\n",
       "      <td>0.0</td>\n",
       "      <td>4.0</td>\n",
       "      <td>3</td>\n",
       "    </tr>\n",
       "    <tr>\n",
       "      <th>2</th>\n",
       "      <td>0</td>\n",
       "      <td>4540.64</td>\n",
       "      <td>0.0</td>\n",
       "      <td>4000000.00</td>\n",
       "      <td>0.0</td>\n",
       "      <td>0.00</td>\n",
       "      <td>0.00</td>\n",
       "      <td>7265196.47</td>\n",
       "      <td>0.0</td>\n",
       "      <td>0.0</td>\n",
       "      <td>0.0</td>\n",
       "      <td>5307.59</td>\n",
       "      <td>0.0</td>\n",
       "      <td>0.00</td>\n",
       "      <td>0</td>\n",
       "      <td>0.0</td>\n",
       "      <td>3.0</td>\n",
       "      <td>3</td>\n",
       "    </tr>\n",
       "    <tr>\n",
       "      <th>3</th>\n",
       "      <td>0</td>\n",
       "      <td>125762.58</td>\n",
       "      <td>0.0</td>\n",
       "      <td>2130590.11</td>\n",
       "      <td>0.0</td>\n",
       "      <td>227326.09</td>\n",
       "      <td>126526.97</td>\n",
       "      <td>2790521.87</td>\n",
       "      <td>0.0</td>\n",
       "      <td>0.0</td>\n",
       "      <td>0.0</td>\n",
       "      <td>8324.88</td>\n",
       "      <td>96000.0</td>\n",
       "      <td>0.00</td>\n",
       "      <td>0</td>\n",
       "      <td>2.0</td>\n",
       "      <td>7.0</td>\n",
       "      <td>1</td>\n",
       "    </tr>\n",
       "    <tr>\n",
       "      <th>4</th>\n",
       "      <td>0</td>\n",
       "      <td>79470.60</td>\n",
       "      <td>0.0</td>\n",
       "      <td>0.00</td>\n",
       "      <td>0.0</td>\n",
       "      <td>0.00</td>\n",
       "      <td>0.00</td>\n",
       "      <td>131951.72</td>\n",
       "      <td>0.0</td>\n",
       "      <td>0.0</td>\n",
       "      <td>0.0</td>\n",
       "      <td>231.41</td>\n",
       "      <td>0.0</td>\n",
       "      <td>0.00</td>\n",
       "      <td>0</td>\n",
       "      <td>0.0</td>\n",
       "      <td>1.0</td>\n",
       "      <td>0</td>\n",
       "    </tr>\n",
       "  </tbody>\n",
       "</table>\n",
       "</div>"
      ],
      "text/plain": [
       "   NPA_FLAG  SIX_MONTH_BAL_OS_SAVINGS  SIX_MONTH_BAL_OS_CURRENT  \\\n",
       "0         0                 699504.75                       0.0   \n",
       "1         0                  53083.62                       0.0   \n",
       "2         0                   4540.64                       0.0   \n",
       "3         0                 125762.58                       0.0   \n",
       "4         0                  79470.60                       0.0   \n",
       "\n",
       "   SIX_MONTH_BAL_OS_FD  SIX_MONTH_BAL_OS_LEASING  SIX_MONTH_BAL_OS_CARD  \\\n",
       "0            378962.46                       0.0               20623.80   \n",
       "1           2838709.68                       0.0                   0.00   \n",
       "2           4000000.00                       0.0                   0.00   \n",
       "3           2130590.11                       0.0              227326.09   \n",
       "4                 0.00                       0.0                   0.00   \n",
       "\n",
       "   SIX_MONTH_BAL_OS_OD  TOTAL_AVG_BAL  FD_AMOUNT_UNDER_LIEN  \\\n",
       "0                 0.00     3146530.15                   0.0   \n",
       "1                 0.00     4643556.31                   0.0   \n",
       "2                 0.00     7265196.47                   0.0   \n",
       "3            126526.97     2790521.87                   0.0   \n",
       "4                 0.00      131951.72                   0.0   \n",
       "\n",
       "   CURRENT_AMOUNT_UNDER_LIEN  SAVINGS_AMOUNT_UNDER_LIEN  \\\n",
       "0                        0.0                        0.0   \n",
       "1                        0.0                        0.0   \n",
       "2                        0.0                        0.0   \n",
       "3                        0.0                        0.0   \n",
       "4                        0.0                        0.0   \n",
       "\n",
       "   CUSTOMER_PROFITABILITY  DEBIT_CARD_USAGE  CREDIT_CARD_USAGE  LOAN_CAT  \\\n",
       "0                13770.79          200131.0           61300.72         0   \n",
       "1                 1560.99               0.0               0.00         0   \n",
       "2                 5307.59               0.0               0.00         0   \n",
       "3                 8324.88           96000.0               0.00         0   \n",
       "4                  231.41               0.0               0.00         0   \n",
       "\n",
       "   NO_OF_ASSERT_ACCOUNTS  NO_OF_LIABILITY_ACCOUNTS  LOAN_CAT1  \n",
       "0                    1.0                       7.0          3  \n",
       "1                    0.0                       4.0          3  \n",
       "2                    0.0                       3.0          3  \n",
       "3                    2.0                       7.0          1  \n",
       "4                    0.0                       1.0          0  "
      ]
     },
     "execution_count": 4,
     "metadata": {},
     "output_type": "execute_result"
    }
   ],
   "source": [
    "df.head()"
   ]
  },
  {
   "cell_type": "code",
   "execution_count": 5,
   "id": "7a049c3a",
   "metadata": {},
   "outputs": [
    {
     "data": {
      "text/plain": [
       "Index(['NPA_FLAG', 'SIX_MONTH_BAL_OS_SAVINGS', 'SIX_MONTH_BAL_OS_CURRENT',\n",
       "       'SIX_MONTH_BAL_OS_FD', 'SIX_MONTH_BAL_OS_LEASING',\n",
       "       'SIX_MONTH_BAL_OS_CARD', 'SIX_MONTH_BAL_OS_OD', 'TOTAL_AVG_BAL',\n",
       "       'FD_AMOUNT_UNDER_LIEN', 'CURRENT_AMOUNT_UNDER_LIEN',\n",
       "       'SAVINGS_AMOUNT_UNDER_LIEN', 'CUSTOMER_PROFITABILITY',\n",
       "       'DEBIT_CARD_USAGE', 'CREDIT_CARD_USAGE', 'LOAN_CAT',\n",
       "       'NO_OF_ASSERT_ACCOUNTS', 'NO_OF_LIABILITY_ACCOUNTS', 'LOAN_CAT1'],\n",
       "      dtype='object')"
      ]
     },
     "execution_count": 5,
     "metadata": {},
     "output_type": "execute_result"
    }
   ],
   "source": [
    "df.columns"
   ]
  },
  {
   "cell_type": "code",
   "execution_count": 6,
   "id": "c602b689",
   "metadata": {},
   "outputs": [
    {
     "data": {
      "text/plain": [
       "(74494, 18)"
      ]
     },
     "execution_count": 6,
     "metadata": {},
     "output_type": "execute_result"
    }
   ],
   "source": [
    "df.shape"
   ]
  },
  {
   "cell_type": "code",
   "execution_count": 7,
   "id": "a566fe31",
   "metadata": {},
   "outputs": [
    {
     "data": {
      "text/plain": [
       "NPA_FLAG                     0\n",
       "SIX_MONTH_BAL_OS_SAVINGS     0\n",
       "SIX_MONTH_BAL_OS_CURRENT     0\n",
       "SIX_MONTH_BAL_OS_FD          0\n",
       "SIX_MONTH_BAL_OS_LEASING     0\n",
       "SIX_MONTH_BAL_OS_CARD        0\n",
       "SIX_MONTH_BAL_OS_OD          0\n",
       "TOTAL_AVG_BAL                0\n",
       "FD_AMOUNT_UNDER_LIEN         0\n",
       "CURRENT_AMOUNT_UNDER_LIEN    0\n",
       "SAVINGS_AMOUNT_UNDER_LIEN    0\n",
       "CUSTOMER_PROFITABILITY       0\n",
       "DEBIT_CARD_USAGE             0\n",
       "CREDIT_CARD_USAGE            0\n",
       "LOAN_CAT                     0\n",
       "NO_OF_ASSERT_ACCOUNTS        0\n",
       "NO_OF_LIABILITY_ACCOUNTS     0\n",
       "LOAN_CAT1                    0\n",
       "dtype: int64"
      ]
     },
     "execution_count": 7,
     "metadata": {},
     "output_type": "execute_result"
    }
   ],
   "source": [
    "df.isna().sum()"
   ]
  },
  {
   "cell_type": "code",
   "execution_count": 8,
   "id": "4f8c75c2",
   "metadata": {},
   "outputs": [],
   "source": [
    "df1=df[[\"TOTAL_AVG_BAL\",\"SIX_MONTH_BAL_OS_FD\",\"NPA_FLAG\",\"SIX_MONTH_BAL_OS_LEASING\",\n",
    "        \"CUSTOMER_PROFITABILITY\",\"SIX_MONTH_BAL_OS_SAVINGS\"\n",
    "        ,\"LOAN_CAT1\"]]"
   ]
  },
  {
   "cell_type": "code",
   "execution_count": 9,
   "id": "37abda88",
   "metadata": {},
   "outputs": [],
   "source": [
    "# Final dataset"
   ]
  },
  {
   "cell_type": "code",
   "execution_count": 10,
   "id": "11ae2e84",
   "metadata": {},
   "outputs": [],
   "source": [
    "filepath=r\"C://Users//15694//Desktop//Cross selling//code//Michelle//Final_cross_selling_Dataset_ML1.csv\"\n",
    "df1.to_csv(filepath, index=False)"
   ]
  },
  {
   "cell_type": "code",
   "execution_count": 11,
   "id": "090a12a9",
   "metadata": {},
   "outputs": [
    {
     "data": {
      "text/html": [
       "<div>\n",
       "<style scoped>\n",
       "    .dataframe tbody tr th:only-of-type {\n",
       "        vertical-align: middle;\n",
       "    }\n",
       "\n",
       "    .dataframe tbody tr th {\n",
       "        vertical-align: top;\n",
       "    }\n",
       "\n",
       "    .dataframe thead th {\n",
       "        text-align: right;\n",
       "    }\n",
       "</style>\n",
       "<table border=\"1\" class=\"dataframe\">\n",
       "  <thead>\n",
       "    <tr style=\"text-align: right;\">\n",
       "      <th></th>\n",
       "      <th>TOTAL_AVG_BAL</th>\n",
       "      <th>SIX_MONTH_BAL_OS_FD</th>\n",
       "      <th>NPA_FLAG</th>\n",
       "      <th>SIX_MONTH_BAL_OS_LEASING</th>\n",
       "      <th>CUSTOMER_PROFITABILITY</th>\n",
       "      <th>SIX_MONTH_BAL_OS_SAVINGS</th>\n",
       "      <th>LOAN_CAT1</th>\n",
       "    </tr>\n",
       "  </thead>\n",
       "  <tbody>\n",
       "    <tr>\n",
       "      <th>0</th>\n",
       "      <td>3146530.15</td>\n",
       "      <td>378962.46</td>\n",
       "      <td>0</td>\n",
       "      <td>0.0</td>\n",
       "      <td>13770.79</td>\n",
       "      <td>699504.75</td>\n",
       "      <td>3</td>\n",
       "    </tr>\n",
       "    <tr>\n",
       "      <th>1</th>\n",
       "      <td>4643556.31</td>\n",
       "      <td>2838709.68</td>\n",
       "      <td>0</td>\n",
       "      <td>0.0</td>\n",
       "      <td>1560.99</td>\n",
       "      <td>53083.62</td>\n",
       "      <td>3</td>\n",
       "    </tr>\n",
       "    <tr>\n",
       "      <th>2</th>\n",
       "      <td>7265196.47</td>\n",
       "      <td>4000000.00</td>\n",
       "      <td>0</td>\n",
       "      <td>0.0</td>\n",
       "      <td>5307.59</td>\n",
       "      <td>4540.64</td>\n",
       "      <td>3</td>\n",
       "    </tr>\n",
       "    <tr>\n",
       "      <th>3</th>\n",
       "      <td>2790521.87</td>\n",
       "      <td>2130590.11</td>\n",
       "      <td>0</td>\n",
       "      <td>0.0</td>\n",
       "      <td>8324.88</td>\n",
       "      <td>125762.58</td>\n",
       "      <td>1</td>\n",
       "    </tr>\n",
       "    <tr>\n",
       "      <th>4</th>\n",
       "      <td>131951.72</td>\n",
       "      <td>0.00</td>\n",
       "      <td>0</td>\n",
       "      <td>0.0</td>\n",
       "      <td>231.41</td>\n",
       "      <td>79470.60</td>\n",
       "      <td>0</td>\n",
       "    </tr>\n",
       "  </tbody>\n",
       "</table>\n",
       "</div>"
      ],
      "text/plain": [
       "   TOTAL_AVG_BAL  SIX_MONTH_BAL_OS_FD  NPA_FLAG  SIX_MONTH_BAL_OS_LEASING  \\\n",
       "0     3146530.15            378962.46         0                       0.0   \n",
       "1     4643556.31           2838709.68         0                       0.0   \n",
       "2     7265196.47           4000000.00         0                       0.0   \n",
       "3     2790521.87           2130590.11         0                       0.0   \n",
       "4      131951.72                 0.00         0                       0.0   \n",
       "\n",
       "   CUSTOMER_PROFITABILITY  SIX_MONTH_BAL_OS_SAVINGS  LOAN_CAT1  \n",
       "0                13770.79                 699504.75          3  \n",
       "1                 1560.99                  53083.62          3  \n",
       "2                 5307.59                   4540.64          3  \n",
       "3                 8324.88                 125762.58          1  \n",
       "4                  231.41                  79470.60          0  "
      ]
     },
     "execution_count": 11,
     "metadata": {},
     "output_type": "execute_result"
    }
   ],
   "source": [
    "df1.head()"
   ]
  },
  {
   "cell_type": "code",
   "execution_count": 12,
   "id": "87c7767a",
   "metadata": {},
   "outputs": [
    {
     "data": {
      "text/plain": [
       "(74494, 7)"
      ]
     },
     "execution_count": 12,
     "metadata": {},
     "output_type": "execute_result"
    }
   ],
   "source": [
    "df1.shape"
   ]
  },
  {
   "cell_type": "code",
   "execution_count": 13,
   "id": "c3253ed8",
   "metadata": {},
   "outputs": [
    {
     "data": {
      "text/plain": [
       "3    27369\n",
       "1    21471\n",
       "2    12360\n",
       "5     5978\n",
       "4     5311\n",
       "0     2005\n",
       "Name: LOAN_CAT1, dtype: int64"
      ]
     },
     "execution_count": 13,
     "metadata": {},
     "output_type": "execute_result"
    }
   ],
   "source": [
    "df1['LOAN_CAT1'].value_counts()"
   ]
  },
  {
   "cell_type": "code",
   "execution_count": 14,
   "id": "56cbfce9",
   "metadata": {},
   "outputs": [],
   "source": [
    "# 0= 0-100,000\n",
    "# 1= 100,0000-500,000\n",
    "# 2= 500,000-1,000,000\n",
    "# 3=1,000,000 - 5,000,000\n",
    "# 4=5,000,000-10,000,000\n",
    "# 5=above 10,000,000"
   ]
  },
  {
   "cell_type": "code",
   "execution_count": 15,
   "id": "4e19d8b3",
   "metadata": {},
   "outputs": [],
   "source": [
    "X = df1.drop(columns=[\"LOAN_CAT1\"])\n",
    "Y = df1[\"LOAN_CAT1\"]"
   ]
  },
  {
   "cell_type": "code",
   "execution_count": 16,
   "id": "82628549",
   "metadata": {},
   "outputs": [],
   "source": [
    "from sklearn.model_selection import train_test_split\n",
    "from sklearn.metrics import accuracy_score,precision_score,recall_score, f1_score,  classification_report, confusion_matrix\n",
    "\n"
   ]
  },
  {
   "cell_type": "code",
   "execution_count": 17,
   "id": "28f23dc5",
   "metadata": {},
   "outputs": [],
   "source": [
    "X_train,X_test,y_train,y_test = train_test_split(X,Y,test_size=0.3,random_state=0)"
   ]
  },
  {
   "cell_type": "code",
   "execution_count": 18,
   "id": "908036f7",
   "metadata": {},
   "outputs": [
    {
     "data": {
      "text/plain": [
       "3    19130\n",
       "1    15095\n",
       "2     8615\n",
       "5     4203\n",
       "4     3684\n",
       "0     1418\n",
       "Name: LOAN_CAT1, dtype: int64"
      ]
     },
     "execution_count": 18,
     "metadata": {},
     "output_type": "execute_result"
    }
   ],
   "source": [
    "y_train.value_counts()"
   ]
  },
  {
   "cell_type": "code",
   "execution_count": 19,
   "id": "81337030",
   "metadata": {},
   "outputs": [
    {
     "name": "stdout",
     "output_type": "stream",
     "text": [
      "Dataset after resampling:\n",
      "[(0, 19130), (1, 19130), (2, 19130), (3, 19130), (4, 19130), (5, 19130)]\n"
     ]
    }
   ],
   "source": [
    "from imblearn.over_sampling import SMOTE\n",
    "from imblearn.over_sampling import SMOTENC\n",
    "from collections import Counter\n",
    "sm = SMOTE()\n",
    "X_sm, Y_sm=sm.fit_resample(X_train,y_train)\n",
    "print('Dataset after resampling:')\n",
    "print(sorted(Counter(Y_sm).items()))"
   ]
  },
  {
   "cell_type": "code",
   "execution_count": 20,
   "id": "cb8f858b",
   "metadata": {},
   "outputs": [],
   "source": [
    "from sklearn.preprocessing import StandardScaler\n",
    "scaler =  StandardScaler()\n",
    "scaler=scaler.fit(X_sm)\n",
    "X_resampled=scaler.transform(X_sm)\n",
    "X_test=scaler.transform(X_test)\n"
   ]
  },
  {
   "cell_type": "code",
   "execution_count": 21,
   "id": "7e10a00b",
   "metadata": {},
   "outputs": [
    {
     "data": {
      "text/plain": [
       "['scaler.save']"
      ]
     },
     "execution_count": 21,
     "metadata": {},
     "output_type": "execute_result"
    }
   ],
   "source": [
    "import joblib\n",
    "scaler_filename = \"scaler.save\"\n",
    "joblib.dump(scaler, scaler_filename) "
   ]
  },
  {
   "cell_type": "code",
   "execution_count": 22,
   "id": "7eee1a83",
   "metadata": {},
   "outputs": [
    {
     "data": {
      "text/html": [
       "<style>#sk-container-id-1 {color: black;background-color: white;}#sk-container-id-1 pre{padding: 0;}#sk-container-id-1 div.sk-toggleable {background-color: white;}#sk-container-id-1 label.sk-toggleable__label {cursor: pointer;display: block;width: 100%;margin-bottom: 0;padding: 0.3em;box-sizing: border-box;text-align: center;}#sk-container-id-1 label.sk-toggleable__label-arrow:before {content: \"▸\";float: left;margin-right: 0.25em;color: #696969;}#sk-container-id-1 label.sk-toggleable__label-arrow:hover:before {color: black;}#sk-container-id-1 div.sk-estimator:hover label.sk-toggleable__label-arrow:before {color: black;}#sk-container-id-1 div.sk-toggleable__content {max-height: 0;max-width: 0;overflow: hidden;text-align: left;background-color: #f0f8ff;}#sk-container-id-1 div.sk-toggleable__content pre {margin: 0.2em;color: black;border-radius: 0.25em;background-color: #f0f8ff;}#sk-container-id-1 input.sk-toggleable__control:checked~div.sk-toggleable__content {max-height: 200px;max-width: 100%;overflow: auto;}#sk-container-id-1 input.sk-toggleable__control:checked~label.sk-toggleable__label-arrow:before {content: \"▾\";}#sk-container-id-1 div.sk-estimator input.sk-toggleable__control:checked~label.sk-toggleable__label {background-color: #d4ebff;}#sk-container-id-1 div.sk-label input.sk-toggleable__control:checked~label.sk-toggleable__label {background-color: #d4ebff;}#sk-container-id-1 input.sk-hidden--visually {border: 0;clip: rect(1px 1px 1px 1px);clip: rect(1px, 1px, 1px, 1px);height: 1px;margin: -1px;overflow: hidden;padding: 0;position: absolute;width: 1px;}#sk-container-id-1 div.sk-estimator {font-family: monospace;background-color: #f0f8ff;border: 1px dotted black;border-radius: 0.25em;box-sizing: border-box;margin-bottom: 0.5em;}#sk-container-id-1 div.sk-estimator:hover {background-color: #d4ebff;}#sk-container-id-1 div.sk-parallel-item::after {content: \"\";width: 100%;border-bottom: 1px solid gray;flex-grow: 1;}#sk-container-id-1 div.sk-label:hover label.sk-toggleable__label {background-color: #d4ebff;}#sk-container-id-1 div.sk-serial::before {content: \"\";position: absolute;border-left: 1px solid gray;box-sizing: border-box;top: 0;bottom: 0;left: 50%;z-index: 0;}#sk-container-id-1 div.sk-serial {display: flex;flex-direction: column;align-items: center;background-color: white;padding-right: 0.2em;padding-left: 0.2em;position: relative;}#sk-container-id-1 div.sk-item {position: relative;z-index: 1;}#sk-container-id-1 div.sk-parallel {display: flex;align-items: stretch;justify-content: center;background-color: white;position: relative;}#sk-container-id-1 div.sk-item::before, #sk-container-id-1 div.sk-parallel-item::before {content: \"\";position: absolute;border-left: 1px solid gray;box-sizing: border-box;top: 0;bottom: 0;left: 50%;z-index: -1;}#sk-container-id-1 div.sk-parallel-item {display: flex;flex-direction: column;z-index: 1;position: relative;background-color: white;}#sk-container-id-1 div.sk-parallel-item:first-child::after {align-self: flex-end;width: 50%;}#sk-container-id-1 div.sk-parallel-item:last-child::after {align-self: flex-start;width: 50%;}#sk-container-id-1 div.sk-parallel-item:only-child::after {width: 0;}#sk-container-id-1 div.sk-dashed-wrapped {border: 1px dashed gray;margin: 0 0.4em 0.5em 0.4em;box-sizing: border-box;padding-bottom: 0.4em;background-color: white;}#sk-container-id-1 div.sk-label label {font-family: monospace;font-weight: bold;display: inline-block;line-height: 1.2em;}#sk-container-id-1 div.sk-label-container {text-align: center;}#sk-container-id-1 div.sk-container {/* jupyter's `normalize.less` sets `[hidden] { display: none; }` but bootstrap.min.css set `[hidden] { display: none !important; }` so we also need the `!important` here to be able to override the default hidden behavior on the sphinx rendered scikit-learn.org. See: https://github.com/scikit-learn/scikit-learn/issues/21755 */display: inline-block !important;position: relative;}#sk-container-id-1 div.sk-text-repr-fallback {display: none;}</style><div id=\"sk-container-id-1\" class=\"sk-top-container\"><div class=\"sk-text-repr-fallback\"><pre>XGBClassifier(base_score=None, booster=None, callbacks=None,\n",
       "              colsample_bylevel=None, colsample_bynode=None,\n",
       "              colsample_bytree=None, device=None, early_stopping_rounds=None,\n",
       "              enable_categorical=False, eval_metric=None, feature_types=None,\n",
       "              gamma=None, grow_policy=None, importance_type=None,\n",
       "              interaction_constraints=None, learning_rate=None, max_bin=None,\n",
       "              max_cat_threshold=None, max_cat_to_onehot=None,\n",
       "              max_delta_step=None, max_depth=None, max_leaves=None,\n",
       "              min_child_weight=None, missing=nan, monotone_constraints=None,\n",
       "              multi_strategy=None, n_estimators=None, n_jobs=None,\n",
       "              num_parallel_tree=None, objective=&#x27;multi:softprob&#x27;, ...)</pre><b>In a Jupyter environment, please rerun this cell to show the HTML representation or trust the notebook. <br />On GitHub, the HTML representation is unable to render, please try loading this page with nbviewer.org.</b></div><div class=\"sk-container\" hidden><div class=\"sk-item\"><div class=\"sk-estimator sk-toggleable\"><input class=\"sk-toggleable__control sk-hidden--visually\" id=\"sk-estimator-id-1\" type=\"checkbox\" checked><label for=\"sk-estimator-id-1\" class=\"sk-toggleable__label sk-toggleable__label-arrow\">XGBClassifier</label><div class=\"sk-toggleable__content\"><pre>XGBClassifier(base_score=None, booster=None, callbacks=None,\n",
       "              colsample_bylevel=None, colsample_bynode=None,\n",
       "              colsample_bytree=None, device=None, early_stopping_rounds=None,\n",
       "              enable_categorical=False, eval_metric=None, feature_types=None,\n",
       "              gamma=None, grow_policy=None, importance_type=None,\n",
       "              interaction_constraints=None, learning_rate=None, max_bin=None,\n",
       "              max_cat_threshold=None, max_cat_to_onehot=None,\n",
       "              max_delta_step=None, max_depth=None, max_leaves=None,\n",
       "              min_child_weight=None, missing=nan, monotone_constraints=None,\n",
       "              multi_strategy=None, n_estimators=None, n_jobs=None,\n",
       "              num_parallel_tree=None, objective=&#x27;multi:softprob&#x27;, ...)</pre></div></div></div></div></div>"
      ],
      "text/plain": [
       "XGBClassifier(base_score=None, booster=None, callbacks=None,\n",
       "              colsample_bylevel=None, colsample_bynode=None,\n",
       "              colsample_bytree=None, device=None, early_stopping_rounds=None,\n",
       "              enable_categorical=False, eval_metric=None, feature_types=None,\n",
       "              gamma=None, grow_policy=None, importance_type=None,\n",
       "              interaction_constraints=None, learning_rate=None, max_bin=None,\n",
       "              max_cat_threshold=None, max_cat_to_onehot=None,\n",
       "              max_delta_step=None, max_depth=None, max_leaves=None,\n",
       "              min_child_weight=None, missing=nan, monotone_constraints=None,\n",
       "              multi_strategy=None, n_estimators=None, n_jobs=None,\n",
       "              num_parallel_tree=None, objective='multi:softprob', ...)"
      ]
     },
     "execution_count": 22,
     "metadata": {},
     "output_type": "execute_result"
    }
   ],
   "source": [
    "import xgboost as xgb\n",
    "xg_boost=xgb.XGBClassifier()\n",
    "xg_boost.fit(X_resampled, Y_sm)"
   ]
  },
  {
   "cell_type": "code",
   "execution_count": 23,
   "id": "f18feb0e",
   "metadata": {},
   "outputs": [
    {
     "name": "stdout",
     "output_type": "stream",
     "text": [
      "Accuracy Score: 0.7309499306456665\n",
      "Precision (Macro): 0.6722216239008075\n",
      "Recall (Macro): 0.7547200322860729\n",
      "F1 Score (Macro): 0.6950471998720432\n",
      "Confusion Matrix:\n",
      "[[ 483   86   13    3    1    1]\n",
      " [ 592 4698 1023   50   10    3]\n",
      " [  51  649 2662  361   18    4]\n",
      " [  34  148 1309 5851  837   60]\n",
      " [   2    6    7  249 1156  207]\n",
      " [   1    1    5   37  245 1486]]\n",
      "\n",
      "Classification Report:\n",
      "               precision    recall  f1-score   support\n",
      "\n",
      "           0       0.42      0.82      0.55       587\n",
      "           1       0.84      0.74      0.79      6376\n",
      "           2       0.53      0.71      0.61      3745\n",
      "           3       0.89      0.71      0.79      8239\n",
      "           4       0.51      0.71      0.59      1627\n",
      "           5       0.84      0.84      0.84      1775\n",
      "\n",
      "    accuracy                           0.73     22349\n",
      "   macro avg       0.67      0.75      0.70     22349\n",
      "weighted avg       0.77      0.73      0.74     22349\n",
      "\n"
     ]
    }
   ],
   "source": [
    "from sklearn.metrics import accuracy_score, precision_score, recall_score, f1_score, confusion_matrix\n",
    "\n",
    "# Make predictions on the test set\n",
    "y_pred = xg_boost.predict(X_test)\n",
    "\n",
    "acc = accuracy_score(y_test, y_pred)\n",
    "prec_macro = precision_score(y_test, y_pred, average='macro')\n",
    "recall_macro = recall_score(y_test, y_pred, average='macro')\n",
    "f1_macro = f1_score(y_test, y_pred, average='macro')\n",
    "classification_rep = classification_report(y_test, y_pred)\n",
    "print(\"Accuracy Score:\", acc)\n",
    "print(\"Precision (Macro):\", prec_macro)\n",
    "print(\"Recall (Macro):\", recall_macro)\n",
    "print(\"F1 Score (Macro):\", f1_macro)\n",
    "\n",
    "# Confusion Matrix\n",
    "cf_matrix = confusion_matrix(y_test, y_pred)\n",
    "print(\"Confusion Matrix:\")\n",
    "print(cf_matrix)\n",
    "print(\"\\nClassification Report:\\n\", classification_rep)"
   ]
  },
  {
   "cell_type": "code",
   "execution_count": 24,
   "id": "d5063854",
   "metadata": {},
   "outputs": [],
   "source": [
    "y_pred_train_XG = xg_boost.predict(X_resampled)"
   ]
  },
  {
   "cell_type": "code",
   "execution_count": 25,
   "id": "25815262",
   "metadata": {},
   "outputs": [
    {
     "name": "stdout",
     "output_type": "stream",
     "text": [
      "Accuracy Score: 0.846549921589127\n",
      "Precision (Macro): 0.8475181760362682\n",
      "Recall (Macro): 0.8465499215891271\n",
      "F1 Score (Macro): 0.8463028558157745\n",
      "Confusion Matrix:\n",
      "[[18533   397   139    54     5     2]\n",
      " [ 1501 15100  2413    98    10     8]\n",
      " [  196  2840 15129   909    43    13]\n",
      " [   52   273  2562 14508  1659    76]\n",
      " [   24     5    48  1694 16582   777]\n",
      " [    0     2     6   148  1659 17315]]\n",
      "\n",
      "Classification Report:\n",
      "               precision    recall  f1-score   support\n",
      "\n",
      "           0       0.91      0.97      0.94     19130\n",
      "           1       0.81      0.79      0.80     19130\n",
      "           2       0.75      0.79      0.77     19130\n",
      "           3       0.83      0.76      0.79     19130\n",
      "           4       0.83      0.87      0.85     19130\n",
      "           5       0.95      0.91      0.93     19130\n",
      "\n",
      "    accuracy                           0.85    114780\n",
      "   macro avg       0.85      0.85      0.85    114780\n",
      "weighted avg       0.85      0.85      0.85    114780\n",
      "\n"
     ]
    }
   ],
   "source": [
    "acc = accuracy_score(Y_sm, y_pred_train_XG)\n",
    "prec_macro = precision_score(Y_sm, y_pred_train_XG, average='macro')\n",
    "recall_macro = recall_score(Y_sm, y_pred_train_XG, average='macro')\n",
    "f1_macro = f1_score(Y_sm, y_pred_train_XG, average='macro')\n",
    "classification_rep = classification_report(Y_sm,y_pred_train_XG)\n",
    "print(\"Accuracy Score:\", acc)\n",
    "print(\"Precision (Macro):\", prec_macro)\n",
    "print(\"Recall (Macro):\", recall_macro)\n",
    "print(\"F1 Score (Macro):\", f1_macro)\n",
    "\n",
    "# Confusion Matrix\n",
    "cf_matrix_XG = confusion_matrix(Y_sm, y_pred_train_XG)\n",
    "print(\"Confusion Matrix:\")\n",
    "print(cf_matrix_XG )\n",
    "print(\"\\nClassification Report:\\n\", classification_rep)"
   ]
  },
  {
   "cell_type": "code",
   "execution_count": 26,
   "id": "6c32b5b4",
   "metadata": {},
   "outputs": [],
   "source": [
    "from sklearn.metrics import roc_curve,auc\n",
    "y_prob1=xg_boost.predict_proba(X_test)"
   ]
  },
  {
   "cell_type": "code",
   "execution_count": 27,
   "id": "0dab445a",
   "metadata": {},
   "outputs": [
    {
     "data": {
      "text/plain": [
       "0.9514461040294492"
      ]
     },
     "execution_count": 27,
     "metadata": {},
     "output_type": "execute_result"
    }
   ],
   "source": [
    "from sklearn.metrics import roc_auc_score\n",
    "roc_auc_score(y_test,y_prob1,multi_class='ovr')"
   ]
  },
  {
   "cell_type": "code",
   "execution_count": 28,
   "id": "d05112b0",
   "metadata": {},
   "outputs": [],
   "source": [
    "# tuning"
   ]
  },
  {
   "cell_type": "code",
   "execution_count": 29,
   "id": "e0a9a317",
   "metadata": {},
   "outputs": [],
   "source": [
    "from xgboost import XGBClassifier\n",
    "from sklearn.model_selection import GridSearchCV\n",
    "xgb= XGBClassifier()\n",
    "xg_param_grid = {\n",
    "              'n_estimators' : [100,200],\n",
    "              'learning_rate': [0.01, 0.005],\n",
    "              'max_depth': [4,8],\n",
    "               'booster': ['gbtree'], \n",
    "              'min_samples_leaf': [100,150],\n",
    "              \n",
    "              }"
   ]
  },
  {
   "cell_type": "code",
   "execution_count": 30,
   "id": "d0443aca",
   "metadata": {},
   "outputs": [
    {
     "name": "stdout",
     "output_type": "stream",
     "text": [
      "Fitting 5 folds for each of 16 candidates, totalling 80 fits\n"
     ]
    },
    {
     "name": "stderr",
     "output_type": "stream",
     "text": [
      "C:\\Users\\15694\\AppData\\Roaming\\Python\\Python311\\site-packages\\xgboost\\core.py:158: UserWarning: [16:58:09] WARNING: C:\\buildkite-agent\\builds\\buildkite-windows-cpu-autoscaling-group-i-06abd128ca6c1688d-1\\xgboost\\xgboost-ci-windows\\src\\learner.cc:740: \n",
      "Parameters: { \"min_samples_leaf\" } are not used.\n",
      "\n",
      "  warnings.warn(smsg, UserWarning)\n"
     ]
    },
    {
     "data": {
      "text/html": [
       "<style>#sk-container-id-2 {color: black;background-color: white;}#sk-container-id-2 pre{padding: 0;}#sk-container-id-2 div.sk-toggleable {background-color: white;}#sk-container-id-2 label.sk-toggleable__label {cursor: pointer;display: block;width: 100%;margin-bottom: 0;padding: 0.3em;box-sizing: border-box;text-align: center;}#sk-container-id-2 label.sk-toggleable__label-arrow:before {content: \"▸\";float: left;margin-right: 0.25em;color: #696969;}#sk-container-id-2 label.sk-toggleable__label-arrow:hover:before {color: black;}#sk-container-id-2 div.sk-estimator:hover label.sk-toggleable__label-arrow:before {color: black;}#sk-container-id-2 div.sk-toggleable__content {max-height: 0;max-width: 0;overflow: hidden;text-align: left;background-color: #f0f8ff;}#sk-container-id-2 div.sk-toggleable__content pre {margin: 0.2em;color: black;border-radius: 0.25em;background-color: #f0f8ff;}#sk-container-id-2 input.sk-toggleable__control:checked~div.sk-toggleable__content {max-height: 200px;max-width: 100%;overflow: auto;}#sk-container-id-2 input.sk-toggleable__control:checked~label.sk-toggleable__label-arrow:before {content: \"▾\";}#sk-container-id-2 div.sk-estimator input.sk-toggleable__control:checked~label.sk-toggleable__label {background-color: #d4ebff;}#sk-container-id-2 div.sk-label input.sk-toggleable__control:checked~label.sk-toggleable__label {background-color: #d4ebff;}#sk-container-id-2 input.sk-hidden--visually {border: 0;clip: rect(1px 1px 1px 1px);clip: rect(1px, 1px, 1px, 1px);height: 1px;margin: -1px;overflow: hidden;padding: 0;position: absolute;width: 1px;}#sk-container-id-2 div.sk-estimator {font-family: monospace;background-color: #f0f8ff;border: 1px dotted black;border-radius: 0.25em;box-sizing: border-box;margin-bottom: 0.5em;}#sk-container-id-2 div.sk-estimator:hover {background-color: #d4ebff;}#sk-container-id-2 div.sk-parallel-item::after {content: \"\";width: 100%;border-bottom: 1px solid gray;flex-grow: 1;}#sk-container-id-2 div.sk-label:hover label.sk-toggleable__label {background-color: #d4ebff;}#sk-container-id-2 div.sk-serial::before {content: \"\";position: absolute;border-left: 1px solid gray;box-sizing: border-box;top: 0;bottom: 0;left: 50%;z-index: 0;}#sk-container-id-2 div.sk-serial {display: flex;flex-direction: column;align-items: center;background-color: white;padding-right: 0.2em;padding-left: 0.2em;position: relative;}#sk-container-id-2 div.sk-item {position: relative;z-index: 1;}#sk-container-id-2 div.sk-parallel {display: flex;align-items: stretch;justify-content: center;background-color: white;position: relative;}#sk-container-id-2 div.sk-item::before, #sk-container-id-2 div.sk-parallel-item::before {content: \"\";position: absolute;border-left: 1px solid gray;box-sizing: border-box;top: 0;bottom: 0;left: 50%;z-index: -1;}#sk-container-id-2 div.sk-parallel-item {display: flex;flex-direction: column;z-index: 1;position: relative;background-color: white;}#sk-container-id-2 div.sk-parallel-item:first-child::after {align-self: flex-end;width: 50%;}#sk-container-id-2 div.sk-parallel-item:last-child::after {align-self: flex-start;width: 50%;}#sk-container-id-2 div.sk-parallel-item:only-child::after {width: 0;}#sk-container-id-2 div.sk-dashed-wrapped {border: 1px dashed gray;margin: 0 0.4em 0.5em 0.4em;box-sizing: border-box;padding-bottom: 0.4em;background-color: white;}#sk-container-id-2 div.sk-label label {font-family: monospace;font-weight: bold;display: inline-block;line-height: 1.2em;}#sk-container-id-2 div.sk-label-container {text-align: center;}#sk-container-id-2 div.sk-container {/* jupyter's `normalize.less` sets `[hidden] { display: none; }` but bootstrap.min.css set `[hidden] { display: none !important; }` so we also need the `!important` here to be able to override the default hidden behavior on the sphinx rendered scikit-learn.org. See: https://github.com/scikit-learn/scikit-learn/issues/21755 */display: inline-block !important;position: relative;}#sk-container-id-2 div.sk-text-repr-fallback {display: none;}</style><div id=\"sk-container-id-2\" class=\"sk-top-container\"><div class=\"sk-text-repr-fallback\"><pre>GridSearchCV(cv=5,\n",
       "             estimator=XGBClassifier(base_score=None, booster=None,\n",
       "                                     callbacks=None, colsample_bylevel=None,\n",
       "                                     colsample_bynode=None,\n",
       "                                     colsample_bytree=None, device=None,\n",
       "                                     early_stopping_rounds=None,\n",
       "                                     enable_categorical=False, eval_metric=None,\n",
       "                                     feature_types=None, gamma=None,\n",
       "                                     grow_policy=None, importance_type=None,\n",
       "                                     interaction_constraints=None,\n",
       "                                     learning_rate=None,...\n",
       "                                     max_delta_step=None, max_depth=None,\n",
       "                                     max_leaves=None, min_child_weight=None,\n",
       "                                     missing=nan, monotone_constraints=None,\n",
       "                                     multi_strategy=None, n_estimators=None,\n",
       "                                     n_jobs=None, num_parallel_tree=None,\n",
       "                                     random_state=None, ...),\n",
       "             n_jobs=4,\n",
       "             param_grid={&#x27;booster&#x27;: [&#x27;gbtree&#x27;], &#x27;learning_rate&#x27;: [0.01, 0.005],\n",
       "                         &#x27;max_depth&#x27;: [4, 8], &#x27;min_samples_leaf&#x27;: [100, 150],\n",
       "                         &#x27;n_estimators&#x27;: [100, 200]},\n",
       "             scoring=&#x27;accuracy&#x27;, verbose=2)</pre><b>In a Jupyter environment, please rerun this cell to show the HTML representation or trust the notebook. <br />On GitHub, the HTML representation is unable to render, please try loading this page with nbviewer.org.</b></div><div class=\"sk-container\" hidden><div class=\"sk-item sk-dashed-wrapped\"><div class=\"sk-label-container\"><div class=\"sk-label sk-toggleable\"><input class=\"sk-toggleable__control sk-hidden--visually\" id=\"sk-estimator-id-2\" type=\"checkbox\" ><label for=\"sk-estimator-id-2\" class=\"sk-toggleable__label sk-toggleable__label-arrow\">GridSearchCV</label><div class=\"sk-toggleable__content\"><pre>GridSearchCV(cv=5,\n",
       "             estimator=XGBClassifier(base_score=None, booster=None,\n",
       "                                     callbacks=None, colsample_bylevel=None,\n",
       "                                     colsample_bynode=None,\n",
       "                                     colsample_bytree=None, device=None,\n",
       "                                     early_stopping_rounds=None,\n",
       "                                     enable_categorical=False, eval_metric=None,\n",
       "                                     feature_types=None, gamma=None,\n",
       "                                     grow_policy=None, importance_type=None,\n",
       "                                     interaction_constraints=None,\n",
       "                                     learning_rate=None,...\n",
       "                                     max_delta_step=None, max_depth=None,\n",
       "                                     max_leaves=None, min_child_weight=None,\n",
       "                                     missing=nan, monotone_constraints=None,\n",
       "                                     multi_strategy=None, n_estimators=None,\n",
       "                                     n_jobs=None, num_parallel_tree=None,\n",
       "                                     random_state=None, ...),\n",
       "             n_jobs=4,\n",
       "             param_grid={&#x27;booster&#x27;: [&#x27;gbtree&#x27;], &#x27;learning_rate&#x27;: [0.01, 0.005],\n",
       "                         &#x27;max_depth&#x27;: [4, 8], &#x27;min_samples_leaf&#x27;: [100, 150],\n",
       "                         &#x27;n_estimators&#x27;: [100, 200]},\n",
       "             scoring=&#x27;accuracy&#x27;, verbose=2)</pre></div></div></div><div class=\"sk-parallel\"><div class=\"sk-parallel-item\"><div class=\"sk-item\"><div class=\"sk-label-container\"><div class=\"sk-label sk-toggleable\"><input class=\"sk-toggleable__control sk-hidden--visually\" id=\"sk-estimator-id-3\" type=\"checkbox\" ><label for=\"sk-estimator-id-3\" class=\"sk-toggleable__label sk-toggleable__label-arrow\">estimator: XGBClassifier</label><div class=\"sk-toggleable__content\"><pre>XGBClassifier(base_score=None, booster=None, callbacks=None,\n",
       "              colsample_bylevel=None, colsample_bynode=None,\n",
       "              colsample_bytree=None, device=None, early_stopping_rounds=None,\n",
       "              enable_categorical=False, eval_metric=None, feature_types=None,\n",
       "              gamma=None, grow_policy=None, importance_type=None,\n",
       "              interaction_constraints=None, learning_rate=None, max_bin=None,\n",
       "              max_cat_threshold=None, max_cat_to_onehot=None,\n",
       "              max_delta_step=None, max_depth=None, max_leaves=None,\n",
       "              min_child_weight=None, missing=nan, monotone_constraints=None,\n",
       "              multi_strategy=None, n_estimators=None, n_jobs=None,\n",
       "              num_parallel_tree=None, random_state=None, ...)</pre></div></div></div><div class=\"sk-serial\"><div class=\"sk-item\"><div class=\"sk-estimator sk-toggleable\"><input class=\"sk-toggleable__control sk-hidden--visually\" id=\"sk-estimator-id-4\" type=\"checkbox\" ><label for=\"sk-estimator-id-4\" class=\"sk-toggleable__label sk-toggleable__label-arrow\">XGBClassifier</label><div class=\"sk-toggleable__content\"><pre>XGBClassifier(base_score=None, booster=None, callbacks=None,\n",
       "              colsample_bylevel=None, colsample_bynode=None,\n",
       "              colsample_bytree=None, device=None, early_stopping_rounds=None,\n",
       "              enable_categorical=False, eval_metric=None, feature_types=None,\n",
       "              gamma=None, grow_policy=None, importance_type=None,\n",
       "              interaction_constraints=None, learning_rate=None, max_bin=None,\n",
       "              max_cat_threshold=None, max_cat_to_onehot=None,\n",
       "              max_delta_step=None, max_depth=None, max_leaves=None,\n",
       "              min_child_weight=None, missing=nan, monotone_constraints=None,\n",
       "              multi_strategy=None, n_estimators=None, n_jobs=None,\n",
       "              num_parallel_tree=None, random_state=None, ...)</pre></div></div></div></div></div></div></div></div></div></div>"
      ],
      "text/plain": [
       "GridSearchCV(cv=5,\n",
       "             estimator=XGBClassifier(base_score=None, booster=None,\n",
       "                                     callbacks=None, colsample_bylevel=None,\n",
       "                                     colsample_bynode=None,\n",
       "                                     colsample_bytree=None, device=None,\n",
       "                                     early_stopping_rounds=None,\n",
       "                                     enable_categorical=False, eval_metric=None,\n",
       "                                     feature_types=None, gamma=None,\n",
       "                                     grow_policy=None, importance_type=None,\n",
       "                                     interaction_constraints=None,\n",
       "                                     learning_rate=None,...\n",
       "                                     max_delta_step=None, max_depth=None,\n",
       "                                     max_leaves=None, min_child_weight=None,\n",
       "                                     missing=nan, monotone_constraints=None,\n",
       "                                     multi_strategy=None, n_estimators=None,\n",
       "                                     n_jobs=None, num_parallel_tree=None,\n",
       "                                     random_state=None, ...),\n",
       "             n_jobs=4,\n",
       "             param_grid={'booster': ['gbtree'], 'learning_rate': [0.01, 0.005],\n",
       "                         'max_depth': [4, 8], 'min_samples_leaf': [100, 150],\n",
       "                         'n_estimators': [100, 200]},\n",
       "             scoring='accuracy', verbose=2)"
      ]
     },
     "execution_count": 30,
     "metadata": {},
     "output_type": "execute_result"
    }
   ],
   "source": [
    "gsxgb = GridSearchCV(xgb,param_grid = xg_param_grid, cv=5, scoring=\"accuracy\", n_jobs= 4, verbose = 2)\n",
    "\n",
    "gsxgb.fit(X_resampled, Y_sm)\n"
   ]
  },
  {
   "cell_type": "code",
   "execution_count": 31,
   "id": "58c06648",
   "metadata": {},
   "outputs": [
    {
     "data": {
      "text/html": [
       "<style>#sk-container-id-3 {color: black;background-color: white;}#sk-container-id-3 pre{padding: 0;}#sk-container-id-3 div.sk-toggleable {background-color: white;}#sk-container-id-3 label.sk-toggleable__label {cursor: pointer;display: block;width: 100%;margin-bottom: 0;padding: 0.3em;box-sizing: border-box;text-align: center;}#sk-container-id-3 label.sk-toggleable__label-arrow:before {content: \"▸\";float: left;margin-right: 0.25em;color: #696969;}#sk-container-id-3 label.sk-toggleable__label-arrow:hover:before {color: black;}#sk-container-id-3 div.sk-estimator:hover label.sk-toggleable__label-arrow:before {color: black;}#sk-container-id-3 div.sk-toggleable__content {max-height: 0;max-width: 0;overflow: hidden;text-align: left;background-color: #f0f8ff;}#sk-container-id-3 div.sk-toggleable__content pre {margin: 0.2em;color: black;border-radius: 0.25em;background-color: #f0f8ff;}#sk-container-id-3 input.sk-toggleable__control:checked~div.sk-toggleable__content {max-height: 200px;max-width: 100%;overflow: auto;}#sk-container-id-3 input.sk-toggleable__control:checked~label.sk-toggleable__label-arrow:before {content: \"▾\";}#sk-container-id-3 div.sk-estimator input.sk-toggleable__control:checked~label.sk-toggleable__label {background-color: #d4ebff;}#sk-container-id-3 div.sk-label input.sk-toggleable__control:checked~label.sk-toggleable__label {background-color: #d4ebff;}#sk-container-id-3 input.sk-hidden--visually {border: 0;clip: rect(1px 1px 1px 1px);clip: rect(1px, 1px, 1px, 1px);height: 1px;margin: -1px;overflow: hidden;padding: 0;position: absolute;width: 1px;}#sk-container-id-3 div.sk-estimator {font-family: monospace;background-color: #f0f8ff;border: 1px dotted black;border-radius: 0.25em;box-sizing: border-box;margin-bottom: 0.5em;}#sk-container-id-3 div.sk-estimator:hover {background-color: #d4ebff;}#sk-container-id-3 div.sk-parallel-item::after {content: \"\";width: 100%;border-bottom: 1px solid gray;flex-grow: 1;}#sk-container-id-3 div.sk-label:hover label.sk-toggleable__label {background-color: #d4ebff;}#sk-container-id-3 div.sk-serial::before {content: \"\";position: absolute;border-left: 1px solid gray;box-sizing: border-box;top: 0;bottom: 0;left: 50%;z-index: 0;}#sk-container-id-3 div.sk-serial {display: flex;flex-direction: column;align-items: center;background-color: white;padding-right: 0.2em;padding-left: 0.2em;position: relative;}#sk-container-id-3 div.sk-item {position: relative;z-index: 1;}#sk-container-id-3 div.sk-parallel {display: flex;align-items: stretch;justify-content: center;background-color: white;position: relative;}#sk-container-id-3 div.sk-item::before, #sk-container-id-3 div.sk-parallel-item::before {content: \"\";position: absolute;border-left: 1px solid gray;box-sizing: border-box;top: 0;bottom: 0;left: 50%;z-index: -1;}#sk-container-id-3 div.sk-parallel-item {display: flex;flex-direction: column;z-index: 1;position: relative;background-color: white;}#sk-container-id-3 div.sk-parallel-item:first-child::after {align-self: flex-end;width: 50%;}#sk-container-id-3 div.sk-parallel-item:last-child::after {align-self: flex-start;width: 50%;}#sk-container-id-3 div.sk-parallel-item:only-child::after {width: 0;}#sk-container-id-3 div.sk-dashed-wrapped {border: 1px dashed gray;margin: 0 0.4em 0.5em 0.4em;box-sizing: border-box;padding-bottom: 0.4em;background-color: white;}#sk-container-id-3 div.sk-label label {font-family: monospace;font-weight: bold;display: inline-block;line-height: 1.2em;}#sk-container-id-3 div.sk-label-container {text-align: center;}#sk-container-id-3 div.sk-container {/* jupyter's `normalize.less` sets `[hidden] { display: none; }` but bootstrap.min.css set `[hidden] { display: none !important; }` so we also need the `!important` here to be able to override the default hidden behavior on the sphinx rendered scikit-learn.org. See: https://github.com/scikit-learn/scikit-learn/issues/21755 */display: inline-block !important;position: relative;}#sk-container-id-3 div.sk-text-repr-fallback {display: none;}</style><div id=\"sk-container-id-3\" class=\"sk-top-container\"><div class=\"sk-text-repr-fallback\"><pre>XGBClassifier(base_score=None, booster=&#x27;gbtree&#x27;, callbacks=None,\n",
       "              colsample_bylevel=None, colsample_bynode=None,\n",
       "              colsample_bytree=None, device=None, early_stopping_rounds=None,\n",
       "              enable_categorical=False, eval_metric=None, feature_types=None,\n",
       "              gamma=None, grow_policy=None, importance_type=None,\n",
       "              interaction_constraints=None, learning_rate=0.01, max_bin=None,\n",
       "              max_cat_threshold=None, max_cat_to_onehot=None,\n",
       "              max_delta_step=None, max_depth=8, max_leaves=None,\n",
       "              min_child_weight=None, min_samples_leaf=100, missing=nan,\n",
       "              monotone_constraints=None, multi_strategy=None, n_estimators=200,\n",
       "              n_jobs=None, num_parallel_tree=None, ...)</pre><b>In a Jupyter environment, please rerun this cell to show the HTML representation or trust the notebook. <br />On GitHub, the HTML representation is unable to render, please try loading this page with nbviewer.org.</b></div><div class=\"sk-container\" hidden><div class=\"sk-item\"><div class=\"sk-estimator sk-toggleable\"><input class=\"sk-toggleable__control sk-hidden--visually\" id=\"sk-estimator-id-5\" type=\"checkbox\" checked><label for=\"sk-estimator-id-5\" class=\"sk-toggleable__label sk-toggleable__label-arrow\">XGBClassifier</label><div class=\"sk-toggleable__content\"><pre>XGBClassifier(base_score=None, booster=&#x27;gbtree&#x27;, callbacks=None,\n",
       "              colsample_bylevel=None, colsample_bynode=None,\n",
       "              colsample_bytree=None, device=None, early_stopping_rounds=None,\n",
       "              enable_categorical=False, eval_metric=None, feature_types=None,\n",
       "              gamma=None, grow_policy=None, importance_type=None,\n",
       "              interaction_constraints=None, learning_rate=0.01, max_bin=None,\n",
       "              max_cat_threshold=None, max_cat_to_onehot=None,\n",
       "              max_delta_step=None, max_depth=8, max_leaves=None,\n",
       "              min_child_weight=None, min_samples_leaf=100, missing=nan,\n",
       "              monotone_constraints=None, multi_strategy=None, n_estimators=200,\n",
       "              n_jobs=None, num_parallel_tree=None, ...)</pre></div></div></div></div></div>"
      ],
      "text/plain": [
       "XGBClassifier(base_score=None, booster='gbtree', callbacks=None,\n",
       "              colsample_bylevel=None, colsample_bynode=None,\n",
       "              colsample_bytree=None, device=None, early_stopping_rounds=None,\n",
       "              enable_categorical=False, eval_metric=None, feature_types=None,\n",
       "              gamma=None, grow_policy=None, importance_type=None,\n",
       "              interaction_constraints=None, learning_rate=0.01, max_bin=None,\n",
       "              max_cat_threshold=None, max_cat_to_onehot=None,\n",
       "              max_delta_step=None, max_depth=8, max_leaves=None,\n",
       "              min_child_weight=None, min_samples_leaf=100, missing=nan,\n",
       "              monotone_constraints=None, multi_strategy=None, n_estimators=200,\n",
       "              n_jobs=None, num_parallel_tree=None, ...)"
      ]
     },
     "execution_count": 31,
     "metadata": {},
     "output_type": "execute_result"
    }
   ],
   "source": [
    "gsxgb.best_estimator_"
   ]
  },
  {
   "cell_type": "code",
   "execution_count": 32,
   "id": "782ace79",
   "metadata": {},
   "outputs": [
    {
     "name": "stderr",
     "output_type": "stream",
     "text": [
      "C:\\Users\\15694\\AppData\\Roaming\\Python\\Python311\\site-packages\\xgboost\\core.py:158: UserWarning: [16:58:16] WARNING: C:\\buildkite-agent\\builds\\buildkite-windows-cpu-autoscaling-group-i-06abd128ca6c1688d-1\\xgboost\\xgboost-ci-windows\\src\\learner.cc:740: \n",
      "Parameters: { \"min_samples_leaf\" } are not used.\n",
      "\n",
      "  warnings.warn(smsg, UserWarning)\n"
     ]
    },
    {
     "data": {
      "text/html": [
       "<style>#sk-container-id-4 {color: black;background-color: white;}#sk-container-id-4 pre{padding: 0;}#sk-container-id-4 div.sk-toggleable {background-color: white;}#sk-container-id-4 label.sk-toggleable__label {cursor: pointer;display: block;width: 100%;margin-bottom: 0;padding: 0.3em;box-sizing: border-box;text-align: center;}#sk-container-id-4 label.sk-toggleable__label-arrow:before {content: \"▸\";float: left;margin-right: 0.25em;color: #696969;}#sk-container-id-4 label.sk-toggleable__label-arrow:hover:before {color: black;}#sk-container-id-4 div.sk-estimator:hover label.sk-toggleable__label-arrow:before {color: black;}#sk-container-id-4 div.sk-toggleable__content {max-height: 0;max-width: 0;overflow: hidden;text-align: left;background-color: #f0f8ff;}#sk-container-id-4 div.sk-toggleable__content pre {margin: 0.2em;color: black;border-radius: 0.25em;background-color: #f0f8ff;}#sk-container-id-4 input.sk-toggleable__control:checked~div.sk-toggleable__content {max-height: 200px;max-width: 100%;overflow: auto;}#sk-container-id-4 input.sk-toggleable__control:checked~label.sk-toggleable__label-arrow:before {content: \"▾\";}#sk-container-id-4 div.sk-estimator input.sk-toggleable__control:checked~label.sk-toggleable__label {background-color: #d4ebff;}#sk-container-id-4 div.sk-label input.sk-toggleable__control:checked~label.sk-toggleable__label {background-color: #d4ebff;}#sk-container-id-4 input.sk-hidden--visually {border: 0;clip: rect(1px 1px 1px 1px);clip: rect(1px, 1px, 1px, 1px);height: 1px;margin: -1px;overflow: hidden;padding: 0;position: absolute;width: 1px;}#sk-container-id-4 div.sk-estimator {font-family: monospace;background-color: #f0f8ff;border: 1px dotted black;border-radius: 0.25em;box-sizing: border-box;margin-bottom: 0.5em;}#sk-container-id-4 div.sk-estimator:hover {background-color: #d4ebff;}#sk-container-id-4 div.sk-parallel-item::after {content: \"\";width: 100%;border-bottom: 1px solid gray;flex-grow: 1;}#sk-container-id-4 div.sk-label:hover label.sk-toggleable__label {background-color: #d4ebff;}#sk-container-id-4 div.sk-serial::before {content: \"\";position: absolute;border-left: 1px solid gray;box-sizing: border-box;top: 0;bottom: 0;left: 50%;z-index: 0;}#sk-container-id-4 div.sk-serial {display: flex;flex-direction: column;align-items: center;background-color: white;padding-right: 0.2em;padding-left: 0.2em;position: relative;}#sk-container-id-4 div.sk-item {position: relative;z-index: 1;}#sk-container-id-4 div.sk-parallel {display: flex;align-items: stretch;justify-content: center;background-color: white;position: relative;}#sk-container-id-4 div.sk-item::before, #sk-container-id-4 div.sk-parallel-item::before {content: \"\";position: absolute;border-left: 1px solid gray;box-sizing: border-box;top: 0;bottom: 0;left: 50%;z-index: -1;}#sk-container-id-4 div.sk-parallel-item {display: flex;flex-direction: column;z-index: 1;position: relative;background-color: white;}#sk-container-id-4 div.sk-parallel-item:first-child::after {align-self: flex-end;width: 50%;}#sk-container-id-4 div.sk-parallel-item:last-child::after {align-self: flex-start;width: 50%;}#sk-container-id-4 div.sk-parallel-item:only-child::after {width: 0;}#sk-container-id-4 div.sk-dashed-wrapped {border: 1px dashed gray;margin: 0 0.4em 0.5em 0.4em;box-sizing: border-box;padding-bottom: 0.4em;background-color: white;}#sk-container-id-4 div.sk-label label {font-family: monospace;font-weight: bold;display: inline-block;line-height: 1.2em;}#sk-container-id-4 div.sk-label-container {text-align: center;}#sk-container-id-4 div.sk-container {/* jupyter's `normalize.less` sets `[hidden] { display: none; }` but bootstrap.min.css set `[hidden] { display: none !important; }` so we also need the `!important` here to be able to override the default hidden behavior on the sphinx rendered scikit-learn.org. See: https://github.com/scikit-learn/scikit-learn/issues/21755 */display: inline-block !important;position: relative;}#sk-container-id-4 div.sk-text-repr-fallback {display: none;}</style><div id=\"sk-container-id-4\" class=\"sk-top-container\"><div class=\"sk-text-repr-fallback\"><pre>XGBClassifier(base_score=None, booster=None, callbacks=None,\n",
       "              colsample_bylevel=None, colsample_bynode=None,\n",
       "              colsample_bytree=None, device=None, early_stopping_rounds=None,\n",
       "              enable_categorical=False, eval_metric=None, feature_types=None,\n",
       "              gamma=None, grow_policy=None, importance_type=None,\n",
       "              interaction_constraints=None, learning_rate=0.01, max_bin=None,\n",
       "              max_cat_threshold=None, max_cat_to_onehot=None,\n",
       "              max_delta_step=None, max_depth=8, max_leaves=None,\n",
       "              min_child_weight=None, min_samples_leaf=100, missing=nan,\n",
       "              monotone_constraints=None, multi_strategy=None, n_estimators=200,\n",
       "              n_jobs=None, num_parallel_tree=None, ...)</pre><b>In a Jupyter environment, please rerun this cell to show the HTML representation or trust the notebook. <br />On GitHub, the HTML representation is unable to render, please try loading this page with nbviewer.org.</b></div><div class=\"sk-container\" hidden><div class=\"sk-item\"><div class=\"sk-estimator sk-toggleable\"><input class=\"sk-toggleable__control sk-hidden--visually\" id=\"sk-estimator-id-6\" type=\"checkbox\" checked><label for=\"sk-estimator-id-6\" class=\"sk-toggleable__label sk-toggleable__label-arrow\">XGBClassifier</label><div class=\"sk-toggleable__content\"><pre>XGBClassifier(base_score=None, booster=None, callbacks=None,\n",
       "              colsample_bylevel=None, colsample_bynode=None,\n",
       "              colsample_bytree=None, device=None, early_stopping_rounds=None,\n",
       "              enable_categorical=False, eval_metric=None, feature_types=None,\n",
       "              gamma=None, grow_policy=None, importance_type=None,\n",
       "              interaction_constraints=None, learning_rate=0.01, max_bin=None,\n",
       "              max_cat_threshold=None, max_cat_to_onehot=None,\n",
       "              max_delta_step=None, max_depth=8, max_leaves=None,\n",
       "              min_child_weight=None, min_samples_leaf=100, missing=nan,\n",
       "              monotone_constraints=None, multi_strategy=None, n_estimators=200,\n",
       "              n_jobs=None, num_parallel_tree=None, ...)</pre></div></div></div></div></div>"
      ],
      "text/plain": [
       "XGBClassifier(base_score=None, booster=None, callbacks=None,\n",
       "              colsample_bylevel=None, colsample_bynode=None,\n",
       "              colsample_bytree=None, device=None, early_stopping_rounds=None,\n",
       "              enable_categorical=False, eval_metric=None, feature_types=None,\n",
       "              gamma=None, grow_policy=None, importance_type=None,\n",
       "              interaction_constraints=None, learning_rate=0.01, max_bin=None,\n",
       "              max_cat_threshold=None, max_cat_to_onehot=None,\n",
       "              max_delta_step=None, max_depth=8, max_leaves=None,\n",
       "              min_child_weight=None, min_samples_leaf=100, missing=nan,\n",
       "              monotone_constraints=None, multi_strategy=None, n_estimators=200,\n",
       "              n_jobs=None, num_parallel_tree=None, ...)"
      ]
     },
     "execution_count": 32,
     "metadata": {},
     "output_type": "execute_result"
    }
   ],
   "source": [
    "best_xg_GCV=XGBClassifier(max_depth=8, n_estimators=200,learning_rate=0.01,min_samples_leaf=100)\n",
    "best_xg_GCV.fit(X_resampled, Y_sm)"
   ]
  },
  {
   "cell_type": "code",
   "execution_count": null,
   "id": "11b6a40a",
   "metadata": {},
   "outputs": [],
   "source": []
  },
  {
   "cell_type": "code",
   "execution_count": 33,
   "id": "8ab5f036",
   "metadata": {},
   "outputs": [],
   "source": [
    "y_pred_xg_GCV = best_xg_GCV.predict(X_test)\n",
    "y_pred_xg_GCV_train = best_xg_GCV.predict(X_resampled)"
   ]
  },
  {
   "cell_type": "code",
   "execution_count": 34,
   "id": "cf083564",
   "metadata": {},
   "outputs": [
    {
     "name": "stdout",
     "output_type": "stream",
     "text": [
      "Accuracy Score: 0.7160051903888317\n",
      "Precision (Macro): 0.6637616877386424\n",
      "Recall (Macro): 0.7550674014150967\n",
      "F1 Score (Macro): 0.6835227474664181\n",
      "Confusion Matrix:\n",
      "[[ 502   63   19    1    1    1]\n",
      " [ 713 4420 1169   52   19    3]\n",
      " [  68  597 2685  358   31    6]\n",
      " [  25  123 1358 5716  958   59]\n",
      " [   2    7   12  223 1209  174]\n",
      " [   1    1    2   25  276 1470]]\n",
      "\n",
      " Test Classification Report:\n",
      "               precision    recall  f1-score   support\n",
      "\n",
      "           0       0.38      0.86      0.53       587\n",
      "           1       0.85      0.69      0.76      6376\n",
      "           2       0.51      0.72      0.60      3745\n",
      "           3       0.90      0.69      0.78      8239\n",
      "           4       0.48      0.74      0.59      1627\n",
      "           5       0.86      0.83      0.84      1775\n",
      "\n",
      "    accuracy                           0.72     22349\n",
      "   macro avg       0.66      0.76      0.68     22349\n",
      "weighted avg       0.77      0.72      0.73     22349\n",
      "\n"
     ]
    }
   ],
   "source": [
    "acc = accuracy_score(y_test, y_pred_xg_GCV)\n",
    "prec_macro = precision_score(y_test,y_pred_xg_GCV, average='macro')\n",
    "recall_macro = recall_score(y_test, y_pred_xg_GCV, average='macro')\n",
    "f1_macro = f1_score(y_test,y_pred_xg_GCV, average='macro')\n",
    "classification_rep_xg_GCV = classification_report(y_test,y_pred_xg_GCV)\n",
    "print(\"Accuracy Score:\", acc)\n",
    "print(\"Precision (Macro):\", prec_macro)\n",
    "print(\"Recall (Macro):\", recall_macro)\n",
    "print(\"F1 Score (Macro):\", f1_macro)\n",
    "\n",
    "# Confusion Matrix\n",
    "cf_matrix_xg_gcv = confusion_matrix(y_test, y_pred_xg_GCV)\n",
    "print(\"Confusion Matrix:\")\n",
    "print(cf_matrix_xg_gcv)\n",
    "print(\"\\n Test Classification Report:\\n\", classification_rep_xg_GCV)"
   ]
  },
  {
   "cell_type": "code",
   "execution_count": 35,
   "id": "57ebd7cc",
   "metadata": {},
   "outputs": [
    {
     "name": "stdout",
     "output_type": "stream",
     "text": [
      "Accuracy Score: 0.8110646454086078\n",
      "Precision (Macro): 0.812488148988963\n",
      "Recall (Macro): 0.8110646454086078\n",
      "F1 Score (Macro): 0.8106218751635913\n",
      "Confusion Matrix:\n",
      "[[18134   564   305    84    32    11]\n",
      " [ 2060 13838  2988   203    29    12]\n",
      " [  293  2758 14703  1236   110    30]\n",
      " [   67   220  2776 13764  2176   127]\n",
      " [   28     4    65  2117 15821  1095]\n",
      " [    1     8    18   200  2069 16834]]\n",
      "\n",
      " Train Classification Report:\n",
      "               precision    recall  f1-score   support\n",
      "\n",
      "           0       0.88      0.95      0.91     19130\n",
      "           1       0.80      0.72      0.76     19130\n",
      "           2       0.71      0.77      0.74     19130\n",
      "           3       0.78      0.72      0.75     19130\n",
      "           4       0.78      0.83      0.80     19130\n",
      "           5       0.93      0.88      0.90     19130\n",
      "\n",
      "    accuracy                           0.81    114780\n",
      "   macro avg       0.81      0.81      0.81    114780\n",
      "weighted avg       0.81      0.81      0.81    114780\n",
      "\n"
     ]
    }
   ],
   "source": [
    "acc1 = accuracy_score(Y_sm, y_pred_xg_GCV_train)\n",
    "prec_macro1 = precision_score(Y_sm,y_pred_xg_GCV_train, average='macro')\n",
    "recall_macro1 = recall_score(Y_sm, y_pred_xg_GCV_train, average='macro')\n",
    "f1_macro1 = f1_score(Y_sm,y_pred_xg_GCV_train, average='macro')\n",
    "classification_rep_xg_GCV_Train = classification_report(Y_sm,y_pred_xg_GCV_train)\n",
    "print(\"Accuracy Score:\", acc1)\n",
    "print(\"Precision (Macro):\", prec_macro1)\n",
    "print(\"Recall (Macro):\", recall_macro1)\n",
    "print(\"F1 Score (Macro):\", f1_macro1)\n",
    "\n",
    "# Confusion Matrix\n",
    "cf_matrix_xg_gcv_train = confusion_matrix(Y_sm, y_pred_xg_GCV_train)\n",
    "print(\"Confusion Matrix:\")\n",
    "print(cf_matrix_xg_gcv_train)\n",
    "print(\"\\n Train Classification Report:\\n\", classification_rep_xg_GCV_Train)"
   ]
  },
  {
   "cell_type": "code",
   "execution_count": null,
   "id": "07d8ad48",
   "metadata": {},
   "outputs": [],
   "source": []
  },
  {
   "cell_type": "code",
   "execution_count": 36,
   "id": "1b0c4ca2",
   "metadata": {},
   "outputs": [],
   "source": [
    "\n",
    "y_prob=best_xg_GCV.predict_proba(X_test)"
   ]
  },
  {
   "cell_type": "code",
   "execution_count": 37,
   "id": "f35b7d75",
   "metadata": {},
   "outputs": [
    {
     "data": {
      "image/png": "[encoded data removed]",
      "text/plain": [
       "<Figure size 640x480 with 1 Axes>"
      ]
     },
     "metadata": {},
     "output_type": "display_data"
    }
   ],
   "source": [
    "for i in range(len(np.unique(Y))):\n",
    "    fpt,tpr,_=roc_curve(y_test==i,y_prob[:,i])\n",
    "    roc_auc=auc(fpt,tpr)\n",
    "    plt.plot(fpt,tpr,label=f'Class {i} Vs Rest (AUC ={roc_auc:.2f})')\n",
    "    \n",
    "plt.plot([0,1],[0,1],linestyle='--',color='r',label='Random Guess')\n",
    "plt.xlabel('False Positive Rate')\n",
    "plt.ylabel('True Positive Rate')\n",
    "plt.title('ROC Curve for Multi-class Classification')\n",
    "plt.legend()\n",
    "plt.show()"
   ]
  },
  {
   "cell_type": "code",
   "execution_count": 38,
   "id": "3f5208bb",
   "metadata": {
    "scrolled": true
   },
   "outputs": [
    {
     "data": {
      "text/plain": [
       "0.9477563316985599"
      ]
     },
     "execution_count": 38,
     "metadata": {},
     "output_type": "execute_result"
    }
   ],
   "source": [
    "from sklearn.metrics import roc_auc_score\n",
    "roc_auc_score(y_test,y_prob,multi_class='ovr')"
   ]
  },
  {
   "cell_type": "markdown",
   "id": "6928cfd2",
   "metadata": {},
   "source": [
    "# Making a predictive system\n"
   ]
  },
  {
   "cell_type": "code",
   "execution_count": 39,
   "id": "83386649",
   "metadata": {},
   "outputs": [
    {
     "data": {
      "text/html": [
       "<div>\n",
       "<style scoped>\n",
       "    .dataframe tbody tr th:only-of-type {\n",
       "        vertical-align: middle;\n",
       "    }\n",
       "\n",
       "    .dataframe tbody tr th {\n",
       "        vertical-align: top;\n",
       "    }\n",
       "\n",
       "    .dataframe thead th {\n",
       "        text-align: right;\n",
       "    }\n",
       "</style>\n",
       "<table border=\"1\" class=\"dataframe\">\n",
       "  <thead>\n",
       "    <tr style=\"text-align: right;\">\n",
       "      <th></th>\n",
       "      <th>TOTAL_AVG_BAL</th>\n",
       "      <th>SIX_MONTH_BAL_OS_FD</th>\n",
       "      <th>NPA_FLAG</th>\n",
       "      <th>SIX_MONTH_BAL_OS_LEASING</th>\n",
       "      <th>CUSTOMER_PROFITABILITY</th>\n",
       "      <th>SIX_MONTH_BAL_OS_SAVINGS</th>\n",
       "    </tr>\n",
       "  </thead>\n",
       "  <tbody>\n",
       "    <tr>\n",
       "      <th>22808</th>\n",
       "      <td>3413379.43</td>\n",
       "      <td>2631478.61</td>\n",
       "      <td>0</td>\n",
       "      <td>0.0</td>\n",
       "      <td>9646.48</td>\n",
       "      <td>538040.10</td>\n",
       "    </tr>\n",
       "    <tr>\n",
       "      <th>9196</th>\n",
       "      <td>379639.85</td>\n",
       "      <td>0.00</td>\n",
       "      <td>0</td>\n",
       "      <td>0.0</td>\n",
       "      <td>-4195.67</td>\n",
       "      <td>4639.85</td>\n",
       "    </tr>\n",
       "    <tr>\n",
       "      <th>26673</th>\n",
       "      <td>280530.63</td>\n",
       "      <td>200000.00</td>\n",
       "      <td>0</td>\n",
       "      <td>0.0</td>\n",
       "      <td>617.32</td>\n",
       "      <td>11480.60</td>\n",
       "    </tr>\n",
       "    <tr>\n",
       "      <th>43089</th>\n",
       "      <td>1282994.46</td>\n",
       "      <td>231217.71</td>\n",
       "      <td>0</td>\n",
       "      <td>0.0</td>\n",
       "      <td>1193.24</td>\n",
       "      <td>272471.61</td>\n",
       "    </tr>\n",
       "    <tr>\n",
       "      <th>66826</th>\n",
       "      <td>124479.06</td>\n",
       "      <td>0.00</td>\n",
       "      <td>0</td>\n",
       "      <td>0.0</td>\n",
       "      <td>1.91</td>\n",
       "      <td>13594.24</td>\n",
       "    </tr>\n",
       "  </tbody>\n",
       "</table>\n",
       "</div>"
      ],
      "text/plain": [
       "       TOTAL_AVG_BAL  SIX_MONTH_BAL_OS_FD  NPA_FLAG  SIX_MONTH_BAL_OS_LEASING  \\\n",
       "22808     3413379.43           2631478.61         0                       0.0   \n",
       "9196       379639.85                 0.00         0                       0.0   \n",
       "26673      280530.63            200000.00         0                       0.0   \n",
       "43089     1282994.46            231217.71         0                       0.0   \n",
       "66826      124479.06                 0.00         0                       0.0   \n",
       "\n",
       "       CUSTOMER_PROFITABILITY  SIX_MONTH_BAL_OS_SAVINGS  \n",
       "22808                 9646.48                 538040.10  \n",
       "9196                 -4195.67                   4639.85  \n",
       "26673                  617.32                  11480.60  \n",
       "43089                 1193.24                 272471.61  \n",
       "66826                    1.91                  13594.24  "
      ]
     },
     "execution_count": 39,
     "metadata": {},
     "output_type": "execute_result"
    }
   ],
   "source": [
    "X_train.head()"
   ]
  },
  {
   "cell_type": "code",
   "execution_count": null,
   "id": "4765be7a",
   "metadata": {},
   "outputs": [],
   "source": []
  },
  {
   "cell_type": "code",
   "execution_count": 40,
   "id": "18205796",
   "metadata": {},
   "outputs": [],
   "source": [
    "input_data = (11434729.22,4236559.14,0,0.0,45987.69,417459.07)"
   ]
  },
  {
   "cell_type": "code",
   "execution_count": 41,
   "id": "65bfb613",
   "metadata": {},
   "outputs": [
    {
     "data": {
      "text/plain": [
       "(11434729.22, 4236559.14, 0, 0.0, 45987.69, 417459.07)"
      ]
     },
     "execution_count": 41,
     "metadata": {},
     "output_type": "execute_result"
    }
   ],
   "source": [
    "input_data"
   ]
  },
  {
   "cell_type": "code",
   "execution_count": 42,
   "id": "60dd7db8",
   "metadata": {},
   "outputs": [],
   "source": [
    "data = {'TOTAL_AVG_BAL': [11434729.22],\n",
    "        'SIX_MONTH_BAL_OS_FD': [4236559.14],\n",
    "        'NPA_FLAG': [0],\n",
    "       'SIX_MONTH_BAL_OS_LEASING': [0.0],\n",
    "       'CUSTOMER_PROFITABILITY': [45987.69],\n",
    "       'SIX_MONTH_BAL_OS_SAVINGS': [417459.07]}\n",
    "df_val = pd.DataFrame(data)"
   ]
  },
  {
   "cell_type": "code",
   "execution_count": 43,
   "id": "6eb041be",
   "metadata": {},
   "outputs": [
    {
     "data": {
      "text/html": [
       "<div>\n",
       "<style scoped>\n",
       "    .dataframe tbody tr th:only-of-type {\n",
       "        vertical-align: middle;\n",
       "    }\n",
       "\n",
       "    .dataframe tbody tr th {\n",
       "        vertical-align: top;\n",
       "    }\n",
       "\n",
       "    .dataframe thead th {\n",
       "        text-align: right;\n",
       "    }\n",
       "</style>\n",
       "<table border=\"1\" class=\"dataframe\">\n",
       "  <thead>\n",
       "    <tr style=\"text-align: right;\">\n",
       "      <th></th>\n",
       "      <th>TOTAL_AVG_BAL</th>\n",
       "      <th>SIX_MONTH_BAL_OS_FD</th>\n",
       "      <th>NPA_FLAG</th>\n",
       "      <th>SIX_MONTH_BAL_OS_LEASING</th>\n",
       "      <th>CUSTOMER_PROFITABILITY</th>\n",
       "      <th>SIX_MONTH_BAL_OS_SAVINGS</th>\n",
       "    </tr>\n",
       "  </thead>\n",
       "  <tbody>\n",
       "    <tr>\n",
       "      <th>0</th>\n",
       "      <td>11434729.22</td>\n",
       "      <td>4236559.14</td>\n",
       "      <td>0</td>\n",
       "      <td>0.0</td>\n",
       "      <td>45987.69</td>\n",
       "      <td>417459.07</td>\n",
       "    </tr>\n",
       "  </tbody>\n",
       "</table>\n",
       "</div>"
      ],
      "text/plain": [
       "   TOTAL_AVG_BAL  SIX_MONTH_BAL_OS_FD  NPA_FLAG  SIX_MONTH_BAL_OS_LEASING  \\\n",
       "0    11434729.22           4236559.14         0                       0.0   \n",
       "\n",
       "   CUSTOMER_PROFITABILITY  SIX_MONTH_BAL_OS_SAVINGS  \n",
       "0                45987.69                 417459.07  "
      ]
     },
     "execution_count": 43,
     "metadata": {},
     "output_type": "execute_result"
    }
   ],
   "source": [
    "df_val"
   ]
  },
  {
   "cell_type": "code",
   "execution_count": 44,
   "id": "144aba3f",
   "metadata": {},
   "outputs": [],
   "source": [
    "# Changing the input data to numpy array"
   ]
  },
  {
   "cell_type": "code",
   "execution_count": 45,
   "id": "e9e1a22c",
   "metadata": {},
   "outputs": [],
   "source": [
    "input_data_as_numpy_array = np.asarray(input_data)"
   ]
  },
  {
   "cell_type": "code",
   "execution_count": 46,
   "id": "fc612397",
   "metadata": {},
   "outputs": [
    {
     "data": {
      "text/plain": [
       "array([11434729.22,  4236559.14,        0.  ,        0.  ,    45987.69,\n",
       "         417459.07])"
      ]
     },
     "execution_count": 46,
     "metadata": {},
     "output_type": "execute_result"
    }
   ],
   "source": [
    "input_data_as_numpy_array"
   ]
  },
  {
   "cell_type": "code",
   "execution_count": 47,
   "id": "601df93c",
   "metadata": {},
   "outputs": [],
   "source": [
    "df2 = pd.DataFrame(input_data)"
   ]
  },
  {
   "cell_type": "code",
   "execution_count": 48,
   "id": "e12a296a",
   "metadata": {},
   "outputs": [],
   "source": [
    "df=pd.DataFrame(data=input_data_as_numpy_array)"
   ]
  },
  {
   "cell_type": "code",
   "execution_count": 49,
   "id": "a3f155c5",
   "metadata": {},
   "outputs": [
    {
     "data": {
      "text/html": [
       "<div>\n",
       "<style scoped>\n",
       "    .dataframe tbody tr th:only-of-type {\n",
       "        vertical-align: middle;\n",
       "    }\n",
       "\n",
       "    .dataframe tbody tr th {\n",
       "        vertical-align: top;\n",
       "    }\n",
       "\n",
       "    .dataframe thead th {\n",
       "        text-align: right;\n",
       "    }\n",
       "</style>\n",
       "<table border=\"1\" class=\"dataframe\">\n",
       "  <thead>\n",
       "    <tr style=\"text-align: right;\">\n",
       "      <th></th>\n",
       "      <th>0</th>\n",
       "    </tr>\n",
       "  </thead>\n",
       "  <tbody>\n",
       "    <tr>\n",
       "      <th>0</th>\n",
       "      <td>11434729.22</td>\n",
       "    </tr>\n",
       "    <tr>\n",
       "      <th>1</th>\n",
       "      <td>4236559.14</td>\n",
       "    </tr>\n",
       "    <tr>\n",
       "      <th>2</th>\n",
       "      <td>0.00</td>\n",
       "    </tr>\n",
       "    <tr>\n",
       "      <th>3</th>\n",
       "      <td>0.00</td>\n",
       "    </tr>\n",
       "    <tr>\n",
       "      <th>4</th>\n",
       "      <td>45987.69</td>\n",
       "    </tr>\n",
       "    <tr>\n",
       "      <th>5</th>\n",
       "      <td>417459.07</td>\n",
       "    </tr>\n",
       "  </tbody>\n",
       "</table>\n",
       "</div>"
      ],
      "text/plain": [
       "             0\n",
       "0  11434729.22\n",
       "1   4236559.14\n",
       "2         0.00\n",
       "3         0.00\n",
       "4     45987.69\n",
       "5    417459.07"
      ]
     },
     "execution_count": 49,
     "metadata": {},
     "output_type": "execute_result"
    }
   ],
   "source": [
    "df2"
   ]
  },
  {
   "cell_type": "code",
   "execution_count": 50,
   "id": "e702075d",
   "metadata": {},
   "outputs": [],
   "source": [
    "#reshape the array as we are predicting for one instance"
   ]
  },
  {
   "cell_type": "code",
   "execution_count": 51,
   "id": "a272d4fa",
   "metadata": {},
   "outputs": [
    {
     "name": "stdout",
     "output_type": "stream",
     "text": [
      "[[11434729.22  4236559.14        0.          0.      45987.69   417459.07]]\n"
     ]
    }
   ],
   "source": [
    "input_data_reshape = input_data_as_numpy_array.reshape(1,-1)\n",
    "print(input_data_reshape)"
   ]
  },
  {
   "cell_type": "code",
   "execution_count": 52,
   "id": "51805ca0",
   "metadata": {
    "scrolled": true
   },
   "outputs": [
    {
     "data": {
      "text/plain": [
       "array([[-0.07139446, -0.00266279, -0.34988861, -0.11968589, -0.03726559,\n",
       "        -0.02288666],\n",
       "       [-0.08620139, -0.03930109, -0.34988861, -0.11968589, -0.05193121,\n",
       "        -0.06042009],\n",
       "       [-0.08668512, -0.03651647, -0.34988861, -0.11968589, -0.0468319 ,\n",
       "        -0.05993873],\n",
       "       ...,\n",
       "       [ 0.04146401,  0.10155053, -0.34988861, -0.11968589, -0.03050988,\n",
       "        -0.02497824],\n",
       "       [ 0.00352313, -0.03930109, -0.34988861, -0.11968589, -0.02127229,\n",
       "        -0.05422211],\n",
       "       [-0.04966956, -0.03930109, -0.34988861, -0.11968589, -0.03831153,\n",
       "        -0.06074237]])"
      ]
     },
     "execution_count": 52,
     "metadata": {},
     "output_type": "execute_result"
    }
   ],
   "source": [
    "X_resampled"
   ]
  },
  {
   "cell_type": "code",
   "execution_count": 53,
   "id": "5796b336",
   "metadata": {},
   "outputs": [],
   "source": [
    "#Standardize data"
   ]
  },
  {
   "cell_type": "code",
   "execution_count": 54,
   "id": "f1aabd87",
   "metadata": {},
   "outputs": [],
   "source": [
    "from sklearn.preprocessing import StandardScaler\n",
    "scaler = StandardScaler()\n",
    "std_data = scaler.fit_transform(input_data_reshape)"
   ]
  },
  {
   "cell_type": "code",
   "execution_count": 55,
   "id": "2b012019",
   "metadata": {},
   "outputs": [],
   "source": [
    "sc = joblib.load(\"scaler.save\")\n",
    "df_val1=sc.transform(df_val)"
   ]
  },
  {
   "cell_type": "code",
   "execution_count": 56,
   "id": "bfbfe0a1",
   "metadata": {},
   "outputs": [
    {
     "name": "stdout",
     "output_type": "stream",
     "text": [
      "[[-0.03224423  0.01968488 -0.34988861 -0.11968589  0.00123757 -0.03137151]]\n"
     ]
    }
   ],
   "source": [
    "print(df_val1)"
   ]
  },
  {
   "cell_type": "code",
   "execution_count": 57,
   "id": "e02f56af",
   "metadata": {},
   "outputs": [
    {
     "data": {
      "text/plain": [
       "array([[0., 0., 0., 0., 0., 0.]])"
      ]
     },
     "execution_count": 57,
     "metadata": {},
     "output_type": "execute_result"
    }
   ],
   "source": [
    "std_data"
   ]
  },
  {
   "cell_type": "code",
   "execution_count": 58,
   "id": "995880bc",
   "metadata": {},
   "outputs": [
    {
     "name": "stdout",
     "output_type": "stream",
     "text": [
      "[4]\n",
      "5M < LNAMOUNT <= 10M\n"
     ]
    }
   ],
   "source": [
    "prediction = best_xg_GCV.predict(df_val1)\n",
    "print(prediction)\n",
    "\n",
    "if prediction == 0:\n",
    "    print(\"LNAMOUNT <=1 Lakh\")\n",
    "elif prediction == 1:\n",
    "    print(\"1 Lakh < LNAMOUNT <= 5 Lakh\")\n",
    "elif prediction == 2:\n",
    "    print(\"5 Lakh < LNAMOUNT <= 1M\")\n",
    "elif prediction == 3:\n",
    "    print(\"1M < LNAMOUNT <= 5M\")\n",
    "elif prediction == 4:\n",
    "    print(\"5M < LNAMOUNT <= 10M\")\n",
    "elif prediction == 5:\n",
    "    print(\"LNAMOUNT > 10M\")\n",
    "else:\n",
    "    print(\"Invalid prediction\")"
   ]
  },
  {
   "cell_type": "code",
   "execution_count": 59,
   "id": "4bfe9d70",
   "metadata": {},
   "outputs": [],
   "source": [
    "#Probability"
   ]
  },
  {
   "cell_type": "code",
   "execution_count": 60,
   "id": "92b81177",
   "metadata": {},
   "outputs": [
    {
     "data": {
      "text/plain": [
       "array([[0.0672885 , 0.05026793, 0.04791566, 0.08306121, 0.41949052,\n",
       "        0.33197623]], dtype=float32)"
      ]
     },
     "execution_count": 60,
     "metadata": {},
     "output_type": "execute_result"
    }
   ],
   "source": [
    "predicted_probability =  best_xg_GCV.predict_proba(df_val1)\n",
    "predicted_probability\n",
    "#print(f\"Predicted probability: {predicted_probability[0]:.2f}\")"
   ]
  },
  {
   "cell_type": "markdown",
   "id": "591efc9b",
   "metadata": {},
   "source": [
    "## Saving the trained model\n"
   ]
  },
  {
   "cell_type": "code",
   "execution_count": 61,
   "id": "56a6d40b",
   "metadata": {},
   "outputs": [],
   "source": [
    "import pickle"
   ]
  },
  {
   "cell_type": "code",
   "execution_count": 62,
   "id": "edfae62a",
   "metadata": {},
   "outputs": [],
   "source": [
    "filename = 'Trained_model_xg.sav'\n",
    " \n",
    "\n",
    "with open(filename, 'wb') as file:\n",
    "    pickle.dump(best_xg_GCV, file)\n"
   ]
  },
  {
   "cell_type": "code",
   "execution_count": 63,
   "id": "b13d560f",
   "metadata": {},
   "outputs": [],
   "source": [
    "#Loading the saved model\n",
    "loaded_model_xg = pickle.load(open('Trained_model_xg.sav', 'rb'))\n"
   ]
  },
  {
   "cell_type": "code",
   "execution_count": 64,
   "id": "41e7f220",
   "metadata": {},
   "outputs": [],
   "source": [
    "input_data = (11434729.22,4236559.14,0,0.0,45987.69,417459.07)\n",
    "\n",
    "data = {'TOTAL_AVG_BAL': [11434729.22],\n",
    "        'SIX_MONTH_BAL_OS_FD': [4236559.14],\n",
    "        'NPA_FLAG': [0],\n",
    "       'SIX_MONTH_BAL_OS_LEASING': [0.0],\n",
    "       'CUSTOMER_PROFITABILITY': [45987.69],\n",
    "       'SIX_MONTH_BAL_OS_SAVINGS': [417459.07]}\n",
    "df_val = pd.DataFrame(data)\n",
    "\n",
    "df2 = pd.DataFrame(input_data)\n",
    "\n",
    "df=pd.DataFrame(data=input_data_as_numpy_array)"
   ]
  },
  {
   "cell_type": "code",
   "execution_count": 65,
   "id": "6da90e25",
   "metadata": {},
   "outputs": [
    {
     "name": "stdout",
     "output_type": "stream",
     "text": [
      "[[11434729.22  4236559.14        0.          0.      45987.69   417459.07]]\n"
     ]
    }
   ],
   "source": [
    "input_data_reshape = input_data_as_numpy_array.reshape(1,-1)\n",
    "print(input_data_reshape)"
   ]
  },
  {
   "cell_type": "code",
   "execution_count": null,
   "id": "f4ef703f",
   "metadata": {},
   "outputs": [],
   "source": []
  },
  {
   "cell_type": "code",
   "execution_count": 66,
   "id": "54806afd",
   "metadata": {},
   "outputs": [],
   "source": [
    "from sklearn.preprocessing import StandardScaler\n",
    "scaler = StandardScaler()\n",
    "std_data = scaler.fit_transform(input_data_reshape)\n",
    "\n",
    "sc = joblib.load(\"scaler.save\")\n",
    "df_val1=sc.transform(df_val)"
   ]
  },
  {
   "cell_type": "code",
   "execution_count": 67,
   "id": "54dab1de",
   "metadata": {},
   "outputs": [
    {
     "name": "stdout",
     "output_type": "stream",
     "text": [
      "[4]\n",
      "5M < LNAMOUNT <= 10M\n"
     ]
    }
   ],
   "source": [
    "prediction = loaded_model_xg.predict(df_val1)\n",
    "print(prediction)\n",
    "\n",
    "if prediction == 0:\n",
    "    print(\"LNAMOUNT <=1 Lakh\")\n",
    "elif prediction == 1:\n",
    "    print(\"1 Lakh < LNAMOUNT <= 5 Lakh\")\n",
    "elif prediction == 2:\n",
    "    print(\"5 Lakh < LNAMOUNT <= 1M\")\n",
    "elif prediction == 3:\n",
    "    print(\"1M < LNAMOUNT <= 5M\")\n",
    "elif prediction == 4:\n",
    "    print(\"5M < LNAMOUNT <= 10M\")\n",
    "elif prediction == 5:\n",
    "    print(\"LNAMOUNT > 10M\")\n",
    "else:\n",
    "    print(\"Invalid prediction\")"
   ]
  },
  {
   "cell_type": "code",
   "execution_count": null,
   "id": "1b42052f",
   "metadata": {},
   "outputs": [],
   "source": []
  }
 ],
 "metadata": {
  "kernelspec": {
   "display_name": "Python 3 (ipykernel)",
   "language": "python",
   "name": "python3"
  },
  "language_info": {
   "codemirror_mode": {
    "name": "ipython",
    "version": 3
   },
   "file_extension": ".py",
   "mimetype": "text/x-python",
   "name": "python",
   "nbconvert_exporter": "python",
   "pygments_lexer": "ipython3",
   "version": "3.11.3"
  }
 },
 "nbformat": 4,
 "nbformat_minor": 5
}
