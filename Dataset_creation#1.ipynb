{
 "cells": [
  {
   "cell_type": "code",
   "execution_count": 18,
   "id": "f6469cc4",
   "metadata": {},
   "outputs": [],
   "source": [
    "import pandas as pd\n",
    "import numpy as np"
   ]
  },
  {
   "cell_type": "code",
   "execution_count": 19,
   "id": "b99fdc3e",
   "metadata": {},
   "outputs": [
    {
     "name": "stderr",
     "output_type": "stream",
     "text": [
      "C:\\Users\\15694\\AppData\\Local\\Temp\\ipykernel_34328\\3161087394.py:5: DtypeWarning: Columns (2) have mixed types. Specify dtype option on import or set low_memory=False.\n",
      "  data1 = pd.read_csv(\"C:/Users/15694/Desktop/Cross selling/code/Michelle/Accounts 360 202311 CSV.csv\", encoding=encoding)\n"
     ]
    }
   ],
   "source": [
    "encodings_to_try = ['utf-8-sig', 'latin-1', 'ISO-8859-1']\n",
    "\n",
    "for encoding in encodings_to_try:\n",
    "    try:\n",
    "        data1 = pd.read_csv(\"C:/Users/15694/Desktop/Cross selling/code/Michelle/Accounts 360 202311 CSV.csv\", encoding=encoding)\n",
    "        break\n",
    "    except UnicodeDecodeError:\n",
    "        continue\n",
    "\n"
   ]
  },
  {
   "cell_type": "code",
   "execution_count": 5,
   "id": "90231e28",
   "metadata": {},
   "outputs": [
    {
     "data": {
      "text/html": [
       "<div>\n",
       "<style scoped>\n",
       "    .dataframe tbody tr th:only-of-type {\n",
       "        vertical-align: middle;\n",
       "    }\n",
       "\n",
       "    .dataframe tbody tr th {\n",
       "        vertical-align: top;\n",
       "    }\n",
       "\n",
       "    .dataframe thead th {\n",
       "        text-align: right;\n",
       "    }\n",
       "</style>\n",
       "<table border=\"1\" class=\"dataframe\">\n",
       "  <thead>\n",
       "    <tr style=\"text-align: right;\">\n",
       "      <th></th>\n",
       "      <th>PROD_ID</th>\n",
       "      <th>CIFNO</th>\n",
       "      <th>ACCOUNT_NO</th>\n",
       "      <th>ACCOUNT_STATUS</th>\n",
       "      <th>PRODUCT_DESC</th>\n",
       "      <th>SUB_PRODUCT_DESC</th>\n",
       "      <th>BAL_OS</th>\n",
       "      <th>AVG_BAL</th>\n",
       "      <th>LAST_TRAN_DATE</th>\n",
       "      <th>TOTAL_CR</th>\n",
       "      <th>...</th>\n",
       "      <th>DPD_LAST_6_MONTH</th>\n",
       "      <th>NPA_CATEGORY_LAST_6_MONTH</th>\n",
       "      <th>LATEST_NPA_DATE</th>\n",
       "      <th>LIMIT_AMOUNT</th>\n",
       "      <th>INCENTIVE_AMT</th>\n",
       "      <th>SCHM_CODE</th>\n",
       "      <th>SCHM_DESC</th>\n",
       "      <th>PRODUCT_GROUP</th>\n",
       "      <th>SBU_ID</th>\n",
       "      <th>MATURITY_DATE</th>\n",
       "    </tr>\n",
       "  </thead>\n",
       "  <tbody>\n",
       "    <tr>\n",
       "      <th>0</th>\n",
       "      <td>2</td>\n",
       "      <td>998101782755</td>\n",
       "      <td>103020266468</td>\n",
       "      <td>D</td>\n",
       "      <td>Savings</td>\n",
       "      <td>SAVINGS - GENERAL</td>\n",
       "      <td>0.00</td>\n",
       "      <td>0.00</td>\n",
       "      <td>2/20/2018</td>\n",
       "      <td>0.00</td>\n",
       "      <td>...</td>\n",
       "      <td>NaN</td>\n",
       "      <td>NaN</td>\n",
       "      <td>NaN</td>\n",
       "      <td>NaN</td>\n",
       "      <td>NaN</td>\n",
       "      <td>SAGEN</td>\n",
       "      <td>SAVINGS ACCOUNT GENERAL</td>\n",
       "      <td>NaN</td>\n",
       "      <td>10</td>\n",
       "      <td>NaN</td>\n",
       "    </tr>\n",
       "    <tr>\n",
       "      <th>1</th>\n",
       "      <td>2</td>\n",
       "      <td>998101242090</td>\n",
       "      <td>098300061951</td>\n",
       "      <td>NaN</td>\n",
       "      <td>Savings</td>\n",
       "      <td>SAVINGS MAJOR INVESTMENT</td>\n",
       "      <td>5132.92</td>\n",
       "      <td>5120.87</td>\n",
       "      <td>NaN</td>\n",
       "      <td>NaN</td>\n",
       "      <td>...</td>\n",
       "      <td>NaN</td>\n",
       "      <td>NaN</td>\n",
       "      <td>NaN</td>\n",
       "      <td>NaN</td>\n",
       "      <td>NaN</td>\n",
       "      <td>NaN</td>\n",
       "      <td>NaN</td>\n",
       "      <td>NaN</td>\n",
       "      <td>20</td>\n",
       "      <td>NaN</td>\n",
       "    </tr>\n",
       "    <tr>\n",
       "      <th>2</th>\n",
       "      <td>2</td>\n",
       "      <td>998101585644</td>\n",
       "      <td>039810184310</td>\n",
       "      <td>A</td>\n",
       "      <td>Savings</td>\n",
       "      <td>SAVINGS - FCY</td>\n",
       "      <td>22.93</td>\n",
       "      <td>22.93</td>\n",
       "      <td>5/25/2022</td>\n",
       "      <td>0.00</td>\n",
       "      <td>...</td>\n",
       "      <td>NaN</td>\n",
       "      <td>NaN</td>\n",
       "      <td>NaN</td>\n",
       "      <td>NaN</td>\n",
       "      <td>NaN</td>\n",
       "      <td>SRFC</td>\n",
       "      <td>SA-PFCA</td>\n",
       "      <td>PFCA</td>\n",
       "      <td>10</td>\n",
       "      <td>NaN</td>\n",
       "    </tr>\n",
       "    <tr>\n",
       "      <th>3</th>\n",
       "      <td>2</td>\n",
       "      <td>998000137604</td>\n",
       "      <td>043020127622</td>\n",
       "      <td>A</td>\n",
       "      <td>Savings</td>\n",
       "      <td>SAVINGS - MINOR</td>\n",
       "      <td>1042.50</td>\n",
       "      <td>1039.98</td>\n",
       "      <td>1/11/2009</td>\n",
       "      <td>3.03</td>\n",
       "      <td>...</td>\n",
       "      <td>NaN</td>\n",
       "      <td>NaN</td>\n",
       "      <td>NaN</td>\n",
       "      <td>NaN</td>\n",
       "      <td>NaN</td>\n",
       "      <td>SAMI3</td>\n",
       "      <td>SAVINGS ACCOUNT TEEN</td>\n",
       "      <td>NaN</td>\n",
       "      <td>10</td>\n",
       "      <td>NaN</td>\n",
       "    </tr>\n",
       "    <tr>\n",
       "      <th>4</th>\n",
       "      <td>2</td>\n",
       "      <td>998R00652174</td>\n",
       "      <td>080020298762</td>\n",
       "      <td>A</td>\n",
       "      <td>Savings</td>\n",
       "      <td>SAVINGS - MINOR</td>\n",
       "      <td>1005.43</td>\n",
       "      <td>1001.59</td>\n",
       "      <td>10/25/2023</td>\n",
       "      <td>4.61</td>\n",
       "      <td>...</td>\n",
       "      <td>NaN</td>\n",
       "      <td>NaN</td>\n",
       "      <td>NaN</td>\n",
       "      <td>NaN</td>\n",
       "      <td>NaN</td>\n",
       "      <td>SAMI1</td>\n",
       "      <td>SINGITHI KIRIKATIYO</td>\n",
       "      <td>NaN</td>\n",
       "      <td>10</td>\n",
       "      <td>NaN</td>\n",
       "    </tr>\n",
       "    <tr>\n",
       "      <th>5</th>\n",
       "      <td>2</td>\n",
       "      <td>998R00650624</td>\n",
       "      <td>212020090101</td>\n",
       "      <td>A</td>\n",
       "      <td>Savings</td>\n",
       "      <td>SAVINGS - MINOR</td>\n",
       "      <td>100.42</td>\n",
       "      <td>100.16</td>\n",
       "      <td>10/20/2023</td>\n",
       "      <td>0.31</td>\n",
       "      <td>...</td>\n",
       "      <td>NaN</td>\n",
       "      <td>NaN</td>\n",
       "      <td>NaN</td>\n",
       "      <td>NaN</td>\n",
       "      <td>NaN</td>\n",
       "      <td>SAMI2</td>\n",
       "      <td>SINGITHI LAMA ACCOUNT</td>\n",
       "      <td>NaN</td>\n",
       "      <td>10</td>\n",
       "      <td>NaN</td>\n",
       "    </tr>\n",
       "    <tr>\n",
       "      <th>6</th>\n",
       "      <td>2</td>\n",
       "      <td>998100738214</td>\n",
       "      <td>083020164271</td>\n",
       "      <td>A</td>\n",
       "      <td>Savings</td>\n",
       "      <td>SAVINGS - GENERAL</td>\n",
       "      <td>21073.54</td>\n",
       "      <td>21041.61</td>\n",
       "      <td>8/24/2023</td>\n",
       "      <td>38.32</td>\n",
       "      <td>...</td>\n",
       "      <td>NaN</td>\n",
       "      <td>NaN</td>\n",
       "      <td>NaN</td>\n",
       "      <td>NaN</td>\n",
       "      <td>NaN</td>\n",
       "      <td>SAGEN</td>\n",
       "      <td>SAVINGS ACCOUNT GENERAL</td>\n",
       "      <td>NaN</td>\n",
       "      <td>10</td>\n",
       "      <td>NaN</td>\n",
       "    </tr>\n",
       "    <tr>\n",
       "      <th>7</th>\n",
       "      <td>2</td>\n",
       "      <td>998R00673750</td>\n",
       "      <td>220020047575</td>\n",
       "      <td>A</td>\n",
       "      <td>Savings</td>\n",
       "      <td>SAVINGS - OTHERS</td>\n",
       "      <td>21.00</td>\n",
       "      <td>289.67</td>\n",
       "      <td>11/10/2023</td>\n",
       "      <td>1550.00</td>\n",
       "      <td>...</td>\n",
       "      <td>NaN</td>\n",
       "      <td>NaN</td>\n",
       "      <td>NaN</td>\n",
       "      <td>NaN</td>\n",
       "      <td>NaN</td>\n",
       "      <td>SA002</td>\n",
       "      <td>SAVINGS -ADISHTANA -2</td>\n",
       "      <td>NaN</td>\n",
       "      <td>10</td>\n",
       "      <td>NaN</td>\n",
       "    </tr>\n",
       "    <tr>\n",
       "      <th>8</th>\n",
       "      <td>2</td>\n",
       "      <td>998101075169</td>\n",
       "      <td>045020236169</td>\n",
       "      <td>D</td>\n",
       "      <td>Savings</td>\n",
       "      <td>SAVINGS - OTHERS</td>\n",
       "      <td>0.00</td>\n",
       "      <td>0.00</td>\n",
       "      <td>5/18/2015</td>\n",
       "      <td>0.00</td>\n",
       "      <td>...</td>\n",
       "      <td>NaN</td>\n",
       "      <td>NaN</td>\n",
       "      <td>NaN</td>\n",
       "      <td>NaN</td>\n",
       "      <td>NaN</td>\n",
       "      <td>SMG47</td>\n",
       "      <td>AC MIGRATED TO ANGUNUKOLA</td>\n",
       "      <td>NaN</td>\n",
       "      <td>10</td>\n",
       "      <td>NaN</td>\n",
       "    </tr>\n",
       "    <tr>\n",
       "      <th>9</th>\n",
       "      <td>2</td>\n",
       "      <td>998101754823</td>\n",
       "      <td>107020239365</td>\n",
       "      <td>A</td>\n",
       "      <td>Savings</td>\n",
       "      <td>SAVINGS - GENERAL</td>\n",
       "      <td>1101.42</td>\n",
       "      <td>176.25</td>\n",
       "      <td>11/30/2023</td>\n",
       "      <td>17900.00</td>\n",
       "      <td>...</td>\n",
       "      <td>NaN</td>\n",
       "      <td>NaN</td>\n",
       "      <td>NaN</td>\n",
       "      <td>NaN</td>\n",
       "      <td>NaN</td>\n",
       "      <td>SAGEN</td>\n",
       "      <td>SAVINGS ACCOUNT GENERAL</td>\n",
       "      <td>NaN</td>\n",
       "      <td>10</td>\n",
       "      <td>NaN</td>\n",
       "    </tr>\n",
       "  </tbody>\n",
       "</table>\n",
       "<p>10 rows × 39 columns</p>\n",
       "</div>"
      ],
      "text/plain": [
       "   PROD_ID         CIFNO    ACCOUNT_NO ACCOUNT_STATUS PRODUCT_DESC  \\\n",
       "0        2  998101782755  103020266468              D      Savings   \n",
       "1        2  998101242090  098300061951            NaN      Savings   \n",
       "2        2  998101585644  039810184310              A      Savings   \n",
       "3        2  998000137604  043020127622              A      Savings   \n",
       "4        2  998R00652174  080020298762              A      Savings   \n",
       "5        2  998R00650624  212020090101              A      Savings   \n",
       "6        2  998100738214  083020164271              A      Savings   \n",
       "7        2  998R00673750  220020047575              A      Savings   \n",
       "8        2  998101075169  045020236169              D      Savings   \n",
       "9        2  998101754823  107020239365              A      Savings   \n",
       "\n",
       "           SUB_PRODUCT_DESC    BAL_OS   AVG_BAL LAST_TRAN_DATE  TOTAL_CR  ...  \\\n",
       "0         SAVINGS - GENERAL      0.00      0.00      2/20/2018      0.00  ...   \n",
       "1  SAVINGS MAJOR INVESTMENT   5132.92   5120.87            NaN       NaN  ...   \n",
       "2             SAVINGS - FCY     22.93     22.93      5/25/2022      0.00  ...   \n",
       "3           SAVINGS - MINOR   1042.50   1039.98      1/11/2009      3.03  ...   \n",
       "4           SAVINGS - MINOR   1005.43   1001.59     10/25/2023      4.61  ...   \n",
       "5           SAVINGS - MINOR    100.42    100.16     10/20/2023      0.31  ...   \n",
       "6         SAVINGS - GENERAL  21073.54  21041.61      8/24/2023     38.32  ...   \n",
       "7          SAVINGS - OTHERS     21.00    289.67     11/10/2023   1550.00  ...   \n",
       "8          SAVINGS - OTHERS      0.00      0.00      5/18/2015      0.00  ...   \n",
       "9         SAVINGS - GENERAL   1101.42    176.25     11/30/2023  17900.00  ...   \n",
       "\n",
       "   DPD_LAST_6_MONTH  NPA_CATEGORY_LAST_6_MONTH  LATEST_NPA_DATE  LIMIT_AMOUNT  \\\n",
       "0               NaN                        NaN              NaN           NaN   \n",
       "1               NaN                        NaN              NaN           NaN   \n",
       "2               NaN                        NaN              NaN           NaN   \n",
       "3               NaN                        NaN              NaN           NaN   \n",
       "4               NaN                        NaN              NaN           NaN   \n",
       "5               NaN                        NaN              NaN           NaN   \n",
       "6               NaN                        NaN              NaN           NaN   \n",
       "7               NaN                        NaN              NaN           NaN   \n",
       "8               NaN                        NaN              NaN           NaN   \n",
       "9               NaN                        NaN              NaN           NaN   \n",
       "\n",
       "   INCENTIVE_AMT SCHM_CODE                  SCHM_DESC PRODUCT_GROUP  SBU_ID  \\\n",
       "0            NaN     SAGEN    SAVINGS ACCOUNT GENERAL           NaN      10   \n",
       "1            NaN       NaN                        NaN           NaN      20   \n",
       "2            NaN      SRFC                    SA-PFCA          PFCA      10   \n",
       "3            NaN     SAMI3       SAVINGS ACCOUNT TEEN           NaN      10   \n",
       "4            NaN     SAMI1        SINGITHI KIRIKATIYO           NaN      10   \n",
       "5            NaN     SAMI2      SINGITHI LAMA ACCOUNT           NaN      10   \n",
       "6            NaN     SAGEN    SAVINGS ACCOUNT GENERAL           NaN      10   \n",
       "7            NaN     SA002      SAVINGS -ADISHTANA -2           NaN      10   \n",
       "8            NaN     SMG47  AC MIGRATED TO ANGUNUKOLA           NaN      10   \n",
       "9            NaN     SAGEN    SAVINGS ACCOUNT GENERAL           NaN      10   \n",
       "\n",
       "  MATURITY_DATE  \n",
       "0           NaN  \n",
       "1           NaN  \n",
       "2           NaN  \n",
       "3           NaN  \n",
       "4           NaN  \n",
       "5           NaN  \n",
       "6           NaN  \n",
       "7           NaN  \n",
       "8           NaN  \n",
       "9           NaN  \n",
       "\n",
       "[10 rows x 39 columns]"
      ]
     },
     "execution_count": 5,
     "metadata": {},
     "output_type": "execute_result"
    }
   ],
   "source": [
    "data1.head(10)"
   ]
  },
  {
   "cell_type": "code",
   "execution_count": 24,
   "id": "2dceb03f",
   "metadata": {},
   "outputs": [
    {
     "data": {
      "text/plain": [
       "(4549301, 39)"
      ]
     },
     "execution_count": 24,
     "metadata": {},
     "output_type": "execute_result"
    }
   ],
   "source": [
    "data1.shape"
   ]
  },
  {
   "cell_type": "code",
   "execution_count": 25,
   "id": "46cb0fb1",
   "metadata": {},
   "outputs": [
    {
     "data": {
      "text/plain": [
       "Index(['PROD_ID', 'CIFNO', 'ACCOUNT_NO', 'ACCOUNT_STATUS', 'PRODUCT_DESC',\n",
       "       'SUB_PRODUCT_DESC', 'BAL_OS', 'AVG_BAL', 'LAST_TRAN_DATE', 'TOTAL_CR',\n",
       "       'TOTAL_DR', 'NO_CR', 'NO_DR', 'NET_FEE_INCOME', 'NET_INTEREST_INCOME',\n",
       "       'CURRENCY_CD', 'BRANCH_CD', 'BRANCH_NAME', 'REGION_CD', 'REGION_NAME',\n",
       "       'YEARMON', 'SUB_PROD_ID', 'ACCOUNT_JOINT', 'NO_OF_CHQ_RTN',\n",
       "       'AMOUNT_OF_CHQ_RTN', 'DPD', 'NPA_CATEGORY', 'DPD_LAST_3_MONTH',\n",
       "       'NPA_CATEGORY_LAST_3_MONTH', 'DPD_LAST_6_MONTH',\n",
       "       'NPA_CATEGORY_LAST_6_MONTH', 'LATEST_NPA_DATE', 'LIMIT_AMOUNT',\n",
       "       'INCENTIVE_AMT', 'SCHM_CODE', 'SCHM_DESC', 'PRODUCT_GROUP', 'SBU_ID',\n",
       "       'MATURITY_DATE'],\n",
       "      dtype='object')"
      ]
     },
     "execution_count": 25,
     "metadata": {},
     "output_type": "execute_result"
    }
   ],
   "source": [
    "data1.columns"
   ]
  },
  {
   "cell_type": "code",
   "execution_count": 10,
   "id": "3e1cb754",
   "metadata": {},
   "outputs": [
    {
     "data": {
      "text/plain": [
       "PROD_ID                            0\n",
       "CIFNO                              0\n",
       "ACCOUNT_NO                         0\n",
       "ACCOUNT_STATUS                 28826\n",
       "PRODUCT_DESC                       0\n",
       "SUB_PRODUCT_DESC                   0\n",
       "BAL_OS                             0\n",
       "AVG_BAL                            0\n",
       "LAST_TRAN_DATE                559709\n",
       "TOTAL_CR                     1121883\n",
       "TOTAL_DR                     1141802\n",
       "NO_CR                        1246622\n",
       "NO_DR                        1265379\n",
       "NET_FEE_INCOME                     0\n",
       "NET_INTEREST_INCOME                0\n",
       "CURRENCY_CD                        0\n",
       "BRANCH_CD                          0\n",
       "BRANCH_NAME                        0\n",
       "REGION_CD                          0\n",
       "REGION_NAME                        0\n",
       "YEARMON                            0\n",
       "SUB_PROD_ID                        0\n",
       "ACCOUNT_JOINT                4298080\n",
       "NO_OF_CHQ_RTN                4425724\n",
       "AMOUNT_OF_CHQ_RTN            4425724\n",
       "DPD                          4458735\n",
       "NPA_CATEGORY                 4549301\n",
       "DPD_LAST_3_MONTH             4549301\n",
       "NPA_CATEGORY_LAST_3_MONTH    4549301\n",
       "DPD_LAST_6_MONTH             4501203\n",
       "NPA_CATEGORY_LAST_6_MONTH    4499750\n",
       "LATEST_NPA_DATE              4526087\n",
       "LIMIT_AMOUNT                 4341479\n",
       "INCENTIVE_AMT                4140451\n",
       "SCHM_CODE                     657076\n",
       "SCHM_DESC                     662169\n",
       "PRODUCT_GROUP                4284635\n",
       "SBU_ID                             0\n",
       "MATURITY_DATE                3406215\n",
       "dtype: int64"
      ]
     },
     "execution_count": 10,
     "metadata": {},
     "output_type": "execute_result"
    }
   ],
   "source": [
    "data1.isna().sum()"
   ]
  },
  {
   "cell_type": "code",
   "execution_count": 28,
   "id": "e1bd987a",
   "metadata": {},
   "outputs": [
    {
     "data": {
      "text/plain": [
       "PROD_ID                        int64\n",
       "CIFNO                         object\n",
       "ACCOUNT_NO                    object\n",
       "ACCOUNT_STATUS                object\n",
       "PRODUCT_DESC                  object\n",
       "SUB_PRODUCT_DESC              object\n",
       "BAL_OS                       float64\n",
       "AVG_BAL                      float64\n",
       "LAST_TRAN_DATE                object\n",
       "TOTAL_CR                     float64\n",
       "TOTAL_DR                     float64\n",
       "NO_CR                        float64\n",
       "NO_DR                        float64\n",
       "NET_FEE_INCOME               float64\n",
       "NET_INTEREST_INCOME          float64\n",
       "CURRENCY_CD                   object\n",
       "BRANCH_CD                      int64\n",
       "BRANCH_NAME                   object\n",
       "REGION_CD                      int64\n",
       "REGION_NAME                   object\n",
       "YEARMON                        int64\n",
       "SUB_PROD_ID                    int64\n",
       "ACCOUNT_JOINT                 object\n",
       "NO_OF_CHQ_RTN                float64\n",
       "AMOUNT_OF_CHQ_RTN            float64\n",
       "DPD                          float64\n",
       "NPA_CATEGORY                 float64\n",
       "DPD_LAST_3_MONTH             float64\n",
       "NPA_CATEGORY_LAST_3_MONTH    float64\n",
       "DPD_LAST_6_MONTH             float64\n",
       "NPA_CATEGORY_LAST_6_MONTH     object\n",
       "LATEST_NPA_DATE               object\n",
       "LIMIT_AMOUNT                 float64\n",
       "INCENTIVE_AMT                float64\n",
       "SCHM_CODE                     object\n",
       "SCHM_DESC                     object\n",
       "PRODUCT_GROUP                 object\n",
       "SBU_ID                         int64\n",
       "MATURITY_DATE                 object\n",
       "dtype: object"
      ]
     },
     "execution_count": 28,
     "metadata": {},
     "output_type": "execute_result"
    }
   ],
   "source": [
    "data1.dtypes"
   ]
  },
  {
   "cell_type": "code",
   "execution_count": 29,
   "id": "aecf5b7f",
   "metadata": {},
   "outputs": [],
   "source": [
    "duplicate_cif=data1[data1.duplicated(subset=[\"CIFNO\"],keep=False)][\"CIFNO\"].unique()"
   ]
  },
  {
   "cell_type": "code",
   "execution_count": 30,
   "id": "47109da3",
   "metadata": {},
   "outputs": [
    {
     "name": "stdout",
     "output_type": "stream",
     "text": [
      "has\n"
     ]
    }
   ],
   "source": [
    "if len(duplicate_cif)>0:\n",
    "    print(\"has\")\n",
    "else :\n",
    "    print(\"no\")"
   ]
  },
  {
   "cell_type": "code",
   "execution_count": 31,
   "id": "c2136c8b",
   "metadata": {},
   "outputs": [
    {
     "data": {
      "text/plain": [
       "682036"
      ]
     },
     "execution_count": 31,
     "metadata": {},
     "output_type": "execute_result"
    }
   ],
   "source": [
    "len(duplicate_cif)"
   ]
  },
  {
   "cell_type": "code",
   "execution_count": 32,
   "id": "fefdb38b",
   "metadata": {},
   "outputs": [
    {
     "data": {
      "text/plain": [
       "pandas.core.frame.DataFrame"
      ]
     },
     "execution_count": 32,
     "metadata": {},
     "output_type": "execute_result"
    }
   ],
   "source": [
    "type(data1)"
   ]
  },
  {
   "cell_type": "code",
   "execution_count": 34,
   "id": "2ec171e7",
   "metadata": {},
   "outputs": [
    {
     "name": "stderr",
     "output_type": "stream",
     "text": [
      "C:\\Users\\15694\\AppData\\Local\\Temp\\ipykernel_34328\\897987695.py:5: DtypeWarning: Columns (84,87) have mixed types. Specify dtype option on import or set low_memory=False.\n",
      "  data2 = pd.read_csv(\"C:/Users/15694/Desktop/Cross selling/code/Michelle/Prod Mast 202311 CSV.csv\", encoding=encoding)\n"
     ]
    }
   ],
   "source": [
    "encodings_to_try = ['utf-8-sig', 'latin-1', 'ISO-8859-1']\n",
    "\n",
    "for encoding in encodings_to_try:\n",
    "    try:\n",
    "        data2 = pd.read_csv(\"C:/Users/15694/Desktop/Cross selling/code/Michelle/Prod Mast 202311 CSV.csv\", encoding=encoding)\n",
    "        break\n",
    "    except UnicodeDecodeError:\n",
    "        continue"
   ]
  },
  {
   "cell_type": "code",
   "execution_count": 35,
   "id": "cdfc93ad",
   "metadata": {},
   "outputs": [
    {
     "data": {
      "text/plain": [
       "(5313402, 88)"
      ]
     },
     "execution_count": 35,
     "metadata": {},
     "output_type": "execute_result"
    }
   ],
   "source": [
    "data2.shape"
   ]
  },
  {
   "cell_type": "code",
   "execution_count": 36,
   "id": "d9299e7a",
   "metadata": {},
   "outputs": [
    {
     "data": {
      "text/plain": [
       "CIFNO                      0\n",
       "SBU_ID                     0\n",
       "NICNO                 184535\n",
       "CUST_NAME             184460\n",
       "NPA_FLAG             5285558\n",
       "                      ...   \n",
       "CREDIT_CARD_USAGE    5121175\n",
       "PAYFAST_ACCOUNT      5307897\n",
       "NII                        0\n",
       "DIGITAL_APP          4493135\n",
       "QSTYPE                223181\n",
       "Length: 88, dtype: int64"
      ]
     },
     "execution_count": 36,
     "metadata": {},
     "output_type": "execute_result"
    }
   ],
   "source": [
    "data2.isna().sum()"
   ]
  },
  {
   "cell_type": "code",
   "execution_count": 37,
   "id": "ea1d035d",
   "metadata": {},
   "outputs": [
    {
     "data": {
      "text/html": [
       "<div>\n",
       "<style scoped>\n",
       "    .dataframe tbody tr th:only-of-type {\n",
       "        vertical-align: middle;\n",
       "    }\n",
       "\n",
       "    .dataframe tbody tr th {\n",
       "        vertical-align: top;\n",
       "    }\n",
       "\n",
       "    .dataframe thead th {\n",
       "        text-align: right;\n",
       "    }\n",
       "</style>\n",
       "<table border=\"1\" class=\"dataframe\">\n",
       "  <thead>\n",
       "    <tr style=\"text-align: right;\">\n",
       "      <th></th>\n",
       "      <th>CIFNO</th>\n",
       "      <th>SBU_ID</th>\n",
       "      <th>NICNO</th>\n",
       "      <th>CUST_NAME</th>\n",
       "      <th>NPA_FLAG</th>\n",
       "      <th>NO_ACCOUNTS_SAVINGS</th>\n",
       "      <th>BAL_OS_SAVINGS</th>\n",
       "      <th>AVG_BAL_OS_SAVINGS</th>\n",
       "      <th>SIX_MONTH_BAL_OS_SAVINGS</th>\n",
       "      <th>NO_ACCOUNTS_CURRENT</th>\n",
       "      <th>...</th>\n",
       "      <th>E_BANKING_STATEMENT</th>\n",
       "      <th>SOLO_ACCOUNTS</th>\n",
       "      <th>FINACLE_ALERT</th>\n",
       "      <th>NO_DEBIT_CARDS</th>\n",
       "      <th>DEBIT_CARD_USAGE</th>\n",
       "      <th>CREDIT_CARD_USAGE</th>\n",
       "      <th>PAYFAST_ACCOUNT</th>\n",
       "      <th>NII</th>\n",
       "      <th>DIGITAL_APP</th>\n",
       "      <th>QSTYPE</th>\n",
       "    </tr>\n",
       "  </thead>\n",
       "  <tbody>\n",
       "    <tr>\n",
       "      <th>0</th>\n",
       "      <td>998102132489</td>\n",
       "      <td>10</td>\n",
       "      <td>496293568V</td>\n",
       "      <td>SUMANAWATHI W D</td>\n",
       "      <td>NaN</td>\n",
       "      <td>1.0</td>\n",
       "      <td>2318.44</td>\n",
       "      <td>2318.44</td>\n",
       "      <td>2318.44</td>\n",
       "      <td>NaN</td>\n",
       "      <td>...</td>\n",
       "      <td>NaN</td>\n",
       "      <td>NaN</td>\n",
       "      <td>NaN</td>\n",
       "      <td>1.0</td>\n",
       "      <td>NaN</td>\n",
       "      <td>NaN</td>\n",
       "      <td>NaN</td>\n",
       "      <td>31.32</td>\n",
       "      <td>NaN</td>\n",
       "      <td>1.0</td>\n",
       "    </tr>\n",
       "    <tr>\n",
       "      <th>1</th>\n",
       "      <td>998102132569</td>\n",
       "      <td>10</td>\n",
       "      <td>821593484V</td>\n",
       "      <td>YUGESWARAN K</td>\n",
       "      <td>NaN</td>\n",
       "      <td>1.0</td>\n",
       "      <td>3212.35</td>\n",
       "      <td>758.85</td>\n",
       "      <td>1499.41</td>\n",
       "      <td>NaN</td>\n",
       "      <td>...</td>\n",
       "      <td>NaN</td>\n",
       "      <td>NaN</td>\n",
       "      <td>Y</td>\n",
       "      <td>2.0</td>\n",
       "      <td>75000.0</td>\n",
       "      <td>0.0</td>\n",
       "      <td>NaN</td>\n",
       "      <td>85.59</td>\n",
       "      <td>Y</td>\n",
       "      <td>1.0</td>\n",
       "    </tr>\n",
       "    <tr>\n",
       "      <th>2</th>\n",
       "      <td>998001507511</td>\n",
       "      <td>10</td>\n",
       "      <td>746372051V</td>\n",
       "      <td>S. SASHIKALADEVI</td>\n",
       "      <td>NaN</td>\n",
       "      <td>1.0</td>\n",
       "      <td>0.00</td>\n",
       "      <td>0.00</td>\n",
       "      <td>0.00</td>\n",
       "      <td>NaN</td>\n",
       "      <td>...</td>\n",
       "      <td>NaN</td>\n",
       "      <td>NaN</td>\n",
       "      <td>NaN</td>\n",
       "      <td>NaN</td>\n",
       "      <td>NaN</td>\n",
       "      <td>NaN</td>\n",
       "      <td>NaN</td>\n",
       "      <td>0.00</td>\n",
       "      <td>NaN</td>\n",
       "      <td>1.0</td>\n",
       "    </tr>\n",
       "    <tr>\n",
       "      <th>3</th>\n",
       "      <td>998001507446</td>\n",
       "      <td>10</td>\n",
       "      <td>767602359V</td>\n",
       "      <td>W.A.N. GEETHANJALI</td>\n",
       "      <td>NaN</td>\n",
       "      <td>1.0</td>\n",
       "      <td>487088.16</td>\n",
       "      <td>303243.05</td>\n",
       "      <td>208476.14</td>\n",
       "      <td>NaN</td>\n",
       "      <td>...</td>\n",
       "      <td>NaN</td>\n",
       "      <td>NaN</td>\n",
       "      <td>Y</td>\n",
       "      <td>2.0</td>\n",
       "      <td>NaN</td>\n",
       "      <td>NaN</td>\n",
       "      <td>NaN</td>\n",
       "      <td>3473.30</td>\n",
       "      <td>NaN</td>\n",
       "      <td>1.0</td>\n",
       "    </tr>\n",
       "    <tr>\n",
       "      <th>4</th>\n",
       "      <td>998000628060</td>\n",
       "      <td>10</td>\n",
       "      <td>537945334</td>\n",
       "      <td>DIAS N L</td>\n",
       "      <td>NaN</td>\n",
       "      <td>1.0</td>\n",
       "      <td>149862.10</td>\n",
       "      <td>149363.53</td>\n",
       "      <td>147708.18</td>\n",
       "      <td>NaN</td>\n",
       "      <td>...</td>\n",
       "      <td>NaN</td>\n",
       "      <td>NaN</td>\n",
       "      <td>NaN</td>\n",
       "      <td>NaN</td>\n",
       "      <td>NaN</td>\n",
       "      <td>NaN</td>\n",
       "      <td>NaN</td>\n",
       "      <td>4061.57</td>\n",
       "      <td>NaN</td>\n",
       "      <td>30.0</td>\n",
       "    </tr>\n",
       "  </tbody>\n",
       "</table>\n",
       "<p>5 rows × 88 columns</p>\n",
       "</div>"
      ],
      "text/plain": [
       "          CIFNO  SBU_ID       NICNO           CUST_NAME NPA_FLAG  \\\n",
       "0  998102132489      10  496293568V     SUMANAWATHI W D      NaN   \n",
       "1  998102132569      10  821593484V        YUGESWARAN K      NaN   \n",
       "2  998001507511      10  746372051V    S. SASHIKALADEVI      NaN   \n",
       "3  998001507446      10  767602359V  W.A.N. GEETHANJALI      NaN   \n",
       "4  998000628060      10   537945334            DIAS N L      NaN   \n",
       "\n",
       "   NO_ACCOUNTS_SAVINGS  BAL_OS_SAVINGS  AVG_BAL_OS_SAVINGS  \\\n",
       "0                  1.0         2318.44             2318.44   \n",
       "1                  1.0         3212.35              758.85   \n",
       "2                  1.0            0.00                0.00   \n",
       "3                  1.0       487088.16           303243.05   \n",
       "4                  1.0       149862.10           149363.53   \n",
       "\n",
       "   SIX_MONTH_BAL_OS_SAVINGS  NO_ACCOUNTS_CURRENT  ...  E_BANKING_STATEMENT  \\\n",
       "0                   2318.44                  NaN  ...                  NaN   \n",
       "1                   1499.41                  NaN  ...                  NaN   \n",
       "2                      0.00                  NaN  ...                  NaN   \n",
       "3                 208476.14                  NaN  ...                  NaN   \n",
       "4                 147708.18                  NaN  ...                  NaN   \n",
       "\n",
       "   SOLO_ACCOUNTS  FINACLE_ALERT  NO_DEBIT_CARDS  DEBIT_CARD_USAGE  \\\n",
       "0            NaN            NaN             1.0               NaN   \n",
       "1            NaN              Y             2.0           75000.0   \n",
       "2            NaN            NaN             NaN               NaN   \n",
       "3            NaN              Y             2.0               NaN   \n",
       "4            NaN            NaN             NaN               NaN   \n",
       "\n",
       "   CREDIT_CARD_USAGE  PAYFAST_ACCOUNT      NII  DIGITAL_APP  QSTYPE  \n",
       "0                NaN              NaN    31.32          NaN     1.0  \n",
       "1                0.0              NaN    85.59            Y     1.0  \n",
       "2                NaN              NaN     0.00          NaN     1.0  \n",
       "3                NaN              NaN  3473.30          NaN     1.0  \n",
       "4                NaN              NaN  4061.57          NaN    30.0  \n",
       "\n",
       "[5 rows x 88 columns]"
      ]
     },
     "execution_count": 37,
     "metadata": {},
     "output_type": "execute_result"
    }
   ],
   "source": [
    "data2.head(5)"
   ]
  },
  {
   "cell_type": "code",
   "execution_count": 40,
   "id": "f56fa5b6",
   "metadata": {},
   "outputs": [
    {
     "data": {
      "text/plain": [
       "CIFNO                 object\n",
       "SBU_ID                 int64\n",
       "NICNO                 object\n",
       "CUST_NAME             object\n",
       "NPA_FLAG              object\n",
       "                      ...   \n",
       "CREDIT_CARD_USAGE    float64\n",
       "PAYFAST_ACCOUNT       object\n",
       "NII                  float64\n",
       "DIGITAL_APP           object\n",
       "QSTYPE                object\n",
       "Length: 88, dtype: object"
      ]
     },
     "execution_count": 40,
     "metadata": {},
     "output_type": "execute_result"
    }
   ],
   "source": [
    "data2.dtypes"
   ]
  },
  {
   "cell_type": "code",
   "execution_count": 41,
   "id": "cb819c2d",
   "metadata": {},
   "outputs": [
    {
     "data": {
      "text/plain": [
       "pandas.core.frame.DataFrame"
      ]
     },
     "execution_count": 41,
     "metadata": {},
     "output_type": "execute_result"
    }
   ],
   "source": [
    "type(data2)"
   ]
  },
  {
   "cell_type": "code",
   "execution_count": 42,
   "id": "014c6cf4",
   "metadata": {},
   "outputs": [],
   "source": [
    "duplicate_cif2=data2[data2.duplicated(subset=[\"CIFNO\"],keep=False)][\"CIFNO\"].unique()"
   ]
  },
  {
   "cell_type": "code",
   "execution_count": 43,
   "id": "26531921",
   "metadata": {},
   "outputs": [
    {
     "name": "stdout",
     "output_type": "stream",
     "text": [
      "has\n"
     ]
    }
   ],
   "source": [
    "if len(duplicate_cif2)>0:\n",
    "    print(\"has\")\n",
    "else :\n",
    "    print(\"no\")"
   ]
  },
  {
   "cell_type": "code",
   "execution_count": 44,
   "id": "f4b94994",
   "metadata": {},
   "outputs": [
    {
     "data": {
      "text/plain": [
       "12"
      ]
     },
     "execution_count": 44,
     "metadata": {},
     "output_type": "execute_result"
    }
   ],
   "source": [
    "len(duplicate_cif2)"
   ]
  },
  {
   "cell_type": "code",
   "execution_count": null,
   "id": "35b01574",
   "metadata": {},
   "outputs": [],
   "source": [
    "#since small remove"
   ]
  },
  {
   "cell_type": "code",
   "execution_count": 45,
   "id": "47e99a98",
   "metadata": {},
   "outputs": [],
   "source": [
    "data2=data2.drop_duplicates()"
   ]
  },
  {
   "cell_type": "code",
   "execution_count": 28,
   "id": "73312357",
   "metadata": {},
   "outputs": [
    {
     "data": {
      "text/plain": [
       "(5313401, 88)"
      ]
     },
     "execution_count": 28,
     "metadata": {},
     "output_type": "execute_result"
    }
   ],
   "source": [
    "data2.shape"
   ]
  },
  {
   "cell_type": "markdown",
   "id": "18df9edc",
   "metadata": {},
   "source": [
    "#### Merging CIF"
   ]
  },
  {
   "cell_type": "code",
   "execution_count": 46,
   "id": "fcfde791",
   "metadata": {},
   "outputs": [],
   "source": [
    "# Merge the two dataframes based on the 'cif' variable using left join\n",
    "merged_data = pd.merge(data1, data2, on='CIFNO', how='left')\n"
   ]
  },
  {
   "cell_type": "code",
   "execution_count": 47,
   "id": "ee0efda5",
   "metadata": {},
   "outputs": [
    {
     "data": {
      "text/plain": [
       "Index(['PROD_ID', 'CIFNO', 'ACCOUNT_NO', 'ACCOUNT_STATUS', 'PRODUCT_DESC',\n",
       "       'SUB_PRODUCT_DESC', 'BAL_OS', 'AVG_BAL', 'LAST_TRAN_DATE', 'TOTAL_CR',\n",
       "       ...\n",
       "       'E_BANKING_STATEMENT', 'SOLO_ACCOUNTS', 'FINACLE_ALERT',\n",
       "       'NO_DEBIT_CARDS', 'DEBIT_CARD_USAGE', 'CREDIT_CARD_USAGE',\n",
       "       'PAYFAST_ACCOUNT', 'NII', 'DIGITAL_APP', 'QSTYPE'],\n",
       "      dtype='object', length=126)"
      ]
     },
     "execution_count": 47,
     "metadata": {},
     "output_type": "execute_result"
    }
   ],
   "source": [
    "merged_data.columns"
   ]
  },
  {
   "cell_type": "code",
   "execution_count": 48,
   "id": "d3d7a12b",
   "metadata": {},
   "outputs": [],
   "source": [
    "#load new data dataset"
   ]
  },
  {
   "cell_type": "code",
   "execution_count": 49,
   "id": "7ae16f55",
   "metadata": {},
   "outputs": [],
   "source": [
    "#merged_data.head()"
   ]
  },
  {
   "cell_type": "code",
   "execution_count": 50,
   "id": "d217dac6",
   "metadata": {},
   "outputs": [
    {
     "data": {
      "text/plain": [
       "(4549303, 126)"
      ]
     },
     "execution_count": 50,
     "metadata": {},
     "output_type": "execute_result"
    }
   ],
   "source": [
    "merged_data.shape"
   ]
  },
  {
   "cell_type": "code",
   "execution_count": 51,
   "id": "b0386184",
   "metadata": {},
   "outputs": [],
   "source": [
    "duplicate_cif3=merged_data[merged_data.duplicated(subset=[\"CIFNO\"],keep=False)][\"CIFNO\"].unique()"
   ]
  },
  {
   "cell_type": "code",
   "execution_count": 52,
   "id": "159a2733",
   "metadata": {},
   "outputs": [
    {
     "name": "stdout",
     "output_type": "stream",
     "text": [
      "has\n"
     ]
    }
   ],
   "source": [
    "if len(duplicate_cif3)>0:\n",
    "    print(\"has\")\n",
    "else :\n",
    "    print(\"no\")"
   ]
  },
  {
   "cell_type": "code",
   "execution_count": 56,
   "id": "6889968c",
   "metadata": {},
   "outputs": [],
   "source": [
    "merged_data1=merged_data.drop_duplicates()"
   ]
  },
  {
   "cell_type": "code",
   "execution_count": 57,
   "id": "0b98b53a",
   "metadata": {},
   "outputs": [
    {
     "data": {
      "text/plain": [
       "(4549303, 126)"
      ]
     },
     "execution_count": 57,
     "metadata": {},
     "output_type": "execute_result"
    }
   ],
   "source": [
    "merged_data1.shape"
   ]
  },
  {
   "cell_type": "code",
   "execution_count": 61,
   "id": "8ee22b98",
   "metadata": {},
   "outputs": [],
   "source": [
    "#Save the merged data as a new CSV file or update the existing CSV file\n",
    "filepath=r\"C:/Users/15694/Desktop/Cross selling/code/Michelle/data.csv\"\n",
    "merged_data.to_csv(filepath, index=False)"
   ]
  },
  {
   "cell_type": "code",
   "execution_count": 62,
   "id": "96fe9e8d",
   "metadata": {},
   "outputs": [],
   "source": [
    "pd.set_option(\"display.max_columns\", None)\n",
    "pd.set_option(\"display.max_rows\", None)"
   ]
  },
  {
   "cell_type": "code",
   "execution_count": 64,
   "id": "57d84166",
   "metadata": {},
   "outputs": [
    {
     "name": "stderr",
     "output_type": "stream",
     "text": [
      "C:\\Users\\15694\\AppData\\Local\\Temp\\ipykernel_34328\\3072196217.py:5: DtypeWarning: Columns (2,30,31,125) have mixed types. Specify dtype option on import or set low_memory=False.\n",
      "  df = pd.read_csv(\"C:/Users/15694/Desktop/Cross selling/code/Michelle/dataCopy.csv\", encoding=encoding)\n"
     ]
    }
   ],
   "source": [
    "encodings_to_try = ['utf-8-sig', 'latin-1', 'ISO-8859-1']\n",
    "\n",
    "for encoding in encodings_to_try:\n",
    "    try:\n",
    "        df = pd.read_csv(\"C:/Users/15694/Desktop/Cross selling/code/Michelle/dataCopy.csv\", encoding=encoding)\n",
    "        break\n",
    "    except UnicodeDecodeError:\n",
    "        continue"
   ]
  },
  {
   "cell_type": "code",
   "execution_count": 65,
   "id": "ebd00387",
   "metadata": {},
   "outputs": [
    {
     "data": {
      "text/plain": [
       "(1616891, 126)"
      ]
     },
     "execution_count": 65,
     "metadata": {},
     "output_type": "execute_result"
    }
   ],
   "source": [
    "df.shape"
   ]
  },
  {
   "cell_type": "code",
   "execution_count": 66,
   "id": "35e8ee30",
   "metadata": {},
   "outputs": [
    {
     "data": {
      "text/plain": [
       "2    1358351\n",
       "1     258540\n",
       "Name: PROD_ID, dtype: int64"
      ]
     },
     "execution_count": 66,
     "metadata": {},
     "output_type": "execute_result"
    }
   ],
   "source": [
    "df['PROD_ID'].value_counts()"
   ]
  },
  {
   "cell_type": "code",
   "execution_count": 67,
   "id": "efdddc93",
   "metadata": {},
   "outputs": [
    {
     "data": {
      "text/plain": [
       "A       960177\n",
       "D       407227\n",
       "R        84754\n",
       "N        50784\n",
       "NORM     50205\n",
       "H        18651\n",
       "U        10302\n",
       "L         4876\n",
       "WROF      4397\n",
       "NDCC      2538\n",
       "EXPC      2283\n",
       "BLCK      2263\n",
       "O         1932\n",
       "S         1589\n",
       "CLSB      1440\n",
       "DCC       1019\n",
       "BULT       929\n",
       "CLSC       617\n",
       "LOST       388\n",
       "NREN        40\n",
       "NEW         27\n",
       "EXST        18\n",
       "PICK        13\n",
       "LEGL        11\n",
       "I            3\n",
       "CRPC         3\n",
       "NONE         2\n",
       "VIRT         2\n",
       "NCCC         1\n",
       "Name: ACCOUNT_STATUS, dtype: int64"
      ]
     },
     "execution_count": 67,
     "metadata": {},
     "output_type": "execute_result"
    }
   ],
   "source": [
    "df['ACCOUNT_STATUS'].value_counts()"
   ]
  },
  {
   "cell_type": "code",
   "execution_count": 68,
   "id": "10a86a3b",
   "metadata": {},
   "outputs": [
    {
     "data": {
      "text/plain": [
       "Savings          1172041\n",
       "Time Deposits     144465\n",
       "Pawning           121713\n",
       "Credit Card        66196\n",
       "Loan               57650\n",
       "Current            41845\n",
       "Lease               7609\n",
       "Overdraft           5372\n",
       "Name: PRODUCT_DESC, dtype: int64"
      ]
     },
     "execution_count": 68,
     "metadata": {},
     "output_type": "execute_result"
    }
   ],
   "source": [
    "df['PRODUCT_DESC'].value_counts()"
   ]
  },
  {
   "cell_type": "code",
   "execution_count": 69,
   "id": "a1ae001f",
   "metadata": {},
   "outputs": [
    {
     "data": {
      "text/plain": [
       "SAVINGS - GENERAL             636705\n",
       "SAVINGS - OTHERS              285110\n",
       "SAVINGS - MINOR               175020\n",
       "TIME DEPOSITS - LKR           138308\n",
       "PAWNING                       121713\n",
       "CREDIT CARDS                   66196\n",
       "CURRENT ACCOUNTS               41845\n",
       "SAVINGS - FCY                  27597\n",
       "SAVINGS - CAPITAL              20740\n",
       "TERM LOANS                     15536\n",
       "PERSONAL LOANS                 13133\n",
       "DEVELOPMENT LOANS               9801\n",
       "SAVINGS - SAVINGS PLUS          8364\n",
       "STAFF LOANS                     7783\n",
       "LEASES                          7609\n",
       "SAVINGS - MMKT                  7097\n",
       "SAVINGS MAJOR INVESTMENT        6582\n",
       "HOME LOANS                      6547\n",
       "TIME DEPOSITS - FCY             6157\n",
       "OVERDRAFTS                      5372\n",
       "SAVINGS MINOR INVESTMENT        3746\n",
       "SHORT TERM LOANS                2151\n",
       "Trade Facilities                1373\n",
       "REFINANCE LOANS                 1326\n",
       "SAVINGS - MINOR - IBU           1072\n",
       "SAVINGS - MINOR - IBU - FC         8\n",
       "Name: SUB_PRODUCT_DESC, dtype: int64"
      ]
     },
     "execution_count": 69,
     "metadata": {},
     "output_type": "execute_result"
    }
   ],
   "source": [
    "df['SUB_PRODUCT_DESC'].value_counts()"
   ]
  },
  {
   "cell_type": "code",
   "execution_count": null,
   "id": "ce917bf8",
   "metadata": {},
   "outputs": [],
   "source": [
    "df['CURRENCY_CD'].value_counts()"
   ]
  },
  {
   "cell_type": "code",
   "execution_count": null,
   "id": "678866be",
   "metadata": {},
   "outputs": [],
   "source": [
    "df['BRANCH_CD'].value_counts()"
   ]
  },
  {
   "cell_type": "code",
   "execution_count": null,
   "id": "7ddfdaca",
   "metadata": {},
   "outputs": [],
   "source": [
    "df['REGION_CD'].value_counts()"
   ]
  },
  {
   "cell_type": "code",
   "execution_count": null,
   "id": "c1f33b00",
   "metadata": {},
   "outputs": [],
   "source": [
    "df['SUB_PROD_ID'].value_counts()"
   ]
  },
  {
   "cell_type": "code",
   "execution_count": null,
   "id": "7a5e03b2",
   "metadata": {},
   "outputs": [],
   "source": [
    "df['NO_OF_CHQ_RTN'].value_counts()"
   ]
  },
  {
   "cell_type": "code",
   "execution_count": null,
   "id": "ce0a3c42",
   "metadata": {},
   "outputs": [],
   "source": [
    "df['DPD'].value_counts()"
   ]
  },
  {
   "cell_type": "code",
   "execution_count": null,
   "id": "888106dd",
   "metadata": {},
   "outputs": [],
   "source": [
    "df['NPA_CATEGORY'].value_counts()"
   ]
  },
  {
   "cell_type": "code",
   "execution_count": null,
   "id": "186c1fe0",
   "metadata": {},
   "outputs": [],
   "source": [
    "df['DPD_LAST_3_MONTH'].value_counts()"
   ]
  },
  {
   "cell_type": "code",
   "execution_count": null,
   "id": "cbdacd0b",
   "metadata": {},
   "outputs": [],
   "source": [
    "df['NPA_CATEGORY_LAST_3_MONTH'].value_counts()"
   ]
  },
  {
   "cell_type": "code",
   "execution_count": null,
   "id": "4461ee39",
   "metadata": {},
   "outputs": [],
   "source": [
    "df['LATEST_NPA_DATE'].value_counts()"
   ]
  },
  {
   "cell_type": "code",
   "execution_count": null,
   "id": "e1aeebfe",
   "metadata": {},
   "outputs": [],
   "source": [
    "df['LIMIT_AMOUNT'].value_counts()"
   ]
  },
  {
   "cell_type": "code",
   "execution_count": null,
   "id": "15704426",
   "metadata": {},
   "outputs": [],
   "source": [
    "df['INCENTIVE_AMT'].value_counts()"
   ]
  },
  {
   "cell_type": "code",
   "execution_count": null,
   "id": "75cb140e",
   "metadata": {},
   "outputs": [],
   "source": [
    "df['SCHM_CODE'].value_counts()"
   ]
  },
  {
   "cell_type": "code",
   "execution_count": null,
   "id": "fe9fc8da",
   "metadata": {},
   "outputs": [],
   "source": [
    "df['SCHM_DESC'].value_counts()"
   ]
  },
  {
   "cell_type": "code",
   "execution_count": null,
   "id": "a31db580",
   "metadata": {},
   "outputs": [],
   "source": [
    "df['PRODUCT_GROUP'].value_counts()"
   ]
  },
  {
   "cell_type": "code",
   "execution_count": null,
   "id": "968574fe",
   "metadata": {},
   "outputs": [],
   "source": [
    "df['MATURITY_DATE'].value_counts()"
   ]
  },
  {
   "cell_type": "code",
   "execution_count": null,
   "id": "0bdc037d",
   "metadata": {},
   "outputs": [],
   "source": [
    "df['MATURITY_DATE'].value_counts()"
   ]
  },
  {
   "cell_type": "code",
   "execution_count": null,
   "id": "338047de",
   "metadata": {},
   "outputs": [],
   "source": [
    "pd.set_option(\"display.max_columns\", None)\n",
    "pd.set_option(\"display.max_rows\", None)"
   ]
  },
  {
   "cell_type": "code",
   "execution_count": null,
   "id": "08c82f32",
   "metadata": {},
   "outputs": [],
   "source": [
    "df['SBU_ID_x'].value_counts()"
   ]
  },
  {
   "cell_type": "code",
   "execution_count": null,
   "id": "246dde21",
   "metadata": {},
   "outputs": [],
   "source": [
    "data1.shape"
   ]
  },
  {
   "cell_type": "code",
   "execution_count": null,
   "id": "60546a39",
   "metadata": {},
   "outputs": [],
   "source": [
    "df['SBU_ID_y'].value_counts()"
   ]
  },
  {
   "cell_type": "code",
   "execution_count": null,
   "id": "52542751",
   "metadata": {},
   "outputs": [],
   "source": [
    "pd.set_option(\"display.max_columns\", None)\n",
    "pd.set_option(\"display.max_rows\", None)"
   ]
  },
  {
   "cell_type": "code",
   "execution_count": null,
   "id": "2047220e",
   "metadata": {},
   "outputs": [],
   "source": [
    "df.head(10)"
   ]
  },
  {
   "cell_type": "code",
   "execution_count": null,
   "id": "b72266b4",
   "metadata": {},
   "outputs": [],
   "source": [
    "df['NPA_FLAG'].value_counts()"
   ]
  },
  {
   "cell_type": "code",
   "execution_count": null,
   "id": "f36e7d90",
   "metadata": {},
   "outputs": [],
   "source": []
  },
  {
   "cell_type": "code",
   "execution_count": null,
   "id": "fe45d277",
   "metadata": {},
   "outputs": [],
   "source": []
  }
 ],
 "metadata": {
  "kernelspec": {
   "display_name": "Python 3 (ipykernel)",
   "language": "python",
   "name": "python3"
  },
  "language_info": {
   "codemirror_mode": {
    "name": "ipython",
    "version": 3
   },
   "file_extension": ".py",
   "mimetype": "text/x-python",
   "name": "python",
   "nbconvert_exporter": "python",
   "pygments_lexer": "ipython3",
   "version": "3.11.3"
  }
 },
 "nbformat": 4,
 "nbformat_minor": 5
}
