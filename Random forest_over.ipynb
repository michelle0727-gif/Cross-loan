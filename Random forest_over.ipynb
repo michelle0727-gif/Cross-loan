{
 "cells": [
  {
   "cell_type": "code",
   "execution_count": 1,
   "id": "b5d36d2e",
   "metadata": {},
   "outputs": [],
   "source": [
    "import pandas as pd\n",
    "import numpy as np\n",
    "import matplotlib.pyplot as plt\n"
   ]
  },
  {
   "cell_type": "code",
   "execution_count": 2,
   "id": "da800089",
   "metadata": {},
   "outputs": [],
   "source": [
    "pd.set_option(\"display.max_columns\", None)\n",
    "pd.set_option(\"display.max_rows\", None)"
   ]
  },
  {
   "cell_type": "code",
   "execution_count": 3,
   "id": "144a12d9",
   "metadata": {},
   "outputs": [],
   "source": [
    "encodings_to_try = ['utf-8-sig', 'latin-1', 'ISO-8859-1']\n",
    "\n",
    "for encoding in encodings_to_try:\n",
    "    try:\n",
    "        df = pd.read_csv(\"C:/Users/15694/Desktop/Cross selling/code/Michelle/variable_without_pca2.csv\", encoding=encoding)\n",
    "        break\n",
    "    except UnicodeDecodeError:\n",
    "        continue"
   ]
  },
  {
   "cell_type": "code",
   "execution_count": 4,
   "id": "e6ff191a",
   "metadata": {},
   "outputs": [
    {
     "data": {
      "text/html": [
       "<div>\n",
       "<style scoped>\n",
       "    .dataframe tbody tr th:only-of-type {\n",
       "        vertical-align: middle;\n",
       "    }\n",
       "\n",
       "    .dataframe tbody tr th {\n",
       "        vertical-align: top;\n",
       "    }\n",
       "\n",
       "    .dataframe thead th {\n",
       "        text-align: right;\n",
       "    }\n",
       "</style>\n",
       "<table border=\"1\" class=\"dataframe\">\n",
       "  <thead>\n",
       "    <tr style=\"text-align: right;\">\n",
       "      <th></th>\n",
       "      <th>SIX_MONTH_BAL_OS_SAVINGS</th>\n",
       "      <th>SIX_MONTH_BAL_OS_CURRENT</th>\n",
       "      <th>SIX_MONTH_BAL_OS_FD</th>\n",
       "      <th>SIX_MONTH_BAL_OS_LEASING</th>\n",
       "      <th>SIX_MONTH_BAL_OS_CARD</th>\n",
       "      <th>SIX_MONTH_BAL_OS_OD</th>\n",
       "      <th>TOTAL_AVG_BAL</th>\n",
       "      <th>FD_AMOUNT_UNDER_LIEN</th>\n",
       "      <th>CURRENT_AMOUNT_UNDER_LIEN</th>\n",
       "      <th>SAVINGS_AMOUNT_UNDER_LIEN</th>\n",
       "      <th>CUSTOMER_PROFITABILITY</th>\n",
       "      <th>NO_OF_ASSERT_ACCOUNTS</th>\n",
       "      <th>NO_OF_LIABILITY_ACCOUNTS</th>\n",
       "      <th>CR_DR_Usage</th>\n",
       "      <th>NPA_FLAG</th>\n",
       "      <th>LOAN_CAT1</th>\n",
       "    </tr>\n",
       "  </thead>\n",
       "  <tbody>\n",
       "    <tr>\n",
       "      <th>0</th>\n",
       "      <td>0.042612</td>\n",
       "      <td>-0.048785</td>\n",
       "      <td>-0.053259</td>\n",
       "      <td>-0.134894</td>\n",
       "      <td>-0.155864</td>\n",
       "      <td>-0.075719</td>\n",
       "      <td>-0.062581</td>\n",
       "      <td>-0.023629</td>\n",
       "      <td>-0.044929</td>\n",
       "      <td>-0.056843</td>\n",
       "      <td>-0.003142</td>\n",
       "      <td>0.397017</td>\n",
       "      <td>1.805905</td>\n",
       "      <td>0.051895</td>\n",
       "      <td>0</td>\n",
       "      <td>3</td>\n",
       "    </tr>\n",
       "    <tr>\n",
       "      <th>1</th>\n",
       "      <td>-0.091396</td>\n",
       "      <td>-0.048785</td>\n",
       "      <td>0.066148</td>\n",
       "      <td>-0.134894</td>\n",
       "      <td>-0.297359</td>\n",
       "      <td>-0.075719</td>\n",
       "      <td>-0.050164</td>\n",
       "      <td>-0.023629</td>\n",
       "      <td>-0.044929</td>\n",
       "      <td>-0.056843</td>\n",
       "      <td>-0.010305</td>\n",
       "      <td>-0.623858</td>\n",
       "      <td>0.600067</td>\n",
       "      <td>-0.067204</td>\n",
       "      <td>0</td>\n",
       "      <td>3</td>\n",
       "    </tr>\n",
       "    <tr>\n",
       "      <th>2</th>\n",
       "      <td>-0.076329</td>\n",
       "      <td>-0.048785</td>\n",
       "      <td>0.031772</td>\n",
       "      <td>-0.134894</td>\n",
       "      <td>1.262271</td>\n",
       "      <td>-0.059430</td>\n",
       "      <td>-0.065534</td>\n",
       "      <td>-0.023629</td>\n",
       "      <td>-0.044929</td>\n",
       "      <td>-0.056843</td>\n",
       "      <td>-0.006337</td>\n",
       "      <td>1.417891</td>\n",
       "      <td>1.805905</td>\n",
       "      <td>-0.023470</td>\n",
       "      <td>0</td>\n",
       "      <td>0</td>\n",
       "    </tr>\n",
       "    <tr>\n",
       "      <th>3</th>\n",
       "      <td>-0.101346</td>\n",
       "      <td>-0.048785</td>\n",
       "      <td>0.308069</td>\n",
       "      <td>-0.134894</td>\n",
       "      <td>-0.297359</td>\n",
       "      <td>-0.075719</td>\n",
       "      <td>-0.010893</td>\n",
       "      <td>-0.023629</td>\n",
       "      <td>-0.044929</td>\n",
       "      <td>-0.056843</td>\n",
       "      <td>0.017446</td>\n",
       "      <td>-0.623858</td>\n",
       "      <td>0.198120</td>\n",
       "      <td>-0.067204</td>\n",
       "      <td>0</td>\n",
       "      <td>3</td>\n",
       "    </tr>\n",
       "    <tr>\n",
       "      <th>4</th>\n",
       "      <td>-0.013879</td>\n",
       "      <td>-0.048785</td>\n",
       "      <td>-0.071656</td>\n",
       "      <td>-0.134894</td>\n",
       "      <td>-0.297359</td>\n",
       "      <td>-0.075719</td>\n",
       "      <td>-0.053618</td>\n",
       "      <td>-0.023629</td>\n",
       "      <td>-0.044929</td>\n",
       "      <td>-0.056843</td>\n",
       "      <td>-0.004448</td>\n",
       "      <td>-0.623858</td>\n",
       "      <td>-0.203826</td>\n",
       "      <td>-0.067204</td>\n",
       "      <td>1</td>\n",
       "      <td>4</td>\n",
       "    </tr>\n",
       "  </tbody>\n",
       "</table>\n",
       "</div>"
      ],
      "text/plain": [
       "   SIX_MONTH_BAL_OS_SAVINGS  SIX_MONTH_BAL_OS_CURRENT  SIX_MONTH_BAL_OS_FD  \\\n",
       "0                  0.042612                 -0.048785            -0.053259   \n",
       "1                 -0.091396                 -0.048785             0.066148   \n",
       "2                 -0.076329                 -0.048785             0.031772   \n",
       "3                 -0.101346                 -0.048785             0.308069   \n",
       "4                 -0.013879                 -0.048785            -0.071656   \n",
       "\n",
       "   SIX_MONTH_BAL_OS_LEASING  SIX_MONTH_BAL_OS_CARD  SIX_MONTH_BAL_OS_OD  \\\n",
       "0                 -0.134894              -0.155864            -0.075719   \n",
       "1                 -0.134894              -0.297359            -0.075719   \n",
       "2                 -0.134894               1.262271            -0.059430   \n",
       "3                 -0.134894              -0.297359            -0.075719   \n",
       "4                 -0.134894              -0.297359            -0.075719   \n",
       "\n",
       "   TOTAL_AVG_BAL  FD_AMOUNT_UNDER_LIEN  CURRENT_AMOUNT_UNDER_LIEN  \\\n",
       "0      -0.062581             -0.023629                  -0.044929   \n",
       "1      -0.050164             -0.023629                  -0.044929   \n",
       "2      -0.065534             -0.023629                  -0.044929   \n",
       "3      -0.010893             -0.023629                  -0.044929   \n",
       "4      -0.053618             -0.023629                  -0.044929   \n",
       "\n",
       "   SAVINGS_AMOUNT_UNDER_LIEN  CUSTOMER_PROFITABILITY  NO_OF_ASSERT_ACCOUNTS  \\\n",
       "0                  -0.056843               -0.003142               0.397017   \n",
       "1                  -0.056843               -0.010305              -0.623858   \n",
       "2                  -0.056843               -0.006337               1.417891   \n",
       "3                  -0.056843                0.017446              -0.623858   \n",
       "4                  -0.056843               -0.004448              -0.623858   \n",
       "\n",
       "   NO_OF_LIABILITY_ACCOUNTS  CR_DR_Usage  NPA_FLAG  LOAN_CAT1  \n",
       "0                  1.805905     0.051895         0          3  \n",
       "1                  0.600067    -0.067204         0          3  \n",
       "2                  1.805905    -0.023470         0          0  \n",
       "3                  0.198120    -0.067204         0          3  \n",
       "4                 -0.203826    -0.067204         1          4  "
      ]
     },
     "execution_count": 4,
     "metadata": {},
     "output_type": "execute_result"
    }
   ],
   "source": [
    "df.head()"
   ]
  },
  {
   "cell_type": "code",
   "execution_count": 5,
   "id": "7a049c3a",
   "metadata": {},
   "outputs": [
    {
     "data": {
      "text/plain": [
       "Index(['SIX_MONTH_BAL_OS_SAVINGS', 'SIX_MONTH_BAL_OS_CURRENT',\n",
       "       'SIX_MONTH_BAL_OS_FD', 'SIX_MONTH_BAL_OS_LEASING',\n",
       "       'SIX_MONTH_BAL_OS_CARD', 'SIX_MONTH_BAL_OS_OD', 'TOTAL_AVG_BAL',\n",
       "       'FD_AMOUNT_UNDER_LIEN', 'CURRENT_AMOUNT_UNDER_LIEN',\n",
       "       'SAVINGS_AMOUNT_UNDER_LIEN', 'CUSTOMER_PROFITABILITY',\n",
       "       'NO_OF_ASSERT_ACCOUNTS', 'NO_OF_LIABILITY_ACCOUNTS', 'CR_DR_Usage',\n",
       "       'NPA_FLAG', 'LOAN_CAT1'],\n",
       "      dtype='object')"
      ]
     },
     "execution_count": 5,
     "metadata": {},
     "output_type": "execute_result"
    }
   ],
   "source": [
    "df.columns"
   ]
  },
  {
   "cell_type": "code",
   "execution_count": 6,
   "id": "c602b689",
   "metadata": {},
   "outputs": [
    {
     "data": {
      "text/plain": [
       "(11836, 16)"
      ]
     },
     "execution_count": 6,
     "metadata": {},
     "output_type": "execute_result"
    }
   ],
   "source": [
    "df.shape"
   ]
  },
  {
   "cell_type": "code",
   "execution_count": 7,
   "id": "a566fe31",
   "metadata": {},
   "outputs": [
    {
     "data": {
      "text/plain": [
       "SIX_MONTH_BAL_OS_SAVINGS     0\n",
       "SIX_MONTH_BAL_OS_CURRENT     0\n",
       "SIX_MONTH_BAL_OS_FD          0\n",
       "SIX_MONTH_BAL_OS_LEASING     0\n",
       "SIX_MONTH_BAL_OS_CARD        0\n",
       "SIX_MONTH_BAL_OS_OD          0\n",
       "TOTAL_AVG_BAL                0\n",
       "FD_AMOUNT_UNDER_LIEN         0\n",
       "CURRENT_AMOUNT_UNDER_LIEN    0\n",
       "SAVINGS_AMOUNT_UNDER_LIEN    0\n",
       "CUSTOMER_PROFITABILITY       0\n",
       "NO_OF_ASSERT_ACCOUNTS        0\n",
       "NO_OF_LIABILITY_ACCOUNTS     0\n",
       "CR_DR_Usage                  0\n",
       "NPA_FLAG                     0\n",
       "LOAN_CAT1                    0\n",
       "dtype: int64"
      ]
     },
     "execution_count": 7,
     "metadata": {},
     "output_type": "execute_result"
    }
   ],
   "source": [
    "df.isna().sum()"
   ]
  },
  {
   "cell_type": "code",
   "execution_count": null,
   "id": "d7598db5",
   "metadata": {},
   "outputs": [],
   "source": []
  },
  {
   "cell_type": "code",
   "execution_count": 8,
   "id": "4e676f1f",
   "metadata": {},
   "outputs": [
    {
     "data": {
      "text/html": [
       "<div>\n",
       "<style scoped>\n",
       "    .dataframe tbody tr th:only-of-type {\n",
       "        vertical-align: middle;\n",
       "    }\n",
       "\n",
       "    .dataframe tbody tr th {\n",
       "        vertical-align: top;\n",
       "    }\n",
       "\n",
       "    .dataframe thead th {\n",
       "        text-align: right;\n",
       "    }\n",
       "</style>\n",
       "<table border=\"1\" class=\"dataframe\">\n",
       "  <thead>\n",
       "    <tr style=\"text-align: right;\">\n",
       "      <th></th>\n",
       "      <th>SIX_MONTH_BAL_OS_SAVINGS</th>\n",
       "      <th>SIX_MONTH_BAL_OS_CURRENT</th>\n",
       "      <th>SIX_MONTH_BAL_OS_FD</th>\n",
       "      <th>SIX_MONTH_BAL_OS_LEASING</th>\n",
       "      <th>SIX_MONTH_BAL_OS_CARD</th>\n",
       "      <th>SIX_MONTH_BAL_OS_OD</th>\n",
       "      <th>TOTAL_AVG_BAL</th>\n",
       "      <th>FD_AMOUNT_UNDER_LIEN</th>\n",
       "      <th>CURRENT_AMOUNT_UNDER_LIEN</th>\n",
       "      <th>SAVINGS_AMOUNT_UNDER_LIEN</th>\n",
       "      <th>CUSTOMER_PROFITABILITY</th>\n",
       "      <th>NO_OF_ASSERT_ACCOUNTS</th>\n",
       "      <th>NO_OF_LIABILITY_ACCOUNTS</th>\n",
       "      <th>CR_DR_Usage</th>\n",
       "      <th>NPA_FLAG</th>\n",
       "      <th>LOAN_CAT1</th>\n",
       "    </tr>\n",
       "  </thead>\n",
       "  <tbody>\n",
       "    <tr>\n",
       "      <th>0</th>\n",
       "      <td>0.042612</td>\n",
       "      <td>-0.048785</td>\n",
       "      <td>-0.053259</td>\n",
       "      <td>-0.134894</td>\n",
       "      <td>-0.155864</td>\n",
       "      <td>-0.075719</td>\n",
       "      <td>-0.062581</td>\n",
       "      <td>-0.023629</td>\n",
       "      <td>-0.044929</td>\n",
       "      <td>-0.056843</td>\n",
       "      <td>-0.003142</td>\n",
       "      <td>0.397017</td>\n",
       "      <td>1.805905</td>\n",
       "      <td>0.051895</td>\n",
       "      <td>0</td>\n",
       "      <td>3</td>\n",
       "    </tr>\n",
       "    <tr>\n",
       "      <th>1</th>\n",
       "      <td>-0.091396</td>\n",
       "      <td>-0.048785</td>\n",
       "      <td>0.066148</td>\n",
       "      <td>-0.134894</td>\n",
       "      <td>-0.297359</td>\n",
       "      <td>-0.075719</td>\n",
       "      <td>-0.050164</td>\n",
       "      <td>-0.023629</td>\n",
       "      <td>-0.044929</td>\n",
       "      <td>-0.056843</td>\n",
       "      <td>-0.010305</td>\n",
       "      <td>-0.623858</td>\n",
       "      <td>0.600067</td>\n",
       "      <td>-0.067204</td>\n",
       "      <td>0</td>\n",
       "      <td>3</td>\n",
       "    </tr>\n",
       "    <tr>\n",
       "      <th>2</th>\n",
       "      <td>-0.076329</td>\n",
       "      <td>-0.048785</td>\n",
       "      <td>0.031772</td>\n",
       "      <td>-0.134894</td>\n",
       "      <td>1.262271</td>\n",
       "      <td>-0.059430</td>\n",
       "      <td>-0.065534</td>\n",
       "      <td>-0.023629</td>\n",
       "      <td>-0.044929</td>\n",
       "      <td>-0.056843</td>\n",
       "      <td>-0.006337</td>\n",
       "      <td>1.417891</td>\n",
       "      <td>1.805905</td>\n",
       "      <td>-0.023470</td>\n",
       "      <td>0</td>\n",
       "      <td>0</td>\n",
       "    </tr>\n",
       "    <tr>\n",
       "      <th>3</th>\n",
       "      <td>-0.101346</td>\n",
       "      <td>-0.048785</td>\n",
       "      <td>0.308069</td>\n",
       "      <td>-0.134894</td>\n",
       "      <td>-0.297359</td>\n",
       "      <td>-0.075719</td>\n",
       "      <td>-0.010893</td>\n",
       "      <td>-0.023629</td>\n",
       "      <td>-0.044929</td>\n",
       "      <td>-0.056843</td>\n",
       "      <td>0.017446</td>\n",
       "      <td>-0.623858</td>\n",
       "      <td>0.198120</td>\n",
       "      <td>-0.067204</td>\n",
       "      <td>0</td>\n",
       "      <td>3</td>\n",
       "    </tr>\n",
       "    <tr>\n",
       "      <th>4</th>\n",
       "      <td>-0.013879</td>\n",
       "      <td>-0.048785</td>\n",
       "      <td>-0.071656</td>\n",
       "      <td>-0.134894</td>\n",
       "      <td>-0.297359</td>\n",
       "      <td>-0.075719</td>\n",
       "      <td>-0.053618</td>\n",
       "      <td>-0.023629</td>\n",
       "      <td>-0.044929</td>\n",
       "      <td>-0.056843</td>\n",
       "      <td>-0.004448</td>\n",
       "      <td>-0.623858</td>\n",
       "      <td>-0.203826</td>\n",
       "      <td>-0.067204</td>\n",
       "      <td>1</td>\n",
       "      <td>4</td>\n",
       "    </tr>\n",
       "  </tbody>\n",
       "</table>\n",
       "</div>"
      ],
      "text/plain": [
       "   SIX_MONTH_BAL_OS_SAVINGS  SIX_MONTH_BAL_OS_CURRENT  SIX_MONTH_BAL_OS_FD  \\\n",
       "0                  0.042612                 -0.048785            -0.053259   \n",
       "1                 -0.091396                 -0.048785             0.066148   \n",
       "2                 -0.076329                 -0.048785             0.031772   \n",
       "3                 -0.101346                 -0.048785             0.308069   \n",
       "4                 -0.013879                 -0.048785            -0.071656   \n",
       "\n",
       "   SIX_MONTH_BAL_OS_LEASING  SIX_MONTH_BAL_OS_CARD  SIX_MONTH_BAL_OS_OD  \\\n",
       "0                 -0.134894              -0.155864            -0.075719   \n",
       "1                 -0.134894              -0.297359            -0.075719   \n",
       "2                 -0.134894               1.262271            -0.059430   \n",
       "3                 -0.134894              -0.297359            -0.075719   \n",
       "4                 -0.134894              -0.297359            -0.075719   \n",
       "\n",
       "   TOTAL_AVG_BAL  FD_AMOUNT_UNDER_LIEN  CURRENT_AMOUNT_UNDER_LIEN  \\\n",
       "0      -0.062581             -0.023629                  -0.044929   \n",
       "1      -0.050164             -0.023629                  -0.044929   \n",
       "2      -0.065534             -0.023629                  -0.044929   \n",
       "3      -0.010893             -0.023629                  -0.044929   \n",
       "4      -0.053618             -0.023629                  -0.044929   \n",
       "\n",
       "   SAVINGS_AMOUNT_UNDER_LIEN  CUSTOMER_PROFITABILITY  NO_OF_ASSERT_ACCOUNTS  \\\n",
       "0                  -0.056843               -0.003142               0.397017   \n",
       "1                  -0.056843               -0.010305              -0.623858   \n",
       "2                  -0.056843               -0.006337               1.417891   \n",
       "3                  -0.056843                0.017446              -0.623858   \n",
       "4                  -0.056843               -0.004448              -0.623858   \n",
       "\n",
       "   NO_OF_LIABILITY_ACCOUNTS  CR_DR_Usage  NPA_FLAG  LOAN_CAT1  \n",
       "0                  1.805905     0.051895         0          3  \n",
       "1                  0.600067    -0.067204         0          3  \n",
       "2                  1.805905    -0.023470         0          0  \n",
       "3                  0.198120    -0.067204         0          3  \n",
       "4                 -0.203826    -0.067204         1          4  "
      ]
     },
     "execution_count": 8,
     "metadata": {},
     "output_type": "execute_result"
    }
   ],
   "source": [
    "df.head()"
   ]
  },
  {
   "cell_type": "code",
   "execution_count": 9,
   "id": "f369fc7e",
   "metadata": {},
   "outputs": [],
   "source": [
    "X = df.drop(columns=[\"LOAN_CAT1\"])\n",
    "Y = df[\"LOAN_CAT1\"]"
   ]
  },
  {
   "cell_type": "code",
   "execution_count": 10,
   "id": "82628549",
   "metadata": {},
   "outputs": [],
   "source": [
    "from sklearn.model_selection import train_test_split\n",
    "from sklearn.metrics import accuracy_score,precision_score,recall_score, f1_score,  classification_report, confusion_matrix\n",
    "from sklearn.model_selection import GridSearchCV"
   ]
  },
  {
   "cell_type": "code",
   "execution_count": 11,
   "id": "f1dbdc09",
   "metadata": {},
   "outputs": [],
   "source": [
    "train_set, test_set = train_test_split(df, test_size=0.3, random_state=42)\n",
    "\n",
    "# Converting train_set and test_set to dataframes\n",
    "train_df = pd.DataFrame(train_set)\n",
    "test_df = pd.DataFrame(test_set)"
   ]
  },
  {
   "cell_type": "code",
   "execution_count": 12,
   "id": "3c1d6fbd",
   "metadata": {},
   "outputs": [
    {
     "data": {
      "text/plain": [
       "((184, 16), (2004, 16), (1295, 16), (3170, 16), (801, 16), (831, 16))"
      ]
     },
     "execution_count": 12,
     "metadata": {},
     "output_type": "execute_result"
    }
   ],
   "source": [
    "df_cat_0 = train_df[train_df.LOAN_CAT1==0]\n",
    "df_cat_1 = train_df[train_df.LOAN_CAT1==1]\n",
    "df_cat_2 = train_df[train_df.LOAN_CAT1==2]\n",
    "df_cat_3 = train_df[train_df.LOAN_CAT1==3]\n",
    "df_cat_4 = train_df[train_df.LOAN_CAT1==4]\n",
    "df_cat_5 = train_df[train_df.LOAN_CAT1==5]\n",
    "df_cat_0.shape,df_cat_1.shape,df_cat_2.shape,df_cat_3.shape,df_cat_4.shape,df_cat_5.shape"
   ]
  },
  {
   "cell_type": "code",
   "execution_count": 13,
   "id": "5016025d",
   "metadata": {},
   "outputs": [],
   "source": [
    "##### The data set is imbalanced"
   ]
  },
  {
   "cell_type": "code",
   "execution_count": 14,
   "id": "2d93d801",
   "metadata": {},
   "outputs": [
    {
     "data": {
      "text/plain": [
       "((8285, 15), (8285,))"
      ]
     },
     "execution_count": 14,
     "metadata": {},
     "output_type": "execute_result"
    }
   ],
   "source": [
    "\n",
    "X_train = train_df.drop(columns=[\"LOAN_CAT1\"])\n",
    "y_train = train_df[\"LOAN_CAT1\"]\n",
    "X_train.shape, y_train.shape"
   ]
  },
  {
   "cell_type": "code",
   "execution_count": 15,
   "id": "1b95384c",
   "metadata": {},
   "outputs": [
    {
     "data": {
      "text/plain": [
       "((3551, 15), (3551,))"
      ]
     },
     "execution_count": 15,
     "metadata": {},
     "output_type": "execute_result"
    }
   ],
   "source": [
    "X_test = test_df.drop(columns=[\"LOAN_CAT1\"])\n",
    "y_test = test_df[\"LOAN_CAT1\"]\n",
    "X_test.shape, y_test.shape"
   ]
  },
  {
   "cell_type": "markdown",
   "id": "5b885346",
   "metadata": {},
   "source": []
  },
  {
   "cell_type": "code",
   "execution_count": 16,
   "id": "a92e872c",
   "metadata": {},
   "outputs": [],
   "source": [
    "from sklearn.utils import resample"
   ]
  },
  {
   "cell_type": "code",
   "execution_count": 17,
   "id": "2500bcc0",
   "metadata": {},
   "outputs": [],
   "source": [
    "df_majority = train_df[train_df[\"LOAN_CAT1\"] == 3]\n",
    "df_minority_1 = train_df[train_df[\"LOAN_CAT1\"] == 0]\n",
    "df_minority_2 = train_df[train_df[\"LOAN_CAT1\"] == 1]\n",
    "df_minority_3 = train_df[train_df[\"LOAN_CAT1\"] == 2]\n",
    "df_minority_4 = train_df[train_df[\"LOAN_CAT1\"] == 4]\n",
    "df_minority_5 = train_df[train_df[\"LOAN_CAT1\"] == 5]\n"
   ]
  },
  {
   "cell_type": "markdown",
   "id": "fa44f6bc",
   "metadata": {},
   "source": [
    "## Oversampling"
   ]
  },
  {
   "cell_type": "code",
   "execution_count": 18,
   "id": "0d887295",
   "metadata": {},
   "outputs": [],
   "source": [
    "from sklearn.utils import resample\n",
    "df_minority_1_upsampled = resample(df_minority_1, replace=True, n_samples=len(df_majority), random_state=42)\n",
    "df_minority_2_upsampled = resample(df_minority_2, replace=True, n_samples=len(df_majority), random_state=42)\n",
    "df_minority_3_upsampled = resample(df_minority_3, replace=True, n_samples=len(df_majority), random_state=42)\n",
    "df_minority_4_upsampled = resample(df_minority_4, replace=True, n_samples=len(df_majority), random_state=42)\n",
    "df_minority_5_upsampled = resample(df_minority_5, replace=True, n_samples=len(df_majority), random_state=42)"
   ]
  },
  {
   "cell_type": "code",
   "execution_count": 19,
   "id": "7cfa626f",
   "metadata": {},
   "outputs": [],
   "source": [
    "train_upsampled = pd.concat([df_majority,\n",
    "                             df_minority_1_upsampled,\n",
    "                             df_minority_2_upsampled,\n",
    "                             df_minority_3_upsampled,\n",
    "                             df_minority_4_upsampled,\n",
    "                             df_minority_5_upsampled,\n",
    "                             ])"
   ]
  },
  {
   "cell_type": "code",
   "execution_count": 20,
   "id": "12851e21",
   "metadata": {},
   "outputs": [
    {
     "data": {
      "text/plain": [
       "3    3170\n",
       "0    3170\n",
       "1    3170\n",
       "2    3170\n",
       "4    3170\n",
       "5    3170\n",
       "Name: LOAN_CAT1, dtype: int64"
      ]
     },
     "execution_count": 20,
     "metadata": {},
     "output_type": "execute_result"
    }
   ],
   "source": [
    "train_upsampled[\"LOAN_CAT1\"].value_counts()"
   ]
  },
  {
   "cell_type": "code",
   "execution_count": 21,
   "id": "f3e0de1e",
   "metadata": {},
   "outputs": [
    {
     "data": {
      "text/plain": [
       "((19020, 15), (3551, 15), (19020,), (3551,))"
      ]
     },
     "execution_count": 21,
     "metadata": {},
     "output_type": "execute_result"
    }
   ],
   "source": [
    "X_up = train_upsampled.drop(\"LOAN_CAT1\", axis=1)\n",
    "Y_up = train_upsampled[\"LOAN_CAT1\"]\n",
    "\n",
    "X_up.shape, X_test.shape,Y_up.shape, y_test.shape"
   ]
  },
  {
   "cell_type": "code",
   "execution_count": 22,
   "id": "708459c8",
   "metadata": {},
   "outputs": [],
   "source": [
    "\n",
    "from sklearn.ensemble import RandomForestClassifier"
   ]
  },
  {
   "cell_type": "code",
   "execution_count": 23,
   "id": "a7f54eff",
   "metadata": {},
   "outputs": [],
   "source": [
    "from sklearn.model_selection import train_test_split\n",
    "from sklearn.metrics import accuracy_score,precision_score,recall_score, f1_score,  classification_report, confusion_matrix\n",
    "from sklearn.model_selection import GridSearchCV\n",
    "from sklearn.model_selection import RandomizedSearchCV"
   ]
  },
  {
   "cell_type": "markdown",
   "id": "343ce682",
   "metadata": {},
   "source": [
    "###### RF"
   ]
  },
  {
   "cell_type": "code",
   "execution_count": 24,
   "id": "40aa2ac5",
   "metadata": {},
   "outputs": [],
   "source": [
    "random_forest = RandomForestClassifier(criterion='gini',random_state=42)\n",
    "random_forest.fit(X_up, Y_up)\n",
    "y_pred_random_forest = random_forest.predict(X_test)"
   ]
  },
  {
   "cell_type": "code",
   "execution_count": 25,
   "id": "06ea1738",
   "metadata": {},
   "outputs": [
    {
     "name": "stdout",
     "output_type": "stream",
     "text": [
      "Accuracy Score: 0.6969867642917488\n",
      "Precision (Macro): 0.6322152467362226\n",
      "Recall (Macro): 0.6188052633705707\n",
      "F1 Score (Macro): 0.6225342463246057\n",
      "Confusion Matrix:\n",
      "[[  28   40    5    0    1    0]\n",
      " [  27  621  116   80    3    2]\n",
      " [   1  120  250  141    6    8]\n",
      " [   3   43  150 1077   69   36]\n",
      " [   0    0    3   98  157   75]\n",
      " [   0    0    1   17   31  342]]\n",
      "\n",
      "Classification Report:\n",
      "               precision    recall  f1-score   support\n",
      "\n",
      "           0       0.47      0.38      0.42        74\n",
      "           1       0.75      0.73      0.74       849\n",
      "           2       0.48      0.48      0.48       526\n",
      "           3       0.76      0.78      0.77      1378\n",
      "           4       0.59      0.47      0.52       333\n",
      "           5       0.74      0.87      0.80       391\n",
      "\n",
      "    accuracy                           0.70      3551\n",
      "   macro avg       0.63      0.62      0.62      3551\n",
      "weighted avg       0.69      0.70      0.69      3551\n",
      "\n"
     ]
    }
   ],
   "source": [
    "acc = accuracy_score(y_test, y_pred_random_forest)\n",
    "prec_macro = precision_score(y_test,y_pred_random_forest, average='macro')\n",
    "recall_macro = recall_score(y_test, y_pred_random_forest, average='macro')\n",
    "f1_macro = f1_score(y_test,y_pred_random_forest, average='macro')\n",
    "classification_rep_RF = classification_report(y_test,y_pred_random_forest)\n",
    "print(\"Accuracy Score:\", acc)\n",
    "print(\"Precision (Macro):\", prec_macro)\n",
    "print(\"Recall (Macro):\", recall_macro)\n",
    "print(\"F1 Score (Macro):\", f1_macro)\n",
    "\n",
    "# Confusion Matrix\n",
    "cf_matrix_RF = confusion_matrix(y_test, y_pred_random_forest)\n",
    "print(\"Confusion Matrix:\")\n",
    "print(cf_matrix_RF)\n",
    "print(\"\\nClassification Report:\\n\", classification_rep_RF)"
   ]
  },
  {
   "cell_type": "code",
   "execution_count": 26,
   "id": "ee500719",
   "metadata": {},
   "outputs": [
    {
     "name": "stdout",
     "output_type": "stream",
     "text": [
      "Accuracy Score: 1.0\n",
      "Precision (Macro): 1.0\n",
      "Recall (Macro): 1.0\n",
      "F1 Score (Macro): 1.0\n",
      "Confusion Matrix:\n",
      "[[3170    0    0    0    0    0]\n",
      " [   0 3170    0    0    0    0]\n",
      " [   0    0 3170    0    0    0]\n",
      " [   0    0    0 3170    0    0]\n",
      " [   0    0    0    0 3170    0]\n",
      " [   0    0    0    0    0 3170]]\n",
      "\n",
      "Classification Report:\n",
      "               precision    recall  f1-score   support\n",
      "\n",
      "           0       1.00      1.00      1.00      3170\n",
      "           1       1.00      1.00      1.00      3170\n",
      "           2       1.00      1.00      1.00      3170\n",
      "           3       1.00      1.00      1.00      3170\n",
      "           4       1.00      1.00      1.00      3170\n",
      "           5       1.00      1.00      1.00      3170\n",
      "\n",
      "    accuracy                           1.00     19020\n",
      "   macro avg       1.00      1.00      1.00     19020\n",
      "weighted avg       1.00      1.00      1.00     19020\n",
      "\n"
     ]
    }
   ],
   "source": [
    "y_pred_train_RF = random_forest.predict(X_up)\n",
    "acc = accuracy_score(Y_up, y_pred_train_RF )\n",
    "prec_macro = precision_score(Y_up,y_pred_train_RF , average='macro')\n",
    "recall_macro = recall_score(Y_up, y_pred_train_RF, average='macro')\n",
    "f1_macro = f1_score(Y_up, y_pred_train_RF , average='macro')\n",
    "classification_rep_RF_train = classification_report(Y_up,y_pred_train_RF )\n",
    "print(\"Accuracy Score:\", acc)\n",
    "print(\"Precision (Macro):\", prec_macro)\n",
    "print(\"Recall (Macro):\", recall_macro)\n",
    "print(\"F1 Score (Macro):\", f1_macro)\n",
    "\n",
    "# Confusion Matrix\n",
    "cf_matrix_RF_train = confusion_matrix(Y_up, y_pred_train_RF)\n",
    "print(\"Confusion Matrix:\")\n",
    "print(cf_matrix_RF_train)\n",
    "print(\"\\nClassification Report:\\n\", classification_rep_RF_train)"
   ]
  },
  {
   "cell_type": "code",
   "execution_count": null,
   "id": "01388ad8",
   "metadata": {},
   "outputs": [],
   "source": []
  },
  {
   "cell_type": "code",
   "execution_count": 27,
   "id": "8d25da29",
   "metadata": {},
   "outputs": [],
   "source": [
    "# selectionFeature"
   ]
  },
  {
   "cell_type": "code",
   "execution_count": 28,
   "id": "f3fc331f",
   "metadata": {},
   "outputs": [],
   "source": [
    "importances=random_forest.feature_importances_"
   ]
  },
  {
   "cell_type": "code",
   "execution_count": 29,
   "id": "91a71938",
   "metadata": {},
   "outputs": [],
   "source": [
    "indices=importances.argsort()[::-1]"
   ]
  },
  {
   "cell_type": "code",
   "execution_count": 30,
   "id": "4c75ea36",
   "metadata": {},
   "outputs": [
    {
     "data": {
      "image/png": "[encoded data removed]",
      "text/plain": [
       "<Figure size 1000x600 with 1 Axes>"
      ]
     },
     "metadata": {},
     "output_type": "display_data"
    }
   ],
   "source": [
    "# Plot important Features\n",
    "plt.figure(figsize=(10,6))\n",
    "plt.title(\"Feature Importance\")\n",
    "plt.bar(range(len(indices)),importances[indices],align=\"center\")\n",
    "plt.xticks(range(len(indices)),X.columns[indices],rotation=90)\n",
    "plt.xlabel(\"Feature Name\")\n",
    "plt.ylabel(\"Importance Score\")\n",
    "plt.show()"
   ]
  },
  {
   "cell_type": "code",
   "execution_count": 31,
   "id": "2953ac39",
   "metadata": {},
   "outputs": [
    {
     "name": "stdout",
     "output_type": "stream",
     "text": [
      "Top 80% important features:\n",
      "Feature :TOTAL_AVG_BAL: Importance Score =0.3391\n",
      "Feature :CUSTOMER_PROFITABILITY: Importance Score =0.1777\n",
      "Feature :SIX_MONTH_BAL_OS_SAVINGS: Importance Score =0.1274\n",
      "Feature :SIX_MONTH_BAL_OS_FD: Importance Score =0.0621\n",
      "Feature :CR_DR_Usage: Importance Score =0.0587\n",
      "Feature :NO_OF_LIABILITY_ACCOUNTS: Importance Score =0.0434\n"
     ]
    }
   ],
   "source": [
    "#get top 80%  features\n",
    "total_features=len(indices)\n",
    "threshold=0.8\n",
    "cum_importance=np.cumsum(importances[indices])\n",
    "selected_index=np.argmax(cum_importance>threshold*cum_importance[-1])\n",
    "\n",
    "selected_features=X.columns[indices[:selected_index+1]]\n",
    "selected_scores=importances[indices[:selected_index+1]]\n",
    "\n",
    "print(\"Top 80% important features:\")\n",
    "for feature,score in zip(selected_features,selected_scores):\n",
    "    print(f\"Feature :{feature}: Importance Score ={score:.4f}\")"
   ]
  },
  {
   "cell_type": "code",
   "execution_count": 32,
   "id": "12ec1412",
   "metadata": {},
   "outputs": [
    {
     "data": {
      "image/png": "[encoded data removed]",
      "text/plain": [
       "<Figure size 1000x600 with 1 Axes>"
      ]
     },
     "metadata": {},
     "output_type": "display_data"
    }
   ],
   "source": [
    "import numpy as np\n",
    "import matplotlib.pyplot as plt\n",
    "\n",
    "# Assuming 'importances' is a numpy array containing feature importances\n",
    "cumulative_importances = np.cumsum(importances[indices])\n",
    "\n",
    "# Find the index where cumulative importance crosses 80%\n",
    "threshold_index = np.argmax(cumulative_importances >= 0.8 * cumulative_importances[-1])\n",
    "\n",
    "plt.figure(figsize=(10, 6))\n",
    "plt.title(\"Feature Importance\")\n",
    "plt.bar(range(len(indices)), importances[indices], align=\"center\", color='#4990b1', label='Feature Importance')\n",
    "plt.axvline(x=threshold_index + 0.5, color='red', linestyle='--', label='Top 80% Threshold')\n",
    "plt.xticks(range(len(indices)), X.columns[indices], rotation=90)\n",
    "plt.xlabel(\"Feature Name\")\n",
    "plt.ylabel(\"Importance Score\")\n",
    "plt.legend()\n",
    "plt.show()"
   ]
  },
  {
   "cell_type": "code",
   "execution_count": null,
   "id": "d749c6f1",
   "metadata": {},
   "outputs": [],
   "source": []
  },
  {
   "cell_type": "code",
   "execution_count": null,
   "id": "433ffc75",
   "metadata": {},
   "outputs": [],
   "source": []
  }
 ],
 "metadata": {
  "kernelspec": {
   "display_name": "Python 3 (ipykernel)",
   "language": "python",
   "name": "python3"
  },
  "language_info": {
   "codemirror_mode": {
    "name": "ipython",
    "version": 3
   },
   "file_extension": ".py",
   "mimetype": "text/x-python",
   "name": "python",
   "nbconvert_exporter": "python",
   "pygments_lexer": "ipython3",
   "version": "3.11.3"
  }
 },
 "nbformat": 4,
 "nbformat_minor": 5
}
