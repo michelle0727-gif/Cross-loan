{
 "cells": [
  {
   "cell_type": "code",
   "execution_count": 1,
   "id": "b5d36d2e",
   "metadata": {},
   "outputs": [],
   "source": [
    "import pandas as pd\n",
    "import numpy as np\n",
    "import matplotlib.pyplot as plt\n"
   ]
  },
  {
   "cell_type": "code",
   "execution_count": 2,
   "id": "da800089",
   "metadata": {},
   "outputs": [],
   "source": [
    "pd.set_option(\"display.max_columns\", None)\n",
    "pd.set_option(\"display.max_rows\", None)"
   ]
  },
  {
   "cell_type": "code",
   "execution_count": 3,
   "id": "144a12d9",
   "metadata": {},
   "outputs": [],
   "source": [
    "encodings_to_try = ['utf-8-sig', 'latin-1', 'ISO-8859-1']\n",
    "\n",
    "for encoding in encodings_to_try:\n",
    "    try:\n",
    "        df = pd.read_csv(\"C:/Users/15694/Desktop/Cross selling/code/Michelle/variable_without_pca2.csv\", encoding=encoding)\n",
    "        break\n",
    "    except UnicodeDecodeError:\n",
    "        continue"
   ]
  },
  {
   "cell_type": "code",
   "execution_count": 4,
   "id": "e6ff191a",
   "metadata": {},
   "outputs": [
    {
     "data": {
      "text/html": [
       "<div>\n",
       "<style scoped>\n",
       "    .dataframe tbody tr th:only-of-type {\n",
       "        vertical-align: middle;\n",
       "    }\n",
       "\n",
       "    .dataframe tbody tr th {\n",
       "        vertical-align: top;\n",
       "    }\n",
       "\n",
       "    .dataframe thead th {\n",
       "        text-align: right;\n",
       "    }\n",
       "</style>\n",
       "<table border=\"1\" class=\"dataframe\">\n",
       "  <thead>\n",
       "    <tr style=\"text-align: right;\">\n",
       "      <th></th>\n",
       "      <th>SIX_MONTH_BAL_OS_SAVINGS</th>\n",
       "      <th>SIX_MONTH_BAL_OS_CURRENT</th>\n",
       "      <th>SIX_MONTH_BAL_OS_FD</th>\n",
       "      <th>SIX_MONTH_BAL_OS_LEASING</th>\n",
       "      <th>SIX_MONTH_BAL_OS_CARD</th>\n",
       "      <th>SIX_MONTH_BAL_OS_OD</th>\n",
       "      <th>TOTAL_AVG_BAL</th>\n",
       "      <th>FD_AMOUNT_UNDER_LIEN</th>\n",
       "      <th>CURRENT_AMOUNT_UNDER_LIEN</th>\n",
       "      <th>SAVINGS_AMOUNT_UNDER_LIEN</th>\n",
       "      <th>CUSTOMER_PROFITABILITY</th>\n",
       "      <th>NO_OF_ASSERT_ACCOUNTS</th>\n",
       "      <th>NO_OF_LIABILITY_ACCOUNTS</th>\n",
       "      <th>CR_DR_Usage</th>\n",
       "      <th>NPA_FLAG</th>\n",
       "      <th>LOAN_CAT1</th>\n",
       "    </tr>\n",
       "  </thead>\n",
       "  <tbody>\n",
       "    <tr>\n",
       "      <th>0</th>\n",
       "      <td>0.042612</td>\n",
       "      <td>-0.048785</td>\n",
       "      <td>-0.053259</td>\n",
       "      <td>-0.134894</td>\n",
       "      <td>-0.155864</td>\n",
       "      <td>-0.075719</td>\n",
       "      <td>-0.062581</td>\n",
       "      <td>-0.023629</td>\n",
       "      <td>-0.044929</td>\n",
       "      <td>-0.056843</td>\n",
       "      <td>-0.003142</td>\n",
       "      <td>0.397017</td>\n",
       "      <td>1.805905</td>\n",
       "      <td>0.051895</td>\n",
       "      <td>0</td>\n",
       "      <td>3</td>\n",
       "    </tr>\n",
       "    <tr>\n",
       "      <th>1</th>\n",
       "      <td>-0.091396</td>\n",
       "      <td>-0.048785</td>\n",
       "      <td>0.066148</td>\n",
       "      <td>-0.134894</td>\n",
       "      <td>-0.297359</td>\n",
       "      <td>-0.075719</td>\n",
       "      <td>-0.050164</td>\n",
       "      <td>-0.023629</td>\n",
       "      <td>-0.044929</td>\n",
       "      <td>-0.056843</td>\n",
       "      <td>-0.010305</td>\n",
       "      <td>-0.623858</td>\n",
       "      <td>0.600067</td>\n",
       "      <td>-0.067204</td>\n",
       "      <td>0</td>\n",
       "      <td>3</td>\n",
       "    </tr>\n",
       "    <tr>\n",
       "      <th>2</th>\n",
       "      <td>-0.076329</td>\n",
       "      <td>-0.048785</td>\n",
       "      <td>0.031772</td>\n",
       "      <td>-0.134894</td>\n",
       "      <td>1.262271</td>\n",
       "      <td>-0.059430</td>\n",
       "      <td>-0.065534</td>\n",
       "      <td>-0.023629</td>\n",
       "      <td>-0.044929</td>\n",
       "      <td>-0.056843</td>\n",
       "      <td>-0.006337</td>\n",
       "      <td>1.417891</td>\n",
       "      <td>1.805905</td>\n",
       "      <td>-0.023470</td>\n",
       "      <td>0</td>\n",
       "      <td>0</td>\n",
       "    </tr>\n",
       "    <tr>\n",
       "      <th>3</th>\n",
       "      <td>-0.101346</td>\n",
       "      <td>-0.048785</td>\n",
       "      <td>0.308069</td>\n",
       "      <td>-0.134894</td>\n",
       "      <td>-0.297359</td>\n",
       "      <td>-0.075719</td>\n",
       "      <td>-0.010893</td>\n",
       "      <td>-0.023629</td>\n",
       "      <td>-0.044929</td>\n",
       "      <td>-0.056843</td>\n",
       "      <td>0.017446</td>\n",
       "      <td>-0.623858</td>\n",
       "      <td>0.198120</td>\n",
       "      <td>-0.067204</td>\n",
       "      <td>0</td>\n",
       "      <td>3</td>\n",
       "    </tr>\n",
       "    <tr>\n",
       "      <th>4</th>\n",
       "      <td>-0.013879</td>\n",
       "      <td>-0.048785</td>\n",
       "      <td>-0.071656</td>\n",
       "      <td>-0.134894</td>\n",
       "      <td>-0.297359</td>\n",
       "      <td>-0.075719</td>\n",
       "      <td>-0.053618</td>\n",
       "      <td>-0.023629</td>\n",
       "      <td>-0.044929</td>\n",
       "      <td>-0.056843</td>\n",
       "      <td>-0.004448</td>\n",
       "      <td>-0.623858</td>\n",
       "      <td>-0.203826</td>\n",
       "      <td>-0.067204</td>\n",
       "      <td>1</td>\n",
       "      <td>4</td>\n",
       "    </tr>\n",
       "  </tbody>\n",
       "</table>\n",
       "</div>"
      ],
      "text/plain": [
       "   SIX_MONTH_BAL_OS_SAVINGS  SIX_MONTH_BAL_OS_CURRENT  SIX_MONTH_BAL_OS_FD  \\\n",
       "0                  0.042612                 -0.048785            -0.053259   \n",
       "1                 -0.091396                 -0.048785             0.066148   \n",
       "2                 -0.076329                 -0.048785             0.031772   \n",
       "3                 -0.101346                 -0.048785             0.308069   \n",
       "4                 -0.013879                 -0.048785            -0.071656   \n",
       "\n",
       "   SIX_MONTH_BAL_OS_LEASING  SIX_MONTH_BAL_OS_CARD  SIX_MONTH_BAL_OS_OD  \\\n",
       "0                 -0.134894              -0.155864            -0.075719   \n",
       "1                 -0.134894              -0.297359            -0.075719   \n",
       "2                 -0.134894               1.262271            -0.059430   \n",
       "3                 -0.134894              -0.297359            -0.075719   \n",
       "4                 -0.134894              -0.297359            -0.075719   \n",
       "\n",
       "   TOTAL_AVG_BAL  FD_AMOUNT_UNDER_LIEN  CURRENT_AMOUNT_UNDER_LIEN  \\\n",
       "0      -0.062581             -0.023629                  -0.044929   \n",
       "1      -0.050164             -0.023629                  -0.044929   \n",
       "2      -0.065534             -0.023629                  -0.044929   \n",
       "3      -0.010893             -0.023629                  -0.044929   \n",
       "4      -0.053618             -0.023629                  -0.044929   \n",
       "\n",
       "   SAVINGS_AMOUNT_UNDER_LIEN  CUSTOMER_PROFITABILITY  NO_OF_ASSERT_ACCOUNTS  \\\n",
       "0                  -0.056843               -0.003142               0.397017   \n",
       "1                  -0.056843               -0.010305              -0.623858   \n",
       "2                  -0.056843               -0.006337               1.417891   \n",
       "3                  -0.056843                0.017446              -0.623858   \n",
       "4                  -0.056843               -0.004448              -0.623858   \n",
       "\n",
       "   NO_OF_LIABILITY_ACCOUNTS  CR_DR_Usage  NPA_FLAG  LOAN_CAT1  \n",
       "0                  1.805905     0.051895         0          3  \n",
       "1                  0.600067    -0.067204         0          3  \n",
       "2                  1.805905    -0.023470         0          0  \n",
       "3                  0.198120    -0.067204         0          3  \n",
       "4                 -0.203826    -0.067204         1          4  "
      ]
     },
     "execution_count": 4,
     "metadata": {},
     "output_type": "execute_result"
    }
   ],
   "source": [
    "df.head()"
   ]
  },
  {
   "cell_type": "code",
   "execution_count": 5,
   "id": "7a049c3a",
   "metadata": {},
   "outputs": [
    {
     "data": {
      "text/plain": [
       "Index(['SIX_MONTH_BAL_OS_SAVINGS', 'SIX_MONTH_BAL_OS_CURRENT',\n",
       "       'SIX_MONTH_BAL_OS_FD', 'SIX_MONTH_BAL_OS_LEASING',\n",
       "       'SIX_MONTH_BAL_OS_CARD', 'SIX_MONTH_BAL_OS_OD', 'TOTAL_AVG_BAL',\n",
       "       'FD_AMOUNT_UNDER_LIEN', 'CURRENT_AMOUNT_UNDER_LIEN',\n",
       "       'SAVINGS_AMOUNT_UNDER_LIEN', 'CUSTOMER_PROFITABILITY',\n",
       "       'NO_OF_ASSERT_ACCOUNTS', 'NO_OF_LIABILITY_ACCOUNTS', 'CR_DR_Usage',\n",
       "       'NPA_FLAG', 'LOAN_CAT1'],\n",
       "      dtype='object')"
      ]
     },
     "execution_count": 5,
     "metadata": {},
     "output_type": "execute_result"
    }
   ],
   "source": [
    "df.columns"
   ]
  },
  {
   "cell_type": "code",
   "execution_count": 6,
   "id": "c602b689",
   "metadata": {},
   "outputs": [
    {
     "data": {
      "text/plain": [
       "(11836, 16)"
      ]
     },
     "execution_count": 6,
     "metadata": {},
     "output_type": "execute_result"
    }
   ],
   "source": [
    "df.shape"
   ]
  },
  {
   "cell_type": "code",
   "execution_count": 7,
   "id": "a566fe31",
   "metadata": {},
   "outputs": [
    {
     "data": {
      "text/plain": [
       "SIX_MONTH_BAL_OS_SAVINGS     0\n",
       "SIX_MONTH_BAL_OS_CURRENT     0\n",
       "SIX_MONTH_BAL_OS_FD          0\n",
       "SIX_MONTH_BAL_OS_LEASING     0\n",
       "SIX_MONTH_BAL_OS_CARD        0\n",
       "SIX_MONTH_BAL_OS_OD          0\n",
       "TOTAL_AVG_BAL                0\n",
       "FD_AMOUNT_UNDER_LIEN         0\n",
       "CURRENT_AMOUNT_UNDER_LIEN    0\n",
       "SAVINGS_AMOUNT_UNDER_LIEN    0\n",
       "CUSTOMER_PROFITABILITY       0\n",
       "NO_OF_ASSERT_ACCOUNTS        0\n",
       "NO_OF_LIABILITY_ACCOUNTS     0\n",
       "CR_DR_Usage                  0\n",
       "NPA_FLAG                     0\n",
       "LOAN_CAT1                    0\n",
       "dtype: int64"
      ]
     },
     "execution_count": 7,
     "metadata": {},
     "output_type": "execute_result"
    }
   ],
   "source": [
    "df.isna().sum()"
   ]
  },
  {
   "cell_type": "code",
   "execution_count": 8,
   "id": "b6fce958",
   "metadata": {},
   "outputs": [],
   "source": [
    "df1=df[[\"TOTAL_AVG_BAL\",\"SIX_MONTH_BAL_OS_FD\",\"SIX_MONTH_BAL_OS_SAVINGS\",\"CUSTOMER_PROFITABILITY\"\n",
    "        ,\"LOAN_CAT1\"]]"
   ]
  },
  {
   "cell_type": "code",
   "execution_count": 9,
   "id": "230a2e40",
   "metadata": {},
   "outputs": [],
   "source": [
    "X = df1.drop(columns=[\"LOAN_CAT1\"])\n",
    "Y = df1[\"LOAN_CAT1\"]"
   ]
  },
  {
   "cell_type": "code",
   "execution_count": 10,
   "id": "86c19cf2",
   "metadata": {},
   "outputs": [],
   "source": [
    "from sklearn.model_selection import train_test_split\n",
    "from sklearn.metrics import accuracy_score,precision_score,recall_score, f1_score,  classification_report, confusion_matrix"
   ]
  },
  {
   "cell_type": "code",
   "execution_count": 11,
   "id": "97cd023f",
   "metadata": {},
   "outputs": [],
   "source": [
    "X_train,X_test,y_train,y_test = train_test_split(X,Y,test_size=0.3,random_state=0)"
   ]
  },
  {
   "cell_type": "code",
   "execution_count": 12,
   "id": "34b8d194",
   "metadata": {},
   "outputs": [
    {
     "name": "stdout",
     "output_type": "stream",
     "text": [
      "Dataset after resampling:\n",
      "[(0, 3221), (1, 3221), (2, 3221), (3, 3221), (4, 3221), (5, 3221)]\n"
     ]
    }
   ],
   "source": [
    "from imblearn.over_sampling import SMOTE\n",
    "from imblearn.over_sampling import SMOTENC\n",
    "from collections import Counter\n",
    "sm = SMOTE()\n",
    "X_sm, Y_sm=sm.fit_resample(X_train,y_train)\n",
    "print('Dataset after resampling:')\n",
    "print(sorted(Counter(Y_sm).items()))"
   ]
  },
  {
   "cell_type": "code",
   "execution_count": null,
   "id": "60cd60d6",
   "metadata": {},
   "outputs": [],
   "source": []
  },
  {
   "cell_type": "code",
   "execution_count": null,
   "id": "4adfdbcc",
   "metadata": {},
   "outputs": [],
   "source": []
  },
  {
   "cell_type": "markdown",
   "id": "f29e470f",
   "metadata": {},
   "source": [
    "### Tree based models"
   ]
  },
  {
   "cell_type": "code",
   "execution_count": null,
   "id": "381c8686",
   "metadata": {},
   "outputs": [],
   "source": []
  },
  {
   "cell_type": "markdown",
   "id": "09cc8809",
   "metadata": {},
   "source": [
    "###### Decision Tree"
   ]
  },
  {
   "cell_type": "code",
   "execution_count": 13,
   "id": "e46dd508",
   "metadata": {},
   "outputs": [],
   "source": [
    "from sklearn import tree\n",
    "from sklearn.tree import DecisionTreeClassifier"
   ]
  },
  {
   "cell_type": "code",
   "execution_count": 14,
   "id": "f895c613",
   "metadata": {},
   "outputs": [],
   "source": [
    "decision_tree = DecisionTreeClassifier(random_state=0)\n",
    "decision_tree.fit(X_sm, Y_sm)\n",
    "y_pred_DT = decision_tree.predict(X_test)"
   ]
  },
  {
   "cell_type": "code",
   "execution_count": 15,
   "id": "717a1b0a",
   "metadata": {},
   "outputs": [
    {
     "name": "stdout",
     "output_type": "stream",
     "text": [
      "Accuracy Score: 0.557589411433399\n",
      "Precision (Macro): 0.48952758826898135\n",
      "Recall (Macro): 0.5313765480773651\n",
      "F1 Score (Macro): 0.49796165230994255\n",
      "Confusion Matrix:\n",
      "[[ 33  24   5   7   1   3]\n",
      " [ 94 484 164  97   6   2]\n",
      " [ 32 147 245 127  16   8]\n",
      " [ 27 107 175 799 169  50]\n",
      " [  4   7  12  95 162  58]\n",
      " [  0   3  13  27  91 257]]\n",
      "\n",
      "Classification Report:\n",
      "               precision    recall  f1-score   support\n",
      "\n",
      "           0       0.17      0.45      0.25        73\n",
      "           1       0.63      0.57      0.60       847\n",
      "           2       0.40      0.43      0.41       575\n",
      "           3       0.69      0.60      0.64      1327\n",
      "           4       0.36      0.48      0.41       338\n",
      "           5       0.68      0.66      0.67       391\n",
      "\n",
      "    accuracy                           0.56      3551\n",
      "   macro avg       0.49      0.53      0.50      3551\n",
      "weighted avg       0.59      0.56      0.57      3551\n",
      "\n"
     ]
    }
   ],
   "source": [
    "acc = accuracy_score(y_test, y_pred_DT)\n",
    "prec_macro = precision_score(y_test, y_pred_DT, average='macro')\n",
    "recall_macro = recall_score(y_test, y_pred_DT, average='macro')\n",
    "f1_macro = f1_score(y_test, y_pred_DT, average='macro')\n",
    "classification_rep = classification_report(y_test, y_pred_DT)\n",
    "print(\"Accuracy Score:\", acc)\n",
    "print(\"Precision (Macro):\", prec_macro)\n",
    "print(\"Recall (Macro):\", recall_macro)\n",
    "print(\"F1 Score (Macro):\", f1_macro)\n",
    "\n",
    "# Confusion Matrix\n",
    "cf_matrix = confusion_matrix(y_test, y_pred_DT)\n",
    "print(\"Confusion Matrix:\")\n",
    "print(cf_matrix)\n",
    "print(\"\\nClassification Report:\\n\", classification_rep)"
   ]
  },
  {
   "cell_type": "code",
   "execution_count": 16,
   "id": "f5a89775",
   "metadata": {},
   "outputs": [],
   "source": [
    "\n",
    "y_pred_train_DT = decision_tree.predict(X_sm)"
   ]
  },
  {
   "cell_type": "code",
   "execution_count": 17,
   "id": "94685302",
   "metadata": {},
   "outputs": [
    {
     "name": "stdout",
     "output_type": "stream",
     "text": [
      "Accuracy Score: 0.9999482562351236\n",
      "Precision (Macro): 0.999948272294641\n",
      "Recall (Macro): 0.9999482562351236\n",
      "F1 Score (Macro): 0.9999482562338767\n",
      "Confusion Matrix:\n",
      "[[3221    0    0    0    0    0]\n",
      " [   0 3221    0    0    0    0]\n",
      " [   0    0 3221    0    0    0]\n",
      " [   0    1    0 3220    0    0]\n",
      " [   0    0    0    0 3221    0]\n",
      " [   0    0    0    0    0 3221]]\n",
      "\n",
      "Classification Report:\n",
      "               precision    recall  f1-score   support\n",
      "\n",
      "           0       1.00      1.00      1.00      3221\n",
      "           1       1.00      1.00      1.00      3221\n",
      "           2       1.00      1.00      1.00      3221\n",
      "           3       1.00      1.00      1.00      3221\n",
      "           4       1.00      1.00      1.00      3221\n",
      "           5       1.00      1.00      1.00      3221\n",
      "\n",
      "    accuracy                           1.00     19326\n",
      "   macro avg       1.00      1.00      1.00     19326\n",
      "weighted avg       1.00      1.00      1.00     19326\n",
      "\n"
     ]
    }
   ],
   "source": [
    "acc = accuracy_score(Y_sm, y_pred_train_DT)\n",
    "prec_macro = precision_score(Y_sm, y_pred_train_DT, average='macro')\n",
    "recall_macro = recall_score(Y_sm, y_pred_train_DT, average='macro')\n",
    "f1_macro = f1_score(Y_sm, y_pred_train_DT, average='macro')\n",
    "classification_rep_DT = classification_report(Y_sm,y_pred_train_DT)\n",
    "print(\"Accuracy Score:\", acc)\n",
    "print(\"Precision (Macro):\", prec_macro)\n",
    "print(\"Recall (Macro):\", recall_macro)\n",
    "print(\"F1 Score (Macro):\", f1_macro)\n",
    "\n",
    "# Confusion Matrix\n",
    "cf_matrix_DT = confusion_matrix(Y_sm, y_pred_train_DT)\n",
    "print(\"Confusion Matrix:\")\n",
    "print(cf_matrix_DT)\n",
    "print(\"\\nClassification Report:\\n\", classification_rep_DT)"
   ]
  },
  {
   "cell_type": "markdown",
   "id": "cb5144e5",
   "metadata": {},
   "source": [
    "##### pre pruning"
   ]
  },
  {
   "cell_type": "code",
   "execution_count": 18,
   "id": "ccd4bc89",
   "metadata": {},
   "outputs": [],
   "source": [
    "from sklearn.model_selection import GridSearchCV"
   ]
  },
  {
   "cell_type": "code",
   "execution_count": 19,
   "id": "e9c41ced",
   "metadata": {},
   "outputs": [],
   "source": [
    "param_grid = {\n",
    "        'max_depth': range(2,50,1),\n",
    "         'min_samples_split': range(1,5,1),\n",
    "         'min_samples_leaf': range(2,5,1)}"
   ]
  },
  {
   "cell_type": "code",
   "execution_count": 20,
   "id": "dfe17ebd",
   "metadata": {},
   "outputs": [
    {
     "name": "stderr",
     "output_type": "stream",
     "text": [
      "C:\\ProgramData\\anaconda3\\Lib\\site-packages\\sklearn\\model_selection\\_validation.py:378: FitFailedWarning: \n",
      "720 fits failed out of a total of 2880.\n",
      "The score on these train-test partitions for these parameters will be set to nan.\n",
      "If these failures are not expected, you can try to debug them by setting error_score='raise'.\n",
      "\n",
      "Below are more details about the failures:\n",
      "--------------------------------------------------------------------------------\n",
      "720 fits failed with the following error:\n",
      "Traceback (most recent call last):\n",
      "  File \"C:\\ProgramData\\anaconda3\\Lib\\site-packages\\sklearn\\model_selection\\_validation.py\", line 686, in _fit_and_score\n",
      "    estimator.fit(X_train, y_train, **fit_params)\n",
      "  File \"C:\\ProgramData\\anaconda3\\Lib\\site-packages\\sklearn\\tree\\_classes.py\", line 889, in fit\n",
      "    super().fit(\n",
      "  File \"C:\\ProgramData\\anaconda3\\Lib\\site-packages\\sklearn\\tree\\_classes.py\", line 177, in fit\n",
      "    self._validate_params()\n",
      "  File \"C:\\ProgramData\\anaconda3\\Lib\\site-packages\\sklearn\\base.py\", line 600, in _validate_params\n",
      "    validate_parameter_constraints(\n",
      "  File \"C:\\ProgramData\\anaconda3\\Lib\\site-packages\\sklearn\\utils\\_param_validation.py\", line 97, in validate_parameter_constraints\n",
      "    raise InvalidParameterError(\n",
      "sklearn.utils._param_validation.InvalidParameterError: The 'min_samples_split' parameter of DecisionTreeClassifier must be an int in the range [2, inf) or a float in the range (0.0, 1.0]. Got 1 instead.\n",
      "\n",
      "  warnings.warn(some_fits_failed_message, FitFailedWarning)\n",
      "C:\\ProgramData\\anaconda3\\Lib\\site-packages\\sklearn\\model_selection\\_search.py:952: UserWarning: One or more of the test scores are non-finite: [       nan 0.50553678 0.50553678 0.50553678        nan 0.50553678\n",
      " 0.50553678 0.50553678        nan 0.50553678 0.50553678 0.50553678\n",
      "        nan 0.57275198 0.57275198 0.57275198        nan 0.57275198\n",
      " 0.57275198 0.57275198        nan 0.57275198 0.57275198 0.57275198\n",
      "        nan 0.61725194 0.61725194 0.61725194        nan 0.61725194\n",
      " 0.61725194 0.61725194        nan 0.61725194 0.61725194 0.61725194\n",
      "        nan 0.6497986  0.6497986  0.6497986         nan 0.6497986\n",
      " 0.6497986  0.6497986         nan 0.6497986  0.6497986  0.6497986\n",
      "        nan 0.67059959 0.67059959 0.67059959        nan 0.67059959\n",
      " 0.67059959 0.67059959        nan 0.67044435 0.67044435 0.67044435\n",
      "        nan 0.69838593 0.69838593 0.69838593        nan 0.69843766\n",
      " 0.69843766 0.69843766        nan 0.69797193 0.69797193 0.69797193\n",
      "        nan 0.71256358 0.71256358 0.71256358        nan 0.71271876\n",
      " 0.71271876 0.71271876        nan 0.71271881 0.71271881 0.71271881\n",
      "        nan 0.72586199 0.72586199 0.72586199        nan 0.72581016\n",
      " 0.72581016 0.72581016        nan 0.72482717 0.72482717 0.72482717\n",
      "        nan 0.73724561 0.73724561 0.73724561        nan 0.73740079\n",
      " 0.73740079 0.73740079        nan 0.73615897 0.73615897 0.73615897\n",
      "        nan 0.74593894 0.74593894 0.74593894        nan 0.74547333\n",
      " 0.74547333 0.74547333        nan 0.74278261 0.74278261 0.74278261\n",
      "        nan 0.75220006 0.75220006 0.75220006        nan 0.75225163\n",
      " 0.75225163 0.75225163        nan 0.74888817 0.74888817 0.74888817\n",
      "        nan 0.75157908 0.75157908 0.75157908        nan 0.75370052\n",
      " 0.75370052 0.75370052        nan 0.74971627 0.74971627 0.74971627\n",
      "        nan 0.75421805 0.75421805 0.75421805        nan 0.75261398\n",
      " 0.75261398 0.75261398        nan 0.74914698 0.74914698 0.74914698\n",
      "        nan 0.75727131 0.75727131 0.75727131        nan 0.7556671\n",
      " 0.7556671  0.7556671         nan 0.75157917 0.75157917 0.75157917\n",
      "        nan 0.75499454 0.75499454 0.75499454        nan 0.75307974\n",
      " 0.75307974 0.75307974        nan 0.74847437 0.74847437 0.74847437\n",
      "        nan 0.75375244 0.75375244 0.75375244        nan 0.75302776\n",
      " 0.75302776 0.75302776        nan 0.74873308 0.74873308 0.74873308\n",
      "        nan 0.7522005  0.7522005  0.7522005         nan 0.75328679\n",
      " 0.75328679 0.75328679        nan 0.74826769 0.74826769 0.74826769\n",
      "        nan 0.75038922 0.75038922 0.75038922        nan 0.7503891\n",
      " 0.7503891  0.7503891         nan 0.74775009 0.74775009 0.74775009\n",
      "        nan 0.75085508 0.75085508 0.75085508        nan 0.74981982\n",
      " 0.74981982 0.74981982        nan 0.74712914 0.74712914 0.74712914\n",
      "        nan 0.7516831  0.7516831  0.7516831         nan 0.74800885\n",
      " 0.74800885 0.74800885        nan 0.74743949 0.74743949 0.74743949\n",
      "        nan 0.74940611 0.74940611 0.74940611        nan 0.74857796\n",
      " 0.74857796 0.74857796        nan 0.7463013  0.7463013  0.7463013\n",
      "        nan 0.74800915 0.74800915 0.74800915        nan 0.74904366\n",
      " 0.74904366 0.74904366        nan 0.74542161 0.74542161 0.74542161\n",
      "        nan 0.7503893  0.7503893  0.7503893         nan 0.74935411\n",
      " 0.74935411 0.74935411        nan 0.74536986 0.74536986 0.74536986\n",
      "        nan 0.74894038 0.74894038 0.74894038        nan 0.74837093\n",
      " 0.74837093 0.74837093        nan 0.74536986 0.74536986 0.74536986\n",
      "        nan 0.74852648 0.74852648 0.74852648        nan 0.74831918\n",
      " 0.74831918 0.74831918        nan 0.74521463 0.74521463 0.74521463\n",
      "        nan 0.74987189 0.74987189 0.74987189        nan 0.74821569\n",
      " 0.74821569 0.74821569        nan 0.74505939 0.74505939 0.74505939\n",
      "        nan 0.74909569 0.74909569 0.74909569        nan 0.74837093\n",
      " 0.74837093 0.74837093        nan 0.74505939 0.74505939 0.74505939\n",
      "        nan 0.74909569 0.74909569 0.74909569        nan 0.74847442\n",
      " 0.74847442 0.74847442        nan 0.74505939 0.74505939 0.74505939\n",
      "        nan 0.7489922  0.7489922  0.7489922         nan 0.74847442\n",
      " 0.74847442 0.74847442        nan 0.74505939 0.74505939 0.74505939\n",
      "        nan 0.7489922  0.7489922  0.7489922         nan 0.74847442\n",
      " 0.74847442 0.74847442        nan 0.74505939 0.74505939 0.74505939\n",
      "        nan 0.7489922  0.7489922  0.7489922         nan 0.74847442\n",
      " 0.74847442 0.74847442        nan 0.74505939 0.74505939 0.74505939\n",
      "        nan 0.7489922  0.7489922  0.7489922         nan 0.74847442\n",
      " 0.74847442 0.74847442        nan 0.74505939 0.74505939 0.74505939\n",
      "        nan 0.7489922  0.7489922  0.7489922         nan 0.74847442\n",
      " 0.74847442 0.74847442        nan 0.74505939 0.74505939 0.74505939\n",
      "        nan 0.7489922  0.7489922  0.7489922         nan 0.74847442\n",
      " 0.74847442 0.74847442        nan 0.74505939 0.74505939 0.74505939\n",
      "        nan 0.7489922  0.7489922  0.7489922         nan 0.74847442\n",
      " 0.74847442 0.74847442        nan 0.74505939 0.74505939 0.74505939\n",
      "        nan 0.7489922  0.7489922  0.7489922         nan 0.74847442\n",
      " 0.74847442 0.74847442        nan 0.74505939 0.74505939 0.74505939\n",
      "        nan 0.7489922  0.7489922  0.7489922         nan 0.74847442\n",
      " 0.74847442 0.74847442        nan 0.74505939 0.74505939 0.74505939\n",
      "        nan 0.7489922  0.7489922  0.7489922         nan 0.74847442\n",
      " 0.74847442 0.74847442        nan 0.74505939 0.74505939 0.74505939\n",
      "        nan 0.7489922  0.7489922  0.7489922         nan 0.74847442\n",
      " 0.74847442 0.74847442        nan 0.74505939 0.74505939 0.74505939\n",
      "        nan 0.7489922  0.7489922  0.7489922         nan 0.74847442\n",
      " 0.74847442 0.74847442        nan 0.74505939 0.74505939 0.74505939\n",
      "        nan 0.7489922  0.7489922  0.7489922         nan 0.74847442\n",
      " 0.74847442 0.74847442        nan 0.74505939 0.74505939 0.74505939\n",
      "        nan 0.7489922  0.7489922  0.7489922         nan 0.74847442\n",
      " 0.74847442 0.74847442        nan 0.74505939 0.74505939 0.74505939\n",
      "        nan 0.7489922  0.7489922  0.7489922         nan 0.74847442\n",
      " 0.74847442 0.74847442        nan 0.74505939 0.74505939 0.74505939\n",
      "        nan 0.7489922  0.7489922  0.7489922         nan 0.74847442\n",
      " 0.74847442 0.74847442        nan 0.74505939 0.74505939 0.74505939\n",
      "        nan 0.7489922  0.7489922  0.7489922         nan 0.74847442\n",
      " 0.74847442 0.74847442        nan 0.74505939 0.74505939 0.74505939\n",
      "        nan 0.7489922  0.7489922  0.7489922         nan 0.74847442\n",
      " 0.74847442 0.74847442        nan 0.74505939 0.74505939 0.74505939\n",
      "        nan 0.7489922  0.7489922  0.7489922         nan 0.74847442\n",
      " 0.74847442 0.74847442        nan 0.74505939 0.74505939 0.74505939\n",
      "        nan 0.7489922  0.7489922  0.7489922         nan 0.74847442\n",
      " 0.74847442 0.74847442        nan 0.74505939 0.74505939 0.74505939]\n",
      "  warnings.warn(\n"
     ]
    },
    {
     "data": {
      "text/html": [
       "<style>#sk-container-id-1 {color: black;background-color: white;}#sk-container-id-1 pre{padding: 0;}#sk-container-id-1 div.sk-toggleable {background-color: white;}#sk-container-id-1 label.sk-toggleable__label {cursor: pointer;display: block;width: 100%;margin-bottom: 0;padding: 0.3em;box-sizing: border-box;text-align: center;}#sk-container-id-1 label.sk-toggleable__label-arrow:before {content: \"▸\";float: left;margin-right: 0.25em;color: #696969;}#sk-container-id-1 label.sk-toggleable__label-arrow:hover:before {color: black;}#sk-container-id-1 div.sk-estimator:hover label.sk-toggleable__label-arrow:before {color: black;}#sk-container-id-1 div.sk-toggleable__content {max-height: 0;max-width: 0;overflow: hidden;text-align: left;background-color: #f0f8ff;}#sk-container-id-1 div.sk-toggleable__content pre {margin: 0.2em;color: black;border-radius: 0.25em;background-color: #f0f8ff;}#sk-container-id-1 input.sk-toggleable__control:checked~div.sk-toggleable__content {max-height: 200px;max-width: 100%;overflow: auto;}#sk-container-id-1 input.sk-toggleable__control:checked~label.sk-toggleable__label-arrow:before {content: \"▾\";}#sk-container-id-1 div.sk-estimator input.sk-toggleable__control:checked~label.sk-toggleable__label {background-color: #d4ebff;}#sk-container-id-1 div.sk-label input.sk-toggleable__control:checked~label.sk-toggleable__label {background-color: #d4ebff;}#sk-container-id-1 input.sk-hidden--visually {border: 0;clip: rect(1px 1px 1px 1px);clip: rect(1px, 1px, 1px, 1px);height: 1px;margin: -1px;overflow: hidden;padding: 0;position: absolute;width: 1px;}#sk-container-id-1 div.sk-estimator {font-family: monospace;background-color: #f0f8ff;border: 1px dotted black;border-radius: 0.25em;box-sizing: border-box;margin-bottom: 0.5em;}#sk-container-id-1 div.sk-estimator:hover {background-color: #d4ebff;}#sk-container-id-1 div.sk-parallel-item::after {content: \"\";width: 100%;border-bottom: 1px solid gray;flex-grow: 1;}#sk-container-id-1 div.sk-label:hover label.sk-toggleable__label {background-color: #d4ebff;}#sk-container-id-1 div.sk-serial::before {content: \"\";position: absolute;border-left: 1px solid gray;box-sizing: border-box;top: 0;bottom: 0;left: 50%;z-index: 0;}#sk-container-id-1 div.sk-serial {display: flex;flex-direction: column;align-items: center;background-color: white;padding-right: 0.2em;padding-left: 0.2em;position: relative;}#sk-container-id-1 div.sk-item {position: relative;z-index: 1;}#sk-container-id-1 div.sk-parallel {display: flex;align-items: stretch;justify-content: center;background-color: white;position: relative;}#sk-container-id-1 div.sk-item::before, #sk-container-id-1 div.sk-parallel-item::before {content: \"\";position: absolute;border-left: 1px solid gray;box-sizing: border-box;top: 0;bottom: 0;left: 50%;z-index: -1;}#sk-container-id-1 div.sk-parallel-item {display: flex;flex-direction: column;z-index: 1;position: relative;background-color: white;}#sk-container-id-1 div.sk-parallel-item:first-child::after {align-self: flex-end;width: 50%;}#sk-container-id-1 div.sk-parallel-item:last-child::after {align-self: flex-start;width: 50%;}#sk-container-id-1 div.sk-parallel-item:only-child::after {width: 0;}#sk-container-id-1 div.sk-dashed-wrapped {border: 1px dashed gray;margin: 0 0.4em 0.5em 0.4em;box-sizing: border-box;padding-bottom: 0.4em;background-color: white;}#sk-container-id-1 div.sk-label label {font-family: monospace;font-weight: bold;display: inline-block;line-height: 1.2em;}#sk-container-id-1 div.sk-label-container {text-align: center;}#sk-container-id-1 div.sk-container {/* jupyter's `normalize.less` sets `[hidden] { display: none; }` but bootstrap.min.css set `[hidden] { display: none !important; }` so we also need the `!important` here to be able to override the default hidden behavior on the sphinx rendered scikit-learn.org. See: https://github.com/scikit-learn/scikit-learn/issues/21755 */display: inline-block !important;position: relative;}#sk-container-id-1 div.sk-text-repr-fallback {display: none;}</style><div id=\"sk-container-id-1\" class=\"sk-top-container\"><div class=\"sk-text-repr-fallback\"><pre>GridSearchCV(cv=5, estimator=DecisionTreeClassifier(random_state=0),\n",
       "             param_grid={&#x27;max_depth&#x27;: range(2, 50),\n",
       "                         &#x27;min_samples_leaf&#x27;: range(2, 5),\n",
       "                         &#x27;min_samples_split&#x27;: range(1, 5)})</pre><b>In a Jupyter environment, please rerun this cell to show the HTML representation or trust the notebook. <br />On GitHub, the HTML representation is unable to render, please try loading this page with nbviewer.org.</b></div><div class=\"sk-container\" hidden><div class=\"sk-item sk-dashed-wrapped\"><div class=\"sk-label-container\"><div class=\"sk-label sk-toggleable\"><input class=\"sk-toggleable__control sk-hidden--visually\" id=\"sk-estimator-id-1\" type=\"checkbox\" ><label for=\"sk-estimator-id-1\" class=\"sk-toggleable__label sk-toggleable__label-arrow\">GridSearchCV</label><div class=\"sk-toggleable__content\"><pre>GridSearchCV(cv=5, estimator=DecisionTreeClassifier(random_state=0),\n",
       "             param_grid={&#x27;max_depth&#x27;: range(2, 50),\n",
       "                         &#x27;min_samples_leaf&#x27;: range(2, 5),\n",
       "                         &#x27;min_samples_split&#x27;: range(1, 5)})</pre></div></div></div><div class=\"sk-parallel\"><div class=\"sk-parallel-item\"><div class=\"sk-item\"><div class=\"sk-label-container\"><div class=\"sk-label sk-toggleable\"><input class=\"sk-toggleable__control sk-hidden--visually\" id=\"sk-estimator-id-2\" type=\"checkbox\" ><label for=\"sk-estimator-id-2\" class=\"sk-toggleable__label sk-toggleable__label-arrow\">estimator: DecisionTreeClassifier</label><div class=\"sk-toggleable__content\"><pre>DecisionTreeClassifier(random_state=0)</pre></div></div></div><div class=\"sk-serial\"><div class=\"sk-item\"><div class=\"sk-estimator sk-toggleable\"><input class=\"sk-toggleable__control sk-hidden--visually\" id=\"sk-estimator-id-3\" type=\"checkbox\" ><label for=\"sk-estimator-id-3\" class=\"sk-toggleable__label sk-toggleable__label-arrow\">DecisionTreeClassifier</label><div class=\"sk-toggleable__content\"><pre>DecisionTreeClassifier(random_state=0)</pre></div></div></div></div></div></div></div></div></div></div>"
      ],
      "text/plain": [
       "GridSearchCV(cv=5, estimator=DecisionTreeClassifier(random_state=0),\n",
       "             param_grid={'max_depth': range(2, 50),\n",
       "                         'min_samples_leaf': range(2, 5),\n",
       "                         'min_samples_split': range(1, 5)})"
      ]
     },
     "execution_count": 20,
     "metadata": {},
     "output_type": "execute_result"
    }
   ],
   "source": [
    "dtree = tree.DecisionTreeClassifier(random_state=0)\n",
    "grid_search = GridSearchCV(dtree, param_grid, cv=5)\n",
    "grid_search.fit(X_sm, Y_sm)"
   ]
  },
  {
   "cell_type": "code",
   "execution_count": 21,
   "id": "73ee652c",
   "metadata": {},
   "outputs": [
    {
     "name": "stdout",
     "output_type": "stream",
     "text": [
      "Best hyperparameters: {'max_depth': 15, 'min_samples_leaf': 2, 'min_samples_split': 2}\n"
     ]
    }
   ],
   "source": [
    "best_params = grid_search.best_params_\n",
    "print(\"Best hyperparameters:\", best_params)"
   ]
  },
  {
   "cell_type": "code",
   "execution_count": 22,
   "id": "c16cf418",
   "metadata": {},
   "outputs": [],
   "source": [
    "best_dtree_pp = DecisionTreeClassifier(max_depth=17, min_samples_leaf=2, min_samples_split=2)\n",
    "best_dtree_pp.fit(X_sm, Y_sm)\n",
    "y_pred_pre = best_dtree_pp.predict(X_test)"
   ]
  },
  {
   "cell_type": "code",
   "execution_count": 23,
   "id": "be4621c1",
   "metadata": {},
   "outputs": [
    {
     "name": "stdout",
     "output_type": "stream",
     "text": [
      "Accuracy Score: 0.5823711630526612\n",
      "Precision (Macro): 0.5130184004494125\n",
      "Recall (Macro): 0.5520602201862411\n",
      "F1 Score (Macro): 0.5175544574344363\n",
      "Confusion Matrix:\n",
      "[[ 36  25   3   6   0   3]\n",
      " [104 522 157  58   5   1]\n",
      " [ 34 157 262 106   9   7]\n",
      " [ 28 112 166 837 151  33]\n",
      " [  6   5  16  98 163  50]\n",
      " [  0   3  13  33  94 248]]\n",
      "\n",
      " Test Classification Report:\n",
      "               precision    recall  f1-score   support\n",
      "\n",
      "           0       0.17      0.49      0.26        73\n",
      "           1       0.63      0.62      0.62       847\n",
      "           2       0.42      0.46      0.44       575\n",
      "           3       0.74      0.63      0.68      1327\n",
      "           4       0.39      0.48      0.43       338\n",
      "           5       0.73      0.63      0.68       391\n",
      "\n",
      "    accuracy                           0.58      3551\n",
      "   macro avg       0.51      0.55      0.52      3551\n",
      "weighted avg       0.61      0.58      0.59      3551\n",
      "\n"
     ]
    }
   ],
   "source": [
    "acc = accuracy_score(y_test, y_pred_pre)\n",
    "prec_macro = precision_score(y_test, y_pred_pre, average='macro')\n",
    "recall_macro = recall_score(y_test, y_pred_pre, average='macro')\n",
    "f1_macro = f1_score(y_test, y_pred_pre, average='macro')\n",
    "classification_rep_pre = classification_report(y_test, y_pred_pre)\n",
    "print(\"Accuracy Score:\", acc)\n",
    "print(\"Precision (Macro):\", prec_macro)\n",
    "print(\"Recall (Macro):\", recall_macro)\n",
    "print(\"F1 Score (Macro):\", f1_macro)\n",
    "\n",
    "# Confusion Matrix\n",
    "cf_matrix_pre = confusion_matrix(y_test, y_pred_pre)\n",
    "print(\"Confusion Matrix:\")\n",
    "print(cf_matrix_pre)\n",
    "print(\"\\n Test Classification Report:\\n\", classification_rep_pre)"
   ]
  },
  {
   "cell_type": "code",
   "execution_count": 24,
   "id": "a39f34e0",
   "metadata": {},
   "outputs": [],
   "source": [
    "y_pred_pre_train = best_dtree_pp.predict(X_sm)"
   ]
  },
  {
   "cell_type": "code",
   "execution_count": 25,
   "id": "c2eecab7",
   "metadata": {},
   "outputs": [
    {
     "name": "stdout",
     "output_type": "stream",
     "text": [
      "Accuracy Score: 0.9205733209148298\n",
      "Precision (Macro): 0.9214102161319682\n",
      "Recall (Macro): 0.9205733209148298\n",
      "F1 Score (Macro): 0.9206677716812283\n",
      "Confusion Matrix:\n",
      "[[3184   18    3   16    0    0]\n",
      " [  82 3002   82   49    3    3]\n",
      " [  28  198 2909   77    8    1]\n",
      " [  21  125  224 2771   69   11]\n",
      " [   5   15   34  201 2950   16]\n",
      " [   1    7   20   84  134 2975]]\n",
      "\n",
      " Train Classification Report:\n",
      "               precision    recall  f1-score   support\n",
      "\n",
      "           0       0.96      0.99      0.97      3221\n",
      "           1       0.89      0.93      0.91      3221\n",
      "           2       0.89      0.90      0.90      3221\n",
      "           3       0.87      0.86      0.86      3221\n",
      "           4       0.93      0.92      0.92      3221\n",
      "           5       0.99      0.92      0.96      3221\n",
      "\n",
      "    accuracy                           0.92     19326\n",
      "   macro avg       0.92      0.92      0.92     19326\n",
      "weighted avg       0.92      0.92      0.92     19326\n",
      "\n"
     ]
    }
   ],
   "source": [
    "acc = accuracy_score(Y_sm, y_pred_pre_train )\n",
    "prec_macro = precision_score(Y_sm, y_pred_pre_train , average='macro')\n",
    "recall_macro = recall_score(Y_sm, y_pred_pre_train, average='macro')\n",
    "f1_macro = f1_score(Y_sm, y_pred_pre_train , average='macro')\n",
    "classification_rep_pre_train = classification_report(Y_sm,y_pred_pre_train)\n",
    "print(\"Accuracy Score:\", acc)\n",
    "print(\"Precision (Macro):\", prec_macro)\n",
    "print(\"Recall (Macro):\", recall_macro)\n",
    "print(\"F1 Score (Macro):\", f1_macro)\n",
    "\n",
    "# Confusion Matrix\n",
    "cf_matrix_DT_pre = confusion_matrix(Y_sm, y_pred_pre_train)\n",
    "print(\"Confusion Matrix:\")\n",
    "print(cf_matrix_DT_pre)\n",
    "print(\"\\n Train Classification Report:\\n\", classification_rep_pre_train )"
   ]
  },
  {
   "cell_type": "markdown",
   "id": "6461caa2",
   "metadata": {},
   "source": [
    "#### post pruning"
   ]
  },
  {
   "cell_type": "code",
   "execution_count": 26,
   "id": "88013409",
   "metadata": {},
   "outputs": [],
   "source": [
    "decision_tree = DecisionTreeClassifier(random_state=0)"
   ]
  },
  {
   "cell_type": "code",
   "execution_count": 27,
   "id": "effbd601",
   "metadata": {},
   "outputs": [
    {
     "name": "stdout",
     "output_type": "stream",
     "text": [
      "[0.00000000e+00 1.72479216e-05 3.44958433e-05 ... 4.94145413e-02\n",
      " 5.67899242e-02 1.15857281e-01]\n"
     ]
    }
   ],
   "source": [
    "path = decision_tree.cost_complexity_pruning_path(X_sm, Y_sm)\n",
    "ccp_alphas, impurities = path.ccp_alphas, path.impurities\n",
    "print(ccp_alphas)"
   ]
  },
  {
   "cell_type": "code",
   "execution_count": 28,
   "id": "f6688669",
   "metadata": {},
   "outputs": [
    {
     "name": "stdout",
     "output_type": "stream",
     "text": [
      "Number of nodes in the last tree is :1 with ccp_alpha:0.11585728107509075\n"
     ]
    }
   ],
   "source": [
    "# For each alpha we will append our model to a list\n",
    "decision_trees = []\n",
    "for ccp_alpha in ccp_alphas:\n",
    "    decision_tree = tree.DecisionTreeClassifier(random_state=0, ccp_alpha=ccp_alpha)\n",
    "    decision_tree.fit(X_sm, Y_sm)\n",
    "    decision_trees.append(decision_tree)\n",
    "print(\"Number of nodes in the last tree is :{} with ccp_alpha:{}\".format(\n",
    "decision_trees[-1].tree_.node_count,ccp_alphas[-1]))"
   ]
  },
  {
   "cell_type": "code",
   "execution_count": 29,
   "id": "61aabd75",
   "metadata": {},
   "outputs": [
    {
     "data": {
      "image/png": "[encoded data removed]",
      "text/plain": [
       "<Figure size 640x480 with 1 Axes>"
      ]
     },
     "metadata": {},
     "output_type": "display_data"
    }
   ],
   "source": [
    "train_scores=[decision_tree.score(X_sm, Y_sm) for decision_tree in decision_trees]\n",
    "test_scores=[decision_tree.score(X_test, y_test) for decision_tree in decision_trees]\n",
    "\n",
    "fig,ax =plt.subplots()\n",
    "ax.set_xlabel(\"alpha\")\n",
    "ax.set_ylabel(\"accuracy\")\n",
    "ax.set_title(\"Accuracy vs alpha for training and testing data sets\")\n",
    "ax.plot(ccp_alphas,train_scores,marker='o',label=\"train\",drawstyle=\"steps-post\")\n",
    "ax.plot(ccp_alphas,test_scores,marker='o',label=\"test\",drawstyle=\"steps-post\")\n",
    "\n",
    "ax.legend()\n",
    "plt.show()"
   ]
  },
  {
   "cell_type": "code",
   "execution_count": 30,
   "id": "cdbce255",
   "metadata": {},
   "outputs": [],
   "source": [
    "decision_tree = tree.DecisionTreeClassifier(random_state=0,ccp_alpha=0.001)\n",
    "decision_tree.fit(X_sm, Y_sm)\n",
    "\n",
    "y_train_pred_po = decision_tree.predict(X_sm)\n",
    "y_test_pred_po = decision_tree.predict(X_test)"
   ]
  },
  {
   "cell_type": "code",
   "execution_count": 31,
   "id": "b9666f84",
   "metadata": {},
   "outputs": [
    {
     "name": "stdout",
     "output_type": "stream",
     "text": [
      "Accuracy Score: 0.620107012109265\n",
      "Precision (Macro): 0.5733944464312176\n",
      "Recall (Macro): 0.6403779636900663\n",
      "F1 Score (Macro): 0.5698724607135381\n",
      "Confusion Matrix:\n",
      "[[ 51  10  10   0   0   2]\n",
      " [171 371 238  59   8   0]\n",
      " [ 19  82 372  81  17   4]\n",
      " [ 19  23 220 901 138  26]\n",
      " [  4   0   6  68 207  53]\n",
      " [  0   1   0  14  76 300]]\n",
      "\n",
      " Test Classification Report:\n",
      "               precision    recall  f1-score   support\n",
      "\n",
      "           0       0.19      0.70      0.30        73\n",
      "           1       0.76      0.44      0.56       847\n",
      "           2       0.44      0.65      0.52       575\n",
      "           3       0.80      0.68      0.74      1327\n",
      "           4       0.46      0.61      0.53       338\n",
      "           5       0.78      0.77      0.77       391\n",
      "\n",
      "    accuracy                           0.62      3551\n",
      "   macro avg       0.57      0.64      0.57      3551\n",
      "weighted avg       0.69      0.62      0.63      3551\n",
      "\n"
     ]
    }
   ],
   "source": [
    "acc = accuracy_score(y_test, y_test_pred_po)\n",
    "prec_macro = precision_score(y_test, y_test_pred_po, average='macro')\n",
    "recall_macro = recall_score(y_test, y_test_pred_po, average='macro')\n",
    "f1_macro = f1_score(y_test, y_test_pred_po, average='macro')\n",
    "classification_rep_po = classification_report(y_test, y_test_pred_po)\n",
    "print(\"Accuracy Score:\", acc)\n",
    "print(\"Precision (Macro):\", prec_macro)\n",
    "print(\"Recall (Macro):\", recall_macro)\n",
    "print(\"F1 Score (Macro):\", f1_macro)\n",
    "\n",
    "# Confusion Matrix\n",
    "cf_matrix_po= confusion_matrix(y_test, y_test_pred_po)\n",
    "print(\"Confusion Matrix:\")\n",
    "print(cf_matrix_po)\n",
    "print(\"\\n Test Classification Report:\\n\", classification_rep_po)"
   ]
  },
  {
   "cell_type": "code",
   "execution_count": 32,
   "id": "2089328c",
   "metadata": {},
   "outputs": [
    {
     "name": "stdout",
     "output_type": "stream",
     "text": [
      "Accuracy Score: 0.6953327124081549\n",
      "Precision (Macro): 0.6985309119145633\n",
      "Recall (Macro): 0.6953327124081549\n",
      "F1 Score (Macro): 0.6931472341844654\n",
      "Confusion Matrix:\n",
      "[[2696  235  205   52   32    1]\n",
      " [ 584 1599  833  167   31    7]\n",
      " [  75  431 2213  376   95   31]\n",
      " [  27   41  607 2122  363   61]\n",
      " [   5    3   20  540 2133  520]\n",
      " [   0    0    6   87  453 2675]]\n",
      "\n",
      " Train Classification Report:\n",
      "               precision    recall  f1-score   support\n",
      "\n",
      "           0       0.80      0.84      0.82      3221\n",
      "           1       0.69      0.50      0.58      3221\n",
      "           2       0.57      0.69      0.62      3221\n",
      "           3       0.63      0.66      0.65      3221\n",
      "           4       0.69      0.66      0.67      3221\n",
      "           5       0.81      0.83      0.82      3221\n",
      "\n",
      "    accuracy                           0.70     19326\n",
      "   macro avg       0.70      0.70      0.69     19326\n",
      "weighted avg       0.70      0.70      0.69     19326\n",
      "\n"
     ]
    }
   ],
   "source": [
    "acc = accuracy_score(Y_sm, y_train_pred_po )\n",
    "prec_macro = precision_score(Y_sm, y_train_pred_po , average='macro')\n",
    "recall_macro = recall_score(Y_sm, y_train_pred_po, average='macro')\n",
    "f1_macro = f1_score(Y_sm, y_train_pred_po , average='macro')\n",
    "classification_rep_DT_po = classification_report(Y_sm,y_train_pred_po )\n",
    "print(\"Accuracy Score:\", acc)\n",
    "print(\"Precision (Macro):\", prec_macro)\n",
    "print(\"Recall (Macro):\", recall_macro)\n",
    "print(\"F1 Score (Macro):\", f1_macro)\n",
    "\n",
    "# Confusion Matrix\n",
    "cf_matrix_po = confusion_matrix(Y_sm, y_train_pred_po)\n",
    "print(\"Confusion Matrix:\")\n",
    "print(cf_matrix_po)\n",
    "print(\"\\n Train Classification Report:\\n\", classification_rep_DT_po)"
   ]
  },
  {
   "cell_type": "code",
   "execution_count": 33,
   "id": "86a0485c",
   "metadata": {},
   "outputs": [],
   "source": [
    "from sklearn.metrics import roc_curve,auc"
   ]
  },
  {
   "cell_type": "code",
   "execution_count": 34,
   "id": "c4f3d1ad",
   "metadata": {},
   "outputs": [],
   "source": [
    "y_prob=decision_tree.predict_proba(X_test)"
   ]
  },
  {
   "cell_type": "code",
   "execution_count": 35,
   "id": "d0b8525a",
   "metadata": {},
   "outputs": [
    {
     "data": {
      "image/png": "[encoded data removed]",
      "text/plain": [
       "<Figure size 640x480 with 1 Axes>"
      ]
     },
     "metadata": {},
     "output_type": "display_data"
    }
   ],
   "source": [
    "for i in range(len(np.unique(Y))):\n",
    "    fpt,tpr,_=roc_curve(y_test==i,y_prob[:,i])\n",
    "    roc_auc=auc(fpt,tpr)\n",
    "    plt.plot(fpt,tpr,label=f'Class {i} Vs Rest (AUC ={roc_auc:.2f})')\n",
    "    \n",
    "plt.plot([0,1],[0,1],linestyle='--',color='r',label='Random Guess')\n",
    "plt.xlabel('False Positive Rate')\n",
    "plt.ylabel('True Positive Rate')\n",
    "plt.title('ROC Curve for Multi-class Classification')\n",
    "plt.legend()\n",
    "plt.show()"
   ]
  },
  {
   "cell_type": "code",
   "execution_count": 36,
   "id": "b7099f55",
   "metadata": {},
   "outputs": [
    {
     "data": {
      "text/plain": [
       "0.8882895356587475"
      ]
     },
     "execution_count": 36,
     "metadata": {},
     "output_type": "execute_result"
    }
   ],
   "source": [
    "from sklearn.metrics import roc_auc_score\n",
    "roc_auc_score(y_test,y_prob,multi_class='ovr')"
   ]
  },
  {
   "cell_type": "code",
   "execution_count": null,
   "id": "69286ea1",
   "metadata": {},
   "outputs": [],
   "source": []
  }
 ],
 "metadata": {
  "kernelspec": {
   "display_name": "Python 3 (ipykernel)",
   "language": "python",
   "name": "python3"
  },
  "language_info": {
   "codemirror_mode": {
    "name": "ipython",
    "version": 3
   },
   "file_extension": ".py",
   "mimetype": "text/x-python",
   "name": "python",
   "nbconvert_exporter": "python",
   "pygments_lexer": "ipython3",
   "version": "3.11.3"
  }
 },
 "nbformat": 4,
 "nbformat_minor": 5
}
