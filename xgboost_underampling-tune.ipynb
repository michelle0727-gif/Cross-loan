{
 "cells": [
  {
   "cell_type": "code",
   "execution_count": 1,
   "id": "b5d36d2e",
   "metadata": {},
   "outputs": [],
   "source": [
    "import pandas as pd\n",
    "import numpy as np\n",
    "import matplotlib.pyplot as plt"
   ]
  },
  {
   "cell_type": "code",
   "execution_count": 2,
   "id": "da800089",
   "metadata": {},
   "outputs": [],
   "source": [
    "pd.set_option(\"display.max_columns\", None)\n",
    "pd.set_option(\"display.max_rows\", None)"
   ]
  },
  {
   "cell_type": "code",
   "execution_count": 3,
   "id": "144a12d9",
   "metadata": {},
   "outputs": [],
   "source": [
    "encodings_to_try = ['utf-8-sig', 'latin-1', 'ISO-8859-1']\n",
    "\n",
    "for encoding in encodings_to_try:\n",
    "    try:\n",
    "        df = pd.read_csv(\"C:/Users/15694/Desktop/Cross selling/code/Michelle/variable_without_pca2.csv\", encoding=encoding)\n",
    "        break\n",
    "    except UnicodeDecodeError:\n",
    "        continue"
   ]
  },
  {
   "cell_type": "code",
   "execution_count": 4,
   "id": "e6ff191a",
   "metadata": {},
   "outputs": [
    {
     "data": {
      "text/html": [
       "<div>\n",
       "<style scoped>\n",
       "    .dataframe tbody tr th:only-of-type {\n",
       "        vertical-align: middle;\n",
       "    }\n",
       "\n",
       "    .dataframe tbody tr th {\n",
       "        vertical-align: top;\n",
       "    }\n",
       "\n",
       "    .dataframe thead th {\n",
       "        text-align: right;\n",
       "    }\n",
       "</style>\n",
       "<table border=\"1\" class=\"dataframe\">\n",
       "  <thead>\n",
       "    <tr style=\"text-align: right;\">\n",
       "      <th></th>\n",
       "      <th>SIX_MONTH_BAL_OS_SAVINGS</th>\n",
       "      <th>SIX_MONTH_BAL_OS_CURRENT</th>\n",
       "      <th>SIX_MONTH_BAL_OS_FD</th>\n",
       "      <th>SIX_MONTH_BAL_OS_LEASING</th>\n",
       "      <th>SIX_MONTH_BAL_OS_CARD</th>\n",
       "      <th>SIX_MONTH_BAL_OS_OD</th>\n",
       "      <th>TOTAL_AVG_BAL</th>\n",
       "      <th>FD_AMOUNT_UNDER_LIEN</th>\n",
       "      <th>CURRENT_AMOUNT_UNDER_LIEN</th>\n",
       "      <th>SAVINGS_AMOUNT_UNDER_LIEN</th>\n",
       "      <th>CUSTOMER_PROFITABILITY</th>\n",
       "      <th>NO_OF_ASSERT_ACCOUNTS</th>\n",
       "      <th>NO_OF_LIABILITY_ACCOUNTS</th>\n",
       "      <th>CR_DR_Usage</th>\n",
       "      <th>NPA_FLAG</th>\n",
       "      <th>LOAN_CAT1</th>\n",
       "    </tr>\n",
       "  </thead>\n",
       "  <tbody>\n",
       "    <tr>\n",
       "      <th>0</th>\n",
       "      <td>0.042612</td>\n",
       "      <td>-0.048785</td>\n",
       "      <td>-0.053259</td>\n",
       "      <td>-0.134894</td>\n",
       "      <td>-0.155864</td>\n",
       "      <td>-0.075719</td>\n",
       "      <td>-0.062581</td>\n",
       "      <td>-0.023629</td>\n",
       "      <td>-0.044929</td>\n",
       "      <td>-0.056843</td>\n",
       "      <td>-0.003142</td>\n",
       "      <td>0.397017</td>\n",
       "      <td>1.805905</td>\n",
       "      <td>0.051895</td>\n",
       "      <td>0</td>\n",
       "      <td>3</td>\n",
       "    </tr>\n",
       "    <tr>\n",
       "      <th>1</th>\n",
       "      <td>-0.091396</td>\n",
       "      <td>-0.048785</td>\n",
       "      <td>0.066148</td>\n",
       "      <td>-0.134894</td>\n",
       "      <td>-0.297359</td>\n",
       "      <td>-0.075719</td>\n",
       "      <td>-0.050164</td>\n",
       "      <td>-0.023629</td>\n",
       "      <td>-0.044929</td>\n",
       "      <td>-0.056843</td>\n",
       "      <td>-0.010305</td>\n",
       "      <td>-0.623858</td>\n",
       "      <td>0.600067</td>\n",
       "      <td>-0.067204</td>\n",
       "      <td>0</td>\n",
       "      <td>3</td>\n",
       "    </tr>\n",
       "    <tr>\n",
       "      <th>2</th>\n",
       "      <td>-0.076329</td>\n",
       "      <td>-0.048785</td>\n",
       "      <td>0.031772</td>\n",
       "      <td>-0.134894</td>\n",
       "      <td>1.262271</td>\n",
       "      <td>-0.059430</td>\n",
       "      <td>-0.065534</td>\n",
       "      <td>-0.023629</td>\n",
       "      <td>-0.044929</td>\n",
       "      <td>-0.056843</td>\n",
       "      <td>-0.006337</td>\n",
       "      <td>1.417891</td>\n",
       "      <td>1.805905</td>\n",
       "      <td>-0.023470</td>\n",
       "      <td>0</td>\n",
       "      <td>0</td>\n",
       "    </tr>\n",
       "    <tr>\n",
       "      <th>3</th>\n",
       "      <td>-0.101346</td>\n",
       "      <td>-0.048785</td>\n",
       "      <td>0.308069</td>\n",
       "      <td>-0.134894</td>\n",
       "      <td>-0.297359</td>\n",
       "      <td>-0.075719</td>\n",
       "      <td>-0.010893</td>\n",
       "      <td>-0.023629</td>\n",
       "      <td>-0.044929</td>\n",
       "      <td>-0.056843</td>\n",
       "      <td>0.017446</td>\n",
       "      <td>-0.623858</td>\n",
       "      <td>0.198120</td>\n",
       "      <td>-0.067204</td>\n",
       "      <td>0</td>\n",
       "      <td>3</td>\n",
       "    </tr>\n",
       "    <tr>\n",
       "      <th>4</th>\n",
       "      <td>-0.013879</td>\n",
       "      <td>-0.048785</td>\n",
       "      <td>-0.071656</td>\n",
       "      <td>-0.134894</td>\n",
       "      <td>-0.297359</td>\n",
       "      <td>-0.075719</td>\n",
       "      <td>-0.053618</td>\n",
       "      <td>-0.023629</td>\n",
       "      <td>-0.044929</td>\n",
       "      <td>-0.056843</td>\n",
       "      <td>-0.004448</td>\n",
       "      <td>-0.623858</td>\n",
       "      <td>-0.203826</td>\n",
       "      <td>-0.067204</td>\n",
       "      <td>1</td>\n",
       "      <td>4</td>\n",
       "    </tr>\n",
       "  </tbody>\n",
       "</table>\n",
       "</div>"
      ],
      "text/plain": [
       "   SIX_MONTH_BAL_OS_SAVINGS  SIX_MONTH_BAL_OS_CURRENT  SIX_MONTH_BAL_OS_FD  \\\n",
       "0                  0.042612                 -0.048785            -0.053259   \n",
       "1                 -0.091396                 -0.048785             0.066148   \n",
       "2                 -0.076329                 -0.048785             0.031772   \n",
       "3                 -0.101346                 -0.048785             0.308069   \n",
       "4                 -0.013879                 -0.048785            -0.071656   \n",
       "\n",
       "   SIX_MONTH_BAL_OS_LEASING  SIX_MONTH_BAL_OS_CARD  SIX_MONTH_BAL_OS_OD  \\\n",
       "0                 -0.134894              -0.155864            -0.075719   \n",
       "1                 -0.134894              -0.297359            -0.075719   \n",
       "2                 -0.134894               1.262271            -0.059430   \n",
       "3                 -0.134894              -0.297359            -0.075719   \n",
       "4                 -0.134894              -0.297359            -0.075719   \n",
       "\n",
       "   TOTAL_AVG_BAL  FD_AMOUNT_UNDER_LIEN  CURRENT_AMOUNT_UNDER_LIEN  \\\n",
       "0      -0.062581             -0.023629                  -0.044929   \n",
       "1      -0.050164             -0.023629                  -0.044929   \n",
       "2      -0.065534             -0.023629                  -0.044929   \n",
       "3      -0.010893             -0.023629                  -0.044929   \n",
       "4      -0.053618             -0.023629                  -0.044929   \n",
       "\n",
       "   SAVINGS_AMOUNT_UNDER_LIEN  CUSTOMER_PROFITABILITY  NO_OF_ASSERT_ACCOUNTS  \\\n",
       "0                  -0.056843               -0.003142               0.397017   \n",
       "1                  -0.056843               -0.010305              -0.623858   \n",
       "2                  -0.056843               -0.006337               1.417891   \n",
       "3                  -0.056843                0.017446              -0.623858   \n",
       "4                  -0.056843               -0.004448              -0.623858   \n",
       "\n",
       "   NO_OF_LIABILITY_ACCOUNTS  CR_DR_Usage  NPA_FLAG  LOAN_CAT1  \n",
       "0                  1.805905     0.051895         0          3  \n",
       "1                  0.600067    -0.067204         0          3  \n",
       "2                  1.805905    -0.023470         0          0  \n",
       "3                  0.198120    -0.067204         0          3  \n",
       "4                 -0.203826    -0.067204         1          4  "
      ]
     },
     "execution_count": 4,
     "metadata": {},
     "output_type": "execute_result"
    }
   ],
   "source": [
    "df.head()"
   ]
  },
  {
   "cell_type": "code",
   "execution_count": 5,
   "id": "7a049c3a",
   "metadata": {},
   "outputs": [
    {
     "data": {
      "text/plain": [
       "Index(['SIX_MONTH_BAL_OS_SAVINGS', 'SIX_MONTH_BAL_OS_CURRENT',\n",
       "       'SIX_MONTH_BAL_OS_FD', 'SIX_MONTH_BAL_OS_LEASING',\n",
       "       'SIX_MONTH_BAL_OS_CARD', 'SIX_MONTH_BAL_OS_OD', 'TOTAL_AVG_BAL',\n",
       "       'FD_AMOUNT_UNDER_LIEN', 'CURRENT_AMOUNT_UNDER_LIEN',\n",
       "       'SAVINGS_AMOUNT_UNDER_LIEN', 'CUSTOMER_PROFITABILITY',\n",
       "       'NO_OF_ASSERT_ACCOUNTS', 'NO_OF_LIABILITY_ACCOUNTS', 'CR_DR_Usage',\n",
       "       'NPA_FLAG', 'LOAN_CAT1'],\n",
       "      dtype='object')"
      ]
     },
     "execution_count": 5,
     "metadata": {},
     "output_type": "execute_result"
    }
   ],
   "source": [
    "df.columns"
   ]
  },
  {
   "cell_type": "code",
   "execution_count": 6,
   "id": "c602b689",
   "metadata": {},
   "outputs": [
    {
     "data": {
      "text/plain": [
       "(11836, 16)"
      ]
     },
     "execution_count": 6,
     "metadata": {},
     "output_type": "execute_result"
    }
   ],
   "source": [
    "df.shape"
   ]
  },
  {
   "cell_type": "code",
   "execution_count": 7,
   "id": "a566fe31",
   "metadata": {},
   "outputs": [
    {
     "data": {
      "text/plain": [
       "SIX_MONTH_BAL_OS_SAVINGS     0\n",
       "SIX_MONTH_BAL_OS_CURRENT     0\n",
       "SIX_MONTH_BAL_OS_FD          0\n",
       "SIX_MONTH_BAL_OS_LEASING     0\n",
       "SIX_MONTH_BAL_OS_CARD        0\n",
       "SIX_MONTH_BAL_OS_OD          0\n",
       "TOTAL_AVG_BAL                0\n",
       "FD_AMOUNT_UNDER_LIEN         0\n",
       "CURRENT_AMOUNT_UNDER_LIEN    0\n",
       "SAVINGS_AMOUNT_UNDER_LIEN    0\n",
       "CUSTOMER_PROFITABILITY       0\n",
       "NO_OF_ASSERT_ACCOUNTS        0\n",
       "NO_OF_LIABILITY_ACCOUNTS     0\n",
       "CR_DR_Usage                  0\n",
       "NPA_FLAG                     0\n",
       "LOAN_CAT1                    0\n",
       "dtype: int64"
      ]
     },
     "execution_count": 7,
     "metadata": {},
     "output_type": "execute_result"
    }
   ],
   "source": [
    "df.isna().sum()"
   ]
  },
  {
   "cell_type": "code",
   "execution_count": null,
   "id": "4ea8bae0",
   "metadata": {},
   "outputs": [],
   "source": []
  },
  {
   "cell_type": "code",
   "execution_count": 8,
   "id": "4f8c75c2",
   "metadata": {},
   "outputs": [],
   "source": [
    "df1=df[[\"TOTAL_AVG_BAL\",\"SIX_MONTH_BAL_OS_FD\",\"SIX_MONTH_BAL_OS_LEASING\",\"NPA_FLAG\",\n",
    "        \"CUSTOMER_PROFITABILITY\",\"SIX_MONTH_BAL_OS_SAVINGS\",\"SIX_MONTH_BAL_OS_CURRENT\",\n",
    "        \"SIX_MONTH_BAL_OS_OD\",\"SAVINGS_AMOUNT_UNDER_LIEN\",\"LOAN_CAT1\"]]"
   ]
  },
  {
   "cell_type": "code",
   "execution_count": 9,
   "id": "87c7767a",
   "metadata": {},
   "outputs": [
    {
     "data": {
      "text/plain": [
       "(11836, 10)"
      ]
     },
     "execution_count": 9,
     "metadata": {},
     "output_type": "execute_result"
    }
   ],
   "source": [
    "df1.shape"
   ]
  },
  {
   "cell_type": "code",
   "execution_count": 10,
   "id": "4e19d8b3",
   "metadata": {},
   "outputs": [],
   "source": [
    "X = df1.drop(columns=[\"LOAN_CAT1\"])\n",
    "Y = df1[\"LOAN_CAT1\"]"
   ]
  },
  {
   "cell_type": "code",
   "execution_count": 11,
   "id": "82628549",
   "metadata": {},
   "outputs": [],
   "source": [
    "from sklearn.model_selection import train_test_split\n",
    "from sklearn.metrics import accuracy_score,precision_score,recall_score, f1_score,  classification_report, confusion_matrix\n",
    "\n"
   ]
  },
  {
   "cell_type": "code",
   "execution_count": 12,
   "id": "f1dbdc09",
   "metadata": {},
   "outputs": [],
   "source": [
    "train_set, test_set = train_test_split(df1, test_size=0.3, random_state=0)\n",
    "\n",
    "# Converting train_set and test_set to dataframes\n",
    "train_df = pd.DataFrame(train_set)\n",
    "test_df = pd.DataFrame(test_set)"
   ]
  },
  {
   "cell_type": "code",
   "execution_count": 13,
   "id": "3c1d6fbd",
   "metadata": {},
   "outputs": [
    {
     "data": {
      "text/plain": [
       "((185, 10), (2006, 10), (1246, 10), (3221, 10), (796, 10), (831, 10))"
      ]
     },
     "execution_count": 13,
     "metadata": {},
     "output_type": "execute_result"
    }
   ],
   "source": [
    "df_cat_0 = train_df[train_df.LOAN_CAT1==0]\n",
    "df_cat_1 = train_df[train_df.LOAN_CAT1==1]\n",
    "df_cat_2 = train_df[train_df.LOAN_CAT1==2]\n",
    "df_cat_3 = train_df[train_df.LOAN_CAT1==3]\n",
    "df_cat_4 = train_df[train_df.LOAN_CAT1==4]\n",
    "df_cat_5 = train_df[train_df.LOAN_CAT1==5]\n",
    "df_cat_0.shape,df_cat_1.shape,df_cat_2.shape,df_cat_3.shape,df_cat_4.shape,df_cat_5.shape"
   ]
  },
  {
   "cell_type": "code",
   "execution_count": 14,
   "id": "5016025d",
   "metadata": {},
   "outputs": [],
   "source": [
    "##### The data set is imbalanced"
   ]
  },
  {
   "cell_type": "code",
   "execution_count": 15,
   "id": "2d93d801",
   "metadata": {},
   "outputs": [
    {
     "data": {
      "text/plain": [
       "((8285, 9), (8285,))"
      ]
     },
     "execution_count": 15,
     "metadata": {},
     "output_type": "execute_result"
    }
   ],
   "source": [
    "\n",
    "X_train = train_df.drop(columns=[\"LOAN_CAT1\"])\n",
    "y_train = train_df[\"LOAN_CAT1\"]\n",
    "X_train.shape, y_train.shape"
   ]
  },
  {
   "cell_type": "code",
   "execution_count": 16,
   "id": "1b95384c",
   "metadata": {},
   "outputs": [
    {
     "data": {
      "text/plain": [
       "((3551, 9), (3551,))"
      ]
     },
     "execution_count": 16,
     "metadata": {},
     "output_type": "execute_result"
    }
   ],
   "source": [
    "X_test = test_df.drop(columns=[\"LOAN_CAT1\"])\n",
    "y_test = test_df[\"LOAN_CAT1\"]\n",
    "X_test.shape, y_test.shape"
   ]
  },
  {
   "cell_type": "markdown",
   "id": "5b885346",
   "metadata": {},
   "source": []
  },
  {
   "cell_type": "code",
   "execution_count": 17,
   "id": "a92e872c",
   "metadata": {},
   "outputs": [],
   "source": [
    "from sklearn.utils import resample"
   ]
  },
  {
   "cell_type": "code",
   "execution_count": 18,
   "id": "2500bcc0",
   "metadata": {},
   "outputs": [],
   "source": [
    "df_minority = train_df[train_df[\"LOAN_CAT1\"] == 0]\n",
    "df_majority_1 = train_df[train_df[\"LOAN_CAT1\"] == 1]\n",
    "df_majority_2 = train_df[train_df[\"LOAN_CAT1\"] == 2]\n",
    "df_majority_3 = train_df[train_df[\"LOAN_CAT1\"] == 3]\n",
    "df_majority_4 = train_df[train_df[\"LOAN_CAT1\"] == 4]\n",
    "df_majority_5 = train_df[train_df[\"LOAN_CAT1\"] == 5]"
   ]
  },
  {
   "cell_type": "markdown",
   "id": "fa44f6bc",
   "metadata": {},
   "source": [
    "##### undersampling"
   ]
  },
  {
   "cell_type": "code",
   "execution_count": 19,
   "id": "0d887295",
   "metadata": {},
   "outputs": [],
   "source": [
    "from sklearn.utils import resample\n",
    "df_majority_1_downsampled = resample(df_majority_1, replace=True, n_samples=len(df_minority), random_state=42)\n",
    "df_majority_2_downsampled = resample(df_majority_2, replace=True, n_samples=len(df_minority), random_state=42)\n",
    "df_majority_3_downsampled = resample(df_majority_3, replace=True, n_samples=len(df_minority), random_state=42)\n",
    "df_majority_4_downsampled = resample(df_majority_4, replace=True, n_samples=len(df_minority), random_state=42)\n",
    "df_majority_5_downsampled = resample(df_majority_5, replace=True, n_samples=len(df_minority), random_state=42)"
   ]
  },
  {
   "cell_type": "code",
   "execution_count": 20,
   "id": "7cfa626f",
   "metadata": {},
   "outputs": [],
   "source": [
    "train_downsampled = pd.concat([df_minority,\n",
    "                             df_majority_1_downsampled,\n",
    "                             df_majority_2_downsampled,\n",
    "                             df_majority_3_downsampled,\n",
    "                             df_majority_4_downsampled,\n",
    "                             df_majority_5_downsampled,\n",
    "                             ])"
   ]
  },
  {
   "cell_type": "code",
   "execution_count": 21,
   "id": "12851e21",
   "metadata": {},
   "outputs": [
    {
     "data": {
      "text/plain": [
       "0    185\n",
       "1    185\n",
       "2    185\n",
       "3    185\n",
       "4    185\n",
       "5    185\n",
       "Name: LOAN_CAT1, dtype: int64"
      ]
     },
     "execution_count": 21,
     "metadata": {},
     "output_type": "execute_result"
    }
   ],
   "source": [
    "train_downsampled[\"LOAN_CAT1\"].value_counts()"
   ]
  },
  {
   "cell_type": "code",
   "execution_count": 22,
   "id": "f3e0de1e",
   "metadata": {},
   "outputs": [
    {
     "data": {
      "text/plain": [
       "((1110, 9), (3551, 9), (1110,), (3551,))"
      ]
     },
     "execution_count": 22,
     "metadata": {},
     "output_type": "execute_result"
    }
   ],
   "source": [
    "X_under = train_downsampled.drop(\"LOAN_CAT1\", axis=1)\n",
    "Y_under = train_downsampled[\"LOAN_CAT1\"]\n",
    "\n",
    "X_under.shape, X_test.shape,Y_under.shape, y_test.shape"
   ]
  },
  {
   "cell_type": "code",
   "execution_count": 23,
   "id": "1ce92668",
   "metadata": {},
   "outputs": [
    {
     "data": {
      "text/html": [
       "<style>#sk-container-id-1 {color: black;background-color: white;}#sk-container-id-1 pre{padding: 0;}#sk-container-id-1 div.sk-toggleable {background-color: white;}#sk-container-id-1 label.sk-toggleable__label {cursor: pointer;display: block;width: 100%;margin-bottom: 0;padding: 0.3em;box-sizing: border-box;text-align: center;}#sk-container-id-1 label.sk-toggleable__label-arrow:before {content: \"▸\";float: left;margin-right: 0.25em;color: #696969;}#sk-container-id-1 label.sk-toggleable__label-arrow:hover:before {color: black;}#sk-container-id-1 div.sk-estimator:hover label.sk-toggleable__label-arrow:before {color: black;}#sk-container-id-1 div.sk-toggleable__content {max-height: 0;max-width: 0;overflow: hidden;text-align: left;background-color: #f0f8ff;}#sk-container-id-1 div.sk-toggleable__content pre {margin: 0.2em;color: black;border-radius: 0.25em;background-color: #f0f8ff;}#sk-container-id-1 input.sk-toggleable__control:checked~div.sk-toggleable__content {max-height: 200px;max-width: 100%;overflow: auto;}#sk-container-id-1 input.sk-toggleable__control:checked~label.sk-toggleable__label-arrow:before {content: \"▾\";}#sk-container-id-1 div.sk-estimator input.sk-toggleable__control:checked~label.sk-toggleable__label {background-color: #d4ebff;}#sk-container-id-1 div.sk-label input.sk-toggleable__control:checked~label.sk-toggleable__label {background-color: #d4ebff;}#sk-container-id-1 input.sk-hidden--visually {border: 0;clip: rect(1px 1px 1px 1px);clip: rect(1px, 1px, 1px, 1px);height: 1px;margin: -1px;overflow: hidden;padding: 0;position: absolute;width: 1px;}#sk-container-id-1 div.sk-estimator {font-family: monospace;background-color: #f0f8ff;border: 1px dotted black;border-radius: 0.25em;box-sizing: border-box;margin-bottom: 0.5em;}#sk-container-id-1 div.sk-estimator:hover {background-color: #d4ebff;}#sk-container-id-1 div.sk-parallel-item::after {content: \"\";width: 100%;border-bottom: 1px solid gray;flex-grow: 1;}#sk-container-id-1 div.sk-label:hover label.sk-toggleable__label {background-color: #d4ebff;}#sk-container-id-1 div.sk-serial::before {content: \"\";position: absolute;border-left: 1px solid gray;box-sizing: border-box;top: 0;bottom: 0;left: 50%;z-index: 0;}#sk-container-id-1 div.sk-serial {display: flex;flex-direction: column;align-items: center;background-color: white;padding-right: 0.2em;padding-left: 0.2em;position: relative;}#sk-container-id-1 div.sk-item {position: relative;z-index: 1;}#sk-container-id-1 div.sk-parallel {display: flex;align-items: stretch;justify-content: center;background-color: white;position: relative;}#sk-container-id-1 div.sk-item::before, #sk-container-id-1 div.sk-parallel-item::before {content: \"\";position: absolute;border-left: 1px solid gray;box-sizing: border-box;top: 0;bottom: 0;left: 50%;z-index: -1;}#sk-container-id-1 div.sk-parallel-item {display: flex;flex-direction: column;z-index: 1;position: relative;background-color: white;}#sk-container-id-1 div.sk-parallel-item:first-child::after {align-self: flex-end;width: 50%;}#sk-container-id-1 div.sk-parallel-item:last-child::after {align-self: flex-start;width: 50%;}#sk-container-id-1 div.sk-parallel-item:only-child::after {width: 0;}#sk-container-id-1 div.sk-dashed-wrapped {border: 1px dashed gray;margin: 0 0.4em 0.5em 0.4em;box-sizing: border-box;padding-bottom: 0.4em;background-color: white;}#sk-container-id-1 div.sk-label label {font-family: monospace;font-weight: bold;display: inline-block;line-height: 1.2em;}#sk-container-id-1 div.sk-label-container {text-align: center;}#sk-container-id-1 div.sk-container {/* jupyter's `normalize.less` sets `[hidden] { display: none; }` but bootstrap.min.css set `[hidden] { display: none !important; }` so we also need the `!important` here to be able to override the default hidden behavior on the sphinx rendered scikit-learn.org. See: https://github.com/scikit-learn/scikit-learn/issues/21755 */display: inline-block !important;position: relative;}#sk-container-id-1 div.sk-text-repr-fallback {display: none;}</style><div id=\"sk-container-id-1\" class=\"sk-top-container\"><div class=\"sk-text-repr-fallback\"><pre>XGBClassifier(base_score=None, booster=None, callbacks=None,\n",
       "              colsample_bylevel=None, colsample_bynode=None,\n",
       "              colsample_bytree=None, device=None, early_stopping_rounds=None,\n",
       "              enable_categorical=False, eval_metric=None, feature_types=None,\n",
       "              gamma=None, grow_policy=None, importance_type=None,\n",
       "              interaction_constraints=None, learning_rate=None, max_bin=None,\n",
       "              max_cat_threshold=None, max_cat_to_onehot=None,\n",
       "              max_delta_step=None, max_depth=None, max_leaves=None,\n",
       "              min_child_weight=None, missing=nan, monotone_constraints=None,\n",
       "              multi_strategy=None, n_estimators=None, n_jobs=None,\n",
       "              num_parallel_tree=None, objective=&#x27;multi:softprob&#x27;, ...)</pre><b>In a Jupyter environment, please rerun this cell to show the HTML representation or trust the notebook. <br />On GitHub, the HTML representation is unable to render, please try loading this page with nbviewer.org.</b></div><div class=\"sk-container\" hidden><div class=\"sk-item\"><div class=\"sk-estimator sk-toggleable\"><input class=\"sk-toggleable__control sk-hidden--visually\" id=\"sk-estimator-id-1\" type=\"checkbox\" checked><label for=\"sk-estimator-id-1\" class=\"sk-toggleable__label sk-toggleable__label-arrow\">XGBClassifier</label><div class=\"sk-toggleable__content\"><pre>XGBClassifier(base_score=None, booster=None, callbacks=None,\n",
       "              colsample_bylevel=None, colsample_bynode=None,\n",
       "              colsample_bytree=None, device=None, early_stopping_rounds=None,\n",
       "              enable_categorical=False, eval_metric=None, feature_types=None,\n",
       "              gamma=None, grow_policy=None, importance_type=None,\n",
       "              interaction_constraints=None, learning_rate=None, max_bin=None,\n",
       "              max_cat_threshold=None, max_cat_to_onehot=None,\n",
       "              max_delta_step=None, max_depth=None, max_leaves=None,\n",
       "              min_child_weight=None, missing=nan, monotone_constraints=None,\n",
       "              multi_strategy=None, n_estimators=None, n_jobs=None,\n",
       "              num_parallel_tree=None, objective=&#x27;multi:softprob&#x27;, ...)</pre></div></div></div></div></div>"
      ],
      "text/plain": [
       "XGBClassifier(base_score=None, booster=None, callbacks=None,\n",
       "              colsample_bylevel=None, colsample_bynode=None,\n",
       "              colsample_bytree=None, device=None, early_stopping_rounds=None,\n",
       "              enable_categorical=False, eval_metric=None, feature_types=None,\n",
       "              gamma=None, grow_policy=None, importance_type=None,\n",
       "              interaction_constraints=None, learning_rate=None, max_bin=None,\n",
       "              max_cat_threshold=None, max_cat_to_onehot=None,\n",
       "              max_delta_step=None, max_depth=None, max_leaves=None,\n",
       "              min_child_weight=None, missing=nan, monotone_constraints=None,\n",
       "              multi_strategy=None, n_estimators=None, n_jobs=None,\n",
       "              num_parallel_tree=None, objective='multi:softprob', ...)"
      ]
     },
     "execution_count": 23,
     "metadata": {},
     "output_type": "execute_result"
    }
   ],
   "source": [
    "import xgboost as xgb\n",
    "xg_boost=xgb.XGBClassifier()\n",
    "xg_boost.fit(X_under,Y_under)"
   ]
  },
  {
   "cell_type": "code",
   "execution_count": 24,
   "id": "d61dc48e",
   "metadata": {},
   "outputs": [
    {
     "name": "stdout",
     "output_type": "stream",
     "text": [
      "Accuracy Score: 0.580963108983385\n",
      "Precision (Macro): 0.5403467229527967\n",
      "Recall (Macro): 0.6145585268629469\n",
      "F1 Score (Macro): 0.5413147843428595\n",
      "Confusion Matrix:\n",
      "[[ 48  14   6   3   0   2]\n",
      " [156 400 231  50   9   1]\n",
      " [ 29  97 316 109  20   4]\n",
      " [ 26  47 218 779 221  36]\n",
      " [  3   0   5  51 227  52]\n",
      " [  0   0   2   9  87 293]]\n",
      "\n",
      "Classification Report:\n",
      "               precision    recall  f1-score   support\n",
      "\n",
      "           0       0.18      0.66      0.29        73\n",
      "           1       0.72      0.47      0.57       847\n",
      "           2       0.41      0.55      0.47       575\n",
      "           3       0.78      0.59      0.67      1327\n",
      "           4       0.40      0.67      0.50       338\n",
      "           5       0.76      0.75      0.75       391\n",
      "\n",
      "    accuracy                           0.58      3551\n",
      "   macro avg       0.54      0.61      0.54      3551\n",
      "weighted avg       0.65      0.58      0.60      3551\n",
      "\n"
     ]
    }
   ],
   "source": [
    "# Make predictions on the test set\n",
    "y_pred = xg_boost.predict(X_test)\n",
    "\n",
    "acc = accuracy_score(y_test, y_pred)\n",
    "prec_macro = precision_score(y_test, y_pred, average='macro')\n",
    "recall_macro = recall_score(y_test, y_pred, average='macro')\n",
    "f1_macro = f1_score(y_test, y_pred, average='macro')\n",
    "classification_rep = classification_report(y_test, y_pred)\n",
    "print(\"Accuracy Score:\", acc)\n",
    "print(\"Precision (Macro):\", prec_macro)\n",
    "print(\"Recall (Macro):\", recall_macro)\n",
    "print(\"F1 Score (Macro):\", f1_macro)\n",
    "\n",
    "# Confusion Matrix\n",
    "cf_matrix = confusion_matrix(y_test, y_pred)\n",
    "print(\"Confusion Matrix:\")\n",
    "print(cf_matrix)\n",
    "print(\"\\nClassification Report:\\n\", classification_rep)"
   ]
  },
  {
   "cell_type": "code",
   "execution_count": 25,
   "id": "d09461e7",
   "metadata": {},
   "outputs": [
    {
     "name": "stdout",
     "output_type": "stream",
     "text": [
      "Accuracy Score: 1.0\n",
      "Precision (Macro): 1.0\n",
      "Recall (Macro): 1.0\n",
      "F1 Score (Macro): 1.0\n",
      "Confusion Matrix:\n",
      "[[185   0   0   0   0   0]\n",
      " [  0 185   0   0   0   0]\n",
      " [  0   0 185   0   0   0]\n",
      " [  0   0   0 185   0   0]\n",
      " [  0   0   0   0 185   0]\n",
      " [  0   0   0   0   0 185]]\n",
      "\n",
      "Classification Report:\n",
      "               precision    recall  f1-score   support\n",
      "\n",
      "           0       1.00      1.00      1.00       185\n",
      "           1       1.00      1.00      1.00       185\n",
      "           2       1.00      1.00      1.00       185\n",
      "           3       1.00      1.00      1.00       185\n",
      "           4       1.00      1.00      1.00       185\n",
      "           5       1.00      1.00      1.00       185\n",
      "\n",
      "    accuracy                           1.00      1110\n",
      "   macro avg       1.00      1.00      1.00      1110\n",
      "weighted avg       1.00      1.00      1.00      1110\n",
      "\n"
     ]
    }
   ],
   "source": [
    "y_pred_train_XG = xg_boost.predict(X_under)\n",
    "acc = accuracy_score(Y_under, y_pred_train_XG)\n",
    "prec_macro = precision_score(Y_under, y_pred_train_XG, average='macro')\n",
    "recall_macro = recall_score(Y_under, y_pred_train_XG, average='macro')\n",
    "f1_macro = f1_score(Y_under, y_pred_train_XG, average='macro')\n",
    "classification_rep = classification_report(Y_under,y_pred_train_XG)\n",
    "print(\"Accuracy Score:\", acc)\n",
    "print(\"Precision (Macro):\", prec_macro)\n",
    "print(\"Recall (Macro):\", recall_macro)\n",
    "print(\"F1 Score (Macro):\", f1_macro)\n",
    "\n",
    "# Confusion Matrix\n",
    "cf_matrix_XG = confusion_matrix(Y_under, y_pred_train_XG)\n",
    "print(\"Confusion Matrix:\")\n",
    "print(cf_matrix_XG )\n",
    "print(\"\\nClassification Report:\\n\", classification_rep)"
   ]
  },
  {
   "cell_type": "code",
   "execution_count": null,
   "id": "07627945",
   "metadata": {},
   "outputs": [],
   "source": []
  },
  {
   "cell_type": "code",
   "execution_count": 26,
   "id": "d05112b0",
   "metadata": {},
   "outputs": [],
   "source": [
    "# tuning"
   ]
  },
  {
   "cell_type": "code",
   "execution_count": 27,
   "id": "e0a9a317",
   "metadata": {},
   "outputs": [],
   "source": [
    "from xgboost import XGBClassifier\n",
    "from sklearn.model_selection import GridSearchCV\n",
    "xgb= XGBClassifier()\n",
    "xg_param_grid = {\n",
    "              'n_estimators' : [100,150,200],\n",
    "              'learning_rate': [0.005, 0.01],\n",
    "                'booster': ['gbtree'],\n",
    "              'max_depth': [4, 8],\n",
    "              'min_samples_leaf': [100,150],\n",
    "              \n",
    "              }"
   ]
  },
  {
   "cell_type": "code",
   "execution_count": 28,
   "id": "d0443aca",
   "metadata": {},
   "outputs": [
    {
     "name": "stdout",
     "output_type": "stream",
     "text": [
      "Fitting 5 folds for each of 24 candidates, totalling 120 fits\n"
     ]
    },
    {
     "name": "stderr",
     "output_type": "stream",
     "text": [
      "C:\\Users\\15694\\AppData\\Roaming\\Python\\Python311\\site-packages\\xgboost\\core.py:158: UserWarning: [10:50:27] WARNING: C:\\buildkite-agent\\builds\\buildkite-windows-cpu-autoscaling-group-i-06abd128ca6c1688d-1\\xgboost\\xgboost-ci-windows\\src\\learner.cc:740: \n",
      "Parameters: { \"min_samples_leaf\" } are not used.\n",
      "\n",
      "  warnings.warn(smsg, UserWarning)\n"
     ]
    },
    {
     "data": {
      "text/html": [
       "<style>#sk-container-id-2 {color: black;background-color: white;}#sk-container-id-2 pre{padding: 0;}#sk-container-id-2 div.sk-toggleable {background-color: white;}#sk-container-id-2 label.sk-toggleable__label {cursor: pointer;display: block;width: 100%;margin-bottom: 0;padding: 0.3em;box-sizing: border-box;text-align: center;}#sk-container-id-2 label.sk-toggleable__label-arrow:before {content: \"▸\";float: left;margin-right: 0.25em;color: #696969;}#sk-container-id-2 label.sk-toggleable__label-arrow:hover:before {color: black;}#sk-container-id-2 div.sk-estimator:hover label.sk-toggleable__label-arrow:before {color: black;}#sk-container-id-2 div.sk-toggleable__content {max-height: 0;max-width: 0;overflow: hidden;text-align: left;background-color: #f0f8ff;}#sk-container-id-2 div.sk-toggleable__content pre {margin: 0.2em;color: black;border-radius: 0.25em;background-color: #f0f8ff;}#sk-container-id-2 input.sk-toggleable__control:checked~div.sk-toggleable__content {max-height: 200px;max-width: 100%;overflow: auto;}#sk-container-id-2 input.sk-toggleable__control:checked~label.sk-toggleable__label-arrow:before {content: \"▾\";}#sk-container-id-2 div.sk-estimator input.sk-toggleable__control:checked~label.sk-toggleable__label {background-color: #d4ebff;}#sk-container-id-2 div.sk-label input.sk-toggleable__control:checked~label.sk-toggleable__label {background-color: #d4ebff;}#sk-container-id-2 input.sk-hidden--visually {border: 0;clip: rect(1px 1px 1px 1px);clip: rect(1px, 1px, 1px, 1px);height: 1px;margin: -1px;overflow: hidden;padding: 0;position: absolute;width: 1px;}#sk-container-id-2 div.sk-estimator {font-family: monospace;background-color: #f0f8ff;border: 1px dotted black;border-radius: 0.25em;box-sizing: border-box;margin-bottom: 0.5em;}#sk-container-id-2 div.sk-estimator:hover {background-color: #d4ebff;}#sk-container-id-2 div.sk-parallel-item::after {content: \"\";width: 100%;border-bottom: 1px solid gray;flex-grow: 1;}#sk-container-id-2 div.sk-label:hover label.sk-toggleable__label {background-color: #d4ebff;}#sk-container-id-2 div.sk-serial::before {content: \"\";position: absolute;border-left: 1px solid gray;box-sizing: border-box;top: 0;bottom: 0;left: 50%;z-index: 0;}#sk-container-id-2 div.sk-serial {display: flex;flex-direction: column;align-items: center;background-color: white;padding-right: 0.2em;padding-left: 0.2em;position: relative;}#sk-container-id-2 div.sk-item {position: relative;z-index: 1;}#sk-container-id-2 div.sk-parallel {display: flex;align-items: stretch;justify-content: center;background-color: white;position: relative;}#sk-container-id-2 div.sk-item::before, #sk-container-id-2 div.sk-parallel-item::before {content: \"\";position: absolute;border-left: 1px solid gray;box-sizing: border-box;top: 0;bottom: 0;left: 50%;z-index: -1;}#sk-container-id-2 div.sk-parallel-item {display: flex;flex-direction: column;z-index: 1;position: relative;background-color: white;}#sk-container-id-2 div.sk-parallel-item:first-child::after {align-self: flex-end;width: 50%;}#sk-container-id-2 div.sk-parallel-item:last-child::after {align-self: flex-start;width: 50%;}#sk-container-id-2 div.sk-parallel-item:only-child::after {width: 0;}#sk-container-id-2 div.sk-dashed-wrapped {border: 1px dashed gray;margin: 0 0.4em 0.5em 0.4em;box-sizing: border-box;padding-bottom: 0.4em;background-color: white;}#sk-container-id-2 div.sk-label label {font-family: monospace;font-weight: bold;display: inline-block;line-height: 1.2em;}#sk-container-id-2 div.sk-label-container {text-align: center;}#sk-container-id-2 div.sk-container {/* jupyter's `normalize.less` sets `[hidden] { display: none; }` but bootstrap.min.css set `[hidden] { display: none !important; }` so we also need the `!important` here to be able to override the default hidden behavior on the sphinx rendered scikit-learn.org. See: https://github.com/scikit-learn/scikit-learn/issues/21755 */display: inline-block !important;position: relative;}#sk-container-id-2 div.sk-text-repr-fallback {display: none;}</style><div id=\"sk-container-id-2\" class=\"sk-top-container\"><div class=\"sk-text-repr-fallback\"><pre>GridSearchCV(cv=5,\n",
       "             estimator=XGBClassifier(base_score=None, booster=None,\n",
       "                                     callbacks=None, colsample_bylevel=None,\n",
       "                                     colsample_bynode=None,\n",
       "                                     colsample_bytree=None, device=None,\n",
       "                                     early_stopping_rounds=None,\n",
       "                                     enable_categorical=False, eval_metric=None,\n",
       "                                     feature_types=None, gamma=None,\n",
       "                                     grow_policy=None, importance_type=None,\n",
       "                                     interaction_constraints=None,\n",
       "                                     learning_rate=None,...\n",
       "                                     max_delta_step=None, max_depth=None,\n",
       "                                     max_leaves=None, min_child_weight=None,\n",
       "                                     missing=nan, monotone_constraints=None,\n",
       "                                     multi_strategy=None, n_estimators=None,\n",
       "                                     n_jobs=None, num_parallel_tree=None,\n",
       "                                     random_state=None, ...),\n",
       "             n_jobs=4,\n",
       "             param_grid={&#x27;booster&#x27;: [&#x27;gbtree&#x27;], &#x27;learning_rate&#x27;: [0.005, 0.01],\n",
       "                         &#x27;max_depth&#x27;: [4, 8], &#x27;min_samples_leaf&#x27;: [100, 150],\n",
       "                         &#x27;n_estimators&#x27;: [100, 150, 200]},\n",
       "             scoring=&#x27;accuracy&#x27;, verbose=2)</pre><b>In a Jupyter environment, please rerun this cell to show the HTML representation or trust the notebook. <br />On GitHub, the HTML representation is unable to render, please try loading this page with nbviewer.org.</b></div><div class=\"sk-container\" hidden><div class=\"sk-item sk-dashed-wrapped\"><div class=\"sk-label-container\"><div class=\"sk-label sk-toggleable\"><input class=\"sk-toggleable__control sk-hidden--visually\" id=\"sk-estimator-id-2\" type=\"checkbox\" ><label for=\"sk-estimator-id-2\" class=\"sk-toggleable__label sk-toggleable__label-arrow\">GridSearchCV</label><div class=\"sk-toggleable__content\"><pre>GridSearchCV(cv=5,\n",
       "             estimator=XGBClassifier(base_score=None, booster=None,\n",
       "                                     callbacks=None, colsample_bylevel=None,\n",
       "                                     colsample_bynode=None,\n",
       "                                     colsample_bytree=None, device=None,\n",
       "                                     early_stopping_rounds=None,\n",
       "                                     enable_categorical=False, eval_metric=None,\n",
       "                                     feature_types=None, gamma=None,\n",
       "                                     grow_policy=None, importance_type=None,\n",
       "                                     interaction_constraints=None,\n",
       "                                     learning_rate=None,...\n",
       "                                     max_delta_step=None, max_depth=None,\n",
       "                                     max_leaves=None, min_child_weight=None,\n",
       "                                     missing=nan, monotone_constraints=None,\n",
       "                                     multi_strategy=None, n_estimators=None,\n",
       "                                     n_jobs=None, num_parallel_tree=None,\n",
       "                                     random_state=None, ...),\n",
       "             n_jobs=4,\n",
       "             param_grid={&#x27;booster&#x27;: [&#x27;gbtree&#x27;], &#x27;learning_rate&#x27;: [0.005, 0.01],\n",
       "                         &#x27;max_depth&#x27;: [4, 8], &#x27;min_samples_leaf&#x27;: [100, 150],\n",
       "                         &#x27;n_estimators&#x27;: [100, 150, 200]},\n",
       "             scoring=&#x27;accuracy&#x27;, verbose=2)</pre></div></div></div><div class=\"sk-parallel\"><div class=\"sk-parallel-item\"><div class=\"sk-item\"><div class=\"sk-label-container\"><div class=\"sk-label sk-toggleable\"><input class=\"sk-toggleable__control sk-hidden--visually\" id=\"sk-estimator-id-3\" type=\"checkbox\" ><label for=\"sk-estimator-id-3\" class=\"sk-toggleable__label sk-toggleable__label-arrow\">estimator: XGBClassifier</label><div class=\"sk-toggleable__content\"><pre>XGBClassifier(base_score=None, booster=None, callbacks=None,\n",
       "              colsample_bylevel=None, colsample_bynode=None,\n",
       "              colsample_bytree=None, device=None, early_stopping_rounds=None,\n",
       "              enable_categorical=False, eval_metric=None, feature_types=None,\n",
       "              gamma=None, grow_policy=None, importance_type=None,\n",
       "              interaction_constraints=None, learning_rate=None, max_bin=None,\n",
       "              max_cat_threshold=None, max_cat_to_onehot=None,\n",
       "              max_delta_step=None, max_depth=None, max_leaves=None,\n",
       "              min_child_weight=None, missing=nan, monotone_constraints=None,\n",
       "              multi_strategy=None, n_estimators=None, n_jobs=None,\n",
       "              num_parallel_tree=None, random_state=None, ...)</pre></div></div></div><div class=\"sk-serial\"><div class=\"sk-item\"><div class=\"sk-estimator sk-toggleable\"><input class=\"sk-toggleable__control sk-hidden--visually\" id=\"sk-estimator-id-4\" type=\"checkbox\" ><label for=\"sk-estimator-id-4\" class=\"sk-toggleable__label sk-toggleable__label-arrow\">XGBClassifier</label><div class=\"sk-toggleable__content\"><pre>XGBClassifier(base_score=None, booster=None, callbacks=None,\n",
       "              colsample_bylevel=None, colsample_bynode=None,\n",
       "              colsample_bytree=None, device=None, early_stopping_rounds=None,\n",
       "              enable_categorical=False, eval_metric=None, feature_types=None,\n",
       "              gamma=None, grow_policy=None, importance_type=None,\n",
       "              interaction_constraints=None, learning_rate=None, max_bin=None,\n",
       "              max_cat_threshold=None, max_cat_to_onehot=None,\n",
       "              max_delta_step=None, max_depth=None, max_leaves=None,\n",
       "              min_child_weight=None, missing=nan, monotone_constraints=None,\n",
       "              multi_strategy=None, n_estimators=None, n_jobs=None,\n",
       "              num_parallel_tree=None, random_state=None, ...)</pre></div></div></div></div></div></div></div></div></div></div>"
      ],
      "text/plain": [
       "GridSearchCV(cv=5,\n",
       "             estimator=XGBClassifier(base_score=None, booster=None,\n",
       "                                     callbacks=None, colsample_bylevel=None,\n",
       "                                     colsample_bynode=None,\n",
       "                                     colsample_bytree=None, device=None,\n",
       "                                     early_stopping_rounds=None,\n",
       "                                     enable_categorical=False, eval_metric=None,\n",
       "                                     feature_types=None, gamma=None,\n",
       "                                     grow_policy=None, importance_type=None,\n",
       "                                     interaction_constraints=None,\n",
       "                                     learning_rate=None,...\n",
       "                                     max_delta_step=None, max_depth=None,\n",
       "                                     max_leaves=None, min_child_weight=None,\n",
       "                                     missing=nan, monotone_constraints=None,\n",
       "                                     multi_strategy=None, n_estimators=None,\n",
       "                                     n_jobs=None, num_parallel_tree=None,\n",
       "                                     random_state=None, ...),\n",
       "             n_jobs=4,\n",
       "             param_grid={'booster': ['gbtree'], 'learning_rate': [0.005, 0.01],\n",
       "                         'max_depth': [4, 8], 'min_samples_leaf': [100, 150],\n",
       "                         'n_estimators': [100, 150, 200]},\n",
       "             scoring='accuracy', verbose=2)"
      ]
     },
     "execution_count": 28,
     "metadata": {},
     "output_type": "execute_result"
    }
   ],
   "source": [
    "gsxgb = GridSearchCV(xgb,param_grid = xg_param_grid, cv=5, scoring=\"accuracy\", n_jobs= 4, verbose = 2)\n",
    "\n",
    "gsxgb.fit(X_under, Y_under)\n"
   ]
  },
  {
   "cell_type": "code",
   "execution_count": 29,
   "id": "58c06648",
   "metadata": {},
   "outputs": [
    {
     "data": {
      "text/html": [
       "<style>#sk-container-id-3 {color: black;background-color: white;}#sk-container-id-3 pre{padding: 0;}#sk-container-id-3 div.sk-toggleable {background-color: white;}#sk-container-id-3 label.sk-toggleable__label {cursor: pointer;display: block;width: 100%;margin-bottom: 0;padding: 0.3em;box-sizing: border-box;text-align: center;}#sk-container-id-3 label.sk-toggleable__label-arrow:before {content: \"▸\";float: left;margin-right: 0.25em;color: #696969;}#sk-container-id-3 label.sk-toggleable__label-arrow:hover:before {color: black;}#sk-container-id-3 div.sk-estimator:hover label.sk-toggleable__label-arrow:before {color: black;}#sk-container-id-3 div.sk-toggleable__content {max-height: 0;max-width: 0;overflow: hidden;text-align: left;background-color: #f0f8ff;}#sk-container-id-3 div.sk-toggleable__content pre {margin: 0.2em;color: black;border-radius: 0.25em;background-color: #f0f8ff;}#sk-container-id-3 input.sk-toggleable__control:checked~div.sk-toggleable__content {max-height: 200px;max-width: 100%;overflow: auto;}#sk-container-id-3 input.sk-toggleable__control:checked~label.sk-toggleable__label-arrow:before {content: \"▾\";}#sk-container-id-3 div.sk-estimator input.sk-toggleable__control:checked~label.sk-toggleable__label {background-color: #d4ebff;}#sk-container-id-3 div.sk-label input.sk-toggleable__control:checked~label.sk-toggleable__label {background-color: #d4ebff;}#sk-container-id-3 input.sk-hidden--visually {border: 0;clip: rect(1px 1px 1px 1px);clip: rect(1px, 1px, 1px, 1px);height: 1px;margin: -1px;overflow: hidden;padding: 0;position: absolute;width: 1px;}#sk-container-id-3 div.sk-estimator {font-family: monospace;background-color: #f0f8ff;border: 1px dotted black;border-radius: 0.25em;box-sizing: border-box;margin-bottom: 0.5em;}#sk-container-id-3 div.sk-estimator:hover {background-color: #d4ebff;}#sk-container-id-3 div.sk-parallel-item::after {content: \"\";width: 100%;border-bottom: 1px solid gray;flex-grow: 1;}#sk-container-id-3 div.sk-label:hover label.sk-toggleable__label {background-color: #d4ebff;}#sk-container-id-3 div.sk-serial::before {content: \"\";position: absolute;border-left: 1px solid gray;box-sizing: border-box;top: 0;bottom: 0;left: 50%;z-index: 0;}#sk-container-id-3 div.sk-serial {display: flex;flex-direction: column;align-items: center;background-color: white;padding-right: 0.2em;padding-left: 0.2em;position: relative;}#sk-container-id-3 div.sk-item {position: relative;z-index: 1;}#sk-container-id-3 div.sk-parallel {display: flex;align-items: stretch;justify-content: center;background-color: white;position: relative;}#sk-container-id-3 div.sk-item::before, #sk-container-id-3 div.sk-parallel-item::before {content: \"\";position: absolute;border-left: 1px solid gray;box-sizing: border-box;top: 0;bottom: 0;left: 50%;z-index: -1;}#sk-container-id-3 div.sk-parallel-item {display: flex;flex-direction: column;z-index: 1;position: relative;background-color: white;}#sk-container-id-3 div.sk-parallel-item:first-child::after {align-self: flex-end;width: 50%;}#sk-container-id-3 div.sk-parallel-item:last-child::after {align-self: flex-start;width: 50%;}#sk-container-id-3 div.sk-parallel-item:only-child::after {width: 0;}#sk-container-id-3 div.sk-dashed-wrapped {border: 1px dashed gray;margin: 0 0.4em 0.5em 0.4em;box-sizing: border-box;padding-bottom: 0.4em;background-color: white;}#sk-container-id-3 div.sk-label label {font-family: monospace;font-weight: bold;display: inline-block;line-height: 1.2em;}#sk-container-id-3 div.sk-label-container {text-align: center;}#sk-container-id-3 div.sk-container {/* jupyter's `normalize.less` sets `[hidden] { display: none; }` but bootstrap.min.css set `[hidden] { display: none !important; }` so we also need the `!important` here to be able to override the default hidden behavior on the sphinx rendered scikit-learn.org. See: https://github.com/scikit-learn/scikit-learn/issues/21755 */display: inline-block !important;position: relative;}#sk-container-id-3 div.sk-text-repr-fallback {display: none;}</style><div id=\"sk-container-id-3\" class=\"sk-top-container\"><div class=\"sk-text-repr-fallback\"><pre>XGBClassifier(base_score=None, booster=&#x27;gbtree&#x27;, callbacks=None,\n",
       "              colsample_bylevel=None, colsample_bynode=None,\n",
       "              colsample_bytree=None, device=None, early_stopping_rounds=None,\n",
       "              enable_categorical=False, eval_metric=None, feature_types=None,\n",
       "              gamma=None, grow_policy=None, importance_type=None,\n",
       "              interaction_constraints=None, learning_rate=0.01, max_bin=None,\n",
       "              max_cat_threshold=None, max_cat_to_onehot=None,\n",
       "              max_delta_step=None, max_depth=8, max_leaves=None,\n",
       "              min_child_weight=None, min_samples_leaf=100, missing=nan,\n",
       "              monotone_constraints=None, multi_strategy=None, n_estimators=200,\n",
       "              n_jobs=None, num_parallel_tree=None, ...)</pre><b>In a Jupyter environment, please rerun this cell to show the HTML representation or trust the notebook. <br />On GitHub, the HTML representation is unable to render, please try loading this page with nbviewer.org.</b></div><div class=\"sk-container\" hidden><div class=\"sk-item\"><div class=\"sk-estimator sk-toggleable\"><input class=\"sk-toggleable__control sk-hidden--visually\" id=\"sk-estimator-id-5\" type=\"checkbox\" checked><label for=\"sk-estimator-id-5\" class=\"sk-toggleable__label sk-toggleable__label-arrow\">XGBClassifier</label><div class=\"sk-toggleable__content\"><pre>XGBClassifier(base_score=None, booster=&#x27;gbtree&#x27;, callbacks=None,\n",
       "              colsample_bylevel=None, colsample_bynode=None,\n",
       "              colsample_bytree=None, device=None, early_stopping_rounds=None,\n",
       "              enable_categorical=False, eval_metric=None, feature_types=None,\n",
       "              gamma=None, grow_policy=None, importance_type=None,\n",
       "              interaction_constraints=None, learning_rate=0.01, max_bin=None,\n",
       "              max_cat_threshold=None, max_cat_to_onehot=None,\n",
       "              max_delta_step=None, max_depth=8, max_leaves=None,\n",
       "              min_child_weight=None, min_samples_leaf=100, missing=nan,\n",
       "              monotone_constraints=None, multi_strategy=None, n_estimators=200,\n",
       "              n_jobs=None, num_parallel_tree=None, ...)</pre></div></div></div></div></div>"
      ],
      "text/plain": [
       "XGBClassifier(base_score=None, booster='gbtree', callbacks=None,\n",
       "              colsample_bylevel=None, colsample_bynode=None,\n",
       "              colsample_bytree=None, device=None, early_stopping_rounds=None,\n",
       "              enable_categorical=False, eval_metric=None, feature_types=None,\n",
       "              gamma=None, grow_policy=None, importance_type=None,\n",
       "              interaction_constraints=None, learning_rate=0.01, max_bin=None,\n",
       "              max_cat_threshold=None, max_cat_to_onehot=None,\n",
       "              max_delta_step=None, max_depth=8, max_leaves=None,\n",
       "              min_child_weight=None, min_samples_leaf=100, missing=nan,\n",
       "              monotone_constraints=None, multi_strategy=None, n_estimators=200,\n",
       "              n_jobs=None, num_parallel_tree=None, ...)"
      ]
     },
     "execution_count": 29,
     "metadata": {},
     "output_type": "execute_result"
    }
   ],
   "source": [
    "gsxgb.best_estimator_"
   ]
  },
  {
   "cell_type": "code",
   "execution_count": 30,
   "id": "782ace79",
   "metadata": {},
   "outputs": [
    {
     "name": "stderr",
     "output_type": "stream",
     "text": [
      "C:\\Users\\15694\\AppData\\Roaming\\Python\\Python311\\site-packages\\xgboost\\core.py:158: UserWarning: [10:50:28] WARNING: C:\\buildkite-agent\\builds\\buildkite-windows-cpu-autoscaling-group-i-06abd128ca6c1688d-1\\xgboost\\xgboost-ci-windows\\src\\learner.cc:740: \n",
      "Parameters: { \"min_samples_leaf\" } are not used.\n",
      "\n",
      "  warnings.warn(smsg, UserWarning)\n"
     ]
    },
    {
     "data": {
      "text/html": [
       "<style>#sk-container-id-4 {color: black;background-color: white;}#sk-container-id-4 pre{padding: 0;}#sk-container-id-4 div.sk-toggleable {background-color: white;}#sk-container-id-4 label.sk-toggleable__label {cursor: pointer;display: block;width: 100%;margin-bottom: 0;padding: 0.3em;box-sizing: border-box;text-align: center;}#sk-container-id-4 label.sk-toggleable__label-arrow:before {content: \"▸\";float: left;margin-right: 0.25em;color: #696969;}#sk-container-id-4 label.sk-toggleable__label-arrow:hover:before {color: black;}#sk-container-id-4 div.sk-estimator:hover label.sk-toggleable__label-arrow:before {color: black;}#sk-container-id-4 div.sk-toggleable__content {max-height: 0;max-width: 0;overflow: hidden;text-align: left;background-color: #f0f8ff;}#sk-container-id-4 div.sk-toggleable__content pre {margin: 0.2em;color: black;border-radius: 0.25em;background-color: #f0f8ff;}#sk-container-id-4 input.sk-toggleable__control:checked~div.sk-toggleable__content {max-height: 200px;max-width: 100%;overflow: auto;}#sk-container-id-4 input.sk-toggleable__control:checked~label.sk-toggleable__label-arrow:before {content: \"▾\";}#sk-container-id-4 div.sk-estimator input.sk-toggleable__control:checked~label.sk-toggleable__label {background-color: #d4ebff;}#sk-container-id-4 div.sk-label input.sk-toggleable__control:checked~label.sk-toggleable__label {background-color: #d4ebff;}#sk-container-id-4 input.sk-hidden--visually {border: 0;clip: rect(1px 1px 1px 1px);clip: rect(1px, 1px, 1px, 1px);height: 1px;margin: -1px;overflow: hidden;padding: 0;position: absolute;width: 1px;}#sk-container-id-4 div.sk-estimator {font-family: monospace;background-color: #f0f8ff;border: 1px dotted black;border-radius: 0.25em;box-sizing: border-box;margin-bottom: 0.5em;}#sk-container-id-4 div.sk-estimator:hover {background-color: #d4ebff;}#sk-container-id-4 div.sk-parallel-item::after {content: \"\";width: 100%;border-bottom: 1px solid gray;flex-grow: 1;}#sk-container-id-4 div.sk-label:hover label.sk-toggleable__label {background-color: #d4ebff;}#sk-container-id-4 div.sk-serial::before {content: \"\";position: absolute;border-left: 1px solid gray;box-sizing: border-box;top: 0;bottom: 0;left: 50%;z-index: 0;}#sk-container-id-4 div.sk-serial {display: flex;flex-direction: column;align-items: center;background-color: white;padding-right: 0.2em;padding-left: 0.2em;position: relative;}#sk-container-id-4 div.sk-item {position: relative;z-index: 1;}#sk-container-id-4 div.sk-parallel {display: flex;align-items: stretch;justify-content: center;background-color: white;position: relative;}#sk-container-id-4 div.sk-item::before, #sk-container-id-4 div.sk-parallel-item::before {content: \"\";position: absolute;border-left: 1px solid gray;box-sizing: border-box;top: 0;bottom: 0;left: 50%;z-index: -1;}#sk-container-id-4 div.sk-parallel-item {display: flex;flex-direction: column;z-index: 1;position: relative;background-color: white;}#sk-container-id-4 div.sk-parallel-item:first-child::after {align-self: flex-end;width: 50%;}#sk-container-id-4 div.sk-parallel-item:last-child::after {align-self: flex-start;width: 50%;}#sk-container-id-4 div.sk-parallel-item:only-child::after {width: 0;}#sk-container-id-4 div.sk-dashed-wrapped {border: 1px dashed gray;margin: 0 0.4em 0.5em 0.4em;box-sizing: border-box;padding-bottom: 0.4em;background-color: white;}#sk-container-id-4 div.sk-label label {font-family: monospace;font-weight: bold;display: inline-block;line-height: 1.2em;}#sk-container-id-4 div.sk-label-container {text-align: center;}#sk-container-id-4 div.sk-container {/* jupyter's `normalize.less` sets `[hidden] { display: none; }` but bootstrap.min.css set `[hidden] { display: none !important; }` so we also need the `!important` here to be able to override the default hidden behavior on the sphinx rendered scikit-learn.org. See: https://github.com/scikit-learn/scikit-learn/issues/21755 */display: inline-block !important;position: relative;}#sk-container-id-4 div.sk-text-repr-fallback {display: none;}</style><div id=\"sk-container-id-4\" class=\"sk-top-container\"><div class=\"sk-text-repr-fallback\"><pre>XGBClassifier(base_score=None, booster=None, callbacks=None,\n",
       "              colsample_bylevel=None, colsample_bynode=None,\n",
       "              colsample_bytree=None, device=None, early_stopping_rounds=None,\n",
       "              enable_categorical=False, eval_metric=None, feature_types=None,\n",
       "              gamma=None, grow_policy=None, importance_type=None,\n",
       "              interaction_constraints=None, learning_rate=0.01, max_bin=None,\n",
       "              max_cat_threshold=None, max_cat_to_onehot=None,\n",
       "              max_delta_step=None, max_depth=8, max_leaves=None,\n",
       "              min_child_weight=None, min_samples_leaf=100, missing=nan,\n",
       "              monotone_constraints=None, multi_strategy=None, n_estimators=200,\n",
       "              n_jobs=None, num_parallel_tree=None, ...)</pre><b>In a Jupyter environment, please rerun this cell to show the HTML representation or trust the notebook. <br />On GitHub, the HTML representation is unable to render, please try loading this page with nbviewer.org.</b></div><div class=\"sk-container\" hidden><div class=\"sk-item\"><div class=\"sk-estimator sk-toggleable\"><input class=\"sk-toggleable__control sk-hidden--visually\" id=\"sk-estimator-id-6\" type=\"checkbox\" checked><label for=\"sk-estimator-id-6\" class=\"sk-toggleable__label sk-toggleable__label-arrow\">XGBClassifier</label><div class=\"sk-toggleable__content\"><pre>XGBClassifier(base_score=None, booster=None, callbacks=None,\n",
       "              colsample_bylevel=None, colsample_bynode=None,\n",
       "              colsample_bytree=None, device=None, early_stopping_rounds=None,\n",
       "              enable_categorical=False, eval_metric=None, feature_types=None,\n",
       "              gamma=None, grow_policy=None, importance_type=None,\n",
       "              interaction_constraints=None, learning_rate=0.01, max_bin=None,\n",
       "              max_cat_threshold=None, max_cat_to_onehot=None,\n",
       "              max_delta_step=None, max_depth=8, max_leaves=None,\n",
       "              min_child_weight=None, min_samples_leaf=100, missing=nan,\n",
       "              monotone_constraints=None, multi_strategy=None, n_estimators=200,\n",
       "              n_jobs=None, num_parallel_tree=None, ...)</pre></div></div></div></div></div>"
      ],
      "text/plain": [
       "XGBClassifier(base_score=None, booster=None, callbacks=None,\n",
       "              colsample_bylevel=None, colsample_bynode=None,\n",
       "              colsample_bytree=None, device=None, early_stopping_rounds=None,\n",
       "              enable_categorical=False, eval_metric=None, feature_types=None,\n",
       "              gamma=None, grow_policy=None, importance_type=None,\n",
       "              interaction_constraints=None, learning_rate=0.01, max_bin=None,\n",
       "              max_cat_threshold=None, max_cat_to_onehot=None,\n",
       "              max_delta_step=None, max_depth=8, max_leaves=None,\n",
       "              min_child_weight=None, min_samples_leaf=100, missing=nan,\n",
       "              monotone_constraints=None, multi_strategy=None, n_estimators=200,\n",
       "              n_jobs=None, num_parallel_tree=None, ...)"
      ]
     },
     "execution_count": 30,
     "metadata": {},
     "output_type": "execute_result"
    }
   ],
   "source": [
    "best_xg_GCV=XGBClassifier(max_depth=8, n_estimators=200,learning_rate=0.01,min_samples_leaf=100)\n",
    "best_xg_GCV.fit(X_under, Y_under)"
   ]
  },
  {
   "cell_type": "code",
   "execution_count": 31,
   "id": "8ab5f036",
   "metadata": {},
   "outputs": [],
   "source": [
    "y_pred_xg_GCV = best_xg_GCV.predict(X_test)\n",
    "y_pred_xg_GCV_train = best_xg_GCV.predict(X_under)"
   ]
  },
  {
   "cell_type": "code",
   "execution_count": 32,
   "id": "cf083564",
   "metadata": {},
   "outputs": [
    {
     "name": "stdout",
     "output_type": "stream",
     "text": [
      "Accuracy Score: 0.5905378766544636\n",
      "Precision (Macro): 0.5532824630993946\n",
      "Recall (Macro): 0.6280960021457459\n",
      "F1 Score (Macro): 0.5516049374287552\n",
      "Confusion Matrix:\n",
      "[[ 48  15   5   3   0   2]\n",
      " [175 373 244  44  11   0]\n",
      " [ 29 103 329  92  19   3]\n",
      " [ 28  42 215 800 211  31]\n",
      " [  3   0   7  48 241  39]\n",
      " [  0   0   3  11  71 306]]\n",
      "\n",
      "Classification Report:\n",
      "               precision    recall  f1-score   support\n",
      "\n",
      "           0       0.17      0.66      0.27        73\n",
      "           1       0.70      0.44      0.54       847\n",
      "           2       0.41      0.57      0.48       575\n",
      "           3       0.80      0.60      0.69      1327\n",
      "           4       0.44      0.71      0.54       338\n",
      "           5       0.80      0.78      0.79       391\n",
      "\n",
      "    accuracy                           0.59      3551\n",
      "   macro avg       0.55      0.63      0.55      3551\n",
      "weighted avg       0.67      0.59      0.61      3551\n",
      "\n"
     ]
    }
   ],
   "source": [
    "acc = accuracy_score(y_test, y_pred_xg_GCV)\n",
    "prec_macro = precision_score(y_test,y_pred_xg_GCV, average='macro')\n",
    "recall_macro = recall_score(y_test, y_pred_xg_GCV, average='macro')\n",
    "f1_macro = f1_score(y_test,y_pred_xg_GCV, average='macro')\n",
    "classification_rep_xg_GCV = classification_report(y_test,y_pred_xg_GCV)\n",
    "print(\"Accuracy Score:\", acc)\n",
    "print(\"Precision (Macro):\", prec_macro)\n",
    "print(\"Recall (Macro):\", recall_macro)\n",
    "print(\"F1 Score (Macro):\", f1_macro)\n",
    "\n",
    "# Confusion Matrix\n",
    "cf_matrix_xg_gcv = confusion_matrix(y_test, y_pred_xg_GCV)\n",
    "print(\"Confusion Matrix:\")\n",
    "print(cf_matrix_xg_gcv)\n",
    "print(\"\\nClassification Report:\\n\", classification_rep_xg_GCV)"
   ]
  },
  {
   "cell_type": "code",
   "execution_count": 33,
   "id": "57ebd7cc",
   "metadata": {},
   "outputs": [
    {
     "name": "stdout",
     "output_type": "stream",
     "text": [
      "Accuracy Score: 0.9234234234234234\n",
      "Precision (Macro): 0.9246076107567411\n",
      "Recall (Macro): 0.9234234234234234\n",
      "F1 Score (Macro): 0.9233107616754502\n",
      "Confusion Matrix:\n",
      "[[179   3   2   0   1   0]\n",
      " [  9 163  10   2   1   0]\n",
      " [  1  12 169   3   0   0]\n",
      " [  0   3  14 158  10   0]\n",
      " [  0   0   0   3 179   3]\n",
      " [  0   1   1   1   5 177]]\n",
      "\n",
      "Classification Report:\n",
      "               precision    recall  f1-score   support\n",
      "\n",
      "           0       0.95      0.97      0.96       185\n",
      "           1       0.90      0.88      0.89       185\n",
      "           2       0.86      0.91      0.89       185\n",
      "           3       0.95      0.85      0.90       185\n",
      "           4       0.91      0.97      0.94       185\n",
      "           5       0.98      0.96      0.97       185\n",
      "\n",
      "    accuracy                           0.92      1110\n",
      "   macro avg       0.92      0.92      0.92      1110\n",
      "weighted avg       0.92      0.92      0.92      1110\n",
      "\n"
     ]
    }
   ],
   "source": [
    "acc1 = accuracy_score(Y_under, y_pred_xg_GCV_train)\n",
    "prec_macro1 = precision_score(Y_under,y_pred_xg_GCV_train, average='macro')\n",
    "recall_macro1 = recall_score(Y_under, y_pred_xg_GCV_train, average='macro')\n",
    "f1_macro1 = f1_score(Y_under,y_pred_xg_GCV_train, average='macro')\n",
    "classification_rep_xg_GCV_Train = classification_report(Y_under,y_pred_xg_GCV_train)\n",
    "print(\"Accuracy Score:\", acc1)\n",
    "print(\"Precision (Macro):\", prec_macro1)\n",
    "print(\"Recall (Macro):\", recall_macro1)\n",
    "print(\"F1 Score (Macro):\", f1_macro1)\n",
    "\n",
    "# Confusion Matrix\n",
    "cf_matrix_xg_gcv_train = confusion_matrix(Y_under, y_pred_xg_GCV_train)\n",
    "print(\"Confusion Matrix:\")\n",
    "print(cf_matrix_xg_gcv_train)\n",
    "print(\"\\nClassification Report:\\n\", classification_rep_xg_GCV_Train)"
   ]
  },
  {
   "cell_type": "code",
   "execution_count": 34,
   "id": "07d8ad48",
   "metadata": {},
   "outputs": [],
   "source": [
    "from sklearn.metrics import roc_curve,auc\n"
   ]
  },
  {
   "cell_type": "code",
   "execution_count": 35,
   "id": "1b0c4ca2",
   "metadata": {},
   "outputs": [],
   "source": [
    "y_prob=best_xg_GCV.predict_proba(X_test)"
   ]
  },
  {
   "cell_type": "code",
   "execution_count": 36,
   "id": "f35b7d75",
   "metadata": {},
   "outputs": [
    {
     "data": {
      "image/png": "[encoded data removed]",
      "text/plain": [
       "<Figure size 640x480 with 1 Axes>"
      ]
     },
     "metadata": {},
     "output_type": "display_data"
    }
   ],
   "source": [
    "for i in range(len(np.unique(Y))):\n",
    "    fpt,tpr,_=roc_curve(y_test==i,y_prob[:,i])\n",
    "    roc_auc=auc(fpt,tpr)\n",
    "    plt.plot(fpt,tpr,label=f'Class {i} Vs Rest (AUC ={roc_auc:.2f})')\n",
    "    \n",
    "plt.plot([0,1],[0,1],linestyle='--',color='r',label='Random Guess')\n",
    "plt.xlabel('False Positive Rate')\n",
    "plt.ylabel('True Positive Rate')\n",
    "plt.title('ROC Curve for Multi-class Classification')\n",
    "plt.legend()\n",
    "plt.show()"
   ]
  },
  {
   "cell_type": "code",
   "execution_count": 37,
   "id": "3f5208bb",
   "metadata": {},
   "outputs": [
    {
     "data": {
      "text/plain": [
       "0.8855665632014293"
      ]
     },
     "execution_count": 37,
     "metadata": {},
     "output_type": "execute_result"
    }
   ],
   "source": [
    "from sklearn.metrics import roc_auc_score\n",
    "roc_auc_score(y_test,y_prob,multi_class='ovr')"
   ]
  },
  {
   "cell_type": "code",
   "execution_count": null,
   "id": "b1ce1472",
   "metadata": {},
   "outputs": [],
   "source": []
  }
 ],
 "metadata": {
  "kernelspec": {
   "display_name": "Python 3 (ipykernel)",
   "language": "python",
   "name": "python3"
  },
  "language_info": {
   "codemirror_mode": {
    "name": "ipython",
    "version": 3
   },
   "file_extension": ".py",
   "mimetype": "text/x-python",
   "name": "python",
   "nbconvert_exporter": "python",
   "pygments_lexer": "ipython3",
   "version": "3.11.3"
  }
 },
 "nbformat": 4,
 "nbformat_minor": 5
}
