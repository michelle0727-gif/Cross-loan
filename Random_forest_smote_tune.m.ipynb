{
 "cells": [
  {
   "cell_type": "code",
   "execution_count": 1,
   "id": "b5d36d2e",
   "metadata": {},
   "outputs": [],
   "source": [
    "import pandas as pd\n",
    "import numpy as np\n",
    "import matplotlib.pyplot as plt\n"
   ]
  },
  {
   "cell_type": "code",
   "execution_count": 2,
   "id": "da800089",
   "metadata": {},
   "outputs": [],
   "source": [
    "pd.set_option(\"display.max_columns\", None)\n",
    "pd.set_option(\"display.max_rows\", None)"
   ]
  },
  {
   "cell_type": "code",
   "execution_count": 3,
   "id": "144a12d9",
   "metadata": {},
   "outputs": [],
   "source": [
    "encodings_to_try = ['utf-8-sig', 'latin-1', 'ISO-8859-1']\n",
    "\n",
    "for encoding in encodings_to_try:\n",
    "    try:\n",
    "        df = pd.read_csv(\"C:/Users/15694/Desktop/Cross selling/code/Michelle/variable_without_pca2.csv\", encoding=encoding)\n",
    "        break\n",
    "    except UnicodeDecodeError:\n",
    "        continue"
   ]
  },
  {
   "cell_type": "code",
   "execution_count": 4,
   "id": "e6ff191a",
   "metadata": {},
   "outputs": [
    {
     "data": {
      "text/html": [
       "<div>\n",
       "<style scoped>\n",
       "    .dataframe tbody tr th:only-of-type {\n",
       "        vertical-align: middle;\n",
       "    }\n",
       "\n",
       "    .dataframe tbody tr th {\n",
       "        vertical-align: top;\n",
       "    }\n",
       "\n",
       "    .dataframe thead th {\n",
       "        text-align: right;\n",
       "    }\n",
       "</style>\n",
       "<table border=\"1\" class=\"dataframe\">\n",
       "  <thead>\n",
       "    <tr style=\"text-align: right;\">\n",
       "      <th></th>\n",
       "      <th>SIX_MONTH_BAL_OS_SAVINGS</th>\n",
       "      <th>SIX_MONTH_BAL_OS_CURRENT</th>\n",
       "      <th>SIX_MONTH_BAL_OS_FD</th>\n",
       "      <th>SIX_MONTH_BAL_OS_LEASING</th>\n",
       "      <th>SIX_MONTH_BAL_OS_CARD</th>\n",
       "      <th>SIX_MONTH_BAL_OS_OD</th>\n",
       "      <th>TOTAL_AVG_BAL</th>\n",
       "      <th>FD_AMOUNT_UNDER_LIEN</th>\n",
       "      <th>CURRENT_AMOUNT_UNDER_LIEN</th>\n",
       "      <th>SAVINGS_AMOUNT_UNDER_LIEN</th>\n",
       "      <th>CUSTOMER_PROFITABILITY</th>\n",
       "      <th>NO_OF_ASSERT_ACCOUNTS</th>\n",
       "      <th>NO_OF_LIABILITY_ACCOUNTS</th>\n",
       "      <th>CR_DR_Usage</th>\n",
       "      <th>NPA_FLAG</th>\n",
       "      <th>LOAN_CAT1</th>\n",
       "    </tr>\n",
       "  </thead>\n",
       "  <tbody>\n",
       "    <tr>\n",
       "      <th>0</th>\n",
       "      <td>0.042612</td>\n",
       "      <td>-0.048785</td>\n",
       "      <td>-0.053259</td>\n",
       "      <td>-0.134894</td>\n",
       "      <td>-0.155864</td>\n",
       "      <td>-0.075719</td>\n",
       "      <td>-0.062581</td>\n",
       "      <td>-0.023629</td>\n",
       "      <td>-0.044929</td>\n",
       "      <td>-0.056843</td>\n",
       "      <td>-0.003142</td>\n",
       "      <td>0.397017</td>\n",
       "      <td>1.805905</td>\n",
       "      <td>0.051895</td>\n",
       "      <td>0</td>\n",
       "      <td>3</td>\n",
       "    </tr>\n",
       "    <tr>\n",
       "      <th>1</th>\n",
       "      <td>-0.091396</td>\n",
       "      <td>-0.048785</td>\n",
       "      <td>0.066148</td>\n",
       "      <td>-0.134894</td>\n",
       "      <td>-0.297359</td>\n",
       "      <td>-0.075719</td>\n",
       "      <td>-0.050164</td>\n",
       "      <td>-0.023629</td>\n",
       "      <td>-0.044929</td>\n",
       "      <td>-0.056843</td>\n",
       "      <td>-0.010305</td>\n",
       "      <td>-0.623858</td>\n",
       "      <td>0.600067</td>\n",
       "      <td>-0.067204</td>\n",
       "      <td>0</td>\n",
       "      <td>3</td>\n",
       "    </tr>\n",
       "    <tr>\n",
       "      <th>2</th>\n",
       "      <td>-0.076329</td>\n",
       "      <td>-0.048785</td>\n",
       "      <td>0.031772</td>\n",
       "      <td>-0.134894</td>\n",
       "      <td>1.262271</td>\n",
       "      <td>-0.059430</td>\n",
       "      <td>-0.065534</td>\n",
       "      <td>-0.023629</td>\n",
       "      <td>-0.044929</td>\n",
       "      <td>-0.056843</td>\n",
       "      <td>-0.006337</td>\n",
       "      <td>1.417891</td>\n",
       "      <td>1.805905</td>\n",
       "      <td>-0.023470</td>\n",
       "      <td>0</td>\n",
       "      <td>0</td>\n",
       "    </tr>\n",
       "    <tr>\n",
       "      <th>3</th>\n",
       "      <td>-0.101346</td>\n",
       "      <td>-0.048785</td>\n",
       "      <td>0.308069</td>\n",
       "      <td>-0.134894</td>\n",
       "      <td>-0.297359</td>\n",
       "      <td>-0.075719</td>\n",
       "      <td>-0.010893</td>\n",
       "      <td>-0.023629</td>\n",
       "      <td>-0.044929</td>\n",
       "      <td>-0.056843</td>\n",
       "      <td>0.017446</td>\n",
       "      <td>-0.623858</td>\n",
       "      <td>0.198120</td>\n",
       "      <td>-0.067204</td>\n",
       "      <td>0</td>\n",
       "      <td>3</td>\n",
       "    </tr>\n",
       "    <tr>\n",
       "      <th>4</th>\n",
       "      <td>-0.013879</td>\n",
       "      <td>-0.048785</td>\n",
       "      <td>-0.071656</td>\n",
       "      <td>-0.134894</td>\n",
       "      <td>-0.297359</td>\n",
       "      <td>-0.075719</td>\n",
       "      <td>-0.053618</td>\n",
       "      <td>-0.023629</td>\n",
       "      <td>-0.044929</td>\n",
       "      <td>-0.056843</td>\n",
       "      <td>-0.004448</td>\n",
       "      <td>-0.623858</td>\n",
       "      <td>-0.203826</td>\n",
       "      <td>-0.067204</td>\n",
       "      <td>1</td>\n",
       "      <td>4</td>\n",
       "    </tr>\n",
       "  </tbody>\n",
       "</table>\n",
       "</div>"
      ],
      "text/plain": [
       "   SIX_MONTH_BAL_OS_SAVINGS  SIX_MONTH_BAL_OS_CURRENT  SIX_MONTH_BAL_OS_FD  \\\n",
       "0                  0.042612                 -0.048785            -0.053259   \n",
       "1                 -0.091396                 -0.048785             0.066148   \n",
       "2                 -0.076329                 -0.048785             0.031772   \n",
       "3                 -0.101346                 -0.048785             0.308069   \n",
       "4                 -0.013879                 -0.048785            -0.071656   \n",
       "\n",
       "   SIX_MONTH_BAL_OS_LEASING  SIX_MONTH_BAL_OS_CARD  SIX_MONTH_BAL_OS_OD  \\\n",
       "0                 -0.134894              -0.155864            -0.075719   \n",
       "1                 -0.134894              -0.297359            -0.075719   \n",
       "2                 -0.134894               1.262271            -0.059430   \n",
       "3                 -0.134894              -0.297359            -0.075719   \n",
       "4                 -0.134894              -0.297359            -0.075719   \n",
       "\n",
       "   TOTAL_AVG_BAL  FD_AMOUNT_UNDER_LIEN  CURRENT_AMOUNT_UNDER_LIEN  \\\n",
       "0      -0.062581             -0.023629                  -0.044929   \n",
       "1      -0.050164             -0.023629                  -0.044929   \n",
       "2      -0.065534             -0.023629                  -0.044929   \n",
       "3      -0.010893             -0.023629                  -0.044929   \n",
       "4      -0.053618             -0.023629                  -0.044929   \n",
       "\n",
       "   SAVINGS_AMOUNT_UNDER_LIEN  CUSTOMER_PROFITABILITY  NO_OF_ASSERT_ACCOUNTS  \\\n",
       "0                  -0.056843               -0.003142               0.397017   \n",
       "1                  -0.056843               -0.010305              -0.623858   \n",
       "2                  -0.056843               -0.006337               1.417891   \n",
       "3                  -0.056843                0.017446              -0.623858   \n",
       "4                  -0.056843               -0.004448              -0.623858   \n",
       "\n",
       "   NO_OF_LIABILITY_ACCOUNTS  CR_DR_Usage  NPA_FLAG  LOAN_CAT1  \n",
       "0                  1.805905     0.051895         0          3  \n",
       "1                  0.600067    -0.067204         0          3  \n",
       "2                  1.805905    -0.023470         0          0  \n",
       "3                  0.198120    -0.067204         0          3  \n",
       "4                 -0.203826    -0.067204         1          4  "
      ]
     },
     "execution_count": 4,
     "metadata": {},
     "output_type": "execute_result"
    }
   ],
   "source": [
    "df.head()"
   ]
  },
  {
   "cell_type": "code",
   "execution_count": 5,
   "id": "7a049c3a",
   "metadata": {},
   "outputs": [
    {
     "data": {
      "text/plain": [
       "Index(['SIX_MONTH_BAL_OS_SAVINGS', 'SIX_MONTH_BAL_OS_CURRENT',\n",
       "       'SIX_MONTH_BAL_OS_FD', 'SIX_MONTH_BAL_OS_LEASING',\n",
       "       'SIX_MONTH_BAL_OS_CARD', 'SIX_MONTH_BAL_OS_OD', 'TOTAL_AVG_BAL',\n",
       "       'FD_AMOUNT_UNDER_LIEN', 'CURRENT_AMOUNT_UNDER_LIEN',\n",
       "       'SAVINGS_AMOUNT_UNDER_LIEN', 'CUSTOMER_PROFITABILITY',\n",
       "       'NO_OF_ASSERT_ACCOUNTS', 'NO_OF_LIABILITY_ACCOUNTS', 'CR_DR_Usage',\n",
       "       'NPA_FLAG', 'LOAN_CAT1'],\n",
       "      dtype='object')"
      ]
     },
     "execution_count": 5,
     "metadata": {},
     "output_type": "execute_result"
    }
   ],
   "source": [
    "df.columns"
   ]
  },
  {
   "cell_type": "code",
   "execution_count": 6,
   "id": "c602b689",
   "metadata": {},
   "outputs": [
    {
     "data": {
      "text/plain": [
       "(11836, 16)"
      ]
     },
     "execution_count": 6,
     "metadata": {},
     "output_type": "execute_result"
    }
   ],
   "source": [
    "df.shape"
   ]
  },
  {
   "cell_type": "code",
   "execution_count": 7,
   "id": "a566fe31",
   "metadata": {},
   "outputs": [
    {
     "data": {
      "text/plain": [
       "SIX_MONTH_BAL_OS_SAVINGS     0\n",
       "SIX_MONTH_BAL_OS_CURRENT     0\n",
       "SIX_MONTH_BAL_OS_FD          0\n",
       "SIX_MONTH_BAL_OS_LEASING     0\n",
       "SIX_MONTH_BAL_OS_CARD        0\n",
       "SIX_MONTH_BAL_OS_OD          0\n",
       "TOTAL_AVG_BAL                0\n",
       "FD_AMOUNT_UNDER_LIEN         0\n",
       "CURRENT_AMOUNT_UNDER_LIEN    0\n",
       "SAVINGS_AMOUNT_UNDER_LIEN    0\n",
       "CUSTOMER_PROFITABILITY       0\n",
       "NO_OF_ASSERT_ACCOUNTS        0\n",
       "NO_OF_LIABILITY_ACCOUNTS     0\n",
       "CR_DR_Usage                  0\n",
       "NPA_FLAG                     0\n",
       "LOAN_CAT1                    0\n",
       "dtype: int64"
      ]
     },
     "execution_count": 7,
     "metadata": {},
     "output_type": "execute_result"
    }
   ],
   "source": [
    "df.isna().sum()"
   ]
  },
  {
   "cell_type": "code",
   "execution_count": 8,
   "id": "4e676f1f",
   "metadata": {},
   "outputs": [
    {
     "data": {
      "text/html": [
       "<div>\n",
       "<style scoped>\n",
       "    .dataframe tbody tr th:only-of-type {\n",
       "        vertical-align: middle;\n",
       "    }\n",
       "\n",
       "    .dataframe tbody tr th {\n",
       "        vertical-align: top;\n",
       "    }\n",
       "\n",
       "    .dataframe thead th {\n",
       "        text-align: right;\n",
       "    }\n",
       "</style>\n",
       "<table border=\"1\" class=\"dataframe\">\n",
       "  <thead>\n",
       "    <tr style=\"text-align: right;\">\n",
       "      <th></th>\n",
       "      <th>SIX_MONTH_BAL_OS_SAVINGS</th>\n",
       "      <th>SIX_MONTH_BAL_OS_CURRENT</th>\n",
       "      <th>SIX_MONTH_BAL_OS_FD</th>\n",
       "      <th>SIX_MONTH_BAL_OS_LEASING</th>\n",
       "      <th>SIX_MONTH_BAL_OS_CARD</th>\n",
       "      <th>SIX_MONTH_BAL_OS_OD</th>\n",
       "      <th>TOTAL_AVG_BAL</th>\n",
       "      <th>FD_AMOUNT_UNDER_LIEN</th>\n",
       "      <th>CURRENT_AMOUNT_UNDER_LIEN</th>\n",
       "      <th>SAVINGS_AMOUNT_UNDER_LIEN</th>\n",
       "      <th>CUSTOMER_PROFITABILITY</th>\n",
       "      <th>NO_OF_ASSERT_ACCOUNTS</th>\n",
       "      <th>NO_OF_LIABILITY_ACCOUNTS</th>\n",
       "      <th>CR_DR_Usage</th>\n",
       "      <th>NPA_FLAG</th>\n",
       "      <th>LOAN_CAT1</th>\n",
       "    </tr>\n",
       "  </thead>\n",
       "  <tbody>\n",
       "    <tr>\n",
       "      <th>0</th>\n",
       "      <td>0.042612</td>\n",
       "      <td>-0.048785</td>\n",
       "      <td>-0.053259</td>\n",
       "      <td>-0.134894</td>\n",
       "      <td>-0.155864</td>\n",
       "      <td>-0.075719</td>\n",
       "      <td>-0.062581</td>\n",
       "      <td>-0.023629</td>\n",
       "      <td>-0.044929</td>\n",
       "      <td>-0.056843</td>\n",
       "      <td>-0.003142</td>\n",
       "      <td>0.397017</td>\n",
       "      <td>1.805905</td>\n",
       "      <td>0.051895</td>\n",
       "      <td>0</td>\n",
       "      <td>3</td>\n",
       "    </tr>\n",
       "    <tr>\n",
       "      <th>1</th>\n",
       "      <td>-0.091396</td>\n",
       "      <td>-0.048785</td>\n",
       "      <td>0.066148</td>\n",
       "      <td>-0.134894</td>\n",
       "      <td>-0.297359</td>\n",
       "      <td>-0.075719</td>\n",
       "      <td>-0.050164</td>\n",
       "      <td>-0.023629</td>\n",
       "      <td>-0.044929</td>\n",
       "      <td>-0.056843</td>\n",
       "      <td>-0.010305</td>\n",
       "      <td>-0.623858</td>\n",
       "      <td>0.600067</td>\n",
       "      <td>-0.067204</td>\n",
       "      <td>0</td>\n",
       "      <td>3</td>\n",
       "    </tr>\n",
       "    <tr>\n",
       "      <th>2</th>\n",
       "      <td>-0.076329</td>\n",
       "      <td>-0.048785</td>\n",
       "      <td>0.031772</td>\n",
       "      <td>-0.134894</td>\n",
       "      <td>1.262271</td>\n",
       "      <td>-0.059430</td>\n",
       "      <td>-0.065534</td>\n",
       "      <td>-0.023629</td>\n",
       "      <td>-0.044929</td>\n",
       "      <td>-0.056843</td>\n",
       "      <td>-0.006337</td>\n",
       "      <td>1.417891</td>\n",
       "      <td>1.805905</td>\n",
       "      <td>-0.023470</td>\n",
       "      <td>0</td>\n",
       "      <td>0</td>\n",
       "    </tr>\n",
       "    <tr>\n",
       "      <th>3</th>\n",
       "      <td>-0.101346</td>\n",
       "      <td>-0.048785</td>\n",
       "      <td>0.308069</td>\n",
       "      <td>-0.134894</td>\n",
       "      <td>-0.297359</td>\n",
       "      <td>-0.075719</td>\n",
       "      <td>-0.010893</td>\n",
       "      <td>-0.023629</td>\n",
       "      <td>-0.044929</td>\n",
       "      <td>-0.056843</td>\n",
       "      <td>0.017446</td>\n",
       "      <td>-0.623858</td>\n",
       "      <td>0.198120</td>\n",
       "      <td>-0.067204</td>\n",
       "      <td>0</td>\n",
       "      <td>3</td>\n",
       "    </tr>\n",
       "    <tr>\n",
       "      <th>4</th>\n",
       "      <td>-0.013879</td>\n",
       "      <td>-0.048785</td>\n",
       "      <td>-0.071656</td>\n",
       "      <td>-0.134894</td>\n",
       "      <td>-0.297359</td>\n",
       "      <td>-0.075719</td>\n",
       "      <td>-0.053618</td>\n",
       "      <td>-0.023629</td>\n",
       "      <td>-0.044929</td>\n",
       "      <td>-0.056843</td>\n",
       "      <td>-0.004448</td>\n",
       "      <td>-0.623858</td>\n",
       "      <td>-0.203826</td>\n",
       "      <td>-0.067204</td>\n",
       "      <td>1</td>\n",
       "      <td>4</td>\n",
       "    </tr>\n",
       "  </tbody>\n",
       "</table>\n",
       "</div>"
      ],
      "text/plain": [
       "   SIX_MONTH_BAL_OS_SAVINGS  SIX_MONTH_BAL_OS_CURRENT  SIX_MONTH_BAL_OS_FD  \\\n",
       "0                  0.042612                 -0.048785            -0.053259   \n",
       "1                 -0.091396                 -0.048785             0.066148   \n",
       "2                 -0.076329                 -0.048785             0.031772   \n",
       "3                 -0.101346                 -0.048785             0.308069   \n",
       "4                 -0.013879                 -0.048785            -0.071656   \n",
       "\n",
       "   SIX_MONTH_BAL_OS_LEASING  SIX_MONTH_BAL_OS_CARD  SIX_MONTH_BAL_OS_OD  \\\n",
       "0                 -0.134894              -0.155864            -0.075719   \n",
       "1                 -0.134894              -0.297359            -0.075719   \n",
       "2                 -0.134894               1.262271            -0.059430   \n",
       "3                 -0.134894              -0.297359            -0.075719   \n",
       "4                 -0.134894              -0.297359            -0.075719   \n",
       "\n",
       "   TOTAL_AVG_BAL  FD_AMOUNT_UNDER_LIEN  CURRENT_AMOUNT_UNDER_LIEN  \\\n",
       "0      -0.062581             -0.023629                  -0.044929   \n",
       "1      -0.050164             -0.023629                  -0.044929   \n",
       "2      -0.065534             -0.023629                  -0.044929   \n",
       "3      -0.010893             -0.023629                  -0.044929   \n",
       "4      -0.053618             -0.023629                  -0.044929   \n",
       "\n",
       "   SAVINGS_AMOUNT_UNDER_LIEN  CUSTOMER_PROFITABILITY  NO_OF_ASSERT_ACCOUNTS  \\\n",
       "0                  -0.056843               -0.003142               0.397017   \n",
       "1                  -0.056843               -0.010305              -0.623858   \n",
       "2                  -0.056843               -0.006337               1.417891   \n",
       "3                  -0.056843                0.017446              -0.623858   \n",
       "4                  -0.056843               -0.004448              -0.623858   \n",
       "\n",
       "   NO_OF_LIABILITY_ACCOUNTS  CR_DR_Usage  NPA_FLAG  LOAN_CAT1  \n",
       "0                  1.805905     0.051895         0          3  \n",
       "1                  0.600067    -0.067204         0          3  \n",
       "2                  1.805905    -0.023470         0          0  \n",
       "3                  0.198120    -0.067204         0          3  \n",
       "4                 -0.203826    -0.067204         1          4  "
      ]
     },
     "execution_count": 8,
     "metadata": {},
     "output_type": "execute_result"
    }
   ],
   "source": [
    "df.head()"
   ]
  },
  {
   "cell_type": "code",
   "execution_count": 9,
   "id": "da49d534",
   "metadata": {},
   "outputs": [],
   "source": [
    "df1=df[[\"TOTAL_AVG_BAL\",\"CUSTOMER_PROFITABILITY\",\"SIX_MONTH_BAL_OS_SAVINGS\",\"SIX_MONTH_BAL_OS_FD\",\"CR_DR_Usage\"\n",
    "        ,\"NO_OF_LIABILITY_ACCOUNTS\",\"LOAN_CAT1\"]]"
   ]
  },
  {
   "cell_type": "code",
   "execution_count": 10,
   "id": "3fdafb34",
   "metadata": {},
   "outputs": [
    {
     "data": {
      "text/html": [
       "<div>\n",
       "<style scoped>\n",
       "    .dataframe tbody tr th:only-of-type {\n",
       "        vertical-align: middle;\n",
       "    }\n",
       "\n",
       "    .dataframe tbody tr th {\n",
       "        vertical-align: top;\n",
       "    }\n",
       "\n",
       "    .dataframe thead th {\n",
       "        text-align: right;\n",
       "    }\n",
       "</style>\n",
       "<table border=\"1\" class=\"dataframe\">\n",
       "  <thead>\n",
       "    <tr style=\"text-align: right;\">\n",
       "      <th></th>\n",
       "      <th>TOTAL_AVG_BAL</th>\n",
       "      <th>CUSTOMER_PROFITABILITY</th>\n",
       "      <th>SIX_MONTH_BAL_OS_SAVINGS</th>\n",
       "      <th>SIX_MONTH_BAL_OS_FD</th>\n",
       "      <th>CR_DR_Usage</th>\n",
       "      <th>NO_OF_LIABILITY_ACCOUNTS</th>\n",
       "      <th>LOAN_CAT1</th>\n",
       "    </tr>\n",
       "  </thead>\n",
       "  <tbody>\n",
       "    <tr>\n",
       "      <th>0</th>\n",
       "      <td>-0.062581</td>\n",
       "      <td>-0.003142</td>\n",
       "      <td>0.042612</td>\n",
       "      <td>-0.053259</td>\n",
       "      <td>0.051895</td>\n",
       "      <td>1.805905</td>\n",
       "      <td>3</td>\n",
       "    </tr>\n",
       "    <tr>\n",
       "      <th>1</th>\n",
       "      <td>-0.050164</td>\n",
       "      <td>-0.010305</td>\n",
       "      <td>-0.091396</td>\n",
       "      <td>0.066148</td>\n",
       "      <td>-0.067204</td>\n",
       "      <td>0.600067</td>\n",
       "      <td>3</td>\n",
       "    </tr>\n",
       "    <tr>\n",
       "      <th>2</th>\n",
       "      <td>-0.065534</td>\n",
       "      <td>-0.006337</td>\n",
       "      <td>-0.076329</td>\n",
       "      <td>0.031772</td>\n",
       "      <td>-0.023470</td>\n",
       "      <td>1.805905</td>\n",
       "      <td>0</td>\n",
       "    </tr>\n",
       "    <tr>\n",
       "      <th>3</th>\n",
       "      <td>-0.010893</td>\n",
       "      <td>0.017446</td>\n",
       "      <td>-0.101346</td>\n",
       "      <td>0.308069</td>\n",
       "      <td>-0.067204</td>\n",
       "      <td>0.198120</td>\n",
       "      <td>3</td>\n",
       "    </tr>\n",
       "    <tr>\n",
       "      <th>4</th>\n",
       "      <td>-0.053618</td>\n",
       "      <td>-0.004448</td>\n",
       "      <td>-0.013879</td>\n",
       "      <td>-0.071656</td>\n",
       "      <td>-0.067204</td>\n",
       "      <td>-0.203826</td>\n",
       "      <td>4</td>\n",
       "    </tr>\n",
       "  </tbody>\n",
       "</table>\n",
       "</div>"
      ],
      "text/plain": [
       "   TOTAL_AVG_BAL  CUSTOMER_PROFITABILITY  SIX_MONTH_BAL_OS_SAVINGS  \\\n",
       "0      -0.062581               -0.003142                  0.042612   \n",
       "1      -0.050164               -0.010305                 -0.091396   \n",
       "2      -0.065534               -0.006337                 -0.076329   \n",
       "3      -0.010893                0.017446                 -0.101346   \n",
       "4      -0.053618               -0.004448                 -0.013879   \n",
       "\n",
       "   SIX_MONTH_BAL_OS_FD  CR_DR_Usage  NO_OF_LIABILITY_ACCOUNTS  LOAN_CAT1  \n",
       "0            -0.053259     0.051895                  1.805905          3  \n",
       "1             0.066148    -0.067204                  0.600067          3  \n",
       "2             0.031772    -0.023470                  1.805905          0  \n",
       "3             0.308069    -0.067204                  0.198120          3  \n",
       "4            -0.071656    -0.067204                 -0.203826          4  "
      ]
     },
     "execution_count": 10,
     "metadata": {},
     "output_type": "execute_result"
    }
   ],
   "source": [
    "df1.head()"
   ]
  },
  {
   "cell_type": "code",
   "execution_count": null,
   "id": "0037e2f7",
   "metadata": {},
   "outputs": [],
   "source": []
  },
  {
   "cell_type": "code",
   "execution_count": 11,
   "id": "82a2d1d5",
   "metadata": {},
   "outputs": [
    {
     "data": {
      "text/plain": [
       "(11836, 7)"
      ]
     },
     "execution_count": 11,
     "metadata": {},
     "output_type": "execute_result"
    }
   ],
   "source": [
    "df1.shape"
   ]
  },
  {
   "cell_type": "code",
   "execution_count": 12,
   "id": "a81465a9",
   "metadata": {},
   "outputs": [],
   "source": [
    "X = df1.drop(columns=[\"LOAN_CAT1\"])\n",
    "Y = df1[\"LOAN_CAT1\"]"
   ]
  },
  {
   "cell_type": "code",
   "execution_count": 13,
   "id": "82628549",
   "metadata": {},
   "outputs": [],
   "source": [
    "from sklearn.model_selection import train_test_split\n",
    "from sklearn.metrics import accuracy_score,precision_score,recall_score, f1_score,  classification_report, confusion_matrix\n",
    "from sklearn.model_selection import GridSearchCV"
   ]
  },
  {
   "cell_type": "code",
   "execution_count": 14,
   "id": "152685b4",
   "metadata": {},
   "outputs": [],
   "source": [
    "X_train,X_test,y_train,y_test = train_test_split(X,Y,test_size=0.3,random_state=0)"
   ]
  },
  {
   "cell_type": "code",
   "execution_count": 15,
   "id": "2d828adf",
   "metadata": {},
   "outputs": [
    {
     "name": "stdout",
     "output_type": "stream",
     "text": [
      "Dataset after resampling:\n",
      "[(0, 3221), (1, 3221), (2, 3221), (3, 3221), (4, 3221), (5, 3221)]\n"
     ]
    }
   ],
   "source": [
    "from imblearn.over_sampling import SMOTE\n",
    "from imblearn.over_sampling import SMOTENC\n",
    "from collections import Counter\n",
    "sm = SMOTE()\n",
    "X_sm, Y_sm=sm.fit_resample(X_train,y_train)\n",
    "print('Dataset after resampling:')\n",
    "print(sorted(Counter(Y_sm).items()))"
   ]
  },
  {
   "cell_type": "code",
   "execution_count": 16,
   "id": "708459c8",
   "metadata": {},
   "outputs": [],
   "source": [
    "\n",
    "from sklearn.ensemble import RandomForestClassifier"
   ]
  },
  {
   "cell_type": "code",
   "execution_count": 17,
   "id": "a7f54eff",
   "metadata": {},
   "outputs": [],
   "source": [
    "from sklearn.model_selection import GridSearchCV\n",
    "from sklearn.model_selection import RandomizedSearchCV"
   ]
  },
  {
   "cell_type": "code",
   "execution_count": 18,
   "id": "2a3b1ac2",
   "metadata": {},
   "outputs": [],
   "source": [
    "random_forest = RandomForestClassifier(criterion='gini',random_state=42)\n",
    "random_forest.fit(X_sm, Y_sm)\n",
    "y_pred_random_forest = random_forest.predict(X_test)"
   ]
  },
  {
   "cell_type": "code",
   "execution_count": 19,
   "id": "eaee02e0",
   "metadata": {},
   "outputs": [
    {
     "name": "stdout",
     "output_type": "stream",
     "text": [
      "Accuracy Score: 0.65361869895804\n",
      "Precision (Macro): 0.5755755039800202\n",
      "Recall (Macro): 0.6212578459489014\n",
      "F1 Score (Macro): 0.5875920007065857\n",
      "Confusion Matrix:\n",
      "[[ 34  28   8   1   0   2]\n",
      " [ 95 532 141  70   8   1]\n",
      " [ 19 132 298 109  11   6]\n",
      " [ 19  45 157 939 137  30]\n",
      " [  1   0   4  77 207  49]\n",
      " [  1   0   2  15  62 311]]\n",
      "\n",
      "Classification Report:\n",
      "               precision    recall  f1-score   support\n",
      "\n",
      "           0       0.20      0.47      0.28        73\n",
      "           1       0.72      0.63      0.67       847\n",
      "           2       0.49      0.52      0.50       575\n",
      "           3       0.78      0.71      0.74      1327\n",
      "           4       0.49      0.61      0.54       338\n",
      "           5       0.78      0.80      0.79       391\n",
      "\n",
      "    accuracy                           0.65      3551\n",
      "   macro avg       0.58      0.62      0.59      3551\n",
      "weighted avg       0.68      0.65      0.66      3551\n",
      "\n"
     ]
    }
   ],
   "source": [
    "acc = accuracy_score(y_test, y_pred_random_forest)\n",
    "prec_macro = precision_score(y_test,y_pred_random_forest, average='macro')\n",
    "recall_macro = recall_score(y_test, y_pred_random_forest, average='macro')\n",
    "f1_macro = f1_score(y_test,y_pred_random_forest, average='macro')\n",
    "classification_rep_RF = classification_report(y_test,y_pred_random_forest)\n",
    "print(\"Accuracy Score:\", acc)\n",
    "print(\"Precision (Macro):\", prec_macro)\n",
    "print(\"Recall (Macro):\", recall_macro)\n",
    "print(\"F1 Score (Macro):\", f1_macro)\n",
    "\n",
    "# Confusion Matrix\n",
    "cf_matrix_RF = confusion_matrix(y_test, y_pred_random_forest)\n",
    "print(\"Confusion Matrix:\")\n",
    "print(cf_matrix_RF)\n",
    "print(\"\\nClassification Report:\\n\", classification_rep_RF)"
   ]
  },
  {
   "cell_type": "code",
   "execution_count": 20,
   "id": "5da24b33",
   "metadata": {},
   "outputs": [
    {
     "name": "stdout",
     "output_type": "stream",
     "text": [
      "Accuracy Score: 1.0\n",
      "Precision (Macro): 1.0\n",
      "Recall (Macro): 1.0\n",
      "F1 Score (Macro): 1.0\n",
      "Confusion Matrix:\n",
      "[[3221    0    0    0    0    0]\n",
      " [   0 3221    0    0    0    0]\n",
      " [   0    0 3221    0    0    0]\n",
      " [   0    0    0 3221    0    0]\n",
      " [   0    0    0    0 3221    0]\n",
      " [   0    0    0    0    0 3221]]\n",
      "\n",
      "Classification Report:\n",
      "               precision    recall  f1-score   support\n",
      "\n",
      "           0       1.00      1.00      1.00      3221\n",
      "           1       1.00      1.00      1.00      3221\n",
      "           2       1.00      1.00      1.00      3221\n",
      "           3       1.00      1.00      1.00      3221\n",
      "           4       1.00      1.00      1.00      3221\n",
      "           5       1.00      1.00      1.00      3221\n",
      "\n",
      "    accuracy                           1.00     19326\n",
      "   macro avg       1.00      1.00      1.00     19326\n",
      "weighted avg       1.00      1.00      1.00     19326\n",
      "\n"
     ]
    }
   ],
   "source": [
    "y_pred_train_RF = random_forest.predict(X_sm)\n",
    "acc = accuracy_score(Y_sm, y_pred_train_RF )\n",
    "prec_macro = precision_score(Y_sm,y_pred_train_RF , average='macro')\n",
    "recall_macro = recall_score(Y_sm, y_pred_train_RF, average='macro')\n",
    "f1_macro = f1_score(Y_sm, y_pred_train_RF , average='macro')\n",
    "classification_rep_RF_train = classification_report(Y_sm,y_pred_train_RF )\n",
    "print(\"Accuracy Score:\", acc)\n",
    "print(\"Precision (Macro):\", prec_macro)\n",
    "print(\"Recall (Macro):\", recall_macro)\n",
    "print(\"F1 Score (Macro):\", f1_macro)\n",
    "\n",
    "# Confusion Matrix\n",
    "cf_matrix_RF_train = confusion_matrix(Y_sm, y_pred_train_RF)\n",
    "print(\"Confusion Matrix:\")\n",
    "print(cf_matrix_RF_train)\n",
    "print(\"\\nClassification Report:\\n\", classification_rep_RF_train)"
   ]
  },
  {
   "cell_type": "code",
   "execution_count": null,
   "id": "7a677f36",
   "metadata": {},
   "outputs": [],
   "source": []
  },
  {
   "cell_type": "code",
   "execution_count": null,
   "id": "bae3654d",
   "metadata": {},
   "outputs": [],
   "source": []
  },
  {
   "cell_type": "code",
   "execution_count": 21,
   "id": "2b819fe5",
   "metadata": {},
   "outputs": [],
   "source": [
    "### After tuning "
   ]
  },
  {
   "cell_type": "code",
   "execution_count": 22,
   "id": "f1788d02",
   "metadata": {},
   "outputs": [],
   "source": [
    "##### Tuning -Random search CV"
   ]
  },
  {
   "cell_type": "code",
   "execution_count": 23,
   "id": "fe274faf",
   "metadata": {},
   "outputs": [],
   "source": [
    "\n",
    "# Number of trees in random forest\n",
    "n_estimators = [int(x) for x in np.linspace(start = 200, stop = 2000, num = 10)]\n",
    "# Number of features to consider at every split\n",
    "max_features = ['auto', 'sqrt']\n",
    "# Maximum number of levels in tree\n",
    "max_depth = [int(x) for x in np.linspace(10, 110, num = 11)]\n",
    "max_depth.append(None)\n",
    "# Minimum number of samples required to split a node\n",
    "min_samples_split = [2, 5, 10]\n",
    "# Minimum number of samples required at each leaf node\n",
    "min_samples_leaf = [1, 2, 4]\n",
    "\n",
    "# Create the random grid\n",
    "random_grid = {'n_estimators': n_estimators,\n",
    "               'max_features': max_features,\n",
    "               'max_depth': max_depth,\n",
    "               'min_samples_split': min_samples_split,\n",
    "               'min_samples_leaf': min_samples_leaf,\n",
    "              }"
   ]
  },
  {
   "cell_type": "code",
   "execution_count": null,
   "id": "6fa6d907",
   "metadata": {},
   "outputs": [],
   "source": []
  },
  {
   "cell_type": "code",
   "execution_count": 24,
   "id": "64cd1586",
   "metadata": {},
   "outputs": [
    {
     "name": "stdout",
     "output_type": "stream",
     "text": [
      "Fitting 3 folds for each of 100 candidates, totalling 300 fits\n"
     ]
    },
    {
     "name": "stderr",
     "output_type": "stream",
     "text": [
      "C:\\ProgramData\\anaconda3\\Lib\\site-packages\\sklearn\\ensemble\\_forest.py:424: FutureWarning: `max_features='auto'` has been deprecated in 1.1 and will be removed in 1.3. To keep the past behaviour, explicitly set `max_features='sqrt'` or remove this parameter as it is also the default value for RandomForestClassifiers and ExtraTreesClassifiers.\n",
      "  warn(\n"
     ]
    },
    {
     "data": {
      "text/html": [
       "<style>#sk-container-id-1 {color: black;background-color: white;}#sk-container-id-1 pre{padding: 0;}#sk-container-id-1 div.sk-toggleable {background-color: white;}#sk-container-id-1 label.sk-toggleable__label {cursor: pointer;display: block;width: 100%;margin-bottom: 0;padding: 0.3em;box-sizing: border-box;text-align: center;}#sk-container-id-1 label.sk-toggleable__label-arrow:before {content: \"▸\";float: left;margin-right: 0.25em;color: #696969;}#sk-container-id-1 label.sk-toggleable__label-arrow:hover:before {color: black;}#sk-container-id-1 div.sk-estimator:hover label.sk-toggleable__label-arrow:before {color: black;}#sk-container-id-1 div.sk-toggleable__content {max-height: 0;max-width: 0;overflow: hidden;text-align: left;background-color: #f0f8ff;}#sk-container-id-1 div.sk-toggleable__content pre {margin: 0.2em;color: black;border-radius: 0.25em;background-color: #f0f8ff;}#sk-container-id-1 input.sk-toggleable__control:checked~div.sk-toggleable__content {max-height: 200px;max-width: 100%;overflow: auto;}#sk-container-id-1 input.sk-toggleable__control:checked~label.sk-toggleable__label-arrow:before {content: \"▾\";}#sk-container-id-1 div.sk-estimator input.sk-toggleable__control:checked~label.sk-toggleable__label {background-color: #d4ebff;}#sk-container-id-1 div.sk-label input.sk-toggleable__control:checked~label.sk-toggleable__label {background-color: #d4ebff;}#sk-container-id-1 input.sk-hidden--visually {border: 0;clip: rect(1px 1px 1px 1px);clip: rect(1px, 1px, 1px, 1px);height: 1px;margin: -1px;overflow: hidden;padding: 0;position: absolute;width: 1px;}#sk-container-id-1 div.sk-estimator {font-family: monospace;background-color: #f0f8ff;border: 1px dotted black;border-radius: 0.25em;box-sizing: border-box;margin-bottom: 0.5em;}#sk-container-id-1 div.sk-estimator:hover {background-color: #d4ebff;}#sk-container-id-1 div.sk-parallel-item::after {content: \"\";width: 100%;border-bottom: 1px solid gray;flex-grow: 1;}#sk-container-id-1 div.sk-label:hover label.sk-toggleable__label {background-color: #d4ebff;}#sk-container-id-1 div.sk-serial::before {content: \"\";position: absolute;border-left: 1px solid gray;box-sizing: border-box;top: 0;bottom: 0;left: 50%;z-index: 0;}#sk-container-id-1 div.sk-serial {display: flex;flex-direction: column;align-items: center;background-color: white;padding-right: 0.2em;padding-left: 0.2em;position: relative;}#sk-container-id-1 div.sk-item {position: relative;z-index: 1;}#sk-container-id-1 div.sk-parallel {display: flex;align-items: stretch;justify-content: center;background-color: white;position: relative;}#sk-container-id-1 div.sk-item::before, #sk-container-id-1 div.sk-parallel-item::before {content: \"\";position: absolute;border-left: 1px solid gray;box-sizing: border-box;top: 0;bottom: 0;left: 50%;z-index: -1;}#sk-container-id-1 div.sk-parallel-item {display: flex;flex-direction: column;z-index: 1;position: relative;background-color: white;}#sk-container-id-1 div.sk-parallel-item:first-child::after {align-self: flex-end;width: 50%;}#sk-container-id-1 div.sk-parallel-item:last-child::after {align-self: flex-start;width: 50%;}#sk-container-id-1 div.sk-parallel-item:only-child::after {width: 0;}#sk-container-id-1 div.sk-dashed-wrapped {border: 1px dashed gray;margin: 0 0.4em 0.5em 0.4em;box-sizing: border-box;padding-bottom: 0.4em;background-color: white;}#sk-container-id-1 div.sk-label label {font-family: monospace;font-weight: bold;display: inline-block;line-height: 1.2em;}#sk-container-id-1 div.sk-label-container {text-align: center;}#sk-container-id-1 div.sk-container {/* jupyter's `normalize.less` sets `[hidden] { display: none; }` but bootstrap.min.css set `[hidden] { display: none !important; }` so we also need the `!important` here to be able to override the default hidden behavior on the sphinx rendered scikit-learn.org. See: https://github.com/scikit-learn/scikit-learn/issues/21755 */display: inline-block !important;position: relative;}#sk-container-id-1 div.sk-text-repr-fallback {display: none;}</style><div id=\"sk-container-id-1\" class=\"sk-top-container\"><div class=\"sk-text-repr-fallback\"><pre>RandomizedSearchCV(cv=3, estimator=RandomForestClassifier(), n_iter=100,\n",
       "                   n_jobs=-1,\n",
       "                   param_distributions={&#x27;max_depth&#x27;: [10, 20, 30, 40, 50, 60,\n",
       "                                                      70, 80, 90, 100, 110,\n",
       "                                                      None],\n",
       "                                        &#x27;max_features&#x27;: [&#x27;auto&#x27;, &#x27;sqrt&#x27;],\n",
       "                                        &#x27;min_samples_leaf&#x27;: [1, 2, 4],\n",
       "                                        &#x27;min_samples_split&#x27;: [2, 5, 10],\n",
       "                                        &#x27;n_estimators&#x27;: [200, 400, 600, 800,\n",
       "                                                         1000, 1200, 1400, 1600,\n",
       "                                                         1800, 2000]},\n",
       "                   random_state=0, verbose=2)</pre><b>In a Jupyter environment, please rerun this cell to show the HTML representation or trust the notebook. <br />On GitHub, the HTML representation is unable to render, please try loading this page with nbviewer.org.</b></div><div class=\"sk-container\" hidden><div class=\"sk-item sk-dashed-wrapped\"><div class=\"sk-label-container\"><div class=\"sk-label sk-toggleable\"><input class=\"sk-toggleable__control sk-hidden--visually\" id=\"sk-estimator-id-1\" type=\"checkbox\" ><label for=\"sk-estimator-id-1\" class=\"sk-toggleable__label sk-toggleable__label-arrow\">RandomizedSearchCV</label><div class=\"sk-toggleable__content\"><pre>RandomizedSearchCV(cv=3, estimator=RandomForestClassifier(), n_iter=100,\n",
       "                   n_jobs=-1,\n",
       "                   param_distributions={&#x27;max_depth&#x27;: [10, 20, 30, 40, 50, 60,\n",
       "                                                      70, 80, 90, 100, 110,\n",
       "                                                      None],\n",
       "                                        &#x27;max_features&#x27;: [&#x27;auto&#x27;, &#x27;sqrt&#x27;],\n",
       "                                        &#x27;min_samples_leaf&#x27;: [1, 2, 4],\n",
       "                                        &#x27;min_samples_split&#x27;: [2, 5, 10],\n",
       "                                        &#x27;n_estimators&#x27;: [200, 400, 600, 800,\n",
       "                                                         1000, 1200, 1400, 1600,\n",
       "                                                         1800, 2000]},\n",
       "                   random_state=0, verbose=2)</pre></div></div></div><div class=\"sk-parallel\"><div class=\"sk-parallel-item\"><div class=\"sk-item\"><div class=\"sk-label-container\"><div class=\"sk-label sk-toggleable\"><input class=\"sk-toggleable__control sk-hidden--visually\" id=\"sk-estimator-id-2\" type=\"checkbox\" ><label for=\"sk-estimator-id-2\" class=\"sk-toggleable__label sk-toggleable__label-arrow\">estimator: RandomForestClassifier</label><div class=\"sk-toggleable__content\"><pre>RandomForestClassifier()</pre></div></div></div><div class=\"sk-serial\"><div class=\"sk-item\"><div class=\"sk-estimator sk-toggleable\"><input class=\"sk-toggleable__control sk-hidden--visually\" id=\"sk-estimator-id-3\" type=\"checkbox\" ><label for=\"sk-estimator-id-3\" class=\"sk-toggleable__label sk-toggleable__label-arrow\">RandomForestClassifier</label><div class=\"sk-toggleable__content\"><pre>RandomForestClassifier()</pre></div></div></div></div></div></div></div></div></div></div>"
      ],
      "text/plain": [
       "RandomizedSearchCV(cv=3, estimator=RandomForestClassifier(), n_iter=100,\n",
       "                   n_jobs=-1,\n",
       "                   param_distributions={'max_depth': [10, 20, 30, 40, 50, 60,\n",
       "                                                      70, 80, 90, 100, 110,\n",
       "                                                      None],\n",
       "                                        'max_features': ['auto', 'sqrt'],\n",
       "                                        'min_samples_leaf': [1, 2, 4],\n",
       "                                        'min_samples_split': [2, 5, 10],\n",
       "                                        'n_estimators': [200, 400, 600, 800,\n",
       "                                                         1000, 1200, 1400, 1600,\n",
       "                                                         1800, 2000]},\n",
       "                   random_state=0, verbose=2)"
      ]
     },
     "execution_count": 24,
     "metadata": {},
     "output_type": "execute_result"
    }
   ],
   "source": [
    "# Use the random grid to search for best hyperparameters\n",
    "# First create the base model to tune\n",
    "rf = RandomForestClassifier()\n",
    "# Random search of parameters, using 3 fold cross validation, \n",
    "# search across 100 different combinations, and use all a+vailable cores\n",
    "rf_random = RandomizedSearchCV(estimator = rf, param_distributions = random_grid, n_iter = 100, cv = 3, verbose=2, random_state=0, n_jobs = -1)\n",
    "# Fit the random search model\n",
    "rf_random.fit(X_sm, Y_sm)"
   ]
  },
  {
   "cell_type": "code",
   "execution_count": 25,
   "id": "0d141202",
   "metadata": {},
   "outputs": [
    {
     "data": {
      "text/plain": [
       "{'n_estimators': 400,\n",
       " 'min_samples_split': 2,\n",
       " 'min_samples_leaf': 1,\n",
       " 'max_features': 'auto',\n",
       " 'max_depth': 80}"
      ]
     },
     "execution_count": 25,
     "metadata": {},
     "output_type": "execute_result"
    }
   ],
   "source": [
    "rf_random.best_params_"
   ]
  },
  {
   "cell_type": "code",
   "execution_count": 26,
   "id": "d8e0c28c",
   "metadata": {},
   "outputs": [],
   "source": [
    "best_RF_RCV = RandomForestClassifier(n_estimators= 1800,\n",
    " min_samples_split= 2,\n",
    " min_samples_leaf=1,\n",
    " max_features= 'sqrt',\n",
    " max_depth= 80,\n",
    " )\n",
    "best_RF_RCV.fit(X_sm, Y_sm)\n",
    "y_pred_RF_RCV = best_RF_RCV.predict(X_test)"
   ]
  },
  {
   "cell_type": "code",
   "execution_count": 27,
   "id": "3e561e30",
   "metadata": {},
   "outputs": [
    {
     "name": "stdout",
     "output_type": "stream",
     "text": [
      "Accuracy Score: 0.6541819205857505\n",
      "Precision (Macro): 0.5782880333066148\n",
      "Recall (Macro): 0.626815799498144\n",
      "F1 Score (Macro): 0.591421412977432\n",
      "Confusion Matrix:\n",
      "[[ 37  25   7   2   0   2]\n",
      " [ 89 536 144  70   7   1]\n",
      " [ 18 135 291 114  10   7]\n",
      " [ 20  44 155 942 137  29]\n",
      " [  1   0   4  77 207  49]\n",
      " [  1   0   1  17  62 310]]\n",
      "\n",
      "Classification Report:\n",
      "               precision    recall  f1-score   support\n",
      "\n",
      "           0       0.22      0.51      0.31        73\n",
      "           1       0.72      0.63      0.68       847\n",
      "           2       0.48      0.51      0.49       575\n",
      "           3       0.77      0.71      0.74      1327\n",
      "           4       0.49      0.61      0.54       338\n",
      "           5       0.78      0.79      0.79       391\n",
      "\n",
      "    accuracy                           0.65      3551\n",
      "   macro avg       0.58      0.63      0.59      3551\n",
      "weighted avg       0.68      0.65      0.66      3551\n",
      "\n"
     ]
    }
   ],
   "source": [
    "acc = accuracy_score(y_test, y_pred_RF_RCV)\n",
    "prec_macro = precision_score(y_test,y_pred_RF_RCV, average='macro')\n",
    "recall_macro = recall_score(y_test, y_pred_RF_RCV, average='macro')\n",
    "f1_macro = f1_score(y_test,y_pred_RF_RCV, average='macro')\n",
    "classification_rep_RF_RCV = classification_report(y_test,y_pred_RF_RCV)\n",
    "print(\"Accuracy Score:\", acc)\n",
    "print(\"Precision (Macro):\", prec_macro)\n",
    "print(\"Recall (Macro):\", recall_macro)\n",
    "print(\"F1 Score (Macro):\", f1_macro)\n",
    "\n",
    "# Confusion Matrix\n",
    "cf_matrix_RF_rcv = confusion_matrix(y_test, y_pred_RF_RCV)\n",
    "print(\"Confusion Matrix:\")\n",
    "print(cf_matrix_RF_rcv)\n",
    "print(\"\\nClassification Report:\\n\", classification_rep_RF_RCV)"
   ]
  },
  {
   "cell_type": "code",
   "execution_count": 28,
   "id": "f277f0d5",
   "metadata": {},
   "outputs": [],
   "source": [
    "y_pred_RF_RCV_train = best_RF_RCV.predict(X_sm)"
   ]
  },
  {
   "cell_type": "code",
   "execution_count": 29,
   "id": "e14ab785",
   "metadata": {},
   "outputs": [
    {
     "name": "stdout",
     "output_type": "stream",
     "text": [
      "Accuracy Score: 1.0\n",
      "Precision (Macro): 1.0\n",
      "Recall (Macro): 1.0\n",
      "F1 Score (Macro): 1.0\n",
      "Confusion Matrix:\n",
      "[[3221    0    0    0    0    0]\n",
      " [   0 3221    0    0    0    0]\n",
      " [   0    0 3221    0    0    0]\n",
      " [   0    0    0 3221    0    0]\n",
      " [   0    0    0    0 3221    0]\n",
      " [   0    0    0    0    0 3221]]\n",
      "\n",
      "Classification Report:\n",
      "               precision    recall  f1-score   support\n",
      "\n",
      "           0       1.00      1.00      1.00      3221\n",
      "           1       1.00      1.00      1.00      3221\n",
      "           2       1.00      1.00      1.00      3221\n",
      "           3       1.00      1.00      1.00      3221\n",
      "           4       1.00      1.00      1.00      3221\n",
      "           5       1.00      1.00      1.00      3221\n",
      "\n",
      "    accuracy                           1.00     19326\n",
      "   macro avg       1.00      1.00      1.00     19326\n",
      "weighted avg       1.00      1.00      1.00     19326\n",
      "\n"
     ]
    }
   ],
   "source": [
    "acc = accuracy_score(Y_sm, y_pred_RF_RCV_train)\n",
    "prec_macro = precision_score(Y_sm,y_pred_RF_RCV_train, average='macro')\n",
    "recall_macro = recall_score(Y_sm, y_pred_RF_RCV_train, average='macro')\n",
    "f1_macro = f1_score(Y_sm,y_pred_RF_RCV_train, average='macro')\n",
    "classification_rep_RF_RCV_Train = classification_report(Y_sm,y_pred_RF_RCV_train)\n",
    "print(\"Accuracy Score:\", acc)\n",
    "print(\"Precision (Macro):\", prec_macro)\n",
    "print(\"Recall (Macro):\", recall_macro)\n",
    "print(\"F1 Score (Macro):\", f1_macro)\n",
    "\n",
    "# Confusion Matrix\n",
    "cf_matrix_RF_rcv_train = confusion_matrix(Y_sm, y_pred_RF_RCV_train)\n",
    "print(\"Confusion Matrix:\")\n",
    "print(cf_matrix_RF_rcv_train)\n",
    "print(\"\\nClassification Report:\\n\", classification_rep_RF_RCV_Train)"
   ]
  },
  {
   "cell_type": "code",
   "execution_count": 30,
   "id": "25059f74",
   "metadata": {},
   "outputs": [],
   "source": [
    "### Gridsearch CV"
   ]
  },
  {
   "cell_type": "code",
   "execution_count": null,
   "id": "8f6a1788",
   "metadata": {},
   "outputs": [],
   "source": []
  },
  {
   "cell_type": "code",
   "execution_count": 31,
   "id": "a00f5f7d",
   "metadata": {},
   "outputs": [
    {
     "name": "stdout",
     "output_type": "stream",
     "text": [
      "{'max_depth': [80], 'max_features': ['auto'], 'min_samples_leaf': [1, 3, 5], 'min_samples_split': [0, 1, 2, 3, 4], 'n_estimators': [200, 300, 400, 500, 600]}\n"
     ]
    }
   ],
   "source": [
    "from sklearn.model_selection import GridSearchCV\n",
    "\n",
    "param_grid = {\n",
    "    'max_depth': [rf_random.best_params_['max_depth']],\n",
    "    'max_features': [rf_random.best_params_['max_features']],\n",
    "    'min_samples_leaf': [rf_random.best_params_['min_samples_leaf'], \n",
    "                         rf_random.best_params_['min_samples_leaf']+2, \n",
    "                         rf_random.best_params_['min_samples_leaf'] + 4],\n",
    "    'min_samples_split': [rf_random.best_params_['min_samples_split'] - 2,\n",
    "                          rf_random.best_params_['min_samples_split'] - 1,\n",
    "                          rf_random.best_params_['min_samples_split'], \n",
    "                          rf_random.best_params_['min_samples_split'] +1,\n",
    "                          rf_random.best_params_['min_samples_split'] + 2],\n",
    "    'n_estimators': [rf_random.best_params_['n_estimators'] - 200, rf_random.best_params_['n_estimators'] - 100, \n",
    "                     rf_random.best_params_['n_estimators'], \n",
    "                     rf_random.best_params_['n_estimators'] + 100, rf_random.best_params_['n_estimators'] + 200]\n",
    "}\n",
    "\n",
    "print(param_grid)\n",
    "# Create a based model\n"
   ]
  },
  {
   "cell_type": "code",
   "execution_count": 32,
   "id": "9968d10e",
   "metadata": {},
   "outputs": [
    {
     "name": "stdout",
     "output_type": "stream",
     "text": [
      "Fitting 3 folds for each of 75 candidates, totalling 225 fits\n"
     ]
    },
    {
     "name": "stderr",
     "output_type": "stream",
     "text": [
      "C:\\ProgramData\\anaconda3\\Lib\\site-packages\\sklearn\\model_selection\\_validation.py:378: FitFailedWarning: \n",
      "90 fits failed out of a total of 225.\n",
      "The score on these train-test partitions for these parameters will be set to nan.\n",
      "If these failures are not expected, you can try to debug them by setting error_score='raise'.\n",
      "\n",
      "Below are more details about the failures:\n",
      "--------------------------------------------------------------------------------\n",
      "45 fits failed with the following error:\n",
      "Traceback (most recent call last):\n",
      "  File \"C:\\ProgramData\\anaconda3\\Lib\\site-packages\\sklearn\\model_selection\\_validation.py\", line 686, in _fit_and_score\n",
      "    estimator.fit(X_train, y_train, **fit_params)\n",
      "  File \"C:\\ProgramData\\anaconda3\\Lib\\site-packages\\sklearn\\ensemble\\_forest.py\", line 340, in fit\n",
      "    self._validate_params()\n",
      "  File \"C:\\ProgramData\\anaconda3\\Lib\\site-packages\\sklearn\\base.py\", line 600, in _validate_params\n",
      "    validate_parameter_constraints(\n",
      "  File \"C:\\ProgramData\\anaconda3\\Lib\\site-packages\\sklearn\\utils\\_param_validation.py\", line 97, in validate_parameter_constraints\n",
      "    raise InvalidParameterError(\n",
      "sklearn.utils._param_validation.InvalidParameterError: The 'min_samples_split' parameter of RandomForestClassifier must be an int in the range [2, inf) or a float in the range (0.0, 1.0]. Got 0 instead.\n",
      "\n",
      "--------------------------------------------------------------------------------\n",
      "45 fits failed with the following error:\n",
      "Traceback (most recent call last):\n",
      "  File \"C:\\ProgramData\\anaconda3\\Lib\\site-packages\\sklearn\\model_selection\\_validation.py\", line 686, in _fit_and_score\n",
      "    estimator.fit(X_train, y_train, **fit_params)\n",
      "  File \"C:\\ProgramData\\anaconda3\\Lib\\site-packages\\sklearn\\ensemble\\_forest.py\", line 340, in fit\n",
      "    self._validate_params()\n",
      "  File \"C:\\ProgramData\\anaconda3\\Lib\\site-packages\\sklearn\\base.py\", line 600, in _validate_params\n",
      "    validate_parameter_constraints(\n",
      "  File \"C:\\ProgramData\\anaconda3\\Lib\\site-packages\\sklearn\\utils\\_param_validation.py\", line 97, in validate_parameter_constraints\n",
      "    raise InvalidParameterError(\n",
      "sklearn.utils._param_validation.InvalidParameterError: The 'min_samples_split' parameter of RandomForestClassifier must be an int in the range [2, inf) or a float in the range (0.0, 1.0]. Got 1 instead.\n",
      "\n",
      "  warnings.warn(some_fits_failed_message, FitFailedWarning)\n",
      "C:\\ProgramData\\anaconda3\\Lib\\site-packages\\sklearn\\model_selection\\_search.py:952: UserWarning: One or more of the test scores are non-finite: [       nan        nan        nan        nan        nan        nan\n",
      "        nan        nan        nan        nan 0.82267412 0.82148401\n",
      " 0.82148401 0.82163924 0.82070785 0.8182759  0.81889682 0.819466\n",
      " 0.81796544 0.81951775 0.81749974 0.81734451 0.81646487 0.81651661\n",
      " 0.81677533        nan        nan        nan        nan        nan\n",
      "        nan        nan        nan        nan        nan 0.79685398\n",
      " 0.79644003 0.79618131 0.79809583 0.79840629 0.79716444 0.79763014\n",
      " 0.79882024 0.79778537 0.7983028  0.79763014 0.79814757 0.79654352\n",
      " 0.79763014 0.7974749         nan        nan        nan        nan\n",
      "        nan        nan        nan        nan        nan        nan\n",
      " 0.78143434 0.78112387 0.78102039 0.78096864 0.78184829 0.78096864\n",
      " 0.78179654 0.78045121 0.78200352 0.78096864 0.78117562 0.78164131\n",
      " 0.78070992 0.78179654 0.78195177]\n",
      "  warnings.warn(\n",
      "C:\\ProgramData\\anaconda3\\Lib\\site-packages\\sklearn\\ensemble\\_forest.py:424: FutureWarning: `max_features='auto'` has been deprecated in 1.1 and will be removed in 1.3. To keep the past behaviour, explicitly set `max_features='sqrt'` or remove this parameter as it is also the default value for RandomForestClassifiers and ExtraTreesClassifiers.\n",
      "  warn(\n"
     ]
    },
    {
     "data": {
      "text/html": [
       "<style>#sk-container-id-2 {color: black;background-color: white;}#sk-container-id-2 pre{padding: 0;}#sk-container-id-2 div.sk-toggleable {background-color: white;}#sk-container-id-2 label.sk-toggleable__label {cursor: pointer;display: block;width: 100%;margin-bottom: 0;padding: 0.3em;box-sizing: border-box;text-align: center;}#sk-container-id-2 label.sk-toggleable__label-arrow:before {content: \"▸\";float: left;margin-right: 0.25em;color: #696969;}#sk-container-id-2 label.sk-toggleable__label-arrow:hover:before {color: black;}#sk-container-id-2 div.sk-estimator:hover label.sk-toggleable__label-arrow:before {color: black;}#sk-container-id-2 div.sk-toggleable__content {max-height: 0;max-width: 0;overflow: hidden;text-align: left;background-color: #f0f8ff;}#sk-container-id-2 div.sk-toggleable__content pre {margin: 0.2em;color: black;border-radius: 0.25em;background-color: #f0f8ff;}#sk-container-id-2 input.sk-toggleable__control:checked~div.sk-toggleable__content {max-height: 200px;max-width: 100%;overflow: auto;}#sk-container-id-2 input.sk-toggleable__control:checked~label.sk-toggleable__label-arrow:before {content: \"▾\";}#sk-container-id-2 div.sk-estimator input.sk-toggleable__control:checked~label.sk-toggleable__label {background-color: #d4ebff;}#sk-container-id-2 div.sk-label input.sk-toggleable__control:checked~label.sk-toggleable__label {background-color: #d4ebff;}#sk-container-id-2 input.sk-hidden--visually {border: 0;clip: rect(1px 1px 1px 1px);clip: rect(1px, 1px, 1px, 1px);height: 1px;margin: -1px;overflow: hidden;padding: 0;position: absolute;width: 1px;}#sk-container-id-2 div.sk-estimator {font-family: monospace;background-color: #f0f8ff;border: 1px dotted black;border-radius: 0.25em;box-sizing: border-box;margin-bottom: 0.5em;}#sk-container-id-2 div.sk-estimator:hover {background-color: #d4ebff;}#sk-container-id-2 div.sk-parallel-item::after {content: \"\";width: 100%;border-bottom: 1px solid gray;flex-grow: 1;}#sk-container-id-2 div.sk-label:hover label.sk-toggleable__label {background-color: #d4ebff;}#sk-container-id-2 div.sk-serial::before {content: \"\";position: absolute;border-left: 1px solid gray;box-sizing: border-box;top: 0;bottom: 0;left: 50%;z-index: 0;}#sk-container-id-2 div.sk-serial {display: flex;flex-direction: column;align-items: center;background-color: white;padding-right: 0.2em;padding-left: 0.2em;position: relative;}#sk-container-id-2 div.sk-item {position: relative;z-index: 1;}#sk-container-id-2 div.sk-parallel {display: flex;align-items: stretch;justify-content: center;background-color: white;position: relative;}#sk-container-id-2 div.sk-item::before, #sk-container-id-2 div.sk-parallel-item::before {content: \"\";position: absolute;border-left: 1px solid gray;box-sizing: border-box;top: 0;bottom: 0;left: 50%;z-index: -1;}#sk-container-id-2 div.sk-parallel-item {display: flex;flex-direction: column;z-index: 1;position: relative;background-color: white;}#sk-container-id-2 div.sk-parallel-item:first-child::after {align-self: flex-end;width: 50%;}#sk-container-id-2 div.sk-parallel-item:last-child::after {align-self: flex-start;width: 50%;}#sk-container-id-2 div.sk-parallel-item:only-child::after {width: 0;}#sk-container-id-2 div.sk-dashed-wrapped {border: 1px dashed gray;margin: 0 0.4em 0.5em 0.4em;box-sizing: border-box;padding-bottom: 0.4em;background-color: white;}#sk-container-id-2 div.sk-label label {font-family: monospace;font-weight: bold;display: inline-block;line-height: 1.2em;}#sk-container-id-2 div.sk-label-container {text-align: center;}#sk-container-id-2 div.sk-container {/* jupyter's `normalize.less` sets `[hidden] { display: none; }` but bootstrap.min.css set `[hidden] { display: none !important; }` so we also need the `!important` here to be able to override the default hidden behavior on the sphinx rendered scikit-learn.org. See: https://github.com/scikit-learn/scikit-learn/issues/21755 */display: inline-block !important;position: relative;}#sk-container-id-2 div.sk-text-repr-fallback {display: none;}</style><div id=\"sk-container-id-2\" class=\"sk-top-container\"><div class=\"sk-text-repr-fallback\"><pre>GridSearchCV(cv=3, estimator=RandomForestClassifier(), n_jobs=-1,\n",
       "             param_grid={&#x27;max_depth&#x27;: [80], &#x27;max_features&#x27;: [&#x27;auto&#x27;],\n",
       "                         &#x27;min_samples_leaf&#x27;: [1, 3, 5],\n",
       "                         &#x27;min_samples_split&#x27;: [0, 1, 2, 3, 4],\n",
       "                         &#x27;n_estimators&#x27;: [200, 300, 400, 500, 600]},\n",
       "             verbose=2)</pre><b>In a Jupyter environment, please rerun this cell to show the HTML representation or trust the notebook. <br />On GitHub, the HTML representation is unable to render, please try loading this page with nbviewer.org.</b></div><div class=\"sk-container\" hidden><div class=\"sk-item sk-dashed-wrapped\"><div class=\"sk-label-container\"><div class=\"sk-label sk-toggleable\"><input class=\"sk-toggleable__control sk-hidden--visually\" id=\"sk-estimator-id-4\" type=\"checkbox\" ><label for=\"sk-estimator-id-4\" class=\"sk-toggleable__label sk-toggleable__label-arrow\">GridSearchCV</label><div class=\"sk-toggleable__content\"><pre>GridSearchCV(cv=3, estimator=RandomForestClassifier(), n_jobs=-1,\n",
       "             param_grid={&#x27;max_depth&#x27;: [80], &#x27;max_features&#x27;: [&#x27;auto&#x27;],\n",
       "                         &#x27;min_samples_leaf&#x27;: [1, 3, 5],\n",
       "                         &#x27;min_samples_split&#x27;: [0, 1, 2, 3, 4],\n",
       "                         &#x27;n_estimators&#x27;: [200, 300, 400, 500, 600]},\n",
       "             verbose=2)</pre></div></div></div><div class=\"sk-parallel\"><div class=\"sk-parallel-item\"><div class=\"sk-item\"><div class=\"sk-label-container\"><div class=\"sk-label sk-toggleable\"><input class=\"sk-toggleable__control sk-hidden--visually\" id=\"sk-estimator-id-5\" type=\"checkbox\" ><label for=\"sk-estimator-id-5\" class=\"sk-toggleable__label sk-toggleable__label-arrow\">estimator: RandomForestClassifier</label><div class=\"sk-toggleable__content\"><pre>RandomForestClassifier()</pre></div></div></div><div class=\"sk-serial\"><div class=\"sk-item\"><div class=\"sk-estimator sk-toggleable\"><input class=\"sk-toggleable__control sk-hidden--visually\" id=\"sk-estimator-id-6\" type=\"checkbox\" ><label for=\"sk-estimator-id-6\" class=\"sk-toggleable__label sk-toggleable__label-arrow\">RandomForestClassifier</label><div class=\"sk-toggleable__content\"><pre>RandomForestClassifier()</pre></div></div></div></div></div></div></div></div></div></div>"
      ],
      "text/plain": [
       "GridSearchCV(cv=3, estimator=RandomForestClassifier(), n_jobs=-1,\n",
       "             param_grid={'max_depth': [80], 'max_features': ['auto'],\n",
       "                         'min_samples_leaf': [1, 3, 5],\n",
       "                         'min_samples_split': [0, 1, 2, 3, 4],\n",
       "                         'n_estimators': [200, 300, 400, 500, 600]},\n",
       "             verbose=2)"
      ]
     },
     "execution_count": 32,
     "metadata": {},
     "output_type": "execute_result"
    }
   ],
   "source": [
    "RF = RandomForestClassifier()\n",
    "# Instantiate the grid search model\n",
    "grid_search = GridSearchCV(estimator = RF, param_grid = param_grid, \n",
    "                          cv = 3, n_jobs = -1, verbose = 2)\n",
    "grid_search.fit(X_sm,Y_sm)"
   ]
  },
  {
   "cell_type": "code",
   "execution_count": 33,
   "id": "776b0012",
   "metadata": {},
   "outputs": [
    {
     "data": {
      "text/html": [
       "<style>#sk-container-id-3 {color: black;background-color: white;}#sk-container-id-3 pre{padding: 0;}#sk-container-id-3 div.sk-toggleable {background-color: white;}#sk-container-id-3 label.sk-toggleable__label {cursor: pointer;display: block;width: 100%;margin-bottom: 0;padding: 0.3em;box-sizing: border-box;text-align: center;}#sk-container-id-3 label.sk-toggleable__label-arrow:before {content: \"▸\";float: left;margin-right: 0.25em;color: #696969;}#sk-container-id-3 label.sk-toggleable__label-arrow:hover:before {color: black;}#sk-container-id-3 div.sk-estimator:hover label.sk-toggleable__label-arrow:before {color: black;}#sk-container-id-3 div.sk-toggleable__content {max-height: 0;max-width: 0;overflow: hidden;text-align: left;background-color: #f0f8ff;}#sk-container-id-3 div.sk-toggleable__content pre {margin: 0.2em;color: black;border-radius: 0.25em;background-color: #f0f8ff;}#sk-container-id-3 input.sk-toggleable__control:checked~div.sk-toggleable__content {max-height: 200px;max-width: 100%;overflow: auto;}#sk-container-id-3 input.sk-toggleable__control:checked~label.sk-toggleable__label-arrow:before {content: \"▾\";}#sk-container-id-3 div.sk-estimator input.sk-toggleable__control:checked~label.sk-toggleable__label {background-color: #d4ebff;}#sk-container-id-3 div.sk-label input.sk-toggleable__control:checked~label.sk-toggleable__label {background-color: #d4ebff;}#sk-container-id-3 input.sk-hidden--visually {border: 0;clip: rect(1px 1px 1px 1px);clip: rect(1px, 1px, 1px, 1px);height: 1px;margin: -1px;overflow: hidden;padding: 0;position: absolute;width: 1px;}#sk-container-id-3 div.sk-estimator {font-family: monospace;background-color: #f0f8ff;border: 1px dotted black;border-radius: 0.25em;box-sizing: border-box;margin-bottom: 0.5em;}#sk-container-id-3 div.sk-estimator:hover {background-color: #d4ebff;}#sk-container-id-3 div.sk-parallel-item::after {content: \"\";width: 100%;border-bottom: 1px solid gray;flex-grow: 1;}#sk-container-id-3 div.sk-label:hover label.sk-toggleable__label {background-color: #d4ebff;}#sk-container-id-3 div.sk-serial::before {content: \"\";position: absolute;border-left: 1px solid gray;box-sizing: border-box;top: 0;bottom: 0;left: 50%;z-index: 0;}#sk-container-id-3 div.sk-serial {display: flex;flex-direction: column;align-items: center;background-color: white;padding-right: 0.2em;padding-left: 0.2em;position: relative;}#sk-container-id-3 div.sk-item {position: relative;z-index: 1;}#sk-container-id-3 div.sk-parallel {display: flex;align-items: stretch;justify-content: center;background-color: white;position: relative;}#sk-container-id-3 div.sk-item::before, #sk-container-id-3 div.sk-parallel-item::before {content: \"\";position: absolute;border-left: 1px solid gray;box-sizing: border-box;top: 0;bottom: 0;left: 50%;z-index: -1;}#sk-container-id-3 div.sk-parallel-item {display: flex;flex-direction: column;z-index: 1;position: relative;background-color: white;}#sk-container-id-3 div.sk-parallel-item:first-child::after {align-self: flex-end;width: 50%;}#sk-container-id-3 div.sk-parallel-item:last-child::after {align-self: flex-start;width: 50%;}#sk-container-id-3 div.sk-parallel-item:only-child::after {width: 0;}#sk-container-id-3 div.sk-dashed-wrapped {border: 1px dashed gray;margin: 0 0.4em 0.5em 0.4em;box-sizing: border-box;padding-bottom: 0.4em;background-color: white;}#sk-container-id-3 div.sk-label label {font-family: monospace;font-weight: bold;display: inline-block;line-height: 1.2em;}#sk-container-id-3 div.sk-label-container {text-align: center;}#sk-container-id-3 div.sk-container {/* jupyter's `normalize.less` sets `[hidden] { display: none; }` but bootstrap.min.css set `[hidden] { display: none !important; }` so we also need the `!important` here to be able to override the default hidden behavior on the sphinx rendered scikit-learn.org. See: https://github.com/scikit-learn/scikit-learn/issues/21755 */display: inline-block !important;position: relative;}#sk-container-id-3 div.sk-text-repr-fallback {display: none;}</style><div id=\"sk-container-id-3\" class=\"sk-top-container\"><div class=\"sk-text-repr-fallback\"><pre>RandomForestClassifier(max_depth=80, max_features=&#x27;auto&#x27;, n_estimators=200)</pre><b>In a Jupyter environment, please rerun this cell to show the HTML representation or trust the notebook. <br />On GitHub, the HTML representation is unable to render, please try loading this page with nbviewer.org.</b></div><div class=\"sk-container\" hidden><div class=\"sk-item\"><div class=\"sk-estimator sk-toggleable\"><input class=\"sk-toggleable__control sk-hidden--visually\" id=\"sk-estimator-id-7\" type=\"checkbox\" checked><label for=\"sk-estimator-id-7\" class=\"sk-toggleable__label sk-toggleable__label-arrow\">RandomForestClassifier</label><div class=\"sk-toggleable__content\"><pre>RandomForestClassifier(max_depth=80, max_features=&#x27;auto&#x27;, n_estimators=200)</pre></div></div></div></div></div>"
      ],
      "text/plain": [
       "RandomForestClassifier(max_depth=80, max_features='auto', n_estimators=200)"
      ]
     },
     "execution_count": 33,
     "metadata": {},
     "output_type": "execute_result"
    }
   ],
   "source": [
    "grid_search.best_estimator_"
   ]
  },
  {
   "cell_type": "code",
   "execution_count": 34,
   "id": "8195be2f",
   "metadata": {},
   "outputs": [
    {
     "data": {
      "text/html": [
       "<style>#sk-container-id-4 {color: black;background-color: white;}#sk-container-id-4 pre{padding: 0;}#sk-container-id-4 div.sk-toggleable {background-color: white;}#sk-container-id-4 label.sk-toggleable__label {cursor: pointer;display: block;width: 100%;margin-bottom: 0;padding: 0.3em;box-sizing: border-box;text-align: center;}#sk-container-id-4 label.sk-toggleable__label-arrow:before {content: \"▸\";float: left;margin-right: 0.25em;color: #696969;}#sk-container-id-4 label.sk-toggleable__label-arrow:hover:before {color: black;}#sk-container-id-4 div.sk-estimator:hover label.sk-toggleable__label-arrow:before {color: black;}#sk-container-id-4 div.sk-toggleable__content {max-height: 0;max-width: 0;overflow: hidden;text-align: left;background-color: #f0f8ff;}#sk-container-id-4 div.sk-toggleable__content pre {margin: 0.2em;color: black;border-radius: 0.25em;background-color: #f0f8ff;}#sk-container-id-4 input.sk-toggleable__control:checked~div.sk-toggleable__content {max-height: 200px;max-width: 100%;overflow: auto;}#sk-container-id-4 input.sk-toggleable__control:checked~label.sk-toggleable__label-arrow:before {content: \"▾\";}#sk-container-id-4 div.sk-estimator input.sk-toggleable__control:checked~label.sk-toggleable__label {background-color: #d4ebff;}#sk-container-id-4 div.sk-label input.sk-toggleable__control:checked~label.sk-toggleable__label {background-color: #d4ebff;}#sk-container-id-4 input.sk-hidden--visually {border: 0;clip: rect(1px 1px 1px 1px);clip: rect(1px, 1px, 1px, 1px);height: 1px;margin: -1px;overflow: hidden;padding: 0;position: absolute;width: 1px;}#sk-container-id-4 div.sk-estimator {font-family: monospace;background-color: #f0f8ff;border: 1px dotted black;border-radius: 0.25em;box-sizing: border-box;margin-bottom: 0.5em;}#sk-container-id-4 div.sk-estimator:hover {background-color: #d4ebff;}#sk-container-id-4 div.sk-parallel-item::after {content: \"\";width: 100%;border-bottom: 1px solid gray;flex-grow: 1;}#sk-container-id-4 div.sk-label:hover label.sk-toggleable__label {background-color: #d4ebff;}#sk-container-id-4 div.sk-serial::before {content: \"\";position: absolute;border-left: 1px solid gray;box-sizing: border-box;top: 0;bottom: 0;left: 50%;z-index: 0;}#sk-container-id-4 div.sk-serial {display: flex;flex-direction: column;align-items: center;background-color: white;padding-right: 0.2em;padding-left: 0.2em;position: relative;}#sk-container-id-4 div.sk-item {position: relative;z-index: 1;}#sk-container-id-4 div.sk-parallel {display: flex;align-items: stretch;justify-content: center;background-color: white;position: relative;}#sk-container-id-4 div.sk-item::before, #sk-container-id-4 div.sk-parallel-item::before {content: \"\";position: absolute;border-left: 1px solid gray;box-sizing: border-box;top: 0;bottom: 0;left: 50%;z-index: -1;}#sk-container-id-4 div.sk-parallel-item {display: flex;flex-direction: column;z-index: 1;position: relative;background-color: white;}#sk-container-id-4 div.sk-parallel-item:first-child::after {align-self: flex-end;width: 50%;}#sk-container-id-4 div.sk-parallel-item:last-child::after {align-self: flex-start;width: 50%;}#sk-container-id-4 div.sk-parallel-item:only-child::after {width: 0;}#sk-container-id-4 div.sk-dashed-wrapped {border: 1px dashed gray;margin: 0 0.4em 0.5em 0.4em;box-sizing: border-box;padding-bottom: 0.4em;background-color: white;}#sk-container-id-4 div.sk-label label {font-family: monospace;font-weight: bold;display: inline-block;line-height: 1.2em;}#sk-container-id-4 div.sk-label-container {text-align: center;}#sk-container-id-4 div.sk-container {/* jupyter's `normalize.less` sets `[hidden] { display: none; }` but bootstrap.min.css set `[hidden] { display: none !important; }` so we also need the `!important` here to be able to override the default hidden behavior on the sphinx rendered scikit-learn.org. See: https://github.com/scikit-learn/scikit-learn/issues/21755 */display: inline-block !important;position: relative;}#sk-container-id-4 div.sk-text-repr-fallback {display: none;}</style><div id=\"sk-container-id-4\" class=\"sk-top-container\"><div class=\"sk-text-repr-fallback\"><pre>RandomForestClassifier(max_depth=80, min_samples_split=4, n_estimators=2000)</pre><b>In a Jupyter environment, please rerun this cell to show the HTML representation or trust the notebook. <br />On GitHub, the HTML representation is unable to render, please try loading this page with nbviewer.org.</b></div><div class=\"sk-container\" hidden><div class=\"sk-item\"><div class=\"sk-estimator sk-toggleable\"><input class=\"sk-toggleable__control sk-hidden--visually\" id=\"sk-estimator-id-8\" type=\"checkbox\" checked><label for=\"sk-estimator-id-8\" class=\"sk-toggleable__label sk-toggleable__label-arrow\">RandomForestClassifier</label><div class=\"sk-toggleable__content\"><pre>RandomForestClassifier(max_depth=80, min_samples_split=4, n_estimators=2000)</pre></div></div></div></div></div>"
      ],
      "text/plain": [
       "RandomForestClassifier(max_depth=80, min_samples_split=4, n_estimators=2000)"
      ]
     },
     "execution_count": 34,
     "metadata": {},
     "output_type": "execute_result"
    }
   ],
   "source": [
    "best_RF_GCV=RandomForestClassifier(max_depth=80, min_samples_split=4, n_estimators=2000)\n",
    "best_RF_GCV.fit(X_sm,Y_sm)"
   ]
  },
  {
   "cell_type": "code",
   "execution_count": 35,
   "id": "d0a5e071",
   "metadata": {},
   "outputs": [],
   "source": [
    "y_pred_RF_GCV = best_RF_GCV.predict(X_test)"
   ]
  },
  {
   "cell_type": "code",
   "execution_count": 36,
   "id": "57d73daf",
   "metadata": {},
   "outputs": [
    {
     "name": "stdout",
     "output_type": "stream",
     "text": [
      "Accuracy Score: 0.6567164179104478\n",
      "Precision (Macro): 0.5818384162097757\n",
      "Recall (Macro): 0.630245024882406\n",
      "F1 Score (Macro): 0.5948706655994768\n",
      "Confusion Matrix:\n",
      "[[ 37  25   7   2   0   2]\n",
      " [ 87 539 144  70   7   0]\n",
      " [ 19 132 298 110   9   7]\n",
      " [ 19  45 157 939 138  29]\n",
      " [  1   0   3  75 212  47]\n",
      " [  1   0   2  17  64 307]]\n",
      "\n",
      "Classification Report:\n",
      "               precision    recall  f1-score   support\n",
      "\n",
      "           0       0.23      0.51      0.31        73\n",
      "           1       0.73      0.64      0.68       847\n",
      "           2       0.49      0.52      0.50       575\n",
      "           3       0.77      0.71      0.74      1327\n",
      "           4       0.49      0.63      0.55       338\n",
      "           5       0.78      0.79      0.78       391\n",
      "\n",
      "    accuracy                           0.66      3551\n",
      "   macro avg       0.58      0.63      0.59      3551\n",
      "weighted avg       0.68      0.66      0.66      3551\n",
      "\n"
     ]
    }
   ],
   "source": [
    "\n",
    "\n",
    "acc = accuracy_score(y_test, y_pred_RF_GCV)\n",
    "prec_macro = precision_score(y_test,y_pred_RF_GCV, average='macro')\n",
    "recall_macro = recall_score(y_test, y_pred_RF_GCV, average='macro')\n",
    "f1_macro = f1_score(y_test,y_pred_RF_GCV, average='macro')\n",
    "classification_rep_RF_GCV = classification_report(y_test,y_pred_RF_GCV)\n",
    "print(\"Accuracy Score:\", acc)\n",
    "print(\"Precision (Macro):\", prec_macro)\n",
    "print(\"Recall (Macro):\", recall_macro)\n",
    "print(\"F1 Score (Macro):\", f1_macro)\n",
    "\n",
    "# Confusion Matrix\n",
    "cf_matrix_RF_gcv = confusion_matrix(y_test, y_pred_RF_GCV)\n",
    "print(\"Confusion Matrix:\")\n",
    "print(cf_matrix_RF_gcv)\n",
    "print(\"\\nClassification Report:\\n\", classification_rep_RF_GCV)"
   ]
  },
  {
   "cell_type": "code",
   "execution_count": 37,
   "id": "daa1dee6",
   "metadata": {},
   "outputs": [],
   "source": [
    "y_pred_RF_GCV_train = best_RF_GCV.predict(X_sm)"
   ]
  },
  {
   "cell_type": "code",
   "execution_count": 38,
   "id": "2fe69f53",
   "metadata": {},
   "outputs": [
    {
     "name": "stdout",
     "output_type": "stream",
     "text": [
      "Accuracy Score: 0.9983959432888337\n",
      "Precision (Macro): 0.9983979775689158\n",
      "Recall (Macro): 0.998395943288834\n",
      "F1 Score (Macro): 0.998396190722505\n",
      "Confusion Matrix:\n",
      "[[3221    0    0    0    0    0]\n",
      " [   1 3210    0    8    1    1]\n",
      " [   0    0 3217    2    1    1]\n",
      " [   1    2    0 3212    0    6]\n",
      " [   0    0    0    3 3216    2]\n",
      " [   0    0    1    1    0 3219]]\n",
      "\n",
      "Classification Report:\n",
      "               precision    recall  f1-score   support\n",
      "\n",
      "           0       1.00      1.00      1.00      3221\n",
      "           1       1.00      1.00      1.00      3221\n",
      "           2       1.00      1.00      1.00      3221\n",
      "           3       1.00      1.00      1.00      3221\n",
      "           4       1.00      1.00      1.00      3221\n",
      "           5       1.00      1.00      1.00      3221\n",
      "\n",
      "    accuracy                           1.00     19326\n",
      "   macro avg       1.00      1.00      1.00     19326\n",
      "weighted avg       1.00      1.00      1.00     19326\n",
      "\n"
     ]
    }
   ],
   "source": [
    "acc1 = accuracy_score(Y_sm, y_pred_RF_GCV_train)\n",
    "prec_macro1 = precision_score(Y_sm,y_pred_RF_GCV_train, average='macro')\n",
    "recall_macro1 = recall_score(Y_sm, y_pred_RF_GCV_train, average='macro')\n",
    "f1_macro1 = f1_score(Y_sm,y_pred_RF_GCV_train, average='macro')\n",
    "classification_rep_RF_GCV_Train = classification_report(Y_sm,y_pred_RF_GCV_train)\n",
    "print(\"Accuracy Score:\", acc1)\n",
    "print(\"Precision (Macro):\", prec_macro1)\n",
    "print(\"Recall (Macro):\", recall_macro1)\n",
    "print(\"F1 Score (Macro):\", f1_macro1)\n",
    "\n",
    "# Confusion Matrix\n",
    "cf_matrix_RF_gcv_train = confusion_matrix(Y_sm, y_pred_RF_GCV_train)\n",
    "print(\"Confusion Matrix:\")\n",
    "print(cf_matrix_RF_gcv_train)\n",
    "print(\"\\nClassification Report:\\n\", classification_rep_RF_GCV_Train)"
   ]
  },
  {
   "cell_type": "code",
   "execution_count": null,
   "id": "94397681",
   "metadata": {},
   "outputs": [],
   "source": []
  },
  {
   "cell_type": "code",
   "execution_count": null,
   "id": "32f683ad",
   "metadata": {},
   "outputs": [],
   "source": []
  }
 ],
 "metadata": {
  "kernelspec": {
   "display_name": "Python 3 (ipykernel)",
   "language": "python",
   "name": "python3"
  },
  "language_info": {
   "codemirror_mode": {
    "name": "ipython",
    "version": 3
   },
   "file_extension": ".py",
   "mimetype": "text/x-python",
   "name": "python",
   "nbconvert_exporter": "python",
   "pygments_lexer": "ipython3",
   "version": "3.11.3"
  }
 },
 "nbformat": 4,
 "nbformat_minor": 5
}
